{
 "cells": [
  {
   "cell_type": "code",
   "execution_count": 10,
   "id": "6f405397",
   "metadata": {},
   "outputs": [],
   "source": [
    "from pathlib import Path\n",
    "path_data = '/nfs/turbo/coe-mihalcea/shared_data/dollarstreet/'\n",
    "dest_path = \"/\".join([path_data, \"processed_imgs/\"])\n",
    "#dest_path = \"/\".join([path_data, \"clip_large_patch_processed_imgs/\"])\n",
    "path = Path(\"/home/jnwatu/Dollar_Street/Bridging_the_digital_divide\")"
   ]
  },
  {
   "cell_type": "code",
   "execution_count": 11,
   "id": "049843c8",
   "metadata": {},
   "outputs": [],
   "source": [
    "import pandas as pd\n",
    "import numpy as np\n",
    "import os"
   ]
  },
  {
   "cell_type": "code",
   "execution_count": 3,
   "id": "e5fa8a35",
   "metadata": {},
   "outputs": [],
   "source": [
    "csv_list = [filename for filename in os.listdir(path) if filename.split(\".\")[-1] == \"csv\"]"
   ]
  },
  {
   "cell_type": "code",
   "execution_count": 5,
   "id": "a966e799",
   "metadata": {},
   "outputs": [
    {
     "data": {
      "text/plain": [
       "36753"
      ]
     },
     "execution_count": 5,
     "metadata": {},
     "output_type": "execute_result"
    }
   ],
   "source": [
    "CLIP_32_results_df = pd.concat(map(pd.read_csv, csv_list))\n",
    "len(CLIP_32_results_df)"
   ]
  },
  {
   "cell_type": "code",
   "execution_count": 6,
   "id": "f3dc6bd0",
   "metadata": {},
   "outputs": [
    {
     "data": {
      "text/html": [
       "<div>\n",
       "<style scoped>\n",
       "    .dataframe tbody tr th:only-of-type {\n",
       "        vertical-align: middle;\n",
       "    }\n",
       "\n",
       "    .dataframe tbody tr th {\n",
       "        vertical-align: top;\n",
       "    }\n",
       "\n",
       "    .dataframe thead th {\n",
       "        text-align: right;\n",
       "    }\n",
       "</style>\n",
       "<table border=\"1\" class=\"dataframe\">\n",
       "  <thead>\n",
       "    <tr style=\"text-align: right;\">\n",
       "      <th></th>\n",
       "      <th>Unnamed: 0</th>\n",
       "      <th>id</th>\n",
       "      <th>country.name</th>\n",
       "      <th>country.id</th>\n",
       "      <th>topics</th>\n",
       "      <th>income</th>\n",
       "      <th>CLIP score</th>\n",
       "    </tr>\n",
       "  </thead>\n",
       "  <tbody>\n",
       "    <tr>\n",
       "      <th>0</th>\n",
       "      <td>21895</td>\n",
       "      <td>5d4bee84cf0b3a0f3f35189c</td>\n",
       "      <td>Philippines</td>\n",
       "      <td>ph</td>\n",
       "      <td>Dish washing soap</td>\n",
       "      <td>865.0</td>\n",
       "      <td>0.291223</td>\n",
       "    </tr>\n",
       "    <tr>\n",
       "      <th>1</th>\n",
       "      <td>21896</td>\n",
       "      <td>5d4bee84cf0b3a0f3f35189e</td>\n",
       "      <td>Philippines</td>\n",
       "      <td>ph</td>\n",
       "      <td>Kitchen sink</td>\n",
       "      <td>865.0</td>\n",
       "      <td>0.310287</td>\n",
       "    </tr>\n",
       "    <tr>\n",
       "      <th>2</th>\n",
       "      <td>21897</td>\n",
       "      <td>5d4bee84cf0b3a0f3f3518a2</td>\n",
       "      <td>Philippines</td>\n",
       "      <td>ph</td>\n",
       "      <td>Social drink</td>\n",
       "      <td>865.0</td>\n",
       "      <td>0.273252</td>\n",
       "    </tr>\n",
       "    <tr>\n",
       "      <th>3</th>\n",
       "      <td>21898</td>\n",
       "      <td>5d4bee84cf0b3a0f3f3518a4</td>\n",
       "      <td>Philippines</td>\n",
       "      <td>ph</td>\n",
       "      <td>Table with food</td>\n",
       "      <td>865.0</td>\n",
       "      <td>0.271852</td>\n",
       "    </tr>\n",
       "    <tr>\n",
       "      <th>4</th>\n",
       "      <td>21899</td>\n",
       "      <td>5d4bee84cf0b3a0f3f3518a6</td>\n",
       "      <td>Philippines</td>\n",
       "      <td>ph</td>\n",
       "      <td>Plate of food</td>\n",
       "      <td>865.0</td>\n",
       "      <td>0.289901</td>\n",
       "    </tr>\n",
       "  </tbody>\n",
       "</table>\n",
       "</div>"
      ],
      "text/plain": [
       "   Unnamed: 0                        id country.name country.id  \\\n",
       "0       21895  5d4bee84cf0b3a0f3f35189c  Philippines         ph   \n",
       "1       21896  5d4bee84cf0b3a0f3f35189e  Philippines         ph   \n",
       "2       21897  5d4bee84cf0b3a0f3f3518a2  Philippines         ph   \n",
       "3       21898  5d4bee84cf0b3a0f3f3518a4  Philippines         ph   \n",
       "4       21899  5d4bee84cf0b3a0f3f3518a6  Philippines         ph   \n",
       "\n",
       "              topics  income  CLIP score  \n",
       "0  Dish washing soap   865.0    0.291223  \n",
       "1       Kitchen sink   865.0    0.310287  \n",
       "2       Social drink   865.0    0.273252  \n",
       "3    Table with food   865.0    0.271852  \n",
       "4      Plate of food   865.0    0.289901  "
      ]
     },
     "execution_count": 6,
     "metadata": {},
     "output_type": "execute_result"
    }
   ],
   "source": [
    "CLIP_32_results_df.head()"
   ]
  },
  {
   "cell_type": "code",
   "execution_count": 9,
   "id": "0c480fff",
   "metadata": {},
   "outputs": [],
   "source": [
    "CLIP_32_results_df.to_csv('results_CLIP_no_sub.csv')"
   ]
  },
  {
   "cell_type": "code",
   "execution_count": 8,
   "id": "2674ecef",
   "metadata": {
    "scrolled": true
   },
   "outputs": [
    {
     "name": "stdout",
     "output_type": "stream",
     "text": [
      "file deleted\n",
      "file deleted\n",
      "file deleted\n",
      "file deleted\n",
      "file deleted\n",
      "file deleted\n",
      "file deleted\n",
      "file deleted\n",
      "file deleted\n",
      "file deleted\n",
      "file deleted\n",
      "file deleted\n",
      "file deleted\n"
     ]
    }
   ],
   "source": [
    "for file in csv_list:\n",
    "    if(os.path.exists(file) and os.path.isfile(file)): \n",
    "        os.remove(file) \n",
    "        print(\"file deleted\") "
   ]
  },
  {
   "cell_type": "code",
   "execution_count": null,
   "id": "7b662647",
   "metadata": {},
   "outputs": [],
   "source": []
  }
 ],
 "metadata": {
  "kernelspec": {
   "display_name": "Python 3 (ipykernel)",
   "language": "python",
   "name": "python3"
  },
  "language_info": {
   "codemirror_mode": {
    "name": "ipython",
    "version": 3
   },
   "file_extension": ".py",
   "mimetype": "text/x-python",
   "name": "python",
   "nbconvert_exporter": "python",
   "pygments_lexer": "ipython3",
   "version": "3.9.7"
  }
 },
 "nbformat": 4,
 "nbformat_minor": 5
}
