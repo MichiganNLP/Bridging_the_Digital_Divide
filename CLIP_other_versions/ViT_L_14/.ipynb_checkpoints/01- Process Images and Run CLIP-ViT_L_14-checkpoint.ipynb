{
 "cells": [
  {
   "cell_type": "code",
   "execution_count": 1,
   "id": "f57a60c5",
   "metadata": {},
   "outputs": [],
   "source": [
    "path_data = '/nfs/turbo/coe-mihalcea/shared_data/dollarstreet/'\n",
    "#path_data = '/data'"
   ]
  },
  {
   "cell_type": "code",
   "execution_count": 2,
   "id": "942251fd",
   "metadata": {},
   "outputs": [
    {
     "name": "stdout",
     "output_type": "stream",
     "text": [
      "Torch version: 1.10.2+cu113\n"
     ]
    }
   ],
   "source": [
    "import pandas as pd\n",
    "import os\n",
    "import numpy as np\n",
    "import torch\n",
    "from pkg_resources import packaging\n",
    "from PIL import Image\n",
    "import tqdm\n",
    "from pathlib import Path\n",
    "print(\"Torch version:\", torch.__version__)"
   ]
  },
  {
   "cell_type": "code",
   "execution_count": 3,
   "id": "b2527493",
   "metadata": {},
   "outputs": [
    {
     "data": {
      "text/html": [
       "<div>\n",
       "<style scoped>\n",
       "    .dataframe tbody tr th:only-of-type {\n",
       "        vertical-align: middle;\n",
       "    }\n",
       "\n",
       "    .dataframe tbody tr th {\n",
       "        vertical-align: top;\n",
       "    }\n",
       "\n",
       "    .dataframe thead th {\n",
       "        text-align: right;\n",
       "    }\n",
       "</style>\n",
       "<table border=\"1\" class=\"dataframe\">\n",
       "  <thead>\n",
       "    <tr style=\"text-align: right;\">\n",
       "      <th></th>\n",
       "      <th>id</th>\n",
       "      <th>country.name</th>\n",
       "      <th>country.id</th>\n",
       "      <th>region.id</th>\n",
       "      <th>type</th>\n",
       "      <th>imageRelPath</th>\n",
       "      <th>topics</th>\n",
       "      <th>place</th>\n",
       "      <th>income</th>\n",
       "    </tr>\n",
       "  </thead>\n",
       "  <tbody>\n",
       "    <tr>\n",
       "      <th>0</th>\n",
       "      <td>5d4be6cecf0b3a0f3f344586</td>\n",
       "      <td>Burundi</td>\n",
       "      <td>bi</td>\n",
       "      <td>af</td>\n",
       "      <td>image</td>\n",
       "      <td>assets/5d4be6cecf0b3a0f3f344586/5d4be6cecf0b3a...</td>\n",
       "      <td>icons</td>\n",
       "      <td>butoyi</td>\n",
       "      <td>26.994581</td>\n",
       "    </tr>\n",
       "    <tr>\n",
       "      <th>1</th>\n",
       "      <td>5d4bf31ccf0b3a0f3f359814</td>\n",
       "      <td>Burundi</td>\n",
       "      <td>bi</td>\n",
       "      <td>af</td>\n",
       "      <td>image</td>\n",
       "      <td>assets/5d4bf31ccf0b3a0f3f359814/5d4bf31ccf0b3a...</td>\n",
       "      <td>Family snapshots</td>\n",
       "      <td>butoyi</td>\n",
       "      <td>26.994581</td>\n",
       "    </tr>\n",
       "    <tr>\n",
       "      <th>2</th>\n",
       "      <td>5d4bf31ccf0b3a0f3f35982a</td>\n",
       "      <td>Burundi</td>\n",
       "      <td>bi</td>\n",
       "      <td>af</td>\n",
       "      <td>image</td>\n",
       "      <td>assets/5d4bf31ccf0b3a0f3f35982a/5d4bf31ccf0b3a...</td>\n",
       "      <td>Cutlery</td>\n",
       "      <td>butoyi</td>\n",
       "      <td>26.994581</td>\n",
       "    </tr>\n",
       "    <tr>\n",
       "      <th>3</th>\n",
       "      <td>5d4bf31ccf0b3a0f3f35982e</td>\n",
       "      <td>Burundi</td>\n",
       "      <td>bi</td>\n",
       "      <td>af</td>\n",
       "      <td>image</td>\n",
       "      <td>assets/5d4bf31ccf0b3a0f3f35982e/5d4bf31ccf0b3a...</td>\n",
       "      <td>Family</td>\n",
       "      <td>butoyi</td>\n",
       "      <td>26.994581</td>\n",
       "    </tr>\n",
       "    <tr>\n",
       "      <th>4</th>\n",
       "      <td>5d4bf31ccf0b3a0f3f359830</td>\n",
       "      <td>Burundi</td>\n",
       "      <td>bi</td>\n",
       "      <td>af</td>\n",
       "      <td>image</td>\n",
       "      <td>assets/5d4bf31ccf0b3a0f3f359830/5d4bf31ccf0b3a...</td>\n",
       "      <td>Place where eating dinner</td>\n",
       "      <td>butoyi</td>\n",
       "      <td>26.994581</td>\n",
       "    </tr>\n",
       "    <tr>\n",
       "      <th>...</th>\n",
       "      <td>...</td>\n",
       "      <td>...</td>\n",
       "      <td>...</td>\n",
       "      <td>...</td>\n",
       "      <td>...</td>\n",
       "      <td>...</td>\n",
       "      <td>...</td>\n",
       "      <td>...</td>\n",
       "      <td>...</td>\n",
       "    </tr>\n",
       "    <tr>\n",
       "      <th>38474</th>\n",
       "      <td>5ec4f5513f62767d97a47324</td>\n",
       "      <td>France</td>\n",
       "      <td>fr</td>\n",
       "      <td>eu</td>\n",
       "      <td>image</td>\n",
       "      <td>assets/5ec4f5513f62767d97a47324/5ec4f5513f6276...</td>\n",
       "      <td>Bed</td>\n",
       "      <td>larriere</td>\n",
       "      <td>19671.000000</td>\n",
       "    </tr>\n",
       "    <tr>\n",
       "      <th>38475</th>\n",
       "      <td>5ec4f5513f62767d97a47325</td>\n",
       "      <td>France</td>\n",
       "      <td>fr</td>\n",
       "      <td>eu</td>\n",
       "      <td>image</td>\n",
       "      <td>assets/5ec4f5513f62767d97a47325/5ec4f5513f6276...</td>\n",
       "      <td>Bathroom/Toilet</td>\n",
       "      <td>larriere</td>\n",
       "      <td>19671.000000</td>\n",
       "    </tr>\n",
       "    <tr>\n",
       "      <th>38476</th>\n",
       "      <td>5ec4f5523f62767d97a47327</td>\n",
       "      <td>France</td>\n",
       "      <td>fr</td>\n",
       "      <td>eu</td>\n",
       "      <td>image</td>\n",
       "      <td>assets/5ec4f5523f62767d97a47327/5ec4f5523f6276...</td>\n",
       "      <td>Armchair</td>\n",
       "      <td>larriere</td>\n",
       "      <td>19671.000000</td>\n",
       "    </tr>\n",
       "    <tr>\n",
       "      <th>38477</th>\n",
       "      <td>5ec4f5523f62767d97a47328</td>\n",
       "      <td>France</td>\n",
       "      <td>fr</td>\n",
       "      <td>eu</td>\n",
       "      <td>image</td>\n",
       "      <td>assets/5ec4f5523f62767d97a47328/5ec4f5523f6276...</td>\n",
       "      <td>Armchair</td>\n",
       "      <td>larriere</td>\n",
       "      <td>19671.000000</td>\n",
       "    </tr>\n",
       "    <tr>\n",
       "      <th>38478</th>\n",
       "      <td>5ecfdf1f581a3d02cf7f8c05</td>\n",
       "      <td>France</td>\n",
       "      <td>fr</td>\n",
       "      <td>eu</td>\n",
       "      <td>image</td>\n",
       "      <td>assets/5ecfdf1f581a3d02cf7f8c05/5ecfdf1f581a3d...</td>\n",
       "      <td>Family</td>\n",
       "      <td>larriere</td>\n",
       "      <td>19671.000000</td>\n",
       "    </tr>\n",
       "  </tbody>\n",
       "</table>\n",
       "<p>38479 rows × 9 columns</p>\n",
       "</div>"
      ],
      "text/plain": [
       "                             id country.name country.id region.id   type  \\\n",
       "0      5d4be6cecf0b3a0f3f344586      Burundi         bi        af  image   \n",
       "1      5d4bf31ccf0b3a0f3f359814      Burundi         bi        af  image   \n",
       "2      5d4bf31ccf0b3a0f3f35982a      Burundi         bi        af  image   \n",
       "3      5d4bf31ccf0b3a0f3f35982e      Burundi         bi        af  image   \n",
       "4      5d4bf31ccf0b3a0f3f359830      Burundi         bi        af  image   \n",
       "...                         ...          ...        ...       ...    ...   \n",
       "38474  5ec4f5513f62767d97a47324       France         fr        eu  image   \n",
       "38475  5ec4f5513f62767d97a47325       France         fr        eu  image   \n",
       "38476  5ec4f5523f62767d97a47327       France         fr        eu  image   \n",
       "38477  5ec4f5523f62767d97a47328       France         fr        eu  image   \n",
       "38478  5ecfdf1f581a3d02cf7f8c05       France         fr        eu  image   \n",
       "\n",
       "                                            imageRelPath  \\\n",
       "0      assets/5d4be6cecf0b3a0f3f344586/5d4be6cecf0b3a...   \n",
       "1      assets/5d4bf31ccf0b3a0f3f359814/5d4bf31ccf0b3a...   \n",
       "2      assets/5d4bf31ccf0b3a0f3f35982a/5d4bf31ccf0b3a...   \n",
       "3      assets/5d4bf31ccf0b3a0f3f35982e/5d4bf31ccf0b3a...   \n",
       "4      assets/5d4bf31ccf0b3a0f3f359830/5d4bf31ccf0b3a...   \n",
       "...                                                  ...   \n",
       "38474  assets/5ec4f5513f62767d97a47324/5ec4f5513f6276...   \n",
       "38475  assets/5ec4f5513f62767d97a47325/5ec4f5513f6276...   \n",
       "38476  assets/5ec4f5523f62767d97a47327/5ec4f5523f6276...   \n",
       "38477  assets/5ec4f5523f62767d97a47328/5ec4f5523f6276...   \n",
       "38478  assets/5ecfdf1f581a3d02cf7f8c05/5ecfdf1f581a3d...   \n",
       "\n",
       "                          topics     place        income  \n",
       "0                          icons    butoyi     26.994581  \n",
       "1               Family snapshots    butoyi     26.994581  \n",
       "2                        Cutlery    butoyi     26.994581  \n",
       "3                         Family    butoyi     26.994581  \n",
       "4      Place where eating dinner    butoyi     26.994581  \n",
       "...                          ...       ...           ...  \n",
       "38474                        Bed  larriere  19671.000000  \n",
       "38475            Bathroom/Toilet  larriere  19671.000000  \n",
       "38476                   Armchair  larriere  19671.000000  \n",
       "38477                   Armchair  larriere  19671.000000  \n",
       "38478                     Family  larriere  19671.000000  \n",
       "\n",
       "[38479 rows x 9 columns]"
      ]
     },
     "metadata": {},
     "output_type": "display_data"
    }
   ],
   "source": [
    "data_unfiltered = pd.read_csv(\"/\".join([path_data, \"images_v2.csv\"]))\n",
    "display(data_unfiltered)"
   ]
  },
  {
   "cell_type": "markdown",
   "id": "16912478",
   "metadata": {},
   "source": [
    "### Removing Subjective topics"
   ]
  },
  {
   "cell_type": "code",
   "execution_count": 4,
   "id": "e2c5361b",
   "metadata": {},
   "outputs": [],
   "source": [
    "subjective_topics = ['Favorite home decorations', 'Favourite item in kitchen', 'Favourite sports clubs', 'How the most loved item is used', 'icons', 'Idols', 'Latest furniture bought', ' looking over the shoulder', 'Most loved item', 'Most loved toy', 'Most played songs on the radio', 'Music idol', 'Next big thing you are planning to buy', 'Playing with most loved toy', 'Thing I dream about having', 'Things I wish I had', 'Using most loved item', 'Youth culture', 'What I wish I could buy']"
   ]
  },
  {
   "cell_type": "code",
   "execution_count": 5,
   "id": "2339f640",
   "metadata": {},
   "outputs": [],
   "source": [
    "unique_topics = data_unfiltered['topics'].unique()\n"
   ]
  },
  {
   "cell_type": "code",
   "execution_count": 6,
   "id": "d7fd17b4",
   "metadata": {},
   "outputs": [],
   "source": [
    "Subjective_topic_list = []\n",
    "\n",
    "for topic in unique_topics:\n",
    "    topic_ = topic.replace('/ ', ', ')\n",
    "    topic_split = topic_.split(',')\n",
    "    for split in topic_split:\n",
    "        if split in subjective_topics:\n",
    "            Subjective_topic_list.append(topic)\n",
    "                "
   ]
  },
  {
   "cell_type": "code",
   "execution_count": 7,
   "id": "97f8ae31",
   "metadata": {},
   "outputs": [
    {
     "data": {
      "text/html": [
       "<div>\n",
       "<style scoped>\n",
       "    .dataframe tbody tr th:only-of-type {\n",
       "        vertical-align: middle;\n",
       "    }\n",
       "\n",
       "    .dataframe tbody tr th {\n",
       "        vertical-align: top;\n",
       "    }\n",
       "\n",
       "    .dataframe thead th {\n",
       "        text-align: right;\n",
       "    }\n",
       "</style>\n",
       "<table border=\"1\" class=\"dataframe\">\n",
       "  <thead>\n",
       "    <tr style=\"text-align: right;\">\n",
       "      <th></th>\n",
       "      <th>id</th>\n",
       "      <th>country.name</th>\n",
       "      <th>country.id</th>\n",
       "      <th>region.id</th>\n",
       "      <th>type</th>\n",
       "      <th>imageRelPath</th>\n",
       "      <th>topics</th>\n",
       "      <th>place</th>\n",
       "      <th>income</th>\n",
       "    </tr>\n",
       "  </thead>\n",
       "  <tbody>\n",
       "    <tr>\n",
       "      <th>1</th>\n",
       "      <td>5d4bf31ccf0b3a0f3f359814</td>\n",
       "      <td>Burundi</td>\n",
       "      <td>bi</td>\n",
       "      <td>af</td>\n",
       "      <td>image</td>\n",
       "      <td>assets/5d4bf31ccf0b3a0f3f359814/5d4bf31ccf0b3a...</td>\n",
       "      <td>Family snapshots</td>\n",
       "      <td>butoyi</td>\n",
       "      <td>26.994581</td>\n",
       "    </tr>\n",
       "    <tr>\n",
       "      <th>2</th>\n",
       "      <td>5d4bf31ccf0b3a0f3f35982a</td>\n",
       "      <td>Burundi</td>\n",
       "      <td>bi</td>\n",
       "      <td>af</td>\n",
       "      <td>image</td>\n",
       "      <td>assets/5d4bf31ccf0b3a0f3f35982a/5d4bf31ccf0b3a...</td>\n",
       "      <td>Cutlery</td>\n",
       "      <td>butoyi</td>\n",
       "      <td>26.994581</td>\n",
       "    </tr>\n",
       "    <tr>\n",
       "      <th>3</th>\n",
       "      <td>5d4bf31ccf0b3a0f3f35982e</td>\n",
       "      <td>Burundi</td>\n",
       "      <td>bi</td>\n",
       "      <td>af</td>\n",
       "      <td>image</td>\n",
       "      <td>assets/5d4bf31ccf0b3a0f3f35982e/5d4bf31ccf0b3a...</td>\n",
       "      <td>Family</td>\n",
       "      <td>butoyi</td>\n",
       "      <td>26.994581</td>\n",
       "    </tr>\n",
       "    <tr>\n",
       "      <th>4</th>\n",
       "      <td>5d4bf31ccf0b3a0f3f359830</td>\n",
       "      <td>Burundi</td>\n",
       "      <td>bi</td>\n",
       "      <td>af</td>\n",
       "      <td>image</td>\n",
       "      <td>assets/5d4bf31ccf0b3a0f3f359830/5d4bf31ccf0b3a...</td>\n",
       "      <td>Place where eating dinner</td>\n",
       "      <td>butoyi</td>\n",
       "      <td>26.994581</td>\n",
       "    </tr>\n",
       "    <tr>\n",
       "      <th>5</th>\n",
       "      <td>5d4bf31dcf0b3a0f3f35983c</td>\n",
       "      <td>Burundi</td>\n",
       "      <td>bi</td>\n",
       "      <td>af</td>\n",
       "      <td>image</td>\n",
       "      <td>assets/5d4bf31dcf0b3a0f3f35983c/5d4bf31dcf0b3a...</td>\n",
       "      <td>Plate of food</td>\n",
       "      <td>butoyi</td>\n",
       "      <td>26.994581</td>\n",
       "    </tr>\n",
       "    <tr>\n",
       "      <th>...</th>\n",
       "      <td>...</td>\n",
       "      <td>...</td>\n",
       "      <td>...</td>\n",
       "      <td>...</td>\n",
       "      <td>...</td>\n",
       "      <td>...</td>\n",
       "      <td>...</td>\n",
       "      <td>...</td>\n",
       "      <td>...</td>\n",
       "    </tr>\n",
       "    <tr>\n",
       "      <th>38474</th>\n",
       "      <td>5ec4f5513f62767d97a47324</td>\n",
       "      <td>France</td>\n",
       "      <td>fr</td>\n",
       "      <td>eu</td>\n",
       "      <td>image</td>\n",
       "      <td>assets/5ec4f5513f62767d97a47324/5ec4f5513f6276...</td>\n",
       "      <td>Bed</td>\n",
       "      <td>larriere</td>\n",
       "      <td>19671.000000</td>\n",
       "    </tr>\n",
       "    <tr>\n",
       "      <th>38475</th>\n",
       "      <td>5ec4f5513f62767d97a47325</td>\n",
       "      <td>France</td>\n",
       "      <td>fr</td>\n",
       "      <td>eu</td>\n",
       "      <td>image</td>\n",
       "      <td>assets/5ec4f5513f62767d97a47325/5ec4f5513f6276...</td>\n",
       "      <td>Bathroom/Toilet</td>\n",
       "      <td>larriere</td>\n",
       "      <td>19671.000000</td>\n",
       "    </tr>\n",
       "    <tr>\n",
       "      <th>38476</th>\n",
       "      <td>5ec4f5523f62767d97a47327</td>\n",
       "      <td>France</td>\n",
       "      <td>fr</td>\n",
       "      <td>eu</td>\n",
       "      <td>image</td>\n",
       "      <td>assets/5ec4f5523f62767d97a47327/5ec4f5523f6276...</td>\n",
       "      <td>Armchair</td>\n",
       "      <td>larriere</td>\n",
       "      <td>19671.000000</td>\n",
       "    </tr>\n",
       "    <tr>\n",
       "      <th>38477</th>\n",
       "      <td>5ec4f5523f62767d97a47328</td>\n",
       "      <td>France</td>\n",
       "      <td>fr</td>\n",
       "      <td>eu</td>\n",
       "      <td>image</td>\n",
       "      <td>assets/5ec4f5523f62767d97a47328/5ec4f5523f6276...</td>\n",
       "      <td>Armchair</td>\n",
       "      <td>larriere</td>\n",
       "      <td>19671.000000</td>\n",
       "    </tr>\n",
       "    <tr>\n",
       "      <th>38478</th>\n",
       "      <td>5ecfdf1f581a3d02cf7f8c05</td>\n",
       "      <td>France</td>\n",
       "      <td>fr</td>\n",
       "      <td>eu</td>\n",
       "      <td>image</td>\n",
       "      <td>assets/5ecfdf1f581a3d02cf7f8c05/5ecfdf1f581a3d...</td>\n",
       "      <td>Family</td>\n",
       "      <td>larriere</td>\n",
       "      <td>19671.000000</td>\n",
       "    </tr>\n",
       "  </tbody>\n",
       "</table>\n",
       "<p>36754 rows × 9 columns</p>\n",
       "</div>"
      ],
      "text/plain": [
       "                             id country.name country.id region.id   type  \\\n",
       "1      5d4bf31ccf0b3a0f3f359814      Burundi         bi        af  image   \n",
       "2      5d4bf31ccf0b3a0f3f35982a      Burundi         bi        af  image   \n",
       "3      5d4bf31ccf0b3a0f3f35982e      Burundi         bi        af  image   \n",
       "4      5d4bf31ccf0b3a0f3f359830      Burundi         bi        af  image   \n",
       "5      5d4bf31dcf0b3a0f3f35983c      Burundi         bi        af  image   \n",
       "...                         ...          ...        ...       ...    ...   \n",
       "38474  5ec4f5513f62767d97a47324       France         fr        eu  image   \n",
       "38475  5ec4f5513f62767d97a47325       France         fr        eu  image   \n",
       "38476  5ec4f5523f62767d97a47327       France         fr        eu  image   \n",
       "38477  5ec4f5523f62767d97a47328       France         fr        eu  image   \n",
       "38478  5ecfdf1f581a3d02cf7f8c05       France         fr        eu  image   \n",
       "\n",
       "                                            imageRelPath  \\\n",
       "1      assets/5d4bf31ccf0b3a0f3f359814/5d4bf31ccf0b3a...   \n",
       "2      assets/5d4bf31ccf0b3a0f3f35982a/5d4bf31ccf0b3a...   \n",
       "3      assets/5d4bf31ccf0b3a0f3f35982e/5d4bf31ccf0b3a...   \n",
       "4      assets/5d4bf31ccf0b3a0f3f359830/5d4bf31ccf0b3a...   \n",
       "5      assets/5d4bf31dcf0b3a0f3f35983c/5d4bf31dcf0b3a...   \n",
       "...                                                  ...   \n",
       "38474  assets/5ec4f5513f62767d97a47324/5ec4f5513f6276...   \n",
       "38475  assets/5ec4f5513f62767d97a47325/5ec4f5513f6276...   \n",
       "38476  assets/5ec4f5523f62767d97a47327/5ec4f5523f6276...   \n",
       "38477  assets/5ec4f5523f62767d97a47328/5ec4f5523f6276...   \n",
       "38478  assets/5ecfdf1f581a3d02cf7f8c05/5ecfdf1f581a3d...   \n",
       "\n",
       "                          topics     place        income  \n",
       "1               Family snapshots    butoyi     26.994581  \n",
       "2                        Cutlery    butoyi     26.994581  \n",
       "3                         Family    butoyi     26.994581  \n",
       "4      Place where eating dinner    butoyi     26.994581  \n",
       "5                  Plate of food    butoyi     26.994581  \n",
       "...                          ...       ...           ...  \n",
       "38474                        Bed  larriere  19671.000000  \n",
       "38475            Bathroom/Toilet  larriere  19671.000000  \n",
       "38476                   Armchair  larriere  19671.000000  \n",
       "38477                   Armchair  larriere  19671.000000  \n",
       "38478                     Family  larriere  19671.000000  \n",
       "\n",
       "[36754 rows x 9 columns]"
      ]
     },
     "metadata": {},
     "output_type": "display_data"
    }
   ],
   "source": [
    "data = data_unfiltered[~data_unfiltered['topics'].isin(Subjective_topic_list)]\n",
    "display(data)"
   ]
  },
  {
   "cell_type": "code",
   "execution_count": 8,
   "id": "c106e6d7",
   "metadata": {},
   "outputs": [],
   "source": [
    "data.to_csv('data/images_v2_no_sub_topics.csv')"
   ]
  },
  {
   "cell_type": "markdown",
   "id": "dd6a68c5",
   "metadata": {},
   "source": [
    "## Get CLIP embeddings"
   ]
  },
  {
   "cell_type": "code",
   "execution_count": 9,
   "id": "da840e9a",
   "metadata": {},
   "outputs": [
    {
     "name": "stdout",
     "output_type": "stream",
     "text": [
      "Defaulting to user installation because normal site-packages is not writeable\n",
      "Requirement already satisfied: ftfy in /home/jnwatu/.local/lib/python3.9/site-packages (6.1.1)\n",
      "Requirement already satisfied: regex in /sw/pkgs/arc/python3.9-anaconda/2021.11/lib/python3.9/site-packages (2021.8.3)\n",
      "Requirement already satisfied: tqdm in /sw/pkgs/arc/python3.9-anaconda/2021.11/lib/python3.9/site-packages (4.62.3)\n",
      "Requirement already satisfied: wcwidth>=0.2.5 in /sw/pkgs/arc/python3.9-anaconda/2021.11/lib/python3.9/site-packages (from ftfy) (0.2.5)\n",
      "Defaulting to user installation because normal site-packages is not writeable\n",
      "Collecting git+https://github.com/openai/CLIP.git\n",
      "  Cloning https://github.com/openai/CLIP.git to /tmp/pip-req-build-0agb5p64\n",
      "  Running command git clone -q https://github.com/openai/CLIP.git /tmp/pip-req-build-0agb5p64\n",
      "  Resolved https://github.com/openai/CLIP.git to commit a1d071733d7111c9c014f024669f959182114e33\n",
      "Requirement already satisfied: ftfy in /home/jnwatu/.local/lib/python3.9/site-packages (from clip==1.0) (6.1.1)\n",
      "Requirement already satisfied: regex in /sw/pkgs/arc/python3.9-anaconda/2021.11/lib/python3.9/site-packages (from clip==1.0) (2021.8.3)\n",
      "Requirement already satisfied: tqdm in /sw/pkgs/arc/python3.9-anaconda/2021.11/lib/python3.9/site-packages (from clip==1.0) (4.62.3)\n",
      "Requirement already satisfied: torch in /home/jnwatu/.local/lib/python3.9/site-packages (from clip==1.0) (1.10.2+cu113)\n",
      "Requirement already satisfied: torchvision in /home/jnwatu/.local/lib/python3.9/site-packages (from clip==1.0) (0.11.3+cu113)\n",
      "Requirement already satisfied: wcwidth>=0.2.5 in /sw/pkgs/arc/python3.9-anaconda/2021.11/lib/python3.9/site-packages (from ftfy->clip==1.0) (0.2.5)\n",
      "Requirement already satisfied: typing-extensions in /sw/pkgs/arc/python3.9-anaconda/2021.11/lib/python3.9/site-packages (from torch->clip==1.0) (3.10.0.2)\n",
      "Requirement already satisfied: pillow!=8.3.0,>=5.3.0 in /sw/pkgs/arc/python3.9-anaconda/2021.11/lib/python3.9/site-packages (from torchvision->clip==1.0) (8.4.0)\n",
      "Requirement already satisfied: numpy in /home/jnwatu/.local/lib/python3.9/site-packages (from torchvision->clip==1.0) (1.22.4)\n"
     ]
    }
   ],
   "source": [
    "! pip install ftfy regex tqdm\n",
    "! pip install git+https://github.com/openai/CLIP.git\n"
   ]
  },
  {
   "cell_type": "code",
   "execution_count": 10,
   "id": "0a2b0358",
   "metadata": {},
   "outputs": [
    {
     "data": {
      "text/plain": [
       "['RN50',\n",
       " 'RN101',\n",
       " 'RN50x4',\n",
       " 'RN50x16',\n",
       " 'RN50x64',\n",
       " 'ViT-B/32',\n",
       " 'ViT-B/16',\n",
       " 'ViT-L/14',\n",
       " 'ViT-L/14@336px']"
      ]
     },
     "execution_count": 10,
     "metadata": {},
     "output_type": "execute_result"
    }
   ],
   "source": [
    "import clip\n",
    "clip.available_models()"
   ]
  },
  {
   "cell_type": "code",
   "execution_count": 11,
   "id": "ae613d81",
   "metadata": {},
   "outputs": [
    {
     "data": {
      "text/plain": [
       "CLIP(\n",
       "  (visual): VisionTransformer(\n",
       "    (conv1): Conv2d(3, 768, kernel_size=(32, 32), stride=(32, 32), bias=False)\n",
       "    (ln_pre): LayerNorm((768,), eps=1e-05, elementwise_affine=True)\n",
       "    (transformer): Transformer(\n",
       "      (resblocks): Sequential(\n",
       "        (0): ResidualAttentionBlock(\n",
       "          (attn): MultiheadAttention(\n",
       "            (out_proj): NonDynamicallyQuantizableLinear(in_features=768, out_features=768, bias=True)\n",
       "          )\n",
       "          (ln_1): LayerNorm((768,), eps=1e-05, elementwise_affine=True)\n",
       "          (mlp): Sequential(\n",
       "            (c_fc): Linear(in_features=768, out_features=3072, bias=True)\n",
       "            (gelu): QuickGELU()\n",
       "            (c_proj): Linear(in_features=3072, out_features=768, bias=True)\n",
       "          )\n",
       "          (ln_2): LayerNorm((768,), eps=1e-05, elementwise_affine=True)\n",
       "        )\n",
       "        (1): ResidualAttentionBlock(\n",
       "          (attn): MultiheadAttention(\n",
       "            (out_proj): NonDynamicallyQuantizableLinear(in_features=768, out_features=768, bias=True)\n",
       "          )\n",
       "          (ln_1): LayerNorm((768,), eps=1e-05, elementwise_affine=True)\n",
       "          (mlp): Sequential(\n",
       "            (c_fc): Linear(in_features=768, out_features=3072, bias=True)\n",
       "            (gelu): QuickGELU()\n",
       "            (c_proj): Linear(in_features=3072, out_features=768, bias=True)\n",
       "          )\n",
       "          (ln_2): LayerNorm((768,), eps=1e-05, elementwise_affine=True)\n",
       "        )\n",
       "        (2): ResidualAttentionBlock(\n",
       "          (attn): MultiheadAttention(\n",
       "            (out_proj): NonDynamicallyQuantizableLinear(in_features=768, out_features=768, bias=True)\n",
       "          )\n",
       "          (ln_1): LayerNorm((768,), eps=1e-05, elementwise_affine=True)\n",
       "          (mlp): Sequential(\n",
       "            (c_fc): Linear(in_features=768, out_features=3072, bias=True)\n",
       "            (gelu): QuickGELU()\n",
       "            (c_proj): Linear(in_features=3072, out_features=768, bias=True)\n",
       "          )\n",
       "          (ln_2): LayerNorm((768,), eps=1e-05, elementwise_affine=True)\n",
       "        )\n",
       "        (3): ResidualAttentionBlock(\n",
       "          (attn): MultiheadAttention(\n",
       "            (out_proj): NonDynamicallyQuantizableLinear(in_features=768, out_features=768, bias=True)\n",
       "          )\n",
       "          (ln_1): LayerNorm((768,), eps=1e-05, elementwise_affine=True)\n",
       "          (mlp): Sequential(\n",
       "            (c_fc): Linear(in_features=768, out_features=3072, bias=True)\n",
       "            (gelu): QuickGELU()\n",
       "            (c_proj): Linear(in_features=3072, out_features=768, bias=True)\n",
       "          )\n",
       "          (ln_2): LayerNorm((768,), eps=1e-05, elementwise_affine=True)\n",
       "        )\n",
       "        (4): ResidualAttentionBlock(\n",
       "          (attn): MultiheadAttention(\n",
       "            (out_proj): NonDynamicallyQuantizableLinear(in_features=768, out_features=768, bias=True)\n",
       "          )\n",
       "          (ln_1): LayerNorm((768,), eps=1e-05, elementwise_affine=True)\n",
       "          (mlp): Sequential(\n",
       "            (c_fc): Linear(in_features=768, out_features=3072, bias=True)\n",
       "            (gelu): QuickGELU()\n",
       "            (c_proj): Linear(in_features=3072, out_features=768, bias=True)\n",
       "          )\n",
       "          (ln_2): LayerNorm((768,), eps=1e-05, elementwise_affine=True)\n",
       "        )\n",
       "        (5): ResidualAttentionBlock(\n",
       "          (attn): MultiheadAttention(\n",
       "            (out_proj): NonDynamicallyQuantizableLinear(in_features=768, out_features=768, bias=True)\n",
       "          )\n",
       "          (ln_1): LayerNorm((768,), eps=1e-05, elementwise_affine=True)\n",
       "          (mlp): Sequential(\n",
       "            (c_fc): Linear(in_features=768, out_features=3072, bias=True)\n",
       "            (gelu): QuickGELU()\n",
       "            (c_proj): Linear(in_features=3072, out_features=768, bias=True)\n",
       "          )\n",
       "          (ln_2): LayerNorm((768,), eps=1e-05, elementwise_affine=True)\n",
       "        )\n",
       "        (6): ResidualAttentionBlock(\n",
       "          (attn): MultiheadAttention(\n",
       "            (out_proj): NonDynamicallyQuantizableLinear(in_features=768, out_features=768, bias=True)\n",
       "          )\n",
       "          (ln_1): LayerNorm((768,), eps=1e-05, elementwise_affine=True)\n",
       "          (mlp): Sequential(\n",
       "            (c_fc): Linear(in_features=768, out_features=3072, bias=True)\n",
       "            (gelu): QuickGELU()\n",
       "            (c_proj): Linear(in_features=3072, out_features=768, bias=True)\n",
       "          )\n",
       "          (ln_2): LayerNorm((768,), eps=1e-05, elementwise_affine=True)\n",
       "        )\n",
       "        (7): ResidualAttentionBlock(\n",
       "          (attn): MultiheadAttention(\n",
       "            (out_proj): NonDynamicallyQuantizableLinear(in_features=768, out_features=768, bias=True)\n",
       "          )\n",
       "          (ln_1): LayerNorm((768,), eps=1e-05, elementwise_affine=True)\n",
       "          (mlp): Sequential(\n",
       "            (c_fc): Linear(in_features=768, out_features=3072, bias=True)\n",
       "            (gelu): QuickGELU()\n",
       "            (c_proj): Linear(in_features=3072, out_features=768, bias=True)\n",
       "          )\n",
       "          (ln_2): LayerNorm((768,), eps=1e-05, elementwise_affine=True)\n",
       "        )\n",
       "        (8): ResidualAttentionBlock(\n",
       "          (attn): MultiheadAttention(\n",
       "            (out_proj): NonDynamicallyQuantizableLinear(in_features=768, out_features=768, bias=True)\n",
       "          )\n",
       "          (ln_1): LayerNorm((768,), eps=1e-05, elementwise_affine=True)\n",
       "          (mlp): Sequential(\n",
       "            (c_fc): Linear(in_features=768, out_features=3072, bias=True)\n",
       "            (gelu): QuickGELU()\n",
       "            (c_proj): Linear(in_features=3072, out_features=768, bias=True)\n",
       "          )\n",
       "          (ln_2): LayerNorm((768,), eps=1e-05, elementwise_affine=True)\n",
       "        )\n",
       "        (9): ResidualAttentionBlock(\n",
       "          (attn): MultiheadAttention(\n",
       "            (out_proj): NonDynamicallyQuantizableLinear(in_features=768, out_features=768, bias=True)\n",
       "          )\n",
       "          (ln_1): LayerNorm((768,), eps=1e-05, elementwise_affine=True)\n",
       "          (mlp): Sequential(\n",
       "            (c_fc): Linear(in_features=768, out_features=3072, bias=True)\n",
       "            (gelu): QuickGELU()\n",
       "            (c_proj): Linear(in_features=3072, out_features=768, bias=True)\n",
       "          )\n",
       "          (ln_2): LayerNorm((768,), eps=1e-05, elementwise_affine=True)\n",
       "        )\n",
       "        (10): ResidualAttentionBlock(\n",
       "          (attn): MultiheadAttention(\n",
       "            (out_proj): NonDynamicallyQuantizableLinear(in_features=768, out_features=768, bias=True)\n",
       "          )\n",
       "          (ln_1): LayerNorm((768,), eps=1e-05, elementwise_affine=True)\n",
       "          (mlp): Sequential(\n",
       "            (c_fc): Linear(in_features=768, out_features=3072, bias=True)\n",
       "            (gelu): QuickGELU()\n",
       "            (c_proj): Linear(in_features=3072, out_features=768, bias=True)\n",
       "          )\n",
       "          (ln_2): LayerNorm((768,), eps=1e-05, elementwise_affine=True)\n",
       "        )\n",
       "        (11): ResidualAttentionBlock(\n",
       "          (attn): MultiheadAttention(\n",
       "            (out_proj): NonDynamicallyQuantizableLinear(in_features=768, out_features=768, bias=True)\n",
       "          )\n",
       "          (ln_1): LayerNorm((768,), eps=1e-05, elementwise_affine=True)\n",
       "          (mlp): Sequential(\n",
       "            (c_fc): Linear(in_features=768, out_features=3072, bias=True)\n",
       "            (gelu): QuickGELU()\n",
       "            (c_proj): Linear(in_features=3072, out_features=768, bias=True)\n",
       "          )\n",
       "          (ln_2): LayerNorm((768,), eps=1e-05, elementwise_affine=True)\n",
       "        )\n",
       "      )\n",
       "    )\n",
       "    (ln_post): LayerNorm((768,), eps=1e-05, elementwise_affine=True)\n",
       "  )\n",
       "  (transformer): Transformer(\n",
       "    (resblocks): Sequential(\n",
       "      (0): ResidualAttentionBlock(\n",
       "        (attn): MultiheadAttention(\n",
       "          (out_proj): NonDynamicallyQuantizableLinear(in_features=512, out_features=512, bias=True)\n",
       "        )\n",
       "        (ln_1): LayerNorm((512,), eps=1e-05, elementwise_affine=True)\n",
       "        (mlp): Sequential(\n",
       "          (c_fc): Linear(in_features=512, out_features=2048, bias=True)\n",
       "          (gelu): QuickGELU()\n",
       "          (c_proj): Linear(in_features=2048, out_features=512, bias=True)\n",
       "        )\n",
       "        (ln_2): LayerNorm((512,), eps=1e-05, elementwise_affine=True)\n",
       "      )\n",
       "      (1): ResidualAttentionBlock(\n",
       "        (attn): MultiheadAttention(\n",
       "          (out_proj): NonDynamicallyQuantizableLinear(in_features=512, out_features=512, bias=True)\n",
       "        )\n",
       "        (ln_1): LayerNorm((512,), eps=1e-05, elementwise_affine=True)\n",
       "        (mlp): Sequential(\n",
       "          (c_fc): Linear(in_features=512, out_features=2048, bias=True)\n",
       "          (gelu): QuickGELU()\n",
       "          (c_proj): Linear(in_features=2048, out_features=512, bias=True)\n",
       "        )\n",
       "        (ln_2): LayerNorm((512,), eps=1e-05, elementwise_affine=True)\n",
       "      )\n",
       "      (2): ResidualAttentionBlock(\n",
       "        (attn): MultiheadAttention(\n",
       "          (out_proj): NonDynamicallyQuantizableLinear(in_features=512, out_features=512, bias=True)\n",
       "        )\n",
       "        (ln_1): LayerNorm((512,), eps=1e-05, elementwise_affine=True)\n",
       "        (mlp): Sequential(\n",
       "          (c_fc): Linear(in_features=512, out_features=2048, bias=True)\n",
       "          (gelu): QuickGELU()\n",
       "          (c_proj): Linear(in_features=2048, out_features=512, bias=True)\n",
       "        )\n",
       "        (ln_2): LayerNorm((512,), eps=1e-05, elementwise_affine=True)\n",
       "      )\n",
       "      (3): ResidualAttentionBlock(\n",
       "        (attn): MultiheadAttention(\n",
       "          (out_proj): NonDynamicallyQuantizableLinear(in_features=512, out_features=512, bias=True)\n",
       "        )\n",
       "        (ln_1): LayerNorm((512,), eps=1e-05, elementwise_affine=True)\n",
       "        (mlp): Sequential(\n",
       "          (c_fc): Linear(in_features=512, out_features=2048, bias=True)\n",
       "          (gelu): QuickGELU()\n",
       "          (c_proj): Linear(in_features=2048, out_features=512, bias=True)\n",
       "        )\n",
       "        (ln_2): LayerNorm((512,), eps=1e-05, elementwise_affine=True)\n",
       "      )\n",
       "      (4): ResidualAttentionBlock(\n",
       "        (attn): MultiheadAttention(\n",
       "          (out_proj): NonDynamicallyQuantizableLinear(in_features=512, out_features=512, bias=True)\n",
       "        )\n",
       "        (ln_1): LayerNorm((512,), eps=1e-05, elementwise_affine=True)\n",
       "        (mlp): Sequential(\n",
       "          (c_fc): Linear(in_features=512, out_features=2048, bias=True)\n",
       "          (gelu): QuickGELU()\n",
       "          (c_proj): Linear(in_features=2048, out_features=512, bias=True)\n",
       "        )\n",
       "        (ln_2): LayerNorm((512,), eps=1e-05, elementwise_affine=True)\n",
       "      )\n",
       "      (5): ResidualAttentionBlock(\n",
       "        (attn): MultiheadAttention(\n",
       "          (out_proj): NonDynamicallyQuantizableLinear(in_features=512, out_features=512, bias=True)\n",
       "        )\n",
       "        (ln_1): LayerNorm((512,), eps=1e-05, elementwise_affine=True)\n",
       "        (mlp): Sequential(\n",
       "          (c_fc): Linear(in_features=512, out_features=2048, bias=True)\n",
       "          (gelu): QuickGELU()\n",
       "          (c_proj): Linear(in_features=2048, out_features=512, bias=True)\n",
       "        )\n",
       "        (ln_2): LayerNorm((512,), eps=1e-05, elementwise_affine=True)\n",
       "      )\n",
       "      (6): ResidualAttentionBlock(\n",
       "        (attn): MultiheadAttention(\n",
       "          (out_proj): NonDynamicallyQuantizableLinear(in_features=512, out_features=512, bias=True)\n",
       "        )\n",
       "        (ln_1): LayerNorm((512,), eps=1e-05, elementwise_affine=True)\n",
       "        (mlp): Sequential(\n",
       "          (c_fc): Linear(in_features=512, out_features=2048, bias=True)\n",
       "          (gelu): QuickGELU()\n",
       "          (c_proj): Linear(in_features=2048, out_features=512, bias=True)\n",
       "        )\n",
       "        (ln_2): LayerNorm((512,), eps=1e-05, elementwise_affine=True)\n",
       "      )\n",
       "      (7): ResidualAttentionBlock(\n",
       "        (attn): MultiheadAttention(\n",
       "          (out_proj): NonDynamicallyQuantizableLinear(in_features=512, out_features=512, bias=True)\n",
       "        )\n",
       "        (ln_1): LayerNorm((512,), eps=1e-05, elementwise_affine=True)\n",
       "        (mlp): Sequential(\n",
       "          (c_fc): Linear(in_features=512, out_features=2048, bias=True)\n",
       "          (gelu): QuickGELU()\n",
       "          (c_proj): Linear(in_features=2048, out_features=512, bias=True)\n",
       "        )\n",
       "        (ln_2): LayerNorm((512,), eps=1e-05, elementwise_affine=True)\n",
       "      )\n",
       "      (8): ResidualAttentionBlock(\n",
       "        (attn): MultiheadAttention(\n",
       "          (out_proj): NonDynamicallyQuantizableLinear(in_features=512, out_features=512, bias=True)\n",
       "        )\n",
       "        (ln_1): LayerNorm((512,), eps=1e-05, elementwise_affine=True)\n",
       "        (mlp): Sequential(\n",
       "          (c_fc): Linear(in_features=512, out_features=2048, bias=True)\n",
       "          (gelu): QuickGELU()\n",
       "          (c_proj): Linear(in_features=2048, out_features=512, bias=True)\n",
       "        )\n",
       "        (ln_2): LayerNorm((512,), eps=1e-05, elementwise_affine=True)\n",
       "      )\n",
       "      (9): ResidualAttentionBlock(\n",
       "        (attn): MultiheadAttention(\n",
       "          (out_proj): NonDynamicallyQuantizableLinear(in_features=512, out_features=512, bias=True)\n",
       "        )\n",
       "        (ln_1): LayerNorm((512,), eps=1e-05, elementwise_affine=True)\n",
       "        (mlp): Sequential(\n",
       "          (c_fc): Linear(in_features=512, out_features=2048, bias=True)\n",
       "          (gelu): QuickGELU()\n",
       "          (c_proj): Linear(in_features=2048, out_features=512, bias=True)\n",
       "        )\n",
       "        (ln_2): LayerNorm((512,), eps=1e-05, elementwise_affine=True)\n",
       "      )\n",
       "      (10): ResidualAttentionBlock(\n",
       "        (attn): MultiheadAttention(\n",
       "          (out_proj): NonDynamicallyQuantizableLinear(in_features=512, out_features=512, bias=True)\n",
       "        )\n",
       "        (ln_1): LayerNorm((512,), eps=1e-05, elementwise_affine=True)\n",
       "        (mlp): Sequential(\n",
       "          (c_fc): Linear(in_features=512, out_features=2048, bias=True)\n",
       "          (gelu): QuickGELU()\n",
       "          (c_proj): Linear(in_features=2048, out_features=512, bias=True)\n",
       "        )\n",
       "        (ln_2): LayerNorm((512,), eps=1e-05, elementwise_affine=True)\n",
       "      )\n",
       "      (11): ResidualAttentionBlock(\n",
       "        (attn): MultiheadAttention(\n",
       "          (out_proj): NonDynamicallyQuantizableLinear(in_features=512, out_features=512, bias=True)\n",
       "        )\n",
       "        (ln_1): LayerNorm((512,), eps=1e-05, elementwise_affine=True)\n",
       "        (mlp): Sequential(\n",
       "          (c_fc): Linear(in_features=512, out_features=2048, bias=True)\n",
       "          (gelu): QuickGELU()\n",
       "          (c_proj): Linear(in_features=2048, out_features=512, bias=True)\n",
       "        )\n",
       "        (ln_2): LayerNorm((512,), eps=1e-05, elementwise_affine=True)\n",
       "      )\n",
       "    )\n",
       "  )\n",
       "  (token_embedding): Embedding(49408, 512)\n",
       "  (ln_final): LayerNorm((512,), eps=1e-05, elementwise_affine=True)\n",
       ")"
      ]
     },
     "execution_count": 11,
     "metadata": {},
     "output_type": "execute_result"
    }
   ],
   "source": [
    "model, preprocess = clip.load(\"ViT-B/32\")\n",
    "\n",
    "#model = CLIPModel.from_pretrained(\"openai/clip-vit-large-patch14\")\n",
    "#preprocess = CLIPProcessor.from_pretrained(\"openai/clip-vit-large-patch14\")\n",
    "\n",
    "model.cuda().eval()"
   ]
  },
  {
   "cell_type": "code",
   "execution_count": 12,
   "id": "1bc34b44",
   "metadata": {},
   "outputs": [],
   "source": [
    "device = \"cuda\" if torch.cuda.is_available() else \"cpu\""
   ]
  },
  {
   "cell_type": "code",
   "execution_count": 13,
   "id": "aa2f2630",
   "metadata": {},
   "outputs": [
    {
     "data": {
      "text/plain": [
       "['/nfs/turbo/coe-mihalcea/shared_data/dollarstreet/assets/5d4bf31ccf0b3a0f3f359814/5d4bf31ccf0b3a0f3f359814.jpg',\n",
       " '/nfs/turbo/coe-mihalcea/shared_data/dollarstreet/assets/5d4bf31ccf0b3a0f3f35982a/5d4bf31ccf0b3a0f3f35982a.jpg']"
      ]
     },
     "execution_count": 13,
     "metadata": {},
     "output_type": "execute_result"
    }
   ],
   "source": [
    "path_images = [path_data + s for s in list(data['imageRelPath'])]\n",
    "image_ids1 = [s.split(\"/\")[7] for s in path_images]\n",
    "image_ids = data['id']\n",
    "assert(set(image_ids1) == set(image_ids))\n",
    "# path_images_out = [path_data + img_id + \"npy\" for img_id in image_ids]\n",
    "path_images[:2]"
   ]
  },
  {
   "cell_type": "markdown",
   "id": "723d3ee2",
   "metadata": {},
   "source": [
    "## Preprocess Images"
   ]
  },
  {
   "cell_type": "code",
   "execution_count": 20,
   "id": "382ebedb",
   "metadata": {},
   "outputs": [],
   "source": [
    "#outfile = \"clip_B32_processed_imgs/\"\n",
    "outfile = \"/\".join([path_data, \"processed_imgs/\"])\n",
    "if not os.path.exists(outfile):\n",
    "         os.makedirs(outfile)"
   ]
  },
  {
   "cell_type": "code",
   "execution_count": null,
   "id": "4597f196",
   "metadata": {
    "scrolled": true
   },
   "outputs": [
    {
     "name": "stderr",
     "output_type": "stream",
     "text": [
      "  0%|          | 62/36754 [00:25<1:30:38,  6.75it/s]"
     ]
    },
    {
     "name": "stdout",
     "output_type": "stream",
     "text": [
      "Image 5fd029321f89a90d2a769c1d not ok\n",
      "Image 5fd029361f89a90d2a769c47 not ok\n"
     ]
    },
    {
     "name": "stderr",
     "output_type": "stream",
     "text": [
      "  0%|          | 147/36754 [00:53<1:33:08,  6.55it/s]"
     ]
    },
    {
     "name": "stdout",
     "output_type": "stream",
     "text": [
      "Image 5d4bf45acf0b3a0f3f35b7f8 not ok\n",
      "Image 5d4bf45acf0b3a0f3f35b7fa not ok\n",
      "Image 5d4bf45bcf0b3a0f3f35b812 not ok\n"
     ]
    },
    {
     "name": "stderr",
     "output_type": "stream",
     "text": [
      "\r",
      "  0%|          | 149/36754 [00:53<1:23:20,  7.32it/s]"
     ]
    },
    {
     "name": "stdout",
     "output_type": "stream",
     "text": [
      "Image 5d4bf45dcf0b3a0f3f35b846 not ok\n"
     ]
    },
    {
     "name": "stderr",
     "output_type": "stream",
     "text": [
      "  0%|          | 162/36754 [00:54<51:37, 11.81it/s]  "
     ]
    },
    {
     "name": "stdout",
     "output_type": "stream",
     "text": [
      "Image 5d4bf462cf0b3a0f3f35b8c6 not ok\n",
      "Image 5d4bf463cf0b3a0f3f35b8de not ok\n",
      "Image 5d4bf463cf0b3a0f3f35b8e6 not ok\n",
      "Image 5d4bf465cf0b3a0f3f35b912 not ok\n"
     ]
    },
    {
     "name": "stderr",
     "output_type": "stream",
     "text": [
      "  0%|          | 175/36754 [00:56<1:10:10,  8.69it/s]"
     ]
    },
    {
     "name": "stdout",
     "output_type": "stream",
     "text": [
      "Image 5d4bf46bcf0b3a0f3f35b9ca not ok\n"
     ]
    },
    {
     "name": "stderr",
     "output_type": "stream",
     "text": [
      "  1%|          | 185/36754 [00:57<56:47, 10.73it/s]  "
     ]
    },
    {
     "name": "stdout",
     "output_type": "stream",
     "text": [
      "Image 5d4bf46dcf0b3a0f3f35ba14 not ok\n",
      "Image 5d4bf46ecf0b3a0f3f35ba22 not ok\n"
     ]
    },
    {
     "name": "stderr",
     "output_type": "stream",
     "text": [
      "  1%|          | 190/36754 [00:58<52:51, 11.53it/s]  "
     ]
    },
    {
     "name": "stdout",
     "output_type": "stream",
     "text": [
      "Image 5d4bf46fcf0b3a0f3f35ba48 not ok\n",
      "Image 5d4bf470cf0b3a0f3f35ba56 not ok\n"
     ]
    },
    {
     "name": "stderr",
     "output_type": "stream",
     "text": [
      "  1%|          | 196/36754 [00:58<54:09, 11.25it/s]  "
     ]
    },
    {
     "name": "stdout",
     "output_type": "stream",
     "text": [
      "Image 5d4bf471cf0b3a0f3f35ba82 not ok\n",
      "Image 5d4bf472cf0b3a0f3f35ba8e not ok\n"
     ]
    },
    {
     "name": "stderr",
     "output_type": "stream",
     "text": [
      "  1%|          | 206/36754 [00:59<36:00, 16.91it/s]"
     ]
    },
    {
     "name": "stdout",
     "output_type": "stream",
     "text": [
      "Image 5fd027e51f89a90d2a7693d8 not ok\n",
      "Image 5fd027ee1f89a90d2a769426 not ok\n",
      "Image 5fd027ef1f89a90d2a76942a not ok\n"
     ]
    },
    {
     "name": "stderr",
     "output_type": "stream",
     "text": [
      "  1%|          | 222/36754 [00:59<19:39, 30.98it/s]"
     ]
    },
    {
     "name": "stdout",
     "output_type": "stream",
     "text": [
      "Image 5fd027f91f89a90d2a769464 not ok\n",
      "Image 5fd028ee1f89a90d2a769ab6 not ok\n",
      "Image 5fd028f01f89a90d2a769aca not ok\n",
      "Image 5fd028f61f89a90d2a769b05 not ok\n",
      "Image 5fd028f71f89a90d2a769b07 not ok\n"
     ]
    },
    {
     "name": "stderr",
     "output_type": "stream",
     "text": [
      "  1%|          | 237/36754 [01:00<20:54, 29.11it/s]"
     ]
    },
    {
     "name": "stdout",
     "output_type": "stream",
     "text": [
      "Image 5fd0290b1f89a90d2a769b73 not ok\n",
      "Image 5fd029141f89a90d2a769b9a not ok\n"
     ]
    },
    {
     "name": "stderr",
     "output_type": "stream",
     "text": [
      "  2%|▏         | 734/36754 [03:10<30:14, 19.85it/s]  "
     ]
    },
    {
     "name": "stdout",
     "output_type": "stream",
     "text": [
      "Image 60a211108ed19e9efa597675 not ok\n"
     ]
    },
    {
     "name": "stderr",
     "output_type": "stream",
     "text": [
      "  2%|▏         | 900/36754 [03:57<29:07, 20.52it/s]  "
     ]
    },
    {
     "name": "stdout",
     "output_type": "stream",
     "text": [
      "Image 5fd03c53f2d9500e4358f90d not ok\n",
      "Image 5fd03c5bf2d9500e4358f940 not ok\n"
     ]
    },
    {
     "name": "stderr",
     "output_type": "stream",
     "text": [
      "  2%|▏         | 914/36754 [03:57<22:24, 26.65it/s]"
     ]
    },
    {
     "name": "stdout",
     "output_type": "stream",
     "text": [
      "Image 5fd03c69f2d9500e4358f99c not ok\n",
      "Image 5fd03c6bf2d9500e4358f99e not ok\n",
      "Image 5fd03c71f2d9500e4358f9d7 not ok\n"
     ]
    },
    {
     "name": "stderr",
     "output_type": "stream",
     "text": [
      "  3%|▎         | 990/36754 [04:20<1:28:24,  6.74it/s]"
     ]
    },
    {
     "name": "stdout",
     "output_type": "stream",
     "text": [
      "Image 5d4bf437cf0b3a0f3f35b402 not ok\n",
      "Image 5d4bf437cf0b3a0f3f35b40c not ok\n",
      "Image 5d4bf438cf0b3a0f3f35b41c not ok\n"
     ]
    },
    {
     "name": "stderr",
     "output_type": "stream",
     "text": [
      "  3%|▎         | 1003/36754 [04:22<49:22, 12.07it/s] "
     ]
    },
    {
     "name": "stdout",
     "output_type": "stream",
     "text": [
      "Image 5d4bf43ccf0b3a0f3f35b4a0 not ok\n",
      "Image 5d4bf43ccf0b3a0f3f35b4a4 not ok\n",
      "Image 5d4bf43dcf0b3a0f3f35b4ae not ok\n"
     ]
    },
    {
     "name": "stderr",
     "output_type": "stream",
     "text": [
      "  3%|▎         | 1015/36754 [04:23<1:08:32,  8.69it/s]"
     ]
    },
    {
     "name": "stdout",
     "output_type": "stream",
     "text": [
      "Image 5d4bf441cf0b3a0f3f35b526 not ok\n"
     ]
    },
    {
     "name": "stderr",
     "output_type": "stream",
     "text": [
      "  3%|▎         | 1024/36754 [04:25<54:54, 10.84it/s]  "
     ]
    },
    {
     "name": "stdout",
     "output_type": "stream",
     "text": [
      "Image 5d4bf444cf0b3a0f3f35b578 not ok\n",
      "Image 5d4bf444cf0b3a0f3f35b57e not ok\n"
     ]
    },
    {
     "name": "stderr",
     "output_type": "stream",
     "text": [
      "  3%|▎         | 1029/36754 [04:25<1:06:48,  8.91it/s]"
     ]
    },
    {
     "name": "stdout",
     "output_type": "stream",
     "text": [
      "Image 5d4bf446cf0b3a0f3f35b5ca not ok\n"
     ]
    },
    {
     "name": "stderr",
     "output_type": "stream",
     "text": [
      "  3%|▎         | 1039/36754 [04:26<46:55, 12.68it/s]  "
     ]
    },
    {
     "name": "stdout",
     "output_type": "stream",
     "text": [
      "Image 5d4bf448cf0b3a0f3f35b608 not ok\n",
      "Image 5d4bf449cf0b3a0f3f35b612 not ok\n",
      "Image 5d4bf449cf0b3a0f3f35b61a not ok\n"
     ]
    },
    {
     "name": "stderr",
     "output_type": "stream",
     "text": [
      "  3%|▎         | 1048/36754 [04:27<1:05:36,  9.07it/s]"
     ]
    },
    {
     "name": "stdout",
     "output_type": "stream",
     "text": [
      "Image 5d4bf44ccf0b3a0f3f35b674 not ok\n"
     ]
    },
    {
     "name": "stderr",
     "output_type": "stream",
     "text": [
      "  3%|▎         | 1121/36754 [04:54<57:08, 10.39it/s]  "
     ]
    },
    {
     "name": "stdout",
     "output_type": "stream",
     "text": [
      "Image 5fd028981f89a90d2a7697ed not ok\n"
     ]
    },
    {
     "name": "stderr",
     "output_type": "stream",
     "text": [
      "  3%|▎         | 1132/36754 [04:55<29:39, 20.02it/s]"
     ]
    },
    {
     "name": "stdout",
     "output_type": "stream",
     "text": [
      "Image 5fd028b71f89a90d2a7698df not ok\n",
      "Image 5fd028bc1f89a90d2a7698fe not ok\n"
     ]
    },
    {
     "name": "stderr",
     "output_type": "stream",
     "text": [
      "  3%|▎         | 1147/36754 [04:55<27:53, 21.27it/s]"
     ]
    },
    {
     "name": "stdout",
     "output_type": "stream",
     "text": [
      "Image 5fd028e71f89a90d2a769a6b not ok\n"
     ]
    },
    {
     "name": "stderr",
     "output_type": "stream",
     "text": [
      "  4%|▍         | 1401/36754 [06:26<3:16:38,  3.00it/s]"
     ]
    },
    {
     "name": "stdout",
     "output_type": "stream",
     "text": [
      "Image 5d4bf107cf0b3a0f3f355da2 not ok\n"
     ]
    },
    {
     "name": "stderr",
     "output_type": "stream",
     "text": [
      "  4%|▍         | 1410/36754 [06:29<3:19:52,  2.95it/s]"
     ]
    },
    {
     "name": "stdout",
     "output_type": "stream",
     "text": [
      "Image 5d4bf10bcf0b3a0f3f355e0a not ok\n",
      "Image 5d4bf10ecf0b3a0f3f355e5a not ok\n",
      "Image 5d4bf10fcf0b3a0f3f355e6e not ok\n",
      "Image 5d4bf10fcf0b3a0f3f355e74 not ok\n"
     ]
    },
    {
     "name": "stderr",
     "output_type": "stream",
     "text": [
      "  4%|▍         | 1425/36754 [06:33<4:01:19,  2.44it/s]"
     ]
    },
    {
     "name": "stdout",
     "output_type": "stream",
     "text": [
      "Image 5d4bf114cf0b3a0f3f355f16 not ok\n"
     ]
    },
    {
     "name": "stderr",
     "output_type": "stream",
     "text": [
      "  4%|▍         | 1434/36754 [06:36<3:21:23,  2.92it/s]"
     ]
    },
    {
     "name": "stdout",
     "output_type": "stream",
     "text": [
      "Image 5d4bf118cf0b3a0f3f355f78 not ok\n"
     ]
    },
    {
     "name": "stderr",
     "output_type": "stream",
     "text": [
      "  4%|▍         | 1440/36754 [06:38<3:17:09,  2.99it/s]"
     ]
    },
    {
     "name": "stdout",
     "output_type": "stream",
     "text": [
      "Image 5d4bf119cf0b3a0f3f355fa6 not ok\n"
     ]
    },
    {
     "name": "stderr",
     "output_type": "stream",
     "text": [
      "  4%|▍         | 1447/36754 [06:40<3:01:05,  3.25it/s]"
     ]
    },
    {
     "name": "stdout",
     "output_type": "stream",
     "text": [
      "Image 5d4bf11ccf0b3a0f3f355ff6 not ok\n",
      "Image 5d4bf11ccf0b3a0f3f355ffe not ok\n",
      "Image 5d4bf11fcf0b3a0f3f35600e not ok\n"
     ]
    },
    {
     "name": "stderr",
     "output_type": "stream",
     "text": [
      "\r",
      "  4%|▍         | 1451/36754 [06:40<1:38:00,  6.00it/s]"
     ]
    },
    {
     "name": "stdout",
     "output_type": "stream",
     "text": [
      "Image 5d4bf121cf0b3a0f3f356020 not ok\n"
     ]
    },
    {
     "name": "stderr",
     "output_type": "stream",
     "text": [
      "  4%|▍         | 1455/36754 [06:41<2:13:31,  4.41it/s]"
     ]
    },
    {
     "name": "stdout",
     "output_type": "stream",
     "text": [
      "Image 5d4bf122cf0b3a0f3f356042 not ok\n"
     ]
    },
    {
     "name": "stderr",
     "output_type": "stream",
     "text": [
      "  4%|▍         | 1463/36754 [06:44<3:06:06,  3.16it/s]"
     ]
    },
    {
     "name": "stdout",
     "output_type": "stream",
     "text": [
      "Image 5d4bf124cf0b3a0f3f356082 not ok\n"
     ]
    },
    {
     "name": "stderr",
     "output_type": "stream",
     "text": [
      "  5%|▍         | 1686/36754 [07:32<46:06, 12.68it/s]  "
     ]
    },
    {
     "name": "stdout",
     "output_type": "stream",
     "text": [
      "Image 5fd0287d1f89a90d2a76974b not ok\n",
      "Image 5fd0287f1f89a90d2a76975f not ok\n"
     ]
    },
    {
     "name": "stderr",
     "output_type": "stream",
     "text": [
      "  5%|▍         | 1694/36754 [07:33<27:51, 20.97it/s]"
     ]
    },
    {
     "name": "stdout",
     "output_type": "stream",
     "text": [
      "Image 5fd028851f89a90d2a76978b not ok\n"
     ]
    },
    {
     "name": "stderr",
     "output_type": "stream",
     "text": [
      "  6%|▋         | 2327/36754 [10:56<3:19:54,  2.87it/s]"
     ]
    },
    {
     "name": "stdout",
     "output_type": "stream",
     "text": [
      "Image 5d4befbfcf0b3a0f3f353c2e not ok\n"
     ]
    },
    {
     "name": "stderr",
     "output_type": "stream",
     "text": [
      "  7%|▋         | 2651/36754 [12:21<28:05, 20.24it/s]  "
     ]
    },
    {
     "name": "stdout",
     "output_type": "stream",
     "text": [
      "Image 5fd028581f89a90d2a76968b not ok\n",
      "Image 5fd0285e1f89a90d2a7696bf not ok\n",
      "Image 5fd028601f89a90d2a7696c4 not ok\n",
      "Image 5fd028621f89a90d2a7696ce not ok\n",
      "Image 5d4bee14cf0b3a0f3f350cd2 not ok\n",
      "Image 5d4bee15cf0b3a0f3f350ce2 not ok\n",
      "Image 5d4bee16cf0b3a0f3f350d0a not ok\n",
      "Image 5d4bee17cf0b3a0f3f350d16 not ok\n",
      "Image 5d4bee1bcf0b3a0f3f350d96 not ok\n",
      "Image 5d4bee1bcf0b3a0f3f350da2 not ok\n",
      "Image 5d4bee1ccf0b3a0f3f350db0 not ok\n"
     ]
    },
    {
     "name": "stderr",
     "output_type": "stream",
     "text": [
      "  7%|▋         | 2666/36754 [12:22<51:05, 11.12it/s]"
     ]
    },
    {
     "name": "stdout",
     "output_type": "stream",
     "text": [
      "Image 5d4bee1dcf0b3a0f3f350dcc not ok\n",
      "Image 5d4bee1dcf0b3a0f3f350dd4 not ok\n",
      "Image 5d4bee1dcf0b3a0f3f350de0 not ok\n"
     ]
    },
    {
     "name": "stderr",
     "output_type": "stream",
     "text": [
      "  7%|▋         | 2673/36754 [12:24<1:34:18,  6.02it/s]"
     ]
    },
    {
     "name": "stdout",
     "output_type": "stream",
     "text": [
      "Image 5d4bee1ecf0b3a0f3f350e00 not ok\n"
     ]
    },
    {
     "name": "stderr",
     "output_type": "stream",
     "text": [
      "  7%|▋         | 2675/36754 [12:25<2:09:51,  4.37it/s]"
     ]
    },
    {
     "name": "stdout",
     "output_type": "stream",
     "text": [
      "Image 5d4bee1fcf0b3a0f3f350e14 not ok\n",
      "Image 5d4bee1fcf0b3a0f3f350e20 not ok\n"
     ]
    },
    {
     "name": "stderr",
     "output_type": "stream",
     "text": [
      "  7%|▋         | 2685/36754 [12:28<3:40:24,  2.58it/s]"
     ]
    },
    {
     "name": "stdout",
     "output_type": "stream",
     "text": [
      "Image 5d4bee21cf0b3a0f3f350e58 not ok\n"
     ]
    },
    {
     "name": "stderr",
     "output_type": "stream",
     "text": [
      "  7%|▋         | 2696/36754 [12:32<3:54:08,  2.42it/s]"
     ]
    },
    {
     "name": "stdout",
     "output_type": "stream",
     "text": [
      "Image 5d4bee26cf0b3a0f3f350ed4 not ok\n"
     ]
    },
    {
     "name": "stderr",
     "output_type": "stream",
     "text": [
      "  8%|▊         | 2863/36754 [13:19<44:14, 12.77it/s]  "
     ]
    },
    {
     "name": "stdout",
     "output_type": "stream",
     "text": [
      "Image 5fd028211f89a90d2a769589 not ok\n",
      "Image 5fd028221f89a90d2a76958c not ok\n"
     ]
    },
    {
     "name": "stderr",
     "output_type": "stream",
     "text": [
      "\r",
      "  8%|▊         | 2871/36754 [13:19<23:23, 24.14it/s]"
     ]
    },
    {
     "name": "stdout",
     "output_type": "stream",
     "text": [
      "Image 5fd0282a1f89a90d2a7695d4 not ok\n",
      "Image 5fd0282d1f89a90d2a7695d9 not ok\n",
      "Image 5fd0282f1f89a90d2a7695dc not ok\n",
      "Image 5fd028301f89a90d2a7695de not ok\n",
      "Image 5fd028311f89a90d2a7695e0 not ok\n"
     ]
    },
    {
     "name": "stderr",
     "output_type": "stream",
     "text": [
      "  9%|▉         | 3297/36754 [15:26<42:41, 13.06it/s]  "
     ]
    },
    {
     "name": "stdout",
     "output_type": "stream",
     "text": [
      "Image 5fd03ca6f2d9500e4358fb65 not ok\n",
      "Image 5fd03caff2d9500e4358fbaa not ok\n",
      "Image 5fd03cb5f2d9500e4358fbdd not ok\n"
     ]
    },
    {
     "name": "stderr",
     "output_type": "stream",
     "text": [
      "  9%|▉         | 3306/36754 [15:26<24:45, 22.51it/s]"
     ]
    },
    {
     "name": "stdout",
     "output_type": "stream",
     "text": [
      "Image 5fd03cbcf2d9500e4358fc10 not ok\n",
      "Image 5fd03cbef2d9500e4358fc18 not ok\n"
     ]
    },
    {
     "name": "stderr",
     "output_type": "stream",
     "text": [
      "  9%|▉         | 3421/36754 [15:53<41:04, 13.53it/s]  "
     ]
    },
    {
     "name": "stdout",
     "output_type": "stream",
     "text": [
      "Image 5fd03895f2d9500e4358e145 not ok\n"
     ]
    },
    {
     "name": "stderr",
     "output_type": "stream",
     "text": [
      " 10%|▉         | 3674/36754 [17:08<3:12:46,  2.86it/s]"
     ]
    },
    {
     "name": "stdout",
     "output_type": "stream",
     "text": [
      "Image 5d4bf0e1cf0b3a0f3f355a76 not ok\n"
     ]
    },
    {
     "name": "stderr",
     "output_type": "stream",
     "text": [
      " 10%|█         | 3679/36754 [17:09<2:44:58,  3.34it/s]"
     ]
    },
    {
     "name": "stdout",
     "output_type": "stream",
     "text": [
      "Image 5d4bf0e5cf0b3a0f3f355af2 not ok\n"
     ]
    },
    {
     "name": "stderr",
     "output_type": "stream",
     "text": [
      " 10%|█         | 3683/36754 [17:10<2:33:35,  3.59it/s]"
     ]
    },
    {
     "name": "stdout",
     "output_type": "stream",
     "text": [
      "Image 5d4bf0e8cf0b3a0f3f355b36 not ok\n",
      "Image 5d4bf0e8cf0b3a0f3f355b48 not ok\n",
      "Image 5d4bf0e9cf0b3a0f3f355b52 not ok\n"
     ]
    },
    {
     "name": "stderr",
     "output_type": "stream",
     "text": [
      " 10%|█         | 3688/36754 [17:11<1:45:34,  5.22it/s]"
     ]
    },
    {
     "name": "stdout",
     "output_type": "stream",
     "text": [
      "Image 5d4bf0eacf0b3a0f3f355b7c not ok\n"
     ]
    },
    {
     "name": "stderr",
     "output_type": "stream",
     "text": [
      " 10%|█         | 3706/36754 [17:17<2:58:28,  3.09it/s]"
     ]
    },
    {
     "name": "stdout",
     "output_type": "stream",
     "text": [
      "Image 5d4bf0f2cf0b3a0f3f355c62 not ok\n",
      "Image 5d4bf0f2cf0b3a0f3f355c6c not ok\n"
     ]
    },
    {
     "name": "stderr",
     "output_type": "stream",
     "text": [
      " 10%|█         | 3712/36754 [17:18<2:29:03,  3.69it/s]"
     ]
    },
    {
     "name": "stdout",
     "output_type": "stream",
     "text": [
      "Image 5d4bf0f4cf0b3a0f3f355c9c not ok\n"
     ]
    },
    {
     "name": "stderr",
     "output_type": "stream",
     "text": [
      " 10%|█         | 3718/36754 [17:20<2:45:54,  3.32it/s]"
     ]
    },
    {
     "name": "stdout",
     "output_type": "stream",
     "text": [
      "Image 5d4bf0f8cf0b3a0f3f355cee not ok\n",
      "Image 5d4bf0f8cf0b3a0f3f355cf4 not ok\n",
      "Image 5d4bf0facf0b3a0f3f355cfe not ok\n"
     ]
    },
    {
     "name": "stderr",
     "output_type": "stream",
     "text": [
      " 10%|█         | 3727/36754 [17:22<2:30:51,  3.65it/s]"
     ]
    },
    {
     "name": "stdout",
     "output_type": "stream",
     "text": [
      "Image 5d4bf104cf0b3a0f3f355d46 not ok\n"
     ]
    },
    {
     "name": "stderr",
     "output_type": "stream",
     "text": [
      "\r",
      " 10%|█         | 3729/36754 [17:22<2:07:03,  4.33it/s]"
     ]
    },
    {
     "name": "stdout",
     "output_type": "stream",
     "text": [
      "Image 5d4bf104cf0b3a0f3f355d52 not ok\n"
     ]
    },
    {
     "name": "stderr",
     "output_type": "stream",
     "text": [
      " 10%|█         | 3735/36754 [17:22<1:03:52,  8.62it/s]"
     ]
    },
    {
     "name": "stdout",
     "output_type": "stream",
     "text": [
      "Image 600708e01b1665f9fcfa954e not ok\n",
      "Image 609680cce830a8551bcc0860 not ok\n",
      "Image 609729cc1b6576784065bab0 not ok\n",
      "Image 609733b01b65762cc665c35a not ok\n"
     ]
    },
    {
     "name": "stderr",
     "output_type": "stream",
     "text": [
      " 10%|█         | 3746/36754 [17:23<53:56, 10.20it/s]  "
     ]
    },
    {
     "name": "stdout",
     "output_type": "stream",
     "text": [
      "Image 5d4be7aecf0b3a0f3f345e3c not ok\n"
     ]
    },
    {
     "name": "stderr",
     "output_type": "stream",
     "text": [
      " 10%|█         | 3751/36754 [17:24<1:45:23,  5.22it/s]"
     ]
    },
    {
     "name": "stdout",
     "output_type": "stream",
     "text": [
      "Image 5d4be7afcf0b3a0f3f345e4a not ok\n"
     ]
    },
    {
     "name": "stderr",
     "output_type": "stream",
     "text": [
      "\r",
      " 10%|█         | 3753/36754 [17:25<1:46:06,  5.18it/s]"
     ]
    },
    {
     "name": "stdout",
     "output_type": "stream",
     "text": [
      "Image 5d4be7afcf0b3a0f3f345e50 not ok\n"
     ]
    },
    {
     "name": "stderr",
     "output_type": "stream",
     "text": [
      " 10%|█         | 3756/36754 [17:26<2:00:09,  4.58it/s]"
     ]
    },
    {
     "name": "stdout",
     "output_type": "stream",
     "text": [
      "Image 5d4be7afcf0b3a0f3f345e56 not ok\n"
     ]
    },
    {
     "name": "stderr",
     "output_type": "stream",
     "text": [
      " 10%|█         | 3763/36754 [17:28<2:57:05,  3.10it/s]"
     ]
    },
    {
     "name": "stdout",
     "output_type": "stream",
     "text": [
      "Image 5d4be7b0cf0b3a0f3f345e6e not ok\n"
     ]
    },
    {
     "name": "stderr",
     "output_type": "stream",
     "text": [
      " 10%|█         | 3768/36754 [17:29<3:00:50,  3.04it/s]"
     ]
    },
    {
     "name": "stdout",
     "output_type": "stream",
     "text": [
      "Image 5d4be7b1cf0b3a0f3f345e7e not ok\n"
     ]
    },
    {
     "name": "stderr",
     "output_type": "stream",
     "text": [
      " 10%|█         | 3780/36754 [17:33<2:58:04,  3.09it/s]"
     ]
    },
    {
     "name": "stdout",
     "output_type": "stream",
     "text": [
      "Image 5d4be7b2cf0b3a0f3f345ea4 not ok\n"
     ]
    },
    {
     "name": "stderr",
     "output_type": "stream",
     "text": [
      "\r",
      " 10%|█         | 3782/36754 [17:34<2:22:45,  3.85it/s]"
     ]
    },
    {
     "name": "stdout",
     "output_type": "stream",
     "text": [
      "Image 5d4be7b2cf0b3a0f3f345eac not ok\n"
     ]
    },
    {
     "name": "stderr",
     "output_type": "stream",
     "text": [
      "\r",
      " 10%|█         | 3784/36754 [17:34<2:03:59,  4.43it/s]"
     ]
    },
    {
     "name": "stdout",
     "output_type": "stream",
     "text": [
      "Image 5d4be7b2cf0b3a0f3f345eb2 not ok\n",
      "Image 5d4be7b2cf0b3a0f3f345eb6 not ok\n"
     ]
    },
    {
     "name": "stderr",
     "output_type": "stream",
     "text": [
      " 10%|█         | 3790/36754 [17:35<2:31:44,  3.62it/s]"
     ]
    },
    {
     "name": "stdout",
     "output_type": "stream",
     "text": [
      "Image 5d4be7b3cf0b3a0f3f345ec8 not ok\n"
     ]
    },
    {
     "name": "stderr",
     "output_type": "stream",
     "text": [
      "\r",
      " 10%|█         | 3792/36754 [17:36<2:06:10,  4.35it/s]"
     ]
    },
    {
     "name": "stdout",
     "output_type": "stream",
     "text": [
      "Image 5d4be7b3cf0b3a0f3f345ecc not ok\n",
      "Image 5d4be7b3cf0b3a0f3f345ed2 not ok\n"
     ]
    },
    {
     "name": "stderr",
     "output_type": "stream",
     "text": [
      " 10%|█         | 3798/36754 [17:37<2:28:07,  3.71it/s]"
     ]
    },
    {
     "name": "stdout",
     "output_type": "stream",
     "text": [
      "Image 5d4be7b4cf0b3a0f3f345edc not ok\n"
     ]
    },
    {
     "name": "stderr",
     "output_type": "stream",
     "text": [
      "\r",
      " 10%|█         | 3800/36754 [17:38<2:11:43,  4.17it/s]"
     ]
    },
    {
     "name": "stdout",
     "output_type": "stream",
     "text": [
      "Image 5d4be7b4cf0b3a0f3f345ee0 not ok\n",
      "Image 5d4be7b4cf0b3a0f3f345ee2 not ok\n",
      "Image 5d4be7b4cf0b3a0f3f345ee4 not ok\n",
      "Image 5d4be7b4cf0b3a0f3f345ee8 not ok\n",
      "Image 5d4be7b4cf0b3a0f3f345eee not ok\n"
     ]
    },
    {
     "name": "stderr",
     "output_type": "stream",
     "text": [
      " 10%|█         | 3810/36754 [17:39<2:17:05,  4.01it/s]"
     ]
    },
    {
     "name": "stdout",
     "output_type": "stream",
     "text": [
      "Image 5d4bee29cf0b3a0f3f350efa not ok\n"
     ]
    },
    {
     "name": "stderr",
     "output_type": "stream",
     "text": [
      " 10%|█         | 3816/36754 [17:42<3:19:11,  2.76it/s]"
     ]
    },
    {
     "name": "stdout",
     "output_type": "stream",
     "text": [
      "Image 5d4bee31cf0b3a0f3f350f42 not ok\n",
      "Image 5d4bee33cf0b3a0f3f350f58 not ok\n",
      "Image 5d4bee33cf0b3a0f3f350f5e not ok\n",
      "Image 5d4bee33cf0b3a0f3f350f62 not ok\n"
     ]
    },
    {
     "name": "stderr",
     "output_type": "stream",
     "text": [
      " 10%|█         | 3822/36754 [17:42<2:06:40,  4.33it/s]"
     ]
    },
    {
     "name": "stdout",
     "output_type": "stream",
     "text": [
      "Image 5d4bee34cf0b3a0f3f350f7e not ok\n"
     ]
    },
    {
     "name": "stderr",
     "output_type": "stream",
     "text": [
      " 10%|█         | 3825/36754 [17:43<2:23:35,  3.82it/s]"
     ]
    },
    {
     "name": "stdout",
     "output_type": "stream",
     "text": [
      "Image 5d4bee35cf0b3a0f3f350f94 not ok\n"
     ]
    },
    {
     "name": "stderr",
     "output_type": "stream",
     "text": [
      " 10%|█         | 3828/36754 [17:44<2:36:21,  3.51it/s]"
     ]
    },
    {
     "name": "stdout",
     "output_type": "stream",
     "text": [
      "Image 5d4bee36cf0b3a0f3f350fb6 not ok\n"
     ]
    },
    {
     "name": "stderr",
     "output_type": "stream",
     "text": [
      "\r",
      " 10%|█         | 3830/36754 [17:45<2:25:15,  3.78it/s]"
     ]
    },
    {
     "name": "stdout",
     "output_type": "stream",
     "text": [
      "Image 5d4bee36cf0b3a0f3f350fbc not ok\n"
     ]
    },
    {
     "name": "stderr",
     "output_type": "stream",
     "text": [
      " 10%|█         | 3836/36754 [17:47<3:33:42,  2.57it/s]"
     ]
    },
    {
     "name": "stdout",
     "output_type": "stream",
     "text": [
      "Image 5d4bee37cf0b3a0f3f350fdc not ok\n"
     ]
    },
    {
     "name": "stderr",
     "output_type": "stream",
     "text": [
      " 10%|█         | 3840/36754 [17:48<3:18:41,  2.76it/s]"
     ]
    },
    {
     "name": "stdout",
     "output_type": "stream",
     "text": [
      "Image 5d4bee38cf0b3a0f3f350fe8 not ok\n"
     ]
    },
    {
     "name": "stderr",
     "output_type": "stream",
     "text": [
      " 10%|█         | 3845/36754 [17:50<3:25:44,  2.67it/s]"
     ]
    },
    {
     "name": "stdout",
     "output_type": "stream",
     "text": [
      "Image 5d4bee38cf0b3a0f3f350ff8 not ok\n",
      "Image 5d4bee39cf0b3a0f3f350ffa not ok\n"
     ]
    },
    {
     "name": "stderr",
     "output_type": "stream",
     "text": [
      " 10%|█         | 3854/36754 [17:53<3:32:56,  2.58it/s]"
     ]
    },
    {
     "name": "stdout",
     "output_type": "stream",
     "text": [
      "Image 5d4bee3acf0b3a0f3f35101e not ok\n"
     ]
    },
    {
     "name": "stderr",
     "output_type": "stream",
     "text": [
      " 11%|█         | 3863/36754 [17:56<3:51:23,  2.37it/s]"
     ]
    },
    {
     "name": "stdout",
     "output_type": "stream",
     "text": [
      "Image 5d4bee3ccf0b3a0f3f35105e not ok\n"
     ]
    },
    {
     "name": "stderr",
     "output_type": "stream",
     "text": [
      " 11%|█         | 3872/36754 [18:00<4:08:17,  2.21it/s]"
     ]
    },
    {
     "name": "stdout",
     "output_type": "stream",
     "text": [
      "Image 5d4bee40cf0b3a0f3f3510c8 not ok\n"
     ]
    },
    {
     "name": "stderr",
     "output_type": "stream",
     "text": [
      " 11%|█         | 3936/36754 [18:26<1:12:40,  7.53it/s]"
     ]
    },
    {
     "name": "stdout",
     "output_type": "stream",
     "text": [
      "Image 5fd0456df2d9500e435932e8 not ok\n"
     ]
    },
    {
     "name": "stderr",
     "output_type": "stream",
     "text": [
      " 11%|█         | 4091/36754 [19:17<3:32:43,  2.56it/s]"
     ]
    },
    {
     "name": "stdout",
     "output_type": "stream",
     "text": [
      "Image 5d4be794cf0b3a0f3f345b46 not ok\n",
      "Image 5d4be794cf0b3a0f3f345b48 not ok\n"
     ]
    },
    {
     "name": "stderr",
     "output_type": "stream",
     "text": [
      " 11%|█         | 4099/36754 [19:20<3:25:07,  2.65it/s]"
     ]
    },
    {
     "name": "stdout",
     "output_type": "stream",
     "text": [
      "Image 5d4be795cf0b3a0f3f345b56 not ok\n",
      "Image 5d4be795cf0b3a0f3f345b58 not ok\n"
     ]
    },
    {
     "name": "stderr",
     "output_type": "stream",
     "text": [
      " 11%|█         | 4105/36754 [19:21<2:41:11,  3.38it/s]"
     ]
    },
    {
     "name": "stdout",
     "output_type": "stream",
     "text": [
      "Image 5d4be795cf0b3a0f3f345b66 not ok\n",
      "Image 5d4be795cf0b3a0f3f345b68 not ok\n",
      "Image 5d4be795cf0b3a0f3f345b6a not ok\n"
     ]
    },
    {
     "name": "stderr",
     "output_type": "stream",
     "text": [
      " 11%|█         | 4112/36754 [19:22<2:18:26,  3.93it/s]"
     ]
    },
    {
     "name": "stdout",
     "output_type": "stream",
     "text": [
      "Image 5d4be796cf0b3a0f3f345b78 not ok\n"
     ]
    },
    {
     "name": "stderr",
     "output_type": "stream",
     "text": [
      " 11%|█         | 4116/36754 [19:23<2:23:43,  3.78it/s]"
     ]
    },
    {
     "name": "stdout",
     "output_type": "stream",
     "text": [
      "Image 5d4be796cf0b3a0f3f345b82 not ok\n"
     ]
    },
    {
     "name": "stderr",
     "output_type": "stream",
     "text": [
      " 11%|█         | 4120/36754 [19:24<2:29:29,  3.64it/s]"
     ]
    },
    {
     "name": "stdout",
     "output_type": "stream",
     "text": [
      "Image 5d4be797cf0b3a0f3f345b8c not ok\n"
     ]
    },
    {
     "name": "stderr",
     "output_type": "stream",
     "text": [
      " 11%|█         | 4125/36754 [19:26<2:45:27,  3.29it/s]"
     ]
    },
    {
     "name": "stdout",
     "output_type": "stream",
     "text": [
      "Image 5d4be797cf0b3a0f3f345b96 not ok\n"
     ]
    },
    {
     "name": "stderr",
     "output_type": "stream",
     "text": [
      " 11%|█▏        | 4144/36754 [19:32<3:10:32,  2.85it/s]"
     ]
    },
    {
     "name": "stdout",
     "output_type": "stream",
     "text": [
      "Image 5d4be799cf0b3a0f3f345bcc not ok\n",
      "Image 5d4be799cf0b3a0f3f345bd0 not ok\n",
      "Image 5d4be799cf0b3a0f3f345bd2 not ok\n"
     ]
    },
    {
     "name": "stderr",
     "output_type": "stream",
     "text": [
      "\r",
      " 11%|█▏        | 4148/36754 [19:33<1:50:37,  4.91it/s]"
     ]
    },
    {
     "name": "stdout",
     "output_type": "stream",
     "text": [
      "Image 5d4be799cf0b3a0f3f345bd6 not ok\n"
     ]
    },
    {
     "name": "stderr",
     "output_type": "stream",
     "text": [
      " 11%|█▏        | 4159/36754 [19:35<1:18:34,  6.91it/s]"
     ]
    },
    {
     "name": "stdout",
     "output_type": "stream",
     "text": [
      "Image 5d4be79acf0b3a0f3f345be4 not ok\n"
     ]
    },
    {
     "name": "stderr",
     "output_type": "stream",
     "text": [
      " 12%|█▏        | 4267/36754 [20:07<3:08:18,  2.88it/s]"
     ]
    },
    {
     "name": "stdout",
     "output_type": "stream",
     "text": [
      "Image 5d4bf0cecf0b3a0f3f35588c not ok\n"
     ]
    },
    {
     "name": "stderr",
     "output_type": "stream",
     "text": [
      " 12%|█▏        | 4279/36754 [20:10<3:06:25,  2.90it/s]"
     ]
    },
    {
     "name": "stdout",
     "output_type": "stream",
     "text": [
      "Image 5d4bf0d5cf0b3a0f3f355902 not ok\n",
      "Image 5d4bf0d5cf0b3a0f3f355908 not ok\n",
      "Image 5d4bf0d5cf0b3a0f3f355914 not ok\n"
     ]
    },
    {
     "name": "stderr",
     "output_type": "stream",
     "text": [
      " 12%|█▏        | 4286/36754 [20:12<2:32:16,  3.55it/s]"
     ]
    },
    {
     "name": "stdout",
     "output_type": "stream",
     "text": [
      "Image 5d4bf0d7cf0b3a0f3f35594c not ok\n",
      "Image 5d4bf0d7cf0b3a0f3f355954 not ok\n"
     ]
    },
    {
     "name": "stderr",
     "output_type": "stream",
     "text": [
      " 12%|█▏        | 4293/36754 [20:14<2:35:36,  3.48it/s]"
     ]
    },
    {
     "name": "stdout",
     "output_type": "stream",
     "text": [
      "Image 5d4bf0d9cf0b3a0f3f35598e not ok\n",
      "Image 5d4bf0dacf0b3a0f3f355994 not ok\n"
     ]
    },
    {
     "name": "stderr",
     "output_type": "stream",
     "text": [
      " 12%|█▏        | 4303/36754 [20:16<2:49:37,  3.19it/s]"
     ]
    },
    {
     "name": "stdout",
     "output_type": "stream",
     "text": [
      "Image 5d4bf0ddcf0b3a0f3f3559f4 not ok\n"
     ]
    },
    {
     "name": "stderr",
     "output_type": "stream",
     "text": [
      " 12%|█▏        | 4312/36754 [20:18<1:14:11,  7.29it/s]"
     ]
    },
    {
     "name": "stdout",
     "output_type": "stream",
     "text": [
      "Image 5d4bf0dfcf0b3a0f3f355a32 not ok\n"
     ]
    },
    {
     "name": "stderr",
     "output_type": "stream",
     "text": [
      " 12%|█▏        | 4334/36754 [20:19<25:04, 21.54it/s]  "
     ]
    },
    {
     "name": "stdout",
     "output_type": "stream",
     "text": [
      "Image 5d4be045cf0b3a0f3f338ec0 not ok\n",
      "Image 5d4be045cf0b3a0f3f338ec2 not ok\n"
     ]
    },
    {
     "name": "stderr",
     "output_type": "stream",
     "text": [
      " 12%|█▏        | 4342/36754 [20:19<33:14, 16.25it/s]"
     ]
    },
    {
     "name": "stdout",
     "output_type": "stream",
     "text": [
      "Image 5d4be045cf0b3a0f3f338ed6 not ok\n"
     ]
    },
    {
     "name": "stderr",
     "output_type": "stream",
     "text": [
      " 12%|█▏        | 4492/36754 [21:21<36:54, 14.57it/s]  "
     ]
    },
    {
     "name": "stdout",
     "output_type": "stream",
     "text": [
      "Image 5fd03c04f2d9500e4358f810 not ok\n",
      "Image 5fd03c07f2d9500e4358f818 not ok\n",
      "Image 5fd03c08f2d9500e4358f81e not ok\n",
      "Image 5fd03c0ef2d9500e4358f830 not ok\n"
     ]
    },
    {
     "name": "stderr",
     "output_type": "stream",
     "text": [
      "\r",
      " 12%|█▏        | 4497/36754 [21:21<28:24, 18.93it/s]"
     ]
    },
    {
     "name": "stdout",
     "output_type": "stream",
     "text": [
      "Image 5fd03c12f2d9500e4358f836 not ok\n"
     ]
    },
    {
     "name": "stderr",
     "output_type": "stream",
     "text": [
      " 12%|█▏        | 4506/36754 [21:21<25:18, 21.23it/s]"
     ]
    },
    {
     "name": "stdout",
     "output_type": "stream",
     "text": [
      "Image 5fd03c1ff2d9500e4358f850 not ok\n"
     ]
    },
    {
     "name": "stderr",
     "output_type": "stream",
     "text": [
      " 12%|█▏        | 4522/36754 [21:22<21:02, 25.52it/s]"
     ]
    },
    {
     "name": "stdout",
     "output_type": "stream",
     "text": [
      "Image 5fd03c2ef2d9500e4358f889 not ok\n"
     ]
    },
    {
     "name": "stderr",
     "output_type": "stream",
     "text": [
      " 13%|█▎        | 4840/36754 [22:37<25:35, 20.79it/s]  "
     ]
    },
    {
     "name": "stdout",
     "output_type": "stream",
     "text": [
      "Image 5d4be7a0cf0b3a0f3f345ca0 not ok\n",
      "Image 5d4be7a0cf0b3a0f3f345ca2 not ok\n"
     ]
    },
    {
     "name": "stderr",
     "output_type": "stream",
     "text": [
      " 13%|█▎        | 4848/36754 [22:39<2:00:43,  4.40it/s]"
     ]
    },
    {
     "name": "stdout",
     "output_type": "stream",
     "text": [
      "Image 5d4be7a1cf0b3a0f3f345cb2 not ok\n"
     ]
    },
    {
     "name": "stderr",
     "output_type": "stream",
     "text": [
      " 13%|█▎        | 4858/36754 [22:42<2:54:25,  3.05it/s]"
     ]
    },
    {
     "name": "stdout",
     "output_type": "stream",
     "text": [
      "Image 5d4be7a2cf0b3a0f3f345cda not ok\n"
     ]
    },
    {
     "name": "stderr",
     "output_type": "stream",
     "text": [
      " 13%|█▎        | 4865/36754 [22:44<2:55:29,  3.03it/s]"
     ]
    },
    {
     "name": "stdout",
     "output_type": "stream",
     "text": [
      "Image 5d4be7a3cf0b3a0f3f345cea not ok\n"
     ]
    },
    {
     "name": "stderr",
     "output_type": "stream",
     "text": [
      "\r",
      " 13%|█▎        | 4867/36754 [22:45<2:17:59,  3.85it/s]"
     ]
    },
    {
     "name": "stdout",
     "output_type": "stream",
     "text": [
      "Image 5d4be7a3cf0b3a0f3f345cf2 not ok\n"
     ]
    },
    {
     "name": "stderr",
     "output_type": "stream",
     "text": [
      "\r",
      " 13%|█▎        | 4869/36754 [22:45<2:00:20,  4.42it/s]"
     ]
    },
    {
     "name": "stdout",
     "output_type": "stream",
     "text": [
      "Image 5d4be7a3cf0b3a0f3f345cf6 not ok\n",
      "Image 5d4be7a3cf0b3a0f3f345cf8 not ok\n"
     ]
    },
    {
     "name": "stderr",
     "output_type": "stream",
     "text": [
      " 13%|█▎        | 4873/36754 [22:46<1:49:29,  4.85it/s]"
     ]
    },
    {
     "name": "stdout",
     "output_type": "stream",
     "text": [
      "Image 5d4be7a4cf0b3a0f3f345cfe not ok\n",
      "Image 5d4be7a4cf0b3a0f3f345d00 not ok\n",
      "Image 5d4be7a4cf0b3a0f3f345d02 not ok\n"
     ]
    },
    {
     "name": "stderr",
     "output_type": "stream",
     "text": [
      " 13%|█▎        | 4883/36754 [22:48<2:41:09,  3.30it/s]"
     ]
    },
    {
     "name": "stdout",
     "output_type": "stream",
     "text": [
      "Image 5d4be7a4cf0b3a0f3f345d18 not ok\n"
     ]
    },
    {
     "name": "stderr",
     "output_type": "stream",
     "text": [
      " 13%|█▎        | 4889/36754 [22:50<2:47:00,  3.18it/s]"
     ]
    },
    {
     "name": "stdout",
     "output_type": "stream",
     "text": [
      "Image 5d4be7a5cf0b3a0f3f345d32 not ok\n"
     ]
    },
    {
     "name": "stderr",
     "output_type": "stream",
     "text": [
      " 13%|█▎        | 4895/36754 [22:52<3:11:54,  2.77it/s]"
     ]
    },
    {
     "name": "stdout",
     "output_type": "stream",
     "text": [
      "Image 5d4be7a6cf0b3a0f3f345d4c not ok\n"
     ]
    },
    {
     "name": "stderr",
     "output_type": "stream",
     "text": [
      " 13%|█▎        | 4902/36754 [22:54<2:54:51,  3.04it/s]"
     ]
    },
    {
     "name": "stdout",
     "output_type": "stream",
     "text": [
      "Image 5d4be7a7cf0b3a0f3f345d5c not ok\n",
      "Image 5d4be7a7cf0b3a0f3f345d5e not ok\n",
      "Image 5d4be7a7cf0b3a0f3f345d60 not ok\n"
     ]
    },
    {
     "name": "stderr",
     "output_type": "stream",
     "text": [
      " 13%|█▎        | 4908/36754 [22:55<2:16:05,  3.90it/s]"
     ]
    },
    {
     "name": "stdout",
     "output_type": "stream",
     "text": [
      "Image 5d4be7a7cf0b3a0f3f345d6a not ok\n"
     ]
    },
    {
     "name": "stderr",
     "output_type": "stream",
     "text": [
      " 14%|█▎        | 5034/36754 [23:16<26:52, 19.67it/s]  "
     ]
    },
    {
     "name": "stdout",
     "output_type": "stream",
     "text": [
      "Image 60a74e8955824d3150f2fd7b not ok\n"
     ]
    },
    {
     "name": "stderr",
     "output_type": "stream",
     "text": [
      " 14%|█▍        | 5088/36754 [23:25<1:05:39,  8.04it/s]"
     ]
    },
    {
     "name": "stdout",
     "output_type": "stream",
     "text": [
      "Image 5fd03c4bf2d9500e4358f8e4 not ok\n"
     ]
    },
    {
     "name": "stderr",
     "output_type": "stream",
     "text": [
      " 15%|█▍        | 5365/36754 [24:41<19:43, 26.52it/s]  "
     ]
    },
    {
     "name": "stdout",
     "output_type": "stream",
     "text": [
      "Image 5fd0280a1f89a90d2a7694f0 not ok\n",
      "Image 5fd0280d1f89a90d2a769502 not ok\n",
      "Image 5fd0280e1f89a90d2a769504 not ok\n",
      "Image 5fd0280f1f89a90d2a769506 not ok\n",
      "Image 5fd028101f89a90d2a769508 not ok\n",
      "Image 5fd028121f89a90d2a76950a not ok\n",
      "Image 5fd028141f89a90d2a76951b not ok\n"
     ]
    },
    {
     "name": "stderr",
     "output_type": "stream",
     "text": [
      " 15%|█▍        | 5443/36754 [24:59<2:06:44,  4.12it/s]"
     ]
    },
    {
     "name": "stdout",
     "output_type": "stream",
     "text": [
      "Image 5d4be79acf0b3a0f3f345bec not ok\n"
     ]
    },
    {
     "name": "stderr",
     "output_type": "stream",
     "text": [
      " 15%|█▍        | 5447/36754 [25:00<2:27:26,  3.54it/s]"
     ]
    },
    {
     "name": "stdout",
     "output_type": "stream",
     "text": [
      "Image 5d4be79acf0b3a0f3f345bf8 not ok\n"
     ]
    },
    {
     "name": "stderr",
     "output_type": "stream",
     "text": [
      " 15%|█▍        | 5454/36754 [25:02<2:51:00,  3.05it/s]"
     ]
    },
    {
     "name": "stdout",
     "output_type": "stream",
     "text": [
      "Image 5d4be79bcf0b3a0f3f345c0e not ok\n"
     ]
    },
    {
     "name": "stderr",
     "output_type": "stream",
     "text": [
      " 15%|█▍        | 5458/36754 [25:03<2:32:58,  3.41it/s]"
     ]
    },
    {
     "name": "stdout",
     "output_type": "stream",
     "text": [
      "Image 5d4be79bcf0b3a0f3f345c18 not ok\n",
      "Image 5d4be79bcf0b3a0f3f345c1a not ok\n",
      "Image 5d4be79ccf0b3a0f3f345c1c not ok\n"
     ]
    },
    {
     "name": "stderr",
     "output_type": "stream",
     "text": [
      " 15%|█▍        | 5465/36754 [25:04<2:16:07,  3.83it/s]"
     ]
    },
    {
     "name": "stdout",
     "output_type": "stream",
     "text": [
      "Image 5d4be79ccf0b3a0f3f345c2e not ok\n",
      "Image 5d4be79ccf0b3a0f3f345c30 not ok\n"
     ]
    },
    {
     "name": "stderr",
     "output_type": "stream",
     "text": [
      "\r",
      " 15%|█▍        | 5468/36754 [25:05<1:44:20,  5.00it/s]"
     ]
    },
    {
     "name": "stdout",
     "output_type": "stream",
     "text": [
      "Image 5d4be79ccf0b3a0f3f345c34 not ok\n"
     ]
    },
    {
     "name": "stderr",
     "output_type": "stream",
     "text": [
      " 15%|█▍        | 5472/36754 [25:06<2:14:11,  3.89it/s]"
     ]
    },
    {
     "name": "stdout",
     "output_type": "stream",
     "text": [
      "Image 5d4be79dcf0b3a0f3f345c3e not ok\n"
     ]
    },
    {
     "name": "stderr",
     "output_type": "stream",
     "text": [
      " 15%|█▍        | 5493/36754 [25:13<3:03:14,  2.84it/s]"
     ]
    },
    {
     "name": "stdout",
     "output_type": "stream",
     "text": [
      "Image 5d4be79fcf0b3a0f3f345c80 not ok\n",
      "Image 5d4be79fcf0b3a0f3f345c82 not ok\n",
      "Image 5d4be79fcf0b3a0f3f345c84 not ok\n"
     ]
    },
    {
     "name": "stderr",
     "output_type": "stream",
     "text": [
      " 17%|█▋        | 6083/36754 [28:37<2:49:11,  3.02it/s]"
     ]
    },
    {
     "name": "stdout",
     "output_type": "stream",
     "text": [
      "Image 5d4bed7dcf0b3a0f3f34fb6a not ok\n",
      "Image 5d4bed7ecf0b3a0f3f34fb74 not ok\n",
      "Image 5d4bed7ecf0b3a0f3f34fb7c not ok\n"
     ]
    },
    {
     "name": "stderr",
     "output_type": "stream",
     "text": [
      " 17%|█▋        | 6089/36754 [28:38<1:58:03,  4.33it/s]"
     ]
    },
    {
     "name": "stdout",
     "output_type": "stream",
     "text": [
      "Image 5d4bed7fcf0b3a0f3f34fba8 not ok\n"
     ]
    },
    {
     "name": "stderr",
     "output_type": "stream",
     "text": [
      " 17%|█▋        | 6094/36754 [28:40<2:18:48,  3.68it/s]"
     ]
    },
    {
     "name": "stdout",
     "output_type": "stream",
     "text": [
      "Image 5d4bed81cf0b3a0f3f34fbd8 not ok\n"
     ]
    },
    {
     "name": "stderr",
     "output_type": "stream",
     "text": [
      " 17%|█▋        | 6111/36754 [28:45<2:50:36,  2.99it/s]"
     ]
    },
    {
     "name": "stdout",
     "output_type": "stream",
     "text": [
      "Image 5d4bed88cf0b3a0f3f34fcb2 not ok\n",
      "Image 5d4bed89cf0b3a0f3f34fcba not ok\n"
     ]
    },
    {
     "name": "stderr",
     "output_type": "stream",
     "text": [
      " 17%|█▋        | 6117/36754 [28:46<2:15:06,  3.78it/s]"
     ]
    },
    {
     "name": "stdout",
     "output_type": "stream",
     "text": [
      "Image 5d4bed8acf0b3a0f3f34fcec not ok\n"
     ]
    },
    {
     "name": "stderr",
     "output_type": "stream",
     "text": [
      " 17%|█▋        | 6125/36754 [28:49<2:41:00,  3.17it/s]"
     ]
    },
    {
     "name": "stdout",
     "output_type": "stream",
     "text": [
      "Image 5d4bed8dcf0b3a0f3f34fd40 not ok\n",
      "Image 5d4bed8ecf0b3a0f3f34fd48 not ok\n",
      "Image 5d4bed8ecf0b3a0f3f34fd52 not ok\n"
     ]
    },
    {
     "name": "stderr",
     "output_type": "stream",
     "text": [
      "\r",
      " 17%|█▋        | 6129/36754 [28:49<1:26:45,  5.88it/s]"
     ]
    },
    {
     "name": "stdout",
     "output_type": "stream",
     "text": [
      "Image 5d4bed8ecf0b3a0f3f34fd62 not ok\n"
     ]
    },
    {
     "name": "stderr",
     "output_type": "stream",
     "text": [
      " 17%|█▋        | 6133/36754 [28:50<1:58:48,  4.30it/s]"
     ]
    },
    {
     "name": "stdout",
     "output_type": "stream",
     "text": [
      "Image 5d4bed90cf0b3a0f3f34fd86 not ok\n",
      "Image 5d4bed90cf0b3a0f3f34fd94 not ok\n"
     ]
    },
    {
     "name": "stderr",
     "output_type": "stream",
     "text": [
      " 17%|█▋        | 6146/36754 [28:54<2:50:01,  3.00it/s]"
     ]
    },
    {
     "name": "stdout",
     "output_type": "stream",
     "text": [
      "Image 5d4bedfacf0b3a0f3f3509cc not ok\n",
      "Image 5d4bedfbcf0b3a0f3f3509e4 not ok\n"
     ]
    },
    {
     "name": "stderr",
     "output_type": "stream",
     "text": [
      " 17%|█▋        | 6157/36754 [28:57<2:45:29,  3.08it/s]"
     ]
    },
    {
     "name": "stdout",
     "output_type": "stream",
     "text": [
      "Image 5d4bee02cf0b3a0f3f350abc not ok\n",
      "Image 5d4bee02cf0b3a0f3f350ac4 not ok\n",
      "Image 5d4bee02cf0b3a0f3f350ac8 not ok\n"
     ]
    },
    {
     "name": "stderr",
     "output_type": "stream",
     "text": [
      " 17%|█▋        | 6171/36754 [29:00<2:44:48,  3.09it/s]"
     ]
    },
    {
     "name": "stdout",
     "output_type": "stream",
     "text": [
      "Image 5d4bee08cf0b3a0f3f350b68 not ok\n"
     ]
    },
    {
     "name": "stderr",
     "output_type": "stream",
     "text": [
      " 17%|█▋        | 6179/36754 [29:03<2:54:38,  2.92it/s]"
     ]
    },
    {
     "name": "stdout",
     "output_type": "stream",
     "text": [
      "Image 5d4bee0bcf0b3a0f3f350bbc not ok\n"
     ]
    },
    {
     "name": "stderr",
     "output_type": "stream",
     "text": [
      " 17%|█▋        | 6184/36754 [29:04<2:31:02,  3.37it/s]"
     ]
    },
    {
     "name": "stdout",
     "output_type": "stream",
     "text": [
      "Image 5d4bee0ccf0b3a0f3f350bec not ok\n"
     ]
    },
    {
     "name": "stderr",
     "output_type": "stream",
     "text": [
      "\r",
      " 17%|█▋        | 6186/36754 [29:04<2:02:54,  4.14it/s]"
     ]
    },
    {
     "name": "stdout",
     "output_type": "stream",
     "text": [
      "Image 5d4bee0dcf0b3a0f3f350c06 not ok\n",
      "Image 5d4bee0dcf0b3a0f3f350c0e not ok\n"
     ]
    },
    {
     "name": "stderr",
     "output_type": "stream",
     "text": [
      " 17%|█▋        | 6194/36754 [29:06<2:21:06,  3.61it/s]"
     ]
    },
    {
     "name": "stdout",
     "output_type": "stream",
     "text": [
      "Image 5d4bee10cf0b3a0f3f350c5e not ok\n",
      "Image 5d4bee10cf0b3a0f3f350c6a not ok\n"
     ]
    },
    {
     "name": "stderr",
     "output_type": "stream",
     "text": [
      " 17%|█▋        | 6206/36754 [29:10<2:43:26,  3.12it/s]"
     ]
    },
    {
     "name": "stdout",
     "output_type": "stream",
     "text": [
      "Image 5d4bee14cf0b3a0f3f350cc4 not ok\n"
     ]
    },
    {
     "name": "stderr",
     "output_type": "stream",
     "text": [
      " 18%|█▊        | 6496/36754 [30:20<26:07, 19.31it/s]  "
     ]
    },
    {
     "name": "stdout",
     "output_type": "stream",
     "text": [
      "Image 5d4bf472cf0b3a0f3f35baa0 not ok\n",
      "Image 5d4bf473cf0b3a0f3f35bab0 not ok\n"
     ]
    },
    {
     "name": "stderr",
     "output_type": "stream",
     "text": [
      " 18%|█▊        | 6511/36754 [30:21<39:16, 12.83it/s]"
     ]
    },
    {
     "name": "stdout",
     "output_type": "stream",
     "text": [
      "Image 5d4bf476cf0b3a0f3f35bb1c not ok\n",
      "Image 5d4bf47bcf0b3a0f3f35bb44 not ok\n",
      "Image 5d4bf47ccf0b3a0f3f35bb4e not ok\n",
      "Image 5d4bf47ccf0b3a0f3f35bb56 not ok\n"
     ]
    },
    {
     "name": "stderr",
     "output_type": "stream",
     "text": [
      " 18%|█▊        | 6515/36754 [30:22<44:15, 11.39it/s]"
     ]
    },
    {
     "name": "stdout",
     "output_type": "stream",
     "text": [
      "Image 5d4bf47dcf0b3a0f3f35bb86 not ok\n"
     ]
    },
    {
     "name": "stderr",
     "output_type": "stream",
     "text": [
      " 18%|█▊        | 6537/36754 [30:25<43:01, 11.70it/s]  "
     ]
    },
    {
     "name": "stdout",
     "output_type": "stream",
     "text": [
      "Image 5d4bf489cf0b3a0f3f35bcb0 not ok\n",
      "Image 5d4bf489cf0b3a0f3f35bcba not ok\n"
     ]
    },
    {
     "name": "stderr",
     "output_type": "stream",
     "text": [
      " 18%|█▊        | 6543/36754 [30:25<52:11,  9.65it/s]"
     ]
    },
    {
     "name": "stdout",
     "output_type": "stream",
     "text": [
      "Image 5d4bf48ccf0b3a0f3f35bcfc not ok\n",
      "Image 5d4bf48ccf0b3a0f3f35bd10 not ok\n"
     ]
    },
    {
     "name": "stderr",
     "output_type": "stream",
     "text": [
      " 18%|█▊        | 6553/36754 [30:26<45:51, 10.98it/s]  "
     ]
    },
    {
     "name": "stdout",
     "output_type": "stream",
     "text": [
      "Image 5d4bf490cf0b3a0f3f35bd62 not ok\n",
      "Image 5d4bf490cf0b3a0f3f35bd6c not ok\n"
     ]
    },
    {
     "name": "stderr",
     "output_type": "stream",
     "text": [
      " 18%|█▊        | 6557/36754 [30:27<49:03, 10.26it/s]"
     ]
    },
    {
     "name": "stdout",
     "output_type": "stream",
     "text": [
      "Image 5d4bf492cf0b3a0f3f35bd9c not ok\n"
     ]
    },
    {
     "name": "stderr",
     "output_type": "stream",
     "text": [
      " 18%|█▊        | 6564/36754 [30:28<54:10,  9.29it/s]  "
     ]
    },
    {
     "name": "stdout",
     "output_type": "stream",
     "text": [
      "Image 5d4bf495cf0b3a0f3f35bdf4 not ok\n"
     ]
    },
    {
     "name": "stderr",
     "output_type": "stream",
     "text": [
      " 18%|█▊        | 6568/36754 [30:28<40:43, 12.35it/s]"
     ]
    },
    {
     "name": "stdout",
     "output_type": "stream",
     "text": [
      "Image 5d4bf496cf0b3a0f3f35be14 not ok\n"
     ]
    },
    {
     "name": "stderr",
     "output_type": "stream",
     "text": [
      " 19%|█▊        | 6809/36754 [32:20<2:52:53,  2.89it/s]"
     ]
    },
    {
     "name": "stdout",
     "output_type": "stream",
     "text": [
      "Image 5d4be788cf0b3a0f3f3459e8 not ok\n"
     ]
    },
    {
     "name": "stderr",
     "output_type": "stream",
     "text": [
      "\r",
      " 19%|█▊        | 6811/36754 [32:20<2:11:49,  3.79it/s]"
     ]
    },
    {
     "name": "stdout",
     "output_type": "stream",
     "text": [
      "Image 5d4be788cf0b3a0f3f3459ec not ok\n"
     ]
    },
    {
     "name": "stderr",
     "output_type": "stream",
     "text": [
      " 19%|█▊        | 6814/36754 [32:21<2:05:14,  3.98it/s]"
     ]
    },
    {
     "name": "stdout",
     "output_type": "stream",
     "text": [
      "Image 5d4be789cf0b3a0f3f3459f2 not ok\n",
      "Image 5d4be789cf0b3a0f3f3459f4 not ok\n",
      "Image 5d4be789cf0b3a0f3f3459f6 not ok\n"
     ]
    },
    {
     "name": "stderr",
     "output_type": "stream",
     "text": [
      " 19%|█▊        | 6823/36754 [32:23<2:23:53,  3.47it/s]"
     ]
    },
    {
     "name": "stdout",
     "output_type": "stream",
     "text": [
      "Image 5d4be789cf0b3a0f3f345a06 not ok\n"
     ]
    },
    {
     "name": "stderr",
     "output_type": "stream",
     "text": [
      "\r",
      " 19%|█▊        | 6825/36754 [32:23<1:57:12,  4.26it/s]"
     ]
    },
    {
     "name": "stdout",
     "output_type": "stream",
     "text": [
      "Image 5d4be789cf0b3a0f3f345a0a not ok\n"
     ]
    },
    {
     "name": "stderr",
     "output_type": "stream",
     "text": [
      " 19%|█▊        | 6836/36754 [32:27<3:00:46,  2.76it/s]"
     ]
    },
    {
     "name": "stdout",
     "output_type": "stream",
     "text": [
      "Image 5d4be78acf0b3a0f3f345a22 not ok\n"
     ]
    },
    {
     "name": "stderr",
     "output_type": "stream",
     "text": [
      " 19%|█▊        | 6841/36754 [32:28<2:37:51,  3.16it/s]"
     ]
    },
    {
     "name": "stdout",
     "output_type": "stream",
     "text": [
      "Image 5d4be78bcf0b3a0f3f345a2e not ok\n",
      "Image 5d4be78bcf0b3a0f3f345a30 not ok\n"
     ]
    },
    {
     "name": "stderr",
     "output_type": "stream",
     "text": [
      " 19%|█▊        | 6851/36754 [32:31<2:54:30,  2.86it/s]"
     ]
    },
    {
     "name": "stdout",
     "output_type": "stream",
     "text": [
      "Image 5d4be78ccf0b3a0f3f345a48 not ok\n",
      "Image 5d4be78ccf0b3a0f3f345a4a not ok\n",
      "Image 5d4be78ccf0b3a0f3f345a4c not ok\n",
      "Image 5d4be78ccf0b3a0f3f345a4e not ok\n",
      "Image 5d4be78ccf0b3a0f3f345a50 not ok\n"
     ]
    },
    {
     "name": "stderr",
     "output_type": "stream",
     "text": [
      " 19%|█▊        | 6859/36754 [32:32<1:46:40,  4.67it/s]"
     ]
    },
    {
     "name": "stdout",
     "output_type": "stream",
     "text": [
      "Image 5d4be78ccf0b3a0f3f345a58 not ok\n"
     ]
    },
    {
     "name": "stderr",
     "output_type": "stream",
     "text": [
      " 19%|█▊        | 6862/36754 [32:33<1:53:52,  4.38it/s]"
     ]
    },
    {
     "name": "stdout",
     "output_type": "stream",
     "text": [
      "Image 5d4be78ccf0b3a0f3f345a62 not ok\n",
      "Image 5d4be78dcf0b3a0f3f345a64 not ok\n",
      "Image 5d4be78dcf0b3a0f3f345a66 not ok\n"
     ]
    },
    {
     "name": "stderr",
     "output_type": "stream",
     "text": [
      " 19%|█▊        | 6868/36754 [32:34<1:48:59,  4.57it/s]"
     ]
    },
    {
     "name": "stdout",
     "output_type": "stream",
     "text": [
      "Image 5d4be78dcf0b3a0f3f345a72 not ok\n"
     ]
    },
    {
     "name": "stderr",
     "output_type": "stream",
     "text": [
      "\r",
      " 19%|█▊        | 6870/36754 [32:34<1:40:04,  4.98it/s]"
     ]
    },
    {
     "name": "stdout",
     "output_type": "stream",
     "text": [
      "Image 5d4be78dcf0b3a0f3f345a76 not ok\n"
     ]
    },
    {
     "name": "stderr",
     "output_type": "stream",
     "text": [
      " 19%|█▊        | 6873/36754 [32:35<1:50:09,  4.52it/s]"
     ]
    },
    {
     "name": "stdout",
     "output_type": "stream",
     "text": [
      "Image 5d4be78dcf0b3a0f3f345a7c not ok\n"
     ]
    },
    {
     "name": "stderr",
     "output_type": "stream",
     "text": [
      " 19%|█▉        | 6962/36754 [33:11<42:00, 11.82it/s]  "
     ]
    },
    {
     "name": "stdout",
     "output_type": "stream",
     "text": [
      "Image 5fd0394bf2d9500e4358e45f not ok\n",
      "Image 5fd0394ff2d9500e4358e479 not ok\n",
      "Image 5fd03951f2d9500e4358e496 not ok\n"
     ]
    },
    {
     "name": "stderr",
     "output_type": "stream",
     "text": [
      " 19%|█▉        | 6974/36754 [33:12<21:38, 22.93it/s]"
     ]
    },
    {
     "name": "stdout",
     "output_type": "stream",
     "text": [
      "Image 5fd03959f2d9500e4358e4d6 not ok\n",
      "Image 5fd0395df2d9500e4358e4eb not ok\n"
     ]
    },
    {
     "name": "stderr",
     "output_type": "stream",
     "text": [
      " 21%|██▏       | 7868/36754 [37:29<42:45, 11.26it/s]  "
     ]
    },
    {
     "name": "stdout",
     "output_type": "stream",
     "text": [
      "Image 5d4bf419cf0b3a0f3f35b0f6 not ok\n"
     ]
    },
    {
     "name": "stderr",
     "output_type": "stream",
     "text": [
      " 21%|██▏       | 7882/36754 [37:31<34:32, 13.93it/s]  "
     ]
    },
    {
     "name": "stdout",
     "output_type": "stream",
     "text": [
      "Image 5d4bf421cf0b3a0f3f35b170 not ok\n",
      "Image 5d4bf424cf0b3a0f3f35b1cc not ok\n",
      "Image 5d4bf424cf0b3a0f3f35b1d4 not ok\n",
      "Image 5d4bf424cf0b3a0f3f35b1da not ok\n",
      "Image 5d4bf425cf0b3a0f3f35b1fe not ok\n"
     ]
    },
    {
     "name": "stderr",
     "output_type": "stream",
     "text": [
      " 21%|██▏       | 7886/36754 [37:31<39:23, 12.22it/s]"
     ]
    },
    {
     "name": "stdout",
     "output_type": "stream",
     "text": [
      "Image 5d4bf426cf0b3a0f3f35b21e not ok\n"
     ]
    },
    {
     "name": "stderr",
     "output_type": "stream",
     "text": [
      " 21%|██▏       | 7895/36754 [37:32<51:30,  9.34it/s]"
     ]
    },
    {
     "name": "stdout",
     "output_type": "stream",
     "text": [
      "Image 5d4bf42acf0b3a0f3f35b292 not ok\n"
     ]
    },
    {
     "name": "stderr",
     "output_type": "stream",
     "text": [
      " 22%|██▏       | 7904/36754 [37:33<41:52, 11.48it/s]  "
     ]
    },
    {
     "name": "stdout",
     "output_type": "stream",
     "text": [
      "Image 5d4bf42dcf0b3a0f3f35b2dc not ok\n",
      "Image 5d4bf42dcf0b3a0f3f35b2e2 not ok\n"
     ]
    },
    {
     "name": "stderr",
     "output_type": "stream",
     "text": [
      " 22%|██▏       | 7910/36754 [37:34<47:58, 10.02it/s]"
     ]
    },
    {
     "name": "stdout",
     "output_type": "stream",
     "text": [
      "Image 5d4bf42fcf0b3a0f3f35b31a not ok\n",
      "Image 5d4bf42fcf0b3a0f3f35b32a not ok\n"
     ]
    },
    {
     "name": "stderr",
     "output_type": "stream",
     "text": [
      " 22%|██▏       | 7920/36754 [37:35<38:18, 12.54it/s]  "
     ]
    },
    {
     "name": "stdout",
     "output_type": "stream",
     "text": [
      "Image 5d4bf432cf0b3a0f3f35b36e not ok\n",
      "Image 5d4bf432cf0b3a0f3f35b374 not ok\n",
      "Image 5d4bf432cf0b3a0f3f35b37c not ok\n",
      "Image 5d4bf433cf0b3a0f3f35b38e not ok\n"
     ]
    },
    {
     "name": "stderr",
     "output_type": "stream",
     "text": [
      " 22%|██▏       | 7924/36754 [37:35<35:00, 13.73it/s]"
     ]
    },
    {
     "name": "stdout",
     "output_type": "stream",
     "text": [
      "Image 5d4bf433cf0b3a0f3f35b39e not ok\n"
     ]
    },
    {
     "name": "stderr",
     "output_type": "stream",
     "text": [
      " 22%|██▏       | 7935/36754 [37:36<33:49, 14.20it/s]"
     ]
    },
    {
     "name": "stdout",
     "output_type": "stream",
     "text": [
      "Image 5fd04710f2d9500e43593e1e not ok\n",
      "Image 5fd04713f2d9500e43593e31 not ok\n"
     ]
    },
    {
     "name": "stderr",
     "output_type": "stream",
     "text": [
      " 22%|██▏       | 7942/36754 [37:36<23:48, 20.17it/s]"
     ]
    },
    {
     "name": "stdout",
     "output_type": "stream",
     "text": [
      "Image 5fd0471ef2d9500e43593e5b not ok\n",
      "Image 5fd04723f2d9500e43593e7a not ok\n"
     ]
    },
    {
     "name": "stderr",
     "output_type": "stream",
     "text": [
      " 22%|██▏       | 7952/36754 [37:37<20:09, 23.82it/s]"
     ]
    },
    {
     "name": "stdout",
     "output_type": "stream",
     "text": [
      "Image 60a0c539cc199b5a7bf820d5 not ok\n"
     ]
    },
    {
     "name": "stderr",
     "output_type": "stream",
     "text": [
      " 22%|██▏       | 7963/36754 [37:40<2:13:24,  3.60it/s]"
     ]
    },
    {
     "name": "stdout",
     "output_type": "stream",
     "text": [
      "Image 5d4be782cf0b3a0f3f345928 not ok\n"
     ]
    },
    {
     "name": "stderr",
     "output_type": "stream",
     "text": [
      " 22%|██▏       | 7966/36754 [37:41<2:07:30,  3.76it/s]"
     ]
    },
    {
     "name": "stdout",
     "output_type": "stream",
     "text": [
      "Image 5d4be782cf0b3a0f3f34592e not ok\n",
      "Image 5d4be782cf0b3a0f3f345930 not ok\n"
     ]
    },
    {
     "name": "stderr",
     "output_type": "stream",
     "text": [
      " 22%|██▏       | 7973/36754 [37:43<2:18:26,  3.46it/s]"
     ]
    },
    {
     "name": "stdout",
     "output_type": "stream",
     "text": [
      "Image 5d4be783cf0b3a0f3f345942 not ok\n"
     ]
    },
    {
     "name": "stderr",
     "output_type": "stream",
     "text": [
      " 22%|██▏       | 7976/36754 [37:44<2:05:32,  3.82it/s]"
     ]
    },
    {
     "name": "stdout",
     "output_type": "stream",
     "text": [
      "Image 5d4be783cf0b3a0f3f345948 not ok\n"
     ]
    },
    {
     "name": "stderr",
     "output_type": "stream",
     "text": [
      " 22%|██▏       | 7994/36754 [37:50<3:14:50,  2.46it/s]"
     ]
    },
    {
     "name": "stdout",
     "output_type": "stream",
     "text": [
      "Image 5d4be784cf0b3a0f3f34596c not ok\n"
     ]
    },
    {
     "name": "stderr",
     "output_type": "stream",
     "text": [
      "\r",
      " 22%|██▏       | 7996/36754 [37:50<2:30:38,  3.18it/s]"
     ]
    },
    {
     "name": "stdout",
     "output_type": "stream",
     "text": [
      "Image 5d4be784cf0b3a0f3f345970 not ok\n",
      "Image 5d4be784cf0b3a0f3f345972 not ok\n",
      "Image 5d4be784cf0b3a0f3f345974 not ok\n"
     ]
    },
    {
     "name": "stderr",
     "output_type": "stream",
     "text": [
      " 22%|██▏       | 8006/36754 [37:53<2:27:29,  3.25it/s]"
     ]
    },
    {
     "name": "stdout",
     "output_type": "stream",
     "text": [
      "Image 5d4be785cf0b3a0f3f34598a not ok\n",
      "Image 5d4be785cf0b3a0f3f34598c not ok\n",
      "Image 5d4be785cf0b3a0f3f34598e not ok\n",
      "Image 5d4be785cf0b3a0f3f345990 not ok\n",
      "Image 5d4be785cf0b3a0f3f345992 not ok\n",
      "Image 5d4be785cf0b3a0f3f345994 not ok\n"
     ]
    },
    {
     "name": "stderr",
     "output_type": "stream",
     "text": [
      " 22%|██▏       | 8014/36754 [37:53<1:12:42,  6.59it/s]"
     ]
    },
    {
     "name": "stdout",
     "output_type": "stream",
     "text": [
      "Image 5d4be786cf0b3a0f3f34599a not ok\n"
     ]
    },
    {
     "name": "stderr",
     "output_type": "stream",
     "text": [
      " 22%|██▏       | 8017/36754 [37:54<1:32:35,  5.17it/s]"
     ]
    },
    {
     "name": "stdout",
     "output_type": "stream",
     "text": [
      "Image 5d4be786cf0b3a0f3f3459a2 not ok\n",
      "Image 5d4be786cf0b3a0f3f3459a6 not ok\n",
      "Image 5d4be786cf0b3a0f3f3459a8 not ok\n",
      "Image 5d4be786cf0b3a0f3f3459aa not ok\n"
     ]
    },
    {
     "name": "stderr",
     "output_type": "stream",
     "text": [
      " 22%|██▏       | 8026/36754 [37:56<1:57:41,  4.07it/s]"
     ]
    },
    {
     "name": "stdout",
     "output_type": "stream",
     "text": [
      "Image 5d4be787cf0b3a0f3f3459b6 not ok\n"
     ]
    },
    {
     "name": "stderr",
     "output_type": "stream",
     "text": [
      "\r",
      " 22%|██▏       | 8028/36754 [37:56<1:46:24,  4.50it/s]"
     ]
    },
    {
     "name": "stdout",
     "output_type": "stream",
     "text": [
      "Image 5d4be787cf0b3a0f3f3459ba not ok\n"
     ]
    },
    {
     "name": "stderr",
     "output_type": "stream",
     "text": [
      " 22%|██▏       | 8217/36754 [38:50<1:59:09,  3.99it/s]"
     ]
    },
    {
     "name": "stdout",
     "output_type": "stream",
     "text": [
      "Image 5d4bee6bcf0b3a0f3f3515b0 not ok\n"
     ]
    },
    {
     "name": "stderr",
     "output_type": "stream",
     "text": [
      " 22%|██▏       | 8225/36754 [38:52<1:44:24,  4.55it/s]"
     ]
    },
    {
     "name": "stdout",
     "output_type": "stream",
     "text": [
      "Image 5d4bee6ccf0b3a0f3f3515da not ok\n",
      "Image 5d4bee6ccf0b3a0f3f3515e0 not ok\n",
      "Image 5d4bee6ccf0b3a0f3f3515e2 not ok\n",
      "Image 5d4bee6dcf0b3a0f3f3515e4 not ok\n"
     ]
    },
    {
     "name": "stderr",
     "output_type": "stream",
     "text": [
      " 22%|██▏       | 8235/36754 [38:54<1:56:00,  4.10it/s]"
     ]
    },
    {
     "name": "stdout",
     "output_type": "stream",
     "text": [
      "Image 5d4bee6dcf0b3a0f3f3515fe not ok\n"
     ]
    },
    {
     "name": "stderr",
     "output_type": "stream",
     "text": [
      " 22%|██▏       | 8246/36754 [38:56<1:49:12,  4.35it/s]"
     ]
    },
    {
     "name": "stdout",
     "output_type": "stream",
     "text": [
      "Image 5d4bee6fcf0b3a0f3f351632 not ok\n"
     ]
    },
    {
     "name": "stderr",
     "output_type": "stream",
     "text": [
      " 22%|██▏       | 8253/36754 [38:57<1:40:01,  4.75it/s]"
     ]
    },
    {
     "name": "stdout",
     "output_type": "stream",
     "text": [
      "Image 5d4bee70cf0b3a0f3f351642 not ok\n"
     ]
    },
    {
     "name": "stderr",
     "output_type": "stream",
     "text": [
      " 22%|██▏       | 8266/36754 [39:00<1:50:40,  4.29it/s]"
     ]
    },
    {
     "name": "stdout",
     "output_type": "stream",
     "text": [
      "Image 5d4bee71cf0b3a0f3f351668 not ok\n",
      "Image 5d4bee71cf0b3a0f3f35166a not ok\n"
     ]
    },
    {
     "name": "stderr",
     "output_type": "stream",
     "text": [
      " 23%|██▎       | 8278/36754 [39:02<1:53:07,  4.20it/s]"
     ]
    },
    {
     "name": "stdout",
     "output_type": "stream",
     "text": [
      "Image 5d4bee72cf0b3a0f3f351682 not ok\n",
      "Image 5d4bee72cf0b3a0f3f351686 not ok\n",
      "Image 5d4bee72cf0b3a0f3f351688 not ok\n",
      "Image 5d4bee72cf0b3a0f3f35168c not ok\n"
     ]
    },
    {
     "name": "stderr",
     "output_type": "stream",
     "text": [
      "\r",
      " 23%|██▎       | 8283/36754 [39:03<52:49,  8.98it/s]  "
     ]
    },
    {
     "name": "stdout",
     "output_type": "stream",
     "text": [
      "Image 5d4bee72cf0b3a0f3f351690 not ok\n"
     ]
    },
    {
     "name": "stderr",
     "output_type": "stream",
     "text": [
      " 23%|██▎       | 8287/36754 [39:03<1:14:23,  6.38it/s]"
     ]
    },
    {
     "name": "stdout",
     "output_type": "stream",
     "text": [
      "Image 5d4bee73cf0b3a0f3f351698 not ok\n",
      "Image 5d4bee73cf0b3a0f3f3516a0 not ok\n"
     ]
    },
    {
     "name": "stderr",
     "output_type": "stream",
     "text": [
      " 23%|██▎       | 8293/36754 [39:04<1:25:44,  5.53it/s]"
     ]
    },
    {
     "name": "stdout",
     "output_type": "stream",
     "text": [
      "Image 5d4bee73cf0b3a0f3f3516ae not ok\n"
     ]
    },
    {
     "name": "stderr",
     "output_type": "stream",
     "text": [
      " 23%|██▎       | 8297/36754 [39:05<1:33:55,  5.05it/s]"
     ]
    },
    {
     "name": "stdout",
     "output_type": "stream",
     "text": [
      "Image 5d4bee74cf0b3a0f3f3516b8 not ok\n",
      "Image 5d4bee74cf0b3a0f3f3516ba not ok\n"
     ]
    },
    {
     "name": "stderr",
     "output_type": "stream",
     "text": [
      " 24%|██▎       | 8691/36754 [40:44<41:18, 11.32it/s]  "
     ]
    },
    {
     "name": "stdout",
     "output_type": "stream",
     "text": [
      "Image 5ffe0ee74abed361585633e8 not ok\n"
     ]
    },
    {
     "name": "stderr",
     "output_type": "stream",
     "text": [
      " 24%|██▎       | 8699/36754 [40:46<1:37:26,  4.80it/s]"
     ]
    },
    {
     "name": "stdout",
     "output_type": "stream",
     "text": [
      "Image 5d4be78ecf0b3a0f3f345a9c not ok\n"
     ]
    },
    {
     "name": "stderr",
     "output_type": "stream",
     "text": [
      " 24%|██▎       | 8708/36754 [40:49<2:40:30,  2.91it/s]"
     ]
    },
    {
     "name": "stdout",
     "output_type": "stream",
     "text": [
      "Image 5d4be78fcf0b3a0f3f345aae not ok\n"
     ]
    },
    {
     "name": "stderr",
     "output_type": "stream",
     "text": [
      "\r",
      " 24%|██▎       | 8710/36754 [40:49<2:08:41,  3.63it/s]"
     ]
    },
    {
     "name": "stdout",
     "output_type": "stream",
     "text": [
      "Image 5d4be78fcf0b3a0f3f345ab2 not ok\n",
      "Image 5d4be78fcf0b3a0f3f345ab4 not ok\n"
     ]
    },
    {
     "name": "stderr",
     "output_type": "stream",
     "text": [
      " 24%|██▎       | 8716/36754 [40:50<2:01:49,  3.84it/s]"
     ]
    },
    {
     "name": "stdout",
     "output_type": "stream",
     "text": [
      "Image 5d4be790cf0b3a0f3f345ac2 not ok\n"
     ]
    },
    {
     "name": "stderr",
     "output_type": "stream",
     "text": [
      " 24%|██▎       | 8723/36754 [40:52<2:27:31,  3.17it/s]"
     ]
    },
    {
     "name": "stdout",
     "output_type": "stream",
     "text": [
      "Image 5d4be791cf0b3a0f3f345ad8 not ok\n",
      "Image 5d4be791cf0b3a0f3f345ada not ok\n"
     ]
    },
    {
     "name": "stderr",
     "output_type": "stream",
     "text": [
      " 24%|██▎       | 8728/36754 [40:53<2:02:46,  3.80it/s]"
     ]
    },
    {
     "name": "stdout",
     "output_type": "stream",
     "text": [
      "Image 5d4be791cf0b3a0f3f345ae2 not ok\n",
      "Image 5d4be791cf0b3a0f3f345ae4 not ok\n",
      "Image 5d4be791cf0b3a0f3f345ae6 not ok\n"
     ]
    },
    {
     "name": "stderr",
     "output_type": "stream",
     "text": [
      " 24%|██▍       | 8735/36754 [40:55<1:56:40,  4.00it/s]"
     ]
    },
    {
     "name": "stdout",
     "output_type": "stream",
     "text": [
      "Image 5d4be791cf0b3a0f3f345af2 not ok\n"
     ]
    },
    {
     "name": "stderr",
     "output_type": "stream",
     "text": [
      " 24%|██▍       | 8742/36754 [40:57<2:29:25,  3.12it/s]"
     ]
    },
    {
     "name": "stdout",
     "output_type": "stream",
     "text": [
      "Image 5d4be792cf0b3a0f3f345b02 not ok\n",
      "Image 5d4be792cf0b3a0f3f345b04 not ok\n"
     ]
    },
    {
     "name": "stderr",
     "output_type": "stream",
     "text": [
      " 24%|██▍       | 8748/36754 [40:58<2:13:16,  3.50it/s]"
     ]
    },
    {
     "name": "stdout",
     "output_type": "stream",
     "text": [
      "Image 5d4be793cf0b3a0f3f345b14 not ok\n"
     ]
    },
    {
     "name": "stderr",
     "output_type": "stream",
     "text": [
      " 24%|██▍       | 8752/36754 [40:59<2:09:52,  3.59it/s]"
     ]
    },
    {
     "name": "stdout",
     "output_type": "stream",
     "text": [
      "Image 5d4be793cf0b3a0f3f345b22 not ok\n",
      "Image 5d4be793cf0b3a0f3f345b24 not ok\n"
     ]
    },
    {
     "name": "stderr",
     "output_type": "stream",
     "text": [
      " 24%|██▍       | 8757/36754 [41:00<1:49:31,  4.26it/s]"
     ]
    },
    {
     "name": "stdout",
     "output_type": "stream",
     "text": [
      "Image 5d4be793cf0b3a0f3f345b30 not ok\n"
     ]
    },
    {
     "name": "stderr",
     "output_type": "stream",
     "text": [
      " 24%|██▍       | 8765/36754 [41:01<41:14, 11.31it/s]  "
     ]
    },
    {
     "name": "stdout",
     "output_type": "stream",
     "text": [
      "Image 5d4be794cf0b3a0f3f345b34 not ok\n",
      "Image 5d4be794cf0b3a0f3f345b38 not ok\n",
      "Image 5d4be794cf0b3a0f3f345b3a not ok\n"
     ]
    },
    {
     "name": "stderr",
     "output_type": "stream",
     "text": [
      " 24%|██▍       | 8803/36754 [41:08<2:29:08,  3.12it/s]"
     ]
    },
    {
     "name": "stdout",
     "output_type": "stream",
     "text": [
      "Image 5d4bedd3cf0b3a0f3f350546 not ok\n"
     ]
    },
    {
     "name": "stderr",
     "output_type": "stream",
     "text": [
      " 24%|██▍       | 8807/36754 [41:09<2:25:15,  3.21it/s]"
     ]
    },
    {
     "name": "stdout",
     "output_type": "stream",
     "text": [
      "Image 5d4bedd3cf0b3a0f3f350552 not ok\n"
     ]
    },
    {
     "name": "stderr",
     "output_type": "stream",
     "text": [
      " 24%|██▍       | 8810/36754 [41:10<2:27:48,  3.15it/s]"
     ]
    },
    {
     "name": "stdout",
     "output_type": "stream",
     "text": [
      "Image 5d4bedd4cf0b3a0f3f350558 not ok\n"
     ]
    },
    {
     "name": "stderr",
     "output_type": "stream",
     "text": [
      "\r",
      " 24%|██▍       | 8812/36754 [41:10<2:03:33,  3.77it/s]"
     ]
    },
    {
     "name": "stdout",
     "output_type": "stream",
     "text": [
      "Image 5d4bedd4cf0b3a0f3f35055c not ok\n",
      "Image 5d4bedd4cf0b3a0f3f35055e not ok\n"
     ]
    },
    {
     "name": "stderr",
     "output_type": "stream",
     "text": [
      " 24%|██▍       | 8817/36754 [41:12<2:02:02,  3.82it/s]"
     ]
    },
    {
     "name": "stdout",
     "output_type": "stream",
     "text": [
      "Image 5d4bedd4cf0b3a0f3f350566 not ok\n"
     ]
    },
    {
     "name": "stderr",
     "output_type": "stream",
     "text": [
      " 24%|██▍       | 8820/36754 [41:12<1:50:00,  4.23it/s]"
     ]
    },
    {
     "name": "stdout",
     "output_type": "stream",
     "text": [
      "Image 5d4bedd4cf0b3a0f3f35056c not ok\n",
      "Image 5d4bedd4cf0b3a0f3f35056e not ok\n"
     ]
    },
    {
     "name": "stderr",
     "output_type": "stream",
     "text": [
      " 26%|██▌       | 9404/36754 [43:26<32:21, 14.09it/s]  "
     ]
    },
    {
     "name": "stdout",
     "output_type": "stream",
     "text": [
      "Image 5d4bedafcf0b3a0f3f350112 not ok\n"
     ]
    },
    {
     "name": "stderr",
     "output_type": "stream",
     "text": [
      " 26%|██▌       | 9413/36754 [43:29<1:57:33,  3.88it/s]"
     ]
    },
    {
     "name": "stdout",
     "output_type": "stream",
     "text": [
      "Image 5d4bedb2cf0b3a0f3f350168 not ok\n",
      "Image 5d4bedb3cf0b3a0f3f350184 not ok\n",
      "Image 5d4bedb3cf0b3a0f3f350192 not ok\n",
      "Image 5d4bedb3cf0b3a0f3f35019a not ok\n"
     ]
    },
    {
     "name": "stderr",
     "output_type": "stream",
     "text": [
      " 26%|██▌       | 9421/36754 [43:30<1:36:13,  4.73it/s]"
     ]
    },
    {
     "name": "stdout",
     "output_type": "stream",
     "text": [
      "Image 5d4bedb5cf0b3a0f3f3501c2 not ok\n"
     ]
    },
    {
     "name": "stderr",
     "output_type": "stream",
     "text": [
      " 26%|██▌       | 9440/36754 [43:36<2:30:34,  3.02it/s]"
     ]
    },
    {
     "name": "stdout",
     "output_type": "stream",
     "text": [
      "Image 5d4bedbbcf0b3a0f3f35028e not ok\n",
      "Image 5d4bedbccf0b3a0f3f350294 not ok\n"
     ]
    },
    {
     "name": "stderr",
     "output_type": "stream",
     "text": [
      " 26%|██▌       | 9446/36754 [43:37<2:03:32,  3.68it/s]"
     ]
    },
    {
     "name": "stdout",
     "output_type": "stream",
     "text": [
      "Image 5d4bedbdcf0b3a0f3f3502c0 not ok\n"
     ]
    },
    {
     "name": "stderr",
     "output_type": "stream",
     "text": [
      "\r",
      " 26%|██▌       | 9448/36754 [43:37<1:41:28,  4.48it/s]"
     ]
    },
    {
     "name": "stdout",
     "output_type": "stream",
     "text": [
      "Image 5d4bedbecf0b3a0f3f3502d6 not ok\n"
     ]
    },
    {
     "name": "stderr",
     "output_type": "stream",
     "text": [
      " 26%|██▌       | 9459/36754 [43:41<2:31:14,  3.01it/s]"
     ]
    },
    {
     "name": "stdout",
     "output_type": "stream",
     "text": [
      "Image 5d4bedc1cf0b3a0f3f350332 not ok\n",
      "Image 5d4bedc1cf0b3a0f3f35033e not ok\n",
      "Image 5d4bedc1cf0b3a0f3f350346 not ok\n"
     ]
    },
    {
     "name": "stderr",
     "output_type": "stream",
     "text": [
      " 26%|██▌       | 9464/36754 [43:41<1:34:01,  4.84it/s]"
     ]
    },
    {
     "name": "stdout",
     "output_type": "stream",
     "text": [
      "Image 5d4bedc2cf0b3a0f3f35035e not ok\n"
     ]
    },
    {
     "name": "stderr",
     "output_type": "stream",
     "text": [
      " 26%|██▌       | 9467/36754 [43:42<1:36:25,  4.72it/s]"
     ]
    },
    {
     "name": "stdout",
     "output_type": "stream",
     "text": [
      "Image 5d4bedc3cf0b3a0f3f35037c not ok\n",
      "Image 5d4bedc4cf0b3a0f3f35038c not ok\n"
     ]
    },
    {
     "name": "stderr",
     "output_type": "stream",
     "text": [
      " 26%|██▌       | 9475/36754 [43:44<2:06:07,  3.60it/s]"
     ]
    },
    {
     "name": "stdout",
     "output_type": "stream",
     "text": [
      "Image 5d4bedc6cf0b3a0f3f3503c8 not ok\n"
     ]
    },
    {
     "name": "stderr",
     "output_type": "stream",
     "text": [
      " 26%|██▌       | 9478/36754 [43:45<1:51:43,  4.07it/s]"
     ]
    },
    {
     "name": "stdout",
     "output_type": "stream",
     "text": [
      "Image 5d4bedc7cf0b3a0f3f3503de not ok\n"
     ]
    },
    {
     "name": "stderr",
     "output_type": "stream",
     "text": [
      " 26%|██▋       | 9731/36754 [45:53<2:05:51,  3.58it/s] "
     ]
    },
    {
     "name": "stdout",
     "output_type": "stream",
     "text": [
      "Image 5fd04633f2d9500e43593862 not ok\n",
      "Image 5fd04634f2d9500e43593864 not ok\n",
      "Image 5fd04637f2d9500e43593868 not ok\n",
      "Image 5fd0463ff2d9500e4359389e not ok\n"
     ]
    },
    {
     "name": "stderr",
     "output_type": "stream",
     "text": [
      " 26%|██▋       | 9738/36754 [45:54<1:04:33,  6.97it/s]"
     ]
    },
    {
     "name": "stdout",
     "output_type": "stream",
     "text": [
      "Image 5fd04645f2d9500e435938c0 not ok\n",
      "Image 5fd04648f2d9500e435938cd not ok\n",
      "Image 5fd0464cf2d9500e435938e8 not ok\n"
     ]
    },
    {
     "name": "stderr",
     "output_type": "stream",
     "text": [
      " 27%|██▋       | 9746/36754 [45:54<34:38, 13.00it/s]  "
     ]
    },
    {
     "name": "stdout",
     "output_type": "stream",
     "text": [
      "Image 5fd04652f2d9500e4359390d not ok\n"
     ]
    },
    {
     "name": "stderr",
     "output_type": "stream",
     "text": [
      " 27%|██▋       | 9759/36754 [45:54<21:02, 21.38it/s]"
     ]
    },
    {
     "name": "stdout",
     "output_type": "stream",
     "text": [
      "Image 5fd04668f2d9500e43593993 not ok\n"
     ]
    },
    {
     "name": "stderr",
     "output_type": "stream",
     "text": [
      "\r",
      " 27%|██▋       | 9762/36754 [45:54<19:35, 22.96it/s]"
     ]
    },
    {
     "name": "stdout",
     "output_type": "stream",
     "text": [
      "Image 5fd04671f2d9500e435939dc not ok\n",
      "Image 5fd04673f2d9500e435939e1 not ok\n",
      "Image 5d4bed94cf0b3a0f3f34fdf6 not ok\n",
      "Image 5d4bed94cf0b3a0f3f34fdfe not ok\n",
      "Image 5d4bed95cf0b3a0f3f34fe12 not ok\n"
     ]
    },
    {
     "name": "stderr",
     "output_type": "stream",
     "text": [
      " 27%|██▋       | 9779/36754 [45:58<1:51:26,  4.03it/s]"
     ]
    },
    {
     "name": "stdout",
     "output_type": "stream",
     "text": [
      "Image 5d4bed99cf0b3a0f3f34fe90 not ok\n",
      "Image 5d4bed99cf0b3a0f3f34fe9c not ok\n",
      "Image 5d4bed9acf0b3a0f3f34fea2 not ok\n"
     ]
    },
    {
     "name": "stderr",
     "output_type": "stream",
     "text": [
      " 27%|██▋       | 9786/36754 [46:00<1:48:04,  4.16it/s]"
     ]
    },
    {
     "name": "stdout",
     "output_type": "stream",
     "text": [
      "Image 5d4bed9ccf0b3a0f3f34fee0 not ok\n"
     ]
    },
    {
     "name": "stderr",
     "output_type": "stream",
     "text": [
      " 27%|██▋       | 9790/36754 [46:01<1:56:05,  3.87it/s]"
     ]
    },
    {
     "name": "stdout",
     "output_type": "stream",
     "text": [
      "Image 5d4bed9dcf0b3a0f3f34fefc not ok\n"
     ]
    },
    {
     "name": "stderr",
     "output_type": "stream",
     "text": [
      " 27%|██▋       | 9804/36754 [46:05<2:19:54,  3.21it/s]"
     ]
    },
    {
     "name": "stdout",
     "output_type": "stream",
     "text": [
      "Image 5d4beda1cf0b3a0f3f34ff88 not ok\n"
     ]
    },
    {
     "name": "stderr",
     "output_type": "stream",
     "text": [
      " 27%|██▋       | 9813/36754 [46:07<2:21:44,  3.17it/s]"
     ]
    },
    {
     "name": "stdout",
     "output_type": "stream",
     "text": [
      "Image 5d4beda5cf0b3a0f3f34ffe0 not ok\n"
     ]
    },
    {
     "name": "stderr",
     "output_type": "stream",
     "text": [
      "\r",
      " 27%|██▋       | 9815/36754 [46:08<1:48:14,  4.15it/s]"
     ]
    },
    {
     "name": "stdout",
     "output_type": "stream",
     "text": [
      "Image 5d4beda5cf0b3a0f3f34ffec not ok\n"
     ]
    },
    {
     "name": "stderr",
     "output_type": "stream",
     "text": [
      "\r",
      " 27%|██▋       | 9817/36754 [46:08<1:35:24,  4.71it/s]"
     ]
    },
    {
     "name": "stdout",
     "output_type": "stream",
     "text": [
      "Image 5d4beda6cf0b3a0f3f350006 not ok\n"
     ]
    },
    {
     "name": "stderr",
     "output_type": "stream",
     "text": [
      " 27%|██▋       | 9825/36754 [46:10<2:16:21,  3.29it/s]"
     ]
    },
    {
     "name": "stdout",
     "output_type": "stream",
     "text": [
      "Image 5d4beda8cf0b3a0f3f350042 not ok\n",
      "Image 5d4beda8cf0b3a0f3f350048 not ok\n",
      "Image 5d4beda8cf0b3a0f3f350054 not ok\n"
     ]
    },
    {
     "name": "stderr",
     "output_type": "stream",
     "text": [
      " 27%|██▋       | 9832/36754 [46:12<1:48:25,  4.14it/s]"
     ]
    },
    {
     "name": "stdout",
     "output_type": "stream",
     "text": [
      "Image 5d4bedaacf0b3a0f3f350088 not ok\n"
     ]
    },
    {
     "name": "stderr",
     "output_type": "stream",
     "text": [
      "\r",
      " 27%|██▋       | 9834/36754 [46:12<1:38:16,  4.57it/s]"
     ]
    },
    {
     "name": "stdout",
     "output_type": "stream",
     "text": [
      "Image 5d4bedabcf0b3a0f3f350098 not ok\n"
     ]
    },
    {
     "name": "stderr",
     "output_type": "stream",
     "text": [
      " 27%|██▋       | 9842/36754 [46:14<2:26:17,  3.07it/s]"
     ]
    },
    {
     "name": "stdout",
     "output_type": "stream",
     "text": [
      "Image 5d4bedadcf0b3a0f3f3500de not ok\n"
     ]
    },
    {
     "name": "stderr",
     "output_type": "stream",
     "text": [
      " 27%|██▋       | 9847/36754 [46:15<1:22:38,  5.43it/s]"
     ]
    },
    {
     "name": "stdout",
     "output_type": "stream",
     "text": [
      "Image 5d4bedaecf0b3a0f3f3500f8 not ok\n"
     ]
    },
    {
     "name": "stderr",
     "output_type": "stream",
     "text": [
      " 27%|██▋       | 9952/36754 [46:27<23:05, 19.34it/s]  "
     ]
    },
    {
     "name": "stdout",
     "output_type": "stream",
     "text": [
      "Image 5d4bf137cf0b3a0f3f3562ac not ok\n",
      "Image 5d4bf137cf0b3a0f3f3562b2 not ok\n"
     ]
    },
    {
     "name": "stderr",
     "output_type": "stream",
     "text": [
      " 27%|██▋       | 9958/36754 [46:28<22:15, 20.06it/s]"
     ]
    },
    {
     "name": "stdout",
     "output_type": "stream",
     "text": [
      "Image 5d4bf137cf0b3a0f3f3562ba not ok\n",
      "Image 5d4bf137cf0b3a0f3f3562be not ok\n"
     ]
    },
    {
     "name": "stderr",
     "output_type": "stream",
     "text": [
      " 27%|██▋       | 9965/36754 [46:28<23:49, 18.74it/s]"
     ]
    },
    {
     "name": "stdout",
     "output_type": "stream",
     "text": [
      "Image 5d4bf138cf0b3a0f3f3562ce not ok\n"
     ]
    },
    {
     "name": "stderr",
     "output_type": "stream",
     "text": [
      " 27%|██▋       | 9985/36754 [46:29<24:34, 18.15it/s]"
     ]
    },
    {
     "name": "stdout",
     "output_type": "stream",
     "text": [
      "Image 5d4bf139cf0b3a0f3f3562f6 not ok\n",
      "Image 5d4bf139cf0b3a0f3f3562f8 not ok\n"
     ]
    },
    {
     "name": "stderr",
     "output_type": "stream",
     "text": [
      " 27%|██▋       | 9995/36754 [46:30<19:30, 22.87it/s]"
     ]
    },
    {
     "name": "stdout",
     "output_type": "stream",
     "text": [
      "Image 5d4bf13acf0b3a0f3f35630c not ok\n",
      "Image 5d4bf13acf0b3a0f3f35630e not ok\n",
      "Image 5d4bf13acf0b3a0f3f356312 not ok\n",
      "Image 5d4bf13acf0b3a0f3f356314 not ok\n"
     ]
    },
    {
     "name": "stderr",
     "output_type": "stream",
     "text": [
      " 27%|██▋       | 10005/36754 [46:30<17:25, 25.58it/s]"
     ]
    },
    {
     "name": "stdout",
     "output_type": "stream",
     "text": [
      "Image 5d4bf13bcf0b3a0f3f356320 not ok\n",
      "Image 5d4bf13bcf0b3a0f3f356322 not ok\n",
      "Image 5d4bf13bcf0b3a0f3f356326 not ok\n",
      "Image 5d4bf13bcf0b3a0f3f356328 not ok\n",
      "Image 5d4bf13bcf0b3a0f3f35632a not ok\n"
     ]
    },
    {
     "name": "stderr",
     "output_type": "stream",
     "text": [
      " 27%|██▋       | 10011/36754 [46:30<20:04, 22.21it/s]"
     ]
    },
    {
     "name": "stdout",
     "output_type": "stream",
     "text": [
      "Image 5d4bf13bcf0b3a0f3f356334 not ok\n",
      "Image 5d4bf13ccf0b3a0f3f35633a not ok\n"
     ]
    },
    {
     "name": "stderr",
     "output_type": "stream",
     "text": [
      " 29%|██▉       | 10678/36754 [49:36<18:18, 23.73it/s]  "
     ]
    },
    {
     "name": "stdout",
     "output_type": "stream",
     "text": [
      "Image 5fd045c9f2d9500e435935a5 not ok\n",
      "Image 5fd045cdf2d9500e435935b6 not ok\n"
     ]
    },
    {
     "name": "stderr",
     "output_type": "stream",
     "text": [
      " 29%|██▉       | 10684/36754 [49:36<18:01, 24.09it/s]"
     ]
    },
    {
     "name": "stdout",
     "output_type": "stream",
     "text": [
      "Image 5fd045d5f2d9500e435935f0 not ok\n"
     ]
    },
    {
     "name": "stderr",
     "output_type": "stream",
     "text": [
      " 29%|██▉       | 10690/36754 [49:36<17:41, 24.56it/s]"
     ]
    },
    {
     "name": "stdout",
     "output_type": "stream",
     "text": [
      "Image 5fd045def2d9500e4359361f not ok\n"
     ]
    },
    {
     "name": "stderr",
     "output_type": "stream",
     "text": [
      " 29%|██▉       | 10702/36754 [49:37<15:16, 28.41it/s]"
     ]
    },
    {
     "name": "stdout",
     "output_type": "stream",
     "text": [
      "Image 5fd045edf2d9500e4359365f not ok\n",
      "Image 5fd045eef2d9500e43593661 not ok\n",
      "Image 5fd045f6f2d9500e43593693 not ok\n",
      "Image 5fd045f7f2d9500e4359369b not ok\n"
     ]
    },
    {
     "name": "stderr",
     "output_type": "stream",
     "text": [
      " 29%|██▉       | 10798/36754 [50:06<2:34:52,  2.79it/s]"
     ]
    }
   ],
   "source": [
    "import tqdm\n",
    "from pathlib import Path\n",
    "\n",
    "for image_name in tqdm.tqdm(path_images):\n",
    "    img_id = image_name.split(\"/\")[7]\n",
    "    outfile = \"processed_imgs/\" + img_id + \".npy\"\n",
    "    if Path(outfile).is_file():\n",
    "        print(f\"Image {img_id} exists .. moving on\")\n",
    "        continue\n",
    "    try:\n",
    "        image = Image.open(image_name)\n",
    "        image_prep = preprocess(image).to(\"cpu\")\n",
    "    #     print(img_id, outfile)\n",
    "        np.save(outfile, image_prep)\n",
    "    except:\n",
    "        print(f\"Image {img_id} not ok\")"
   ]
  },
  {
   "cell_type": "code",
   "execution_count": null,
   "id": "928b807c",
   "metadata": {},
   "outputs": [],
   "source": [
    "torch.cuda.empty_cache()"
   ]
  },
  {
   "cell_type": "markdown",
   "id": "b8920d30",
   "metadata": {},
   "source": [
    "## Compute CLIP similarity scores"
   ]
  },
  {
   "cell_type": "code",
   "execution_count": 21,
   "id": "13193bc7",
   "metadata": {},
   "outputs": [],
   "source": [
    "path_data = '/nfs/turbo/coe-mihalcea/shared_data/dollarstreet'\n",
    "path_processed_images = \"/\".join([path_data, \"processed_imgs/\"])\n",
    "#path_processed_images = \"/\".join([path_data, \"clip_large_patch_processed_imgs/\"])\n",
    "path_original_images = '/nfs/turbo/coe-mihalcea/shared_data/dollarstreet'"
   ]
  },
  {
   "cell_type": "code",
   "execution_count": 22,
   "id": "26fa9000",
   "metadata": {},
   "outputs": [],
   "source": [
    "import gc\n",
    "def flatten_extend(matrix):\n",
    "    flat_list = []\n",
    "    for row in matrix:\n",
    "        flat_list.extend(row)\n",
    "    return flat_list"
   ]
  },
  {
   "cell_type": "code",
   "execution_count": null,
   "id": "c0233594",
   "metadata": {
    "scrolled": true
   },
   "outputs": [
    {
     "name": "stderr",
     "output_type": "stream",
     "text": [
      "  0%|          | 0/13 [00:00<?, ?it/s]\n",
      "  0%|          | 0/3000 [00:00<?, ?it/s]\u001b[A\n",
      "  0%|          | 1/3000 [00:00<05:18,  9.41it/s]\u001b[A\n",
      "  0%|          | 4/3000 [00:00<02:47, 17.84it/s]\u001b[A\n",
      "  0%|          | 7/3000 [00:00<02:22, 20.99it/s]\u001b[A\n",
      "  0%|          | 11/3000 [00:00<01:55, 25.91it/s]\u001b[A\n",
      "  0%|          | 14/3000 [00:00<02:56, 16.91it/s]\u001b[A\n",
      "  1%|          | 17/3000 [00:00<02:36, 19.09it/s]\u001b[A\n",
      "  1%|          | 20/3000 [00:01<03:07, 15.87it/s]\u001b[A\n",
      "  1%|          | 24/3000 [00:01<02:41, 18.44it/s]\u001b[A\n",
      "  1%|          | 27/3000 [00:01<02:29, 19.89it/s]\u001b[A\n",
      "  1%|          | 31/3000 [00:01<02:05, 23.65it/s]\u001b[A\n",
      "  1%|          | 34/3000 [00:01<02:00, 24.66it/s]\u001b[A\n",
      "  1%|          | 37/3000 [00:01<01:55, 25.63it/s]\u001b[A\n",
      "  1%|▏         | 40/3000 [00:01<02:14, 22.04it/s]\u001b[A\n",
      "  1%|▏         | 43/3000 [00:02<02:18, 21.30it/s]\u001b[A\n",
      "  2%|▏         | 47/3000 [00:02<02:00, 24.51it/s]\u001b[A\n",
      "  2%|▏         | 50/3000 [00:02<01:58, 24.87it/s]\u001b[A\n",
      "  2%|▏         | 54/3000 [00:02<01:45, 27.98it/s]\u001b[A\n",
      "  2%|▏         | 57/3000 [00:02<02:32, 19.35it/s]\u001b[A\n",
      "  2%|▏         | 61/3000 [00:02<02:13, 21.97it/s]\u001b[A\n",
      "  2%|▏         | 64/3000 [00:02<02:14, 21.81it/s]\u001b[A\n",
      "  2%|▏         | 67/3000 [00:03<02:15, 21.64it/s]\u001b[A\n",
      "  2%|▏         | 71/3000 [00:03<02:05, 23.36it/s]\u001b[A\n",
      "  2%|▏         | 74/3000 [00:03<02:00, 24.27it/s]\u001b[A\n",
      "  3%|▎         | 77/3000 [00:03<02:07, 22.95it/s]\u001b[A\n",
      "  3%|▎         | 80/3000 [00:03<02:14, 21.79it/s]\u001b[A\n",
      "  3%|▎         | 83/3000 [00:03<02:09, 22.50it/s]\u001b[A\n",
      "  3%|▎         | 86/3000 [00:03<02:05, 23.23it/s]\u001b[A\n",
      "  3%|▎         | 90/3000 [00:04<01:55, 25.27it/s]\u001b[A\n",
      "  3%|▎         | 93/3000 [00:04<01:58, 24.58it/s]\u001b[A\n",
      "  3%|▎         | 96/3000 [00:04<02:00, 24.17it/s]\u001b[A\n",
      "  3%|▎         | 100/3000 [00:04<01:58, 24.43it/s]\u001b[A\n",
      "  3%|▎         | 103/3000 [00:04<02:45, 17.54it/s]\u001b[A\n",
      "  4%|▎         | 106/3000 [00:04<02:26, 19.77it/s]\u001b[A\n",
      "  4%|▎         | 109/3000 [00:05<03:31, 13.70it/s]\u001b[A\n",
      "  4%|▎         | 111/3000 [00:05<03:33, 13.54it/s]\u001b[A\n",
      "  4%|▍         | 115/3000 [00:05<02:47, 17.25it/s]\u001b[A\n",
      "  4%|▍         | 118/3000 [00:05<02:47, 17.20it/s]\u001b[A\n",
      "  4%|▍         | 121/3000 [00:05<02:31, 18.98it/s]\u001b[A\n",
      "  4%|▍         | 124/3000 [00:05<02:16, 21.12it/s]\u001b[A\n",
      "  4%|▍         | 127/3000 [00:06<02:30, 19.13it/s]\u001b[A\n",
      "  4%|▍         | 130/3000 [00:06<02:37, 18.22it/s]\u001b[A\n",
      "  4%|▍         | 134/3000 [00:06<02:13, 21.45it/s]\u001b[A\n",
      "  5%|▍         | 137/3000 [00:06<02:03, 23.11it/s]\u001b[A\n",
      "  5%|▍         | 141/3000 [00:06<01:56, 24.57it/s]\u001b[A\n",
      "  5%|▍         | 144/3000 [00:06<01:57, 24.31it/s]\u001b[A\n",
      "  5%|▍         | 147/3000 [00:06<02:01, 23.55it/s]\u001b[A\n",
      "  5%|▌         | 150/3000 [00:07<01:54, 24.89it/s]\u001b[A\n",
      "  5%|▌         | 154/3000 [00:07<01:42, 27.82it/s]\u001b[A\n",
      "  5%|▌         | 158/3000 [00:07<01:36, 29.49it/s]\u001b[A\n",
      "  5%|▌         | 162/3000 [00:07<01:37, 29.11it/s]\u001b[A\n",
      "  6%|▌         | 165/3000 [00:07<01:37, 29.17it/s]\u001b[A\n",
      "  6%|▌         | 168/3000 [00:07<02:22, 19.86it/s]\u001b[A\n",
      "  6%|▌         | 171/3000 [00:08<03:01, 15.61it/s]\u001b[A\n",
      "  6%|▌         | 173/3000 [00:08<03:41, 12.77it/s]\u001b[A\n",
      "  6%|▌         | 175/3000 [00:08<04:21, 10.81it/s]\u001b[A\n",
      "  6%|▌         | 178/3000 [00:08<03:34, 13.18it/s]\u001b[A\n",
      "  6%|▌         | 181/3000 [00:08<02:55, 16.06it/s]\u001b[A\n",
      "  6%|▌         | 185/3000 [00:09<02:19, 20.18it/s]\u001b[A\n",
      "  6%|▋         | 188/3000 [00:09<02:09, 21.66it/s]\u001b[A\n",
      "  6%|▋         | 192/3000 [00:09<02:28, 18.90it/s]\u001b[A\n",
      "  6%|▋         | 195/3000 [00:09<02:40, 17.44it/s]\u001b[A\n",
      "  7%|▋         | 198/3000 [00:09<02:24, 19.36it/s]\u001b[A\n",
      "  7%|▋         | 201/3000 [00:09<02:24, 19.40it/s]\u001b[A\n",
      "  7%|▋         | 205/3000 [00:10<02:20, 19.83it/s]\u001b[A\n",
      "  7%|▋         | 208/3000 [00:10<02:16, 20.52it/s]\u001b[A\n",
      "  7%|▋         | 211/3000 [00:10<02:09, 21.62it/s]\u001b[A\n",
      "  7%|▋         | 214/3000 [00:10<02:34, 17.99it/s]\u001b[A\n",
      "  7%|▋         | 218/3000 [00:10<02:05, 22.20it/s]\u001b[A\n",
      "  7%|▋         | 222/3000 [00:10<02:08, 21.70it/s]\u001b[A\n",
      "  8%|▊         | 226/3000 [00:10<01:49, 25.22it/s]\u001b[A\n",
      "  8%|▊         | 229/3000 [00:11<01:53, 24.48it/s]\u001b[A\n",
      "  8%|▊         | 232/3000 [00:11<02:20, 19.73it/s]\u001b[A\n",
      "  8%|▊         | 236/3000 [00:11<01:58, 23.30it/s]\u001b[A\n",
      "  8%|▊         | 239/3000 [00:11<01:57, 23.43it/s]\u001b[A\n",
      "  8%|▊         | 242/3000 [00:11<01:50, 24.87it/s]\u001b[A\n",
      "  8%|▊         | 245/3000 [00:11<01:54, 24.17it/s]\u001b[A\n",
      "  8%|▊         | 248/3000 [00:12<02:33, 17.97it/s]\u001b[A\n",
      "  8%|▊         | 251/3000 [00:12<02:22, 19.32it/s]\u001b[A\n",
      "  8%|▊         | 254/3000 [00:12<02:07, 21.53it/s]\u001b[A\n",
      "  9%|▊         | 257/3000 [00:12<02:06, 21.69it/s]\u001b[A\n",
      "  9%|▊         | 261/3000 [00:12<02:04, 22.00it/s]\u001b[A\n",
      "  9%|▉         | 264/3000 [00:12<02:06, 21.67it/s]\u001b[A\n",
      "  9%|▉         | 268/3000 [00:12<02:14, 20.38it/s]\u001b[A\n",
      "  9%|▉         | 271/3000 [00:13<02:15, 20.12it/s]\u001b[A\n",
      "  9%|▉         | 275/3000 [00:13<02:01, 22.44it/s]\u001b[A\n",
      "  9%|▉         | 279/3000 [00:13<01:46, 25.63it/s]\u001b[A\n",
      "  9%|▉         | 282/3000 [00:13<01:46, 25.50it/s]\u001b[A\n",
      " 10%|▉         | 285/3000 [00:13<02:00, 22.53it/s]\u001b[A\n",
      " 10%|▉         | 288/3000 [00:13<01:55, 23.47it/s]\u001b[A\n",
      " 10%|▉         | 291/3000 [00:13<01:53, 23.91it/s]\u001b[A\n",
      " 10%|▉         | 294/3000 [00:14<02:00, 22.37it/s]\u001b[A\n",
      " 10%|▉         | 297/3000 [00:14<02:57, 15.22it/s]\u001b[A\n",
      " 10%|█         | 301/3000 [00:14<02:35, 17.37it/s]\u001b[A\n",
      " 10%|█         | 304/3000 [00:14<02:57, 15.15it/s]\u001b[A\n",
      " 10%|█         | 306/3000 [00:15<03:26, 13.02it/s]\u001b[A\n",
      " 10%|█         | 309/3000 [00:15<02:54, 15.44it/s]\u001b[A\n",
      " 10%|█         | 313/3000 [00:15<02:26, 18.31it/s]\u001b[A\n",
      " 11%|█         | 316/3000 [00:15<02:15, 19.81it/s]\u001b[A\n",
      " 11%|█         | 319/3000 [00:15<02:10, 20.59it/s]\u001b[A\n",
      " 11%|█         | 322/3000 [00:15<02:00, 22.28it/s]\u001b[A\n",
      " 11%|█         | 326/3000 [00:15<01:43, 25.90it/s]\u001b[A\n",
      " 11%|█         | 329/3000 [00:15<01:45, 25.29it/s]\u001b[A\n",
      " 11%|█         | 333/3000 [00:16<01:39, 26.89it/s]\u001b[A\n",
      " 11%|█         | 336/3000 [00:16<01:42, 26.08it/s]\u001b[A\n",
      " 11%|█▏        | 340/3000 [00:16<01:31, 29.09it/s]\u001b[A\n",
      " 11%|█▏        | 343/3000 [00:16<01:30, 29.27it/s]\u001b[A\n",
      " 12%|█▏        | 346/3000 [00:16<01:41, 26.20it/s]\u001b[A\n",
      " 12%|█▏        | 350/3000 [00:16<01:30, 29.28it/s]\u001b[A\n",
      " 12%|█▏        | 354/3000 [00:16<01:33, 28.29it/s]\u001b[A\n",
      " 12%|█▏        | 357/3000 [00:16<01:35, 27.55it/s]\u001b[A\n",
      " 12%|█▏        | 362/3000 [00:17<01:21, 32.18it/s]\u001b[A\n",
      " 12%|█▏        | 366/3000 [00:17<01:34, 27.86it/s]\u001b[A\n",
      " 12%|█▏        | 369/3000 [00:17<01:36, 27.20it/s]\u001b[A\n",
      " 12%|█▏        | 372/3000 [00:17<02:20, 18.73it/s]\u001b[A\n",
      " 12%|█▎        | 375/3000 [00:17<02:35, 16.84it/s]\u001b[A\n",
      " 13%|█▎        | 379/3000 [00:17<02:09, 20.25it/s]\u001b[A\n",
      " 13%|█▎        | 382/3000 [00:18<02:01, 21.46it/s]\u001b[A\n",
      " 13%|█▎        | 385/3000 [00:18<01:55, 22.71it/s]\u001b[A\n",
      " 13%|█▎        | 388/3000 [00:18<01:48, 24.13it/s]\u001b[A\n",
      " 13%|█▎        | 391/3000 [00:18<01:42, 25.50it/s]\u001b[A\n",
      " 13%|█▎        | 394/3000 [00:18<01:45, 24.67it/s]\u001b[A\n",
      " 13%|█▎        | 397/3000 [00:18<01:41, 25.62it/s]\u001b[A\n",
      " 13%|█▎        | 400/3000 [00:18<01:43, 25.24it/s]\u001b[A\n",
      " 13%|█▎        | 404/3000 [00:18<01:36, 26.97it/s]\u001b[A\n",
      " 14%|█▎        | 408/3000 [00:19<01:34, 27.44it/s]\u001b[A\n",
      " 14%|█▎        | 412/3000 [00:19<02:00, 21.56it/s]\u001b[A\n",
      " 14%|█▍        | 415/3000 [00:19<02:11, 19.64it/s]\u001b[A\n",
      " 14%|█▍        | 418/3000 [00:19<03:26, 12.53it/s]\u001b[A\n",
      " 14%|█▍        | 421/3000 [00:20<02:54, 14.80it/s]\u001b[A\n",
      " 14%|█▍        | 424/3000 [00:20<02:29, 17.22it/s]\u001b[A\n",
      " 14%|█▍        | 427/3000 [00:20<02:35, 16.57it/s]\u001b[A\n",
      " 14%|█▍        | 430/3000 [00:20<02:19, 18.46it/s]\u001b[A\n",
      " 14%|█▍        | 434/3000 [00:20<01:53, 22.52it/s]\u001b[A\n",
      " 15%|█▍        | 438/3000 [00:20<01:41, 25.22it/s]\u001b[A\n",
      " 15%|█▍        | 441/3000 [00:20<02:10, 19.59it/s]\u001b[A\n",
      " 15%|█▍        | 444/3000 [00:21<01:58, 21.54it/s]\u001b[A\n",
      " 15%|█▍        | 447/3000 [00:21<01:56, 21.89it/s]\u001b[A\n",
      " 15%|█▌        | 450/3000 [00:21<02:33, 16.57it/s]\u001b[A\n",
      " 15%|█▌        | 454/3000 [00:21<02:08, 19.85it/s]\u001b[A\n",
      " 15%|█▌        | 457/3000 [00:21<02:00, 21.11it/s]\u001b[A\n",
      " 15%|█▌        | 461/3000 [00:21<01:44, 24.30it/s]\u001b[A\n",
      " 15%|█▌        | 464/3000 [00:22<02:47, 15.18it/s]\u001b[A\n",
      " 16%|█▌        | 467/3000 [00:22<02:31, 16.71it/s]\u001b[A\n",
      " 16%|█▌        | 470/3000 [00:22<02:16, 18.47it/s]\u001b[A\n",
      " 16%|█▌        | 473/3000 [00:22<02:48, 15.04it/s]\u001b[A\n",
      " 16%|█▌        | 477/3000 [00:22<02:13, 18.86it/s]\u001b[A\n",
      " 16%|█▌        | 481/3000 [00:23<01:53, 22.26it/s]\u001b[A\n",
      " 16%|█▌        | 484/3000 [00:23<01:47, 23.45it/s]\u001b[A\n",
      " 16%|█▋        | 488/3000 [00:23<01:35, 26.38it/s]\u001b[A\n",
      " 16%|█▋        | 491/3000 [00:23<01:41, 24.78it/s]\u001b[A\n"
     ]
    },
    {
     "name": "stderr",
     "output_type": "stream",
     "text": [
      " 16%|█▋        | 494/3000 [00:23<01:56, 21.49it/s]\u001b[A\n",
      " 17%|█▋        | 497/3000 [00:23<02:07, 19.70it/s]\u001b[A\n",
      " 17%|█▋        | 500/3000 [00:23<01:54, 21.75it/s]\u001b[A\n",
      " 17%|█▋        | 505/3000 [00:24<01:41, 24.61it/s]\u001b[A\n",
      " 17%|█▋        | 508/3000 [00:24<01:38, 25.41it/s]\u001b[A\n",
      " 17%|█▋        | 512/3000 [00:24<01:32, 26.90it/s]\u001b[A\n",
      " 17%|█▋        | 515/3000 [00:24<01:41, 24.47it/s]\u001b[A\n",
      " 17%|█▋        | 518/3000 [00:24<01:47, 23.08it/s]\u001b[A\n",
      " 17%|█▋        | 521/3000 [00:24<01:41, 24.34it/s]\u001b[A\n",
      " 17%|█▋        | 524/3000 [00:24<01:40, 24.62it/s]\u001b[A\n",
      " 18%|█▊        | 527/3000 [00:25<01:59, 20.68it/s]\u001b[A\n",
      " 18%|█▊        | 531/3000 [00:25<01:43, 23.75it/s]\u001b[A\n",
      " 18%|█▊        | 534/3000 [00:25<01:53, 21.79it/s]\u001b[A\n",
      " 18%|█▊        | 537/3000 [00:25<01:51, 22.02it/s]\u001b[A\n",
      " 18%|█▊        | 540/3000 [00:25<02:26, 16.77it/s]\u001b[A\n",
      " 18%|█▊        | 542/3000 [00:25<02:22, 17.29it/s]\u001b[A\n",
      " 18%|█▊        | 544/3000 [00:26<03:02, 13.44it/s]\u001b[A\n",
      " 18%|█▊        | 547/3000 [00:26<03:23, 12.03it/s]\u001b[A\n",
      " 18%|█▊        | 549/3000 [00:26<03:20, 12.22it/s]\u001b[A\n",
      " 18%|█▊        | 551/3000 [00:26<03:43, 10.94it/s]\u001b[A\n",
      " 18%|█▊        | 554/3000 [00:26<03:04, 13.24it/s]\u001b[A\n",
      " 19%|█▊        | 556/3000 [00:27<02:52, 14.16it/s]\u001b[A\n",
      " 19%|█▊        | 559/3000 [00:27<03:04, 13.25it/s]\u001b[A\n",
      " 19%|█▉        | 563/3000 [00:27<02:19, 17.52it/s]\u001b[A\n",
      " 19%|█▉        | 567/3000 [00:27<01:52, 21.69it/s]\u001b[A\n",
      " 19%|█▉        | 570/3000 [00:27<01:49, 22.27it/s]\u001b[A\n",
      " 19%|█▉        | 573/3000 [00:27<01:41, 23.98it/s]\u001b[A\n",
      " 19%|█▉        | 576/3000 [00:27<01:37, 24.97it/s]\u001b[A\n",
      " 19%|█▉        | 579/3000 [00:27<01:37, 24.80it/s]\u001b[A\n",
      " 19%|█▉        | 582/3000 [00:28<02:04, 19.48it/s]\u001b[A\n",
      " 20%|█▉        | 585/3000 [00:28<01:56, 20.72it/s]\u001b[A\n",
      " 20%|█▉        | 588/3000 [00:28<01:48, 22.14it/s]\u001b[A\n",
      " 20%|█▉        | 591/3000 [00:28<01:45, 22.83it/s]\u001b[A\n",
      " 20%|█▉        | 595/3000 [00:28<01:33, 25.71it/s]\u001b[A\n",
      " 20%|█▉        | 598/3000 [00:28<01:39, 24.12it/s]\u001b[A\n",
      " 20%|██        | 601/3000 [00:28<01:41, 23.75it/s]\u001b[A\n",
      " 20%|██        | 604/3000 [00:29<01:49, 21.96it/s]\u001b[A\n",
      " 20%|██        | 607/3000 [00:29<01:57, 20.43it/s]\u001b[A\n",
      " 20%|██        | 611/3000 [00:29<01:48, 22.09it/s]\u001b[A\n",
      " 20%|██        | 614/3000 [00:29<02:03, 19.25it/s]\u001b[A\n",
      " 21%|██        | 617/3000 [00:29<02:29, 15.89it/s]\u001b[A\n",
      " 21%|██        | 620/3000 [00:30<02:15, 17.54it/s]\u001b[A\n",
      " 21%|██        | 623/3000 [00:30<01:59, 19.81it/s]\u001b[A\n",
      " 21%|██        | 627/3000 [00:30<01:47, 22.17it/s]\u001b[A\n",
      " 21%|██        | 630/3000 [00:30<01:49, 21.73it/s]\u001b[A\n",
      " 21%|██        | 633/3000 [00:30<01:45, 22.42it/s]\u001b[A\n",
      " 21%|██        | 636/3000 [00:30<01:38, 24.05it/s]\u001b[A\n",
      " 21%|██▏       | 639/3000 [00:30<01:40, 23.56it/s]\u001b[A\n",
      " 21%|██▏       | 643/3000 [00:30<01:25, 27.59it/s]\u001b[A\n",
      " 22%|██▏       | 647/3000 [00:31<01:23, 28.24it/s]\u001b[A\n",
      " 22%|██▏       | 650/3000 [00:31<01:22, 28.58it/s]\u001b[A\n",
      " 22%|██▏       | 653/3000 [00:31<01:21, 28.94it/s]\u001b[A\n",
      " 22%|██▏       | 656/3000 [00:31<01:28, 26.50it/s]\u001b[A\n",
      " 22%|██▏       | 659/3000 [00:31<01:29, 26.19it/s]\u001b[A\n",
      " 22%|██▏       | 663/3000 [00:31<01:25, 27.18it/s]\u001b[A\n",
      " 22%|██▏       | 666/3000 [00:31<01:24, 27.77it/s]\u001b[A\n",
      " 22%|██▏       | 669/3000 [00:31<01:26, 26.83it/s]\u001b[A\n",
      " 22%|██▏       | 672/3000 [00:32<01:43, 22.43it/s]\u001b[A\n",
      " 22%|██▎       | 675/3000 [00:32<02:14, 17.31it/s]\u001b[A\n",
      " 23%|██▎       | 678/3000 [00:32<01:59, 19.43it/s]\u001b[A\n",
      " 23%|██▎       | 682/3000 [00:32<01:43, 22.41it/s]\u001b[A\n",
      " 23%|██▎       | 685/3000 [00:32<02:19, 16.59it/s]\u001b[A\n",
      " 23%|██▎       | 689/3000 [00:32<01:55, 20.09it/s]\u001b[A\n",
      " 23%|██▎       | 692/3000 [00:33<01:46, 21.63it/s]\u001b[A\n",
      " 23%|██▎       | 695/3000 [00:33<01:42, 22.41it/s]\u001b[A\n",
      " 23%|██▎       | 699/3000 [00:33<01:32, 24.85it/s]\u001b[A\n",
      " 23%|██▎       | 703/3000 [00:33<01:22, 27.72it/s]\u001b[A\n",
      " 24%|██▎       | 706/3000 [00:33<01:26, 26.43it/s]\u001b[A\n",
      " 24%|██▎       | 709/3000 [00:33<01:41, 22.61it/s]\u001b[A\n",
      " 24%|██▎       | 712/3000 [00:34<02:09, 17.73it/s]\u001b[A\n",
      " 24%|██▍       | 716/3000 [00:34<01:44, 21.95it/s]\u001b[A\n",
      " 24%|██▍       | 719/3000 [00:34<01:40, 22.72it/s]\u001b[A\n",
      " 24%|██▍       | 723/3000 [00:34<01:31, 24.87it/s]\u001b[A\n",
      " 24%|██▍       | 726/3000 [00:34<01:27, 25.87it/s]\u001b[A\n",
      " 24%|██▍       | 729/3000 [00:34<02:09, 17.56it/s]\u001b[A\n",
      " 24%|██▍       | 733/3000 [00:34<01:46, 21.33it/s]\u001b[A\n",
      " 25%|██▍       | 737/3000 [00:35<01:33, 24.25it/s]\u001b[A\n",
      " 25%|██▍       | 740/3000 [00:35<01:28, 25.39it/s]\u001b[A\n",
      " 25%|██▍       | 743/3000 [00:35<01:29, 25.10it/s]\u001b[A\n",
      " 25%|██▍       | 746/3000 [00:35<01:31, 24.74it/s]\u001b[A\n",
      " 25%|██▍       | 749/3000 [00:35<01:39, 22.63it/s]\u001b[A\n",
      " 25%|██▌       | 752/3000 [00:35<01:40, 22.36it/s]\u001b[A\n",
      " 25%|██▌       | 755/3000 [00:35<01:37, 22.95it/s]\u001b[A\n",
      " 25%|██▌       | 759/3000 [00:35<01:26, 25.76it/s]\u001b[A\n",
      " 25%|██▌       | 762/3000 [00:36<01:42, 21.91it/s]\u001b[A\n",
      " 26%|██▌       | 766/3000 [00:36<01:50, 20.20it/s]\u001b[A\n",
      " 26%|██▌       | 770/3000 [00:36<01:34, 23.54it/s]\u001b[A\n",
      " 26%|██▌       | 773/3000 [00:36<01:34, 23.58it/s]\u001b[A\n",
      " 26%|██▌       | 777/3000 [00:36<01:25, 25.91it/s]\u001b[A\n",
      " 26%|██▌       | 780/3000 [00:36<01:27, 25.24it/s]\u001b[A\n",
      " 26%|██▌       | 783/3000 [00:36<01:24, 26.14it/s]\u001b[A\n",
      " 26%|██▌       | 787/3000 [00:37<01:18, 28.09it/s]\u001b[A\n",
      " 26%|██▋       | 790/3000 [00:37<01:29, 24.65it/s]\u001b[A\n",
      " 26%|██▋       | 793/3000 [00:37<01:55, 19.11it/s]\u001b[A\n",
      " 27%|██▋       | 796/3000 [00:37<01:51, 19.73it/s]\u001b[A\n",
      " 27%|██▋       | 799/3000 [00:37<02:12, 16.67it/s]\u001b[A\n",
      " 27%|██▋       | 802/3000 [00:37<01:59, 18.38it/s]\u001b[A\n",
      " 27%|██▋       | 806/3000 [00:38<01:37, 22.53it/s]\u001b[A\n",
      " 27%|██▋       | 810/3000 [00:38<01:28, 24.69it/s]\u001b[A\n",
      " 27%|██▋       | 813/3000 [00:38<01:26, 25.42it/s]\u001b[A\n",
      " 27%|██▋       | 816/3000 [00:38<01:25, 25.55it/s]\u001b[A\n",
      " 27%|██▋       | 819/3000 [00:38<01:27, 24.90it/s]\u001b[A\n",
      " 27%|██▋       | 823/3000 [00:38<01:28, 24.67it/s]\u001b[A\n",
      " 28%|██▊       | 826/3000 [00:38<01:24, 25.87it/s]\u001b[A\n",
      " 28%|██▊       | 830/3000 [00:38<01:19, 27.46it/s]\u001b[A\n",
      " 28%|██▊       | 834/3000 [00:39<01:10, 30.57it/s]\u001b[A\n",
      " 28%|██▊       | 838/3000 [00:39<01:28, 24.38it/s]\u001b[A\n",
      " 28%|██▊       | 841/3000 [00:39<01:25, 25.31it/s]\u001b[A\n",
      " 28%|██▊       | 844/3000 [00:39<01:29, 23.97it/s]\u001b[A\n",
      " 28%|██▊       | 848/3000 [00:39<01:22, 26.15it/s]\u001b[A\n",
      " 28%|██▊       | 851/3000 [00:39<01:31, 23.57it/s]\u001b[A\n",
      " 28%|██▊       | 855/3000 [00:39<01:20, 26.72it/s]\u001b[A\n",
      " 29%|██▊       | 859/3000 [00:40<01:21, 26.16it/s]\u001b[A\n",
      " 29%|██▉       | 864/3000 [00:40<01:12, 29.47it/s]\u001b[A\n",
      " 29%|██▉       | 868/3000 [00:40<01:19, 26.96it/s]\u001b[A\n",
      " 29%|██▉       | 871/3000 [00:40<01:46, 20.08it/s]\u001b[A\n",
      " 29%|██▉       | 874/3000 [00:40<01:51, 19.11it/s]\u001b[A\n",
      " 29%|██▉       | 878/3000 [00:40<01:34, 22.55it/s]\u001b[A\n",
      " 29%|██▉       | 881/3000 [00:41<01:30, 23.46it/s]\u001b[A\n",
      " 30%|██▉       | 885/3000 [00:41<01:22, 25.69it/s]\u001b[A\n",
      " 30%|██▉       | 888/3000 [00:41<01:27, 24.20it/s]\u001b[A\n",
      " 30%|██▉       | 891/3000 [00:41<01:38, 21.49it/s]\u001b[A\n",
      " 30%|██▉       | 894/3000 [00:41<01:40, 20.90it/s]\u001b[A\n",
      " 30%|██▉       | 898/3000 [00:41<01:25, 24.67it/s]\u001b[A\n",
      " 30%|███       | 903/3000 [00:41<01:12, 28.82it/s]\u001b[A\n",
      " 30%|███       | 907/3000 [00:42<01:07, 30.94it/s]\u001b[A\n",
      " 30%|███       | 911/3000 [00:42<01:06, 31.46it/s]\u001b[A\n",
      " 30%|███       | 915/3000 [00:42<01:09, 29.80it/s]\u001b[A\n",
      " 31%|███       | 919/3000 [00:42<01:25, 24.47it/s]\u001b[A\n",
      " 31%|███       | 922/3000 [00:42<01:47, 19.38it/s]\u001b[A\n",
      " 31%|███       | 925/3000 [00:42<01:46, 19.48it/s]\u001b[A\n",
      " 31%|███       | 928/3000 [00:43<02:05, 16.49it/s]\u001b[A\n",
      " 31%|███       | 931/3000 [00:43<02:06, 16.36it/s]\u001b[A\n",
      " 31%|███       | 935/3000 [00:43<01:44, 19.78it/s]\u001b[A\n",
      " 31%|███▏      | 938/3000 [00:43<01:58, 17.35it/s]\u001b[A\n",
      " 31%|███▏      | 940/3000 [00:43<01:58, 17.44it/s]\u001b[A\n",
      " 31%|███▏      | 944/3000 [00:43<01:42, 20.14it/s]\u001b[A\n",
      " 32%|███▏      | 947/3000 [00:44<01:36, 21.30it/s]\u001b[A\n",
      " 32%|███▏      | 950/3000 [00:44<01:37, 20.95it/s]\u001b[A\n",
      " 32%|███▏      | 954/3000 [00:44<01:24, 24.31it/s]\u001b[A\n",
      " 32%|███▏      | 957/3000 [00:44<01:24, 24.06it/s]\u001b[A\n",
      " 32%|███▏      | 961/3000 [00:44<01:14, 27.38it/s]\u001b[A\n",
      " 32%|███▏      | 964/3000 [00:44<01:23, 24.28it/s]\u001b[A\n",
      " 32%|███▏      | 968/3000 [00:44<01:16, 26.61it/s]\u001b[A\n",
      " 32%|███▏      | 971/3000 [00:45<01:48, 18.71it/s]\u001b[A\n",
      " 32%|███▏      | 974/3000 [00:45<01:44, 19.34it/s]\u001b[A\n",
      " 33%|███▎      | 977/3000 [00:45<01:36, 21.02it/s]\u001b[A\n",
      " 33%|███▎      | 980/3000 [00:45<01:55, 17.53it/s]\u001b[A\n",
      " 33%|███▎      | 983/3000 [00:45<01:44, 19.34it/s]\u001b[A\n",
      " 33%|███▎      | 986/3000 [00:45<01:42, 19.68it/s]\u001b[A\n",
      " 33%|███▎      | 989/3000 [00:46<01:34, 21.32it/s]\u001b[A\n"
     ]
    },
    {
     "name": "stderr",
     "output_type": "stream",
     "text": [
      " 33%|███▎      | 992/3000 [00:46<01:26, 23.26it/s]\u001b[A\n",
      " 33%|███▎      | 996/3000 [00:46<01:19, 25.33it/s]\u001b[A\n",
      " 33%|███▎      | 999/3000 [00:46<01:15, 26.44it/s]\u001b[A\n",
      " 33%|███▎      | 1002/3000 [00:46<01:13, 27.16it/s]\u001b[A\n",
      " 34%|███▎      | 1005/3000 [00:46<01:48, 18.47it/s]\u001b[A\n",
      " 34%|███▎      | 1008/3000 [00:47<02:08, 15.54it/s]\u001b[A\n",
      " 34%|███▎      | 1010/3000 [00:47<02:17, 14.51it/s]\u001b[A\n",
      " 34%|███▍      | 1013/3000 [00:47<01:55, 17.16it/s]\u001b[A\n",
      " 34%|███▍      | 1016/3000 [00:47<01:46, 18.70it/s]\u001b[A\n",
      " 34%|███▍      | 1019/3000 [00:47<01:47, 18.51it/s]\u001b[A\n",
      " 34%|███▍      | 1022/3000 [00:47<02:24, 13.71it/s]\u001b[A\n",
      " 34%|███▍      | 1025/3000 [00:48<02:07, 15.44it/s]\u001b[A\n",
      " 34%|███▍      | 1028/3000 [00:48<01:51, 17.67it/s]\u001b[A\n",
      " 34%|███▍      | 1031/3000 [00:48<02:26, 13.40it/s]\u001b[A\n",
      " 34%|███▍      | 1034/3000 [00:48<02:02, 16.08it/s]\u001b[A\n",
      " 35%|███▍      | 1037/3000 [00:48<02:25, 13.47it/s]\u001b[A\n",
      " 35%|███▍      | 1041/3000 [00:49<01:53, 17.29it/s]\u001b[A\n",
      " 35%|███▍      | 1045/3000 [00:49<01:36, 20.32it/s]\u001b[A\n",
      " 35%|███▍      | 1048/3000 [00:49<01:33, 20.94it/s]\u001b[A\n",
      " 35%|███▌      | 1051/3000 [00:49<01:25, 22.69it/s]\u001b[A\n",
      " 35%|███▌      | 1054/3000 [00:49<01:54, 16.99it/s]\u001b[A\n",
      " 35%|███▌      | 1057/3000 [00:49<01:44, 18.55it/s]\u001b[A\n",
      " 35%|███▌      | 1060/3000 [00:49<01:38, 19.69it/s]\u001b[A\n",
      " 35%|███▌      | 1063/3000 [00:50<01:41, 19.07it/s]\u001b[A\n",
      " 36%|███▌      | 1068/3000 [00:50<01:22, 23.33it/s]\u001b[A\n",
      " 36%|███▌      | 1071/3000 [00:50<01:20, 24.10it/s]\u001b[A\n",
      " 36%|███▌      | 1074/3000 [00:50<01:27, 22.12it/s]\u001b[A\n",
      " 36%|███▌      | 1077/3000 [00:50<01:55, 16.70it/s]\u001b[A\n",
      " 36%|███▌      | 1080/3000 [00:50<01:43, 18.60it/s]\u001b[A\n",
      " 36%|███▌      | 1083/3000 [00:51<01:33, 20.52it/s]\u001b[A\n",
      " 36%|███▌      | 1087/3000 [00:51<01:20, 23.84it/s]\u001b[A\n",
      " 36%|███▋      | 1090/3000 [00:51<01:52, 16.93it/s]\u001b[A\n",
      " 36%|███▋      | 1094/3000 [00:51<01:33, 20.38it/s]\u001b[A\n",
      " 37%|███▋      | 1098/3000 [00:51<01:22, 23.07it/s]\u001b[A\n",
      " 37%|███▋      | 1101/3000 [00:51<01:18, 24.04it/s]\u001b[A\n",
      " 37%|███▋      | 1104/3000 [00:52<01:19, 23.71it/s]\u001b[A\n",
      " 37%|███▋      | 1107/3000 [00:52<01:15, 24.96it/s]\u001b[A\n",
      " 37%|███▋      | 1110/3000 [00:52<01:13, 25.74it/s]\u001b[A\n",
      " 37%|███▋      | 1114/3000 [00:52<01:09, 27.02it/s]\u001b[A\n",
      " 37%|███▋      | 1118/3000 [00:52<01:22, 22.86it/s]\u001b[A\n",
      " 37%|███▋      | 1122/3000 [00:52<01:14, 25.16it/s]\u001b[A\n",
      " 38%|███▊      | 1126/3000 [00:52<01:09, 26.99it/s]\u001b[A\n",
      " 38%|███▊      | 1130/3000 [00:52<01:04, 29.21it/s]\u001b[A\n",
      " 38%|███▊      | 1134/3000 [00:53<01:08, 27.11it/s]\u001b[A\n",
      " 38%|███▊      | 1137/3000 [00:53<01:08, 27.01it/s]\u001b[A\n",
      " 38%|███▊      | 1141/3000 [00:53<01:07, 27.72it/s]\u001b[A\n",
      " 38%|███▊      | 1144/3000 [00:53<01:09, 26.78it/s]\u001b[A\n",
      " 38%|███▊      | 1148/3000 [00:53<01:04, 28.63it/s]\u001b[A\n",
      " 38%|███▊      | 1151/3000 [00:53<01:04, 28.81it/s]\u001b[A\n",
      " 38%|███▊      | 1155/3000 [00:53<01:00, 30.45it/s]\u001b[A\n",
      " 39%|███▊      | 1159/3000 [00:54<01:14, 24.80it/s]\u001b[A\n",
      " 39%|███▊      | 1162/3000 [00:54<01:20, 22.87it/s]\u001b[A\n",
      " 39%|███▉      | 1165/3000 [00:54<01:18, 23.36it/s]\u001b[A\n",
      " 39%|███▉      | 1168/3000 [00:54<01:15, 24.30it/s]\u001b[A\n",
      " 39%|███▉      | 1171/3000 [00:54<01:14, 24.71it/s]\u001b[A\n",
      " 39%|███▉      | 1174/3000 [00:54<01:11, 25.68it/s]\u001b[A\n",
      " 39%|███▉      | 1177/3000 [00:54<01:17, 23.66it/s]\u001b[A\n",
      " 39%|███▉      | 1180/3000 [00:55<01:24, 21.42it/s]\u001b[A\n",
      " 39%|███▉      | 1183/3000 [00:55<01:19, 22.93it/s]\u001b[A\n",
      " 40%|███▉      | 1186/3000 [00:55<01:13, 24.55it/s]\u001b[A\n",
      " 40%|███▉      | 1189/3000 [00:55<01:10, 25.54it/s]\u001b[A\n",
      " 40%|███▉      | 1192/3000 [00:55<01:12, 24.91it/s]\u001b[A\n",
      " 40%|███▉      | 1195/3000 [00:55<01:23, 21.68it/s]\u001b[A\n",
      " 40%|███▉      | 1199/3000 [00:55<01:12, 24.92it/s]\u001b[A\n",
      " 40%|████      | 1202/3000 [00:55<01:14, 24.24it/s]\u001b[A\n",
      " 40%|████      | 1206/3000 [00:55<01:06, 26.86it/s]\u001b[A\n",
      " 40%|████      | 1210/3000 [00:56<01:10, 25.32it/s]\u001b[A\n",
      " 40%|████      | 1213/3000 [00:56<01:09, 25.88it/s]\u001b[A\n",
      " 41%|████      | 1216/3000 [00:56<01:39, 17.93it/s]\u001b[A\n",
      " 41%|████      | 1220/3000 [00:56<01:29, 19.81it/s]\u001b[A\n",
      " 41%|████      | 1223/3000 [00:56<01:29, 19.91it/s]\u001b[A\n",
      " 41%|████      | 1226/3000 [00:57<01:51, 15.95it/s]\u001b[A\n",
      " 41%|████      | 1230/3000 [00:57<01:32, 19.07it/s]\u001b[A\n",
      " 41%|████      | 1234/3000 [00:57<01:28, 19.94it/s]\u001b[A\n",
      " 41%|████      | 1237/3000 [00:57<01:23, 21.17it/s]\u001b[A\n",
      " 41%|████▏     | 1240/3000 [00:57<01:32, 18.99it/s]\u001b[A\n",
      " 41%|████▏     | 1243/3000 [00:58<01:58, 14.79it/s]\u001b[A\n",
      " 42%|████▏     | 1247/3000 [00:58<01:37, 17.97it/s]\u001b[A\n",
      " 42%|████▏     | 1251/3000 [00:58<01:19, 21.98it/s]\u001b[A\n",
      " 42%|████▏     | 1255/3000 [00:58<01:09, 25.25it/s]\u001b[A\n",
      " 42%|████▏     | 1259/3000 [00:58<01:15, 23.05it/s]\u001b[A\n",
      " 42%|████▏     | 1263/3000 [00:58<01:09, 24.87it/s]\u001b[A\n",
      " 42%|████▏     | 1267/3000 [00:58<01:05, 26.61it/s]\u001b[A\n",
      " 42%|████▏     | 1270/3000 [00:59<01:03, 27.21it/s]\u001b[A\n",
      " 42%|████▏     | 1273/3000 [00:59<01:08, 25.13it/s]\u001b[A\n",
      " 43%|████▎     | 1276/3000 [00:59<01:23, 20.65it/s]\u001b[A\n",
      " 43%|████▎     | 1280/3000 [00:59<01:13, 23.56it/s]\u001b[A\n",
      " 43%|████▎     | 1284/3000 [00:59<01:04, 26.44it/s]\u001b[A\n",
      " 43%|████▎     | 1287/3000 [00:59<01:22, 20.82it/s]\u001b[A\n",
      " 43%|████▎     | 1290/3000 [01:00<01:38, 17.36it/s]\u001b[A\n",
      " 43%|████▎     | 1293/3000 [01:00<01:32, 18.39it/s]\u001b[A\n",
      " 43%|████▎     | 1296/3000 [01:00<01:31, 18.60it/s]\u001b[A\n",
      " 43%|████▎     | 1300/3000 [01:00<01:15, 22.53it/s]\u001b[A\n",
      " 43%|████▎     | 1303/3000 [01:00<01:30, 18.76it/s]\u001b[A\n",
      " 44%|████▎     | 1306/3000 [01:00<01:28, 19.22it/s]\u001b[A\n",
      " 44%|████▎     | 1309/3000 [01:01<01:21, 20.76it/s]\u001b[A\n",
      " 44%|████▎     | 1312/3000 [01:01<01:16, 22.08it/s]\u001b[A\n",
      " 44%|████▍     | 1315/3000 [01:01<01:21, 20.69it/s]\u001b[A\n",
      " 44%|████▍     | 1318/3000 [01:01<01:14, 22.48it/s]\u001b[A\n",
      " 44%|████▍     | 1321/3000 [01:01<01:10, 23.69it/s]\u001b[A\n",
      " 44%|████▍     | 1326/3000 [01:01<00:59, 27.98it/s]\u001b[A\n",
      " 44%|████▍     | 1329/3000 [01:01<01:10, 23.79it/s]\u001b[A\n",
      " 44%|████▍     | 1333/3000 [01:02<01:31, 18.26it/s]\u001b[A\n",
      " 45%|████▍     | 1336/3000 [01:02<01:24, 19.68it/s]\u001b[A\n",
      " 45%|████▍     | 1339/3000 [01:02<01:20, 20.70it/s]\u001b[A\n",
      " 45%|████▍     | 1343/3000 [01:02<01:09, 23.88it/s]\u001b[A\n",
      " 45%|████▍     | 1346/3000 [01:02<01:09, 23.86it/s]\u001b[A\n",
      " 45%|████▌     | 1350/3000 [01:02<01:00, 27.28it/s]\u001b[A\n",
      " 45%|████▌     | 1354/3000 [01:02<00:59, 27.61it/s]\u001b[A\n",
      " 45%|████▌     | 1357/3000 [01:03<01:13, 22.49it/s]\u001b[A\n",
      " 45%|████▌     | 1360/3000 [01:03<01:15, 21.71it/s]\u001b[A\n",
      " 45%|████▌     | 1363/3000 [01:03<01:10, 23.19it/s]\u001b[A\n",
      " 46%|████▌     | 1366/3000 [01:03<01:12, 22.57it/s]\u001b[A\n",
      " 46%|████▌     | 1370/3000 [01:03<01:04, 25.35it/s]\u001b[A\n",
      " 46%|████▌     | 1374/3000 [01:03<00:58, 27.56it/s]\u001b[A\n",
      " 46%|████▌     | 1378/3000 [01:03<00:53, 30.36it/s]\u001b[A\n",
      " 46%|████▌     | 1382/3000 [01:04<00:59, 27.08it/s]\u001b[A\n",
      " 46%|████▌     | 1385/3000 [01:04<01:02, 25.95it/s]\u001b[A\n",
      " 46%|████▋     | 1388/3000 [01:04<01:00, 26.56it/s]\u001b[A\n",
      " 46%|████▋     | 1391/3000 [01:04<00:59, 27.15it/s]\u001b[A\n",
      " 46%|████▋     | 1394/3000 [01:04<00:57, 27.72it/s]\u001b[A\n",
      " 47%|████▋     | 1397/3000 [01:04<00:58, 27.61it/s]\u001b[A\n",
      " 47%|████▋     | 1400/3000 [01:04<00:56, 28.22it/s]\u001b[A\n",
      " 47%|████▋     | 1403/3000 [01:04<00:56, 28.16it/s]\u001b[A\n",
      " 47%|████▋     | 1407/3000 [01:04<00:52, 30.53it/s]\u001b[A\n",
      " 47%|████▋     | 1411/3000 [01:05<00:55, 28.64it/s]\u001b[A\n",
      " 47%|████▋     | 1414/3000 [01:05<00:56, 28.02it/s]\u001b[A\n",
      " 47%|████▋     | 1417/3000 [01:05<00:58, 26.95it/s]\u001b[A\n",
      " 47%|████▋     | 1420/3000 [01:05<01:08, 22.97it/s]\u001b[A\n",
      " 47%|████▋     | 1423/3000 [01:05<01:04, 24.53it/s]\u001b[A\n",
      " 48%|████▊     | 1426/3000 [01:05<01:01, 25.54it/s]\u001b[A\n",
      " 48%|████▊     | 1429/3000 [01:05<01:00, 26.15it/s]\u001b[A\n",
      " 48%|████▊     | 1432/3000 [01:05<01:04, 24.42it/s]\u001b[A\n",
      " 48%|████▊     | 1435/3000 [01:06<01:06, 23.66it/s]\u001b[A\n",
      " 48%|████▊     | 1438/3000 [01:06<01:10, 22.02it/s]\u001b[A\n",
      " 48%|████▊     | 1442/3000 [01:06<01:02, 24.76it/s]\u001b[A\n",
      " 48%|████▊     | 1446/3000 [01:06<00:56, 27.62it/s]\u001b[A\n",
      " 48%|████▊     | 1449/3000 [01:06<01:24, 18.42it/s]\u001b[A\n",
      " 48%|████▊     | 1452/3000 [01:06<01:15, 20.50it/s]\u001b[A\n",
      " 48%|████▊     | 1455/3000 [01:06<01:09, 22.32it/s]\u001b[A\n",
      " 49%|████▊     | 1458/3000 [01:07<01:05, 23.45it/s]\u001b[A\n",
      " 49%|████▊     | 1461/3000 [01:07<01:24, 18.13it/s]\u001b[A\n",
      " 49%|████▉     | 1464/3000 [01:07<01:21, 18.84it/s]\u001b[A\n",
      " 49%|████▉     | 1467/3000 [01:07<01:15, 20.39it/s]\u001b[A\n",
      " 49%|████▉     | 1470/3000 [01:07<01:14, 20.55it/s]\u001b[A\n",
      " 49%|████▉     | 1473/3000 [01:07<01:11, 21.45it/s]\u001b[A\n",
      " 49%|████▉     | 1477/3000 [01:08<01:26, 17.55it/s]\u001b[A\n",
      " 49%|████▉     | 1480/3000 [01:08<01:17, 19.55it/s]\u001b[A\n",
      " 49%|████▉     | 1483/3000 [01:08<01:12, 21.06it/s]\u001b[A\n"
     ]
    },
    {
     "name": "stderr",
     "output_type": "stream",
     "text": [
      " 50%|████▉     | 1487/3000 [01:08<01:02, 24.35it/s]\u001b[A\n",
      " 50%|████▉     | 1490/3000 [01:08<01:01, 24.55it/s]\u001b[A\n",
      " 50%|████▉     | 1494/3000 [01:08<00:59, 25.20it/s]\u001b[A\n",
      " 50%|████▉     | 1498/3000 [01:08<00:53, 27.93it/s]\u001b[A\n",
      " 50%|█████     | 1502/3000 [01:09<00:52, 28.50it/s]\u001b[A\n",
      " 50%|█████     | 1507/3000 [01:09<00:47, 31.41it/s]\u001b[A\n",
      " 50%|█████     | 1511/3000 [01:09<01:17, 19.26it/s]\u001b[A\n",
      " 50%|█████     | 1514/3000 [01:09<01:14, 19.84it/s]\u001b[A\n",
      " 51%|█████     | 1517/3000 [01:09<01:08, 21.66it/s]\u001b[A\n",
      " 51%|█████     | 1520/3000 [01:09<01:05, 22.74it/s]\u001b[A\n",
      " 51%|█████     | 1523/3000 [01:10<01:10, 21.02it/s]\u001b[A\n",
      " 51%|█████     | 1526/3000 [01:10<01:12, 20.43it/s]\u001b[A\n",
      " 51%|█████     | 1529/3000 [01:10<01:13, 20.08it/s]\u001b[A\n",
      " 51%|█████     | 1533/3000 [01:10<01:03, 23.06it/s]\u001b[A\n",
      " 51%|█████     | 1537/3000 [01:10<00:58, 25.14it/s]\u001b[A\n",
      " 51%|█████▏    | 1541/3000 [01:10<00:51, 28.34it/s]\u001b[A\n",
      " 52%|█████▏    | 1545/3000 [01:10<00:51, 28.01it/s]\u001b[A\n",
      " 52%|█████▏    | 1549/3000 [01:11<00:48, 30.17it/s]\u001b[A\n",
      " 52%|█████▏    | 1553/3000 [01:11<00:47, 30.68it/s]\u001b[A\n",
      " 52%|█████▏    | 1557/3000 [01:11<00:44, 32.69it/s]\u001b[A\n",
      " 52%|█████▏    | 1561/3000 [01:11<01:05, 22.01it/s]\u001b[A\n",
      " 52%|█████▏    | 1564/3000 [01:11<01:01, 23.22it/s]\u001b[A\n",
      " 52%|█████▏    | 1567/3000 [01:11<00:59, 24.19it/s]\u001b[A\n",
      " 52%|█████▏    | 1571/3000 [01:11<00:52, 27.30it/s]\u001b[A\n",
      " 52%|█████▎    | 1575/3000 [01:12<01:06, 21.57it/s]\u001b[A\n",
      " 53%|█████▎    | 1578/3000 [01:12<01:10, 20.27it/s]\u001b[A\n",
      " 53%|█████▎    | 1582/3000 [01:12<01:00, 23.56it/s]\u001b[A\n",
      " 53%|█████▎    | 1585/3000 [01:12<01:04, 21.93it/s]\u001b[A\n",
      " 53%|█████▎    | 1589/3000 [01:12<00:56, 24.82it/s]\u001b[A\n",
      " 53%|█████▎    | 1594/3000 [01:12<00:50, 27.98it/s]\u001b[A\n",
      " 53%|█████▎    | 1597/3000 [01:13<01:08, 20.57it/s]\u001b[A\n",
      " 53%|█████▎    | 1601/3000 [01:13<01:01, 22.89it/s]\u001b[A\n",
      " 53%|█████▎    | 1604/3000 [01:13<00:59, 23.50it/s]\u001b[A\n",
      " 54%|█████▎    | 1607/3000 [01:13<01:00, 22.97it/s]\u001b[A\n",
      " 54%|█████▎    | 1610/3000 [01:13<01:02, 22.19it/s]\u001b[A\n",
      " 54%|█████▍    | 1613/3000 [01:13<00:59, 23.15it/s]\u001b[A\n",
      " 54%|█████▍    | 1616/3000 [01:14<01:16, 18.14it/s]\u001b[A\n",
      " 54%|█████▍    | 1620/3000 [01:14<01:06, 20.81it/s]\u001b[A\n",
      " 54%|█████▍    | 1623/3000 [01:14<01:19, 17.34it/s]\u001b[A\n",
      " 54%|█████▍    | 1626/3000 [01:14<01:10, 19.42it/s]\u001b[A\n",
      " 54%|█████▍    | 1629/3000 [01:14<01:04, 21.18it/s]\u001b[A\n",
      " 54%|█████▍    | 1632/3000 [01:14<00:59, 22.82it/s]\u001b[A\n",
      " 55%|█████▍    | 1635/3000 [01:15<01:23, 16.44it/s]\u001b[A\n",
      " 55%|█████▍    | 1638/3000 [01:15<01:18, 17.37it/s]\u001b[A\n",
      " 55%|█████▍    | 1641/3000 [01:15<01:09, 19.61it/s]\u001b[A\n",
      " 55%|█████▍    | 1645/3000 [01:15<01:00, 22.38it/s]\u001b[A\n",
      " 55%|█████▍    | 1649/3000 [01:15<00:53, 25.46it/s]\u001b[A\n",
      " 55%|█████▌    | 1653/3000 [01:15<00:48, 27.53it/s]\u001b[A\n",
      " 55%|█████▌    | 1656/3000 [01:15<00:50, 26.42it/s]\u001b[A\n",
      " 55%|█████▌    | 1659/3000 [01:15<00:54, 24.61it/s]\u001b[A\n",
      " 55%|█████▌    | 1662/3000 [01:16<00:57, 23.35it/s]\u001b[A\n",
      " 56%|█████▌    | 1667/3000 [01:16<00:47, 27.93it/s]\u001b[A\n",
      " 56%|█████▌    | 1670/3000 [01:16<01:02, 21.23it/s]\u001b[A\n",
      " 56%|█████▌    | 1673/3000 [01:16<00:57, 22.92it/s]\u001b[A\n",
      " 56%|█████▌    | 1676/3000 [01:16<00:55, 23.91it/s]\u001b[A\n",
      " 56%|█████▌    | 1679/3000 [01:16<00:55, 24.00it/s]\u001b[A\n",
      " 56%|█████▌    | 1683/3000 [01:16<00:50, 26.19it/s]\u001b[A\n",
      " 56%|█████▌    | 1686/3000 [01:17<01:02, 20.93it/s]\u001b[A\n",
      " 56%|█████▋    | 1690/3000 [01:17<00:56, 23.25it/s]\u001b[A\n",
      " 56%|█████▋    | 1694/3000 [01:17<00:51, 25.36it/s]\u001b[A\n",
      " 57%|█████▋    | 1697/3000 [01:17<00:50, 25.71it/s]\u001b[A\n",
      " 57%|█████▋    | 1700/3000 [01:17<01:00, 21.47it/s]\u001b[A\n",
      " 57%|█████▋    | 1703/3000 [01:18<01:18, 16.61it/s]\u001b[A\n",
      " 57%|█████▋    | 1706/3000 [01:18<01:12, 17.80it/s]\u001b[A\n",
      " 57%|█████▋    | 1709/3000 [01:18<01:29, 14.49it/s]\u001b[A\n",
      " 57%|█████▋    | 1713/3000 [01:18<01:12, 17.81it/s]\u001b[A\n",
      " 57%|█████▋    | 1716/3000 [01:18<01:05, 19.48it/s]\u001b[A\n",
      " 57%|█████▋    | 1720/3000 [01:18<01:15, 17.01it/s]\u001b[A\n",
      " 57%|█████▋    | 1724/3000 [01:19<01:04, 19.83it/s]\u001b[A\n",
      " 58%|█████▊    | 1727/3000 [01:19<00:58, 21.73it/s]\u001b[A\n",
      " 58%|█████▊    | 1730/3000 [01:19<00:58, 21.78it/s]\u001b[A\n",
      " 58%|█████▊    | 1733/3000 [01:19<01:19, 15.86it/s]\u001b[A\n",
      " 58%|█████▊    | 1735/3000 [01:19<01:32, 13.67it/s]\u001b[A\n",
      " 58%|█████▊    | 1738/3000 [01:20<01:46, 11.82it/s]\u001b[A\n",
      " 58%|█████▊    | 1740/3000 [01:20<01:43, 12.12it/s]\u001b[A\n",
      " 58%|█████▊    | 1742/3000 [01:20<02:02, 10.25it/s]\u001b[A\n",
      " 58%|█████▊    | 1746/3000 [01:20<01:28, 14.24it/s]\u001b[A\n",
      " 58%|█████▊    | 1750/3000 [01:20<01:10, 17.77it/s]\u001b[A\n",
      " 58%|█████▊    | 1753/3000 [01:21<01:06, 18.66it/s]\u001b[A\n",
      " 59%|█████▊    | 1756/3000 [01:21<00:59, 20.89it/s]\u001b[A\n",
      " 59%|█████▊    | 1760/3000 [01:21<00:51, 24.18it/s]\u001b[A\n",
      " 59%|█████▉    | 1763/3000 [01:21<00:48, 25.32it/s]\u001b[A\n",
      " 59%|█████▉    | 1766/3000 [01:21<00:55, 22.30it/s]\u001b[A\n",
      " 59%|█████▉    | 1769/3000 [01:21<00:52, 23.42it/s]\u001b[A\n",
      " 59%|█████▉    | 1772/3000 [01:21<00:49, 24.88it/s]\u001b[A\n",
      " 59%|█████▉    | 1775/3000 [01:21<00:47, 26.05it/s]\u001b[A\n",
      " 59%|█████▉    | 1778/3000 [01:22<00:59, 20.61it/s]\u001b[A\n",
      " 59%|█████▉    | 1782/3000 [01:22<00:49, 24.68it/s]\u001b[A\n",
      " 60%|█████▉    | 1785/3000 [01:22<00:55, 21.86it/s]\u001b[A\n",
      " 60%|█████▉    | 1789/3000 [01:22<00:49, 24.35it/s]\u001b[A\n",
      " 60%|█████▉    | 1793/3000 [01:22<00:46, 26.07it/s]\u001b[A\n",
      " 60%|█████▉    | 1797/3000 [01:22<00:42, 28.31it/s]\u001b[A\n",
      " 60%|██████    | 1800/3000 [01:22<00:45, 26.28it/s]\u001b[A\n",
      " 60%|██████    | 1803/3000 [01:22<00:44, 27.17it/s]\u001b[A\n",
      " 60%|██████    | 1806/3000 [01:23<00:51, 23.15it/s]\u001b[A\n",
      " 60%|██████    | 1809/3000 [01:23<01:00, 19.68it/s]\u001b[A\n",
      " 60%|██████    | 1812/3000 [01:23<01:01, 19.37it/s]\u001b[A\n",
      " 60%|██████    | 1815/3000 [01:24<01:35, 12.42it/s]\u001b[A\n",
      " 61%|██████    | 1819/3000 [01:24<01:14, 15.96it/s]\u001b[A\n",
      " 61%|██████    | 1822/3000 [01:24<01:06, 17.63it/s]\u001b[A\n",
      " 61%|██████    | 1825/3000 [01:24<01:03, 18.46it/s]\u001b[A\n",
      " 61%|██████    | 1829/3000 [01:24<00:53, 21.72it/s]\u001b[A\n",
      " 61%|██████    | 1832/3000 [01:24<00:49, 23.38it/s]\u001b[A\n",
      " 61%|██████    | 1836/3000 [01:24<00:42, 27.10it/s]\u001b[A\n",
      " 61%|██████▏   | 1840/3000 [01:24<00:40, 28.83it/s]\u001b[A\n",
      " 61%|██████▏   | 1844/3000 [01:25<00:50, 23.10it/s]\u001b[A\n",
      " 62%|██████▏   | 1847/3000 [01:25<00:51, 22.50it/s]\u001b[A\n",
      " 62%|██████▏   | 1851/3000 [01:25<00:47, 24.25it/s]\u001b[A\n",
      " 62%|██████▏   | 1854/3000 [01:25<00:50, 22.77it/s]\u001b[A\n",
      " 62%|██████▏   | 1857/3000 [01:25<00:48, 23.53it/s]\u001b[A\n",
      " 62%|██████▏   | 1860/3000 [01:25<00:54, 20.95it/s]\u001b[A\n",
      " 62%|██████▏   | 1863/3000 [01:25<00:55, 20.66it/s]\u001b[A\n",
      " 62%|██████▏   | 1867/3000 [01:26<00:49, 23.12it/s]\u001b[A\n",
      " 62%|██████▏   | 1871/3000 [01:26<00:47, 23.91it/s]\u001b[A\n",
      " 62%|██████▏   | 1874/3000 [01:26<00:52, 21.50it/s]\u001b[A\n",
      " 63%|██████▎   | 1877/3000 [01:26<00:49, 22.71it/s]\u001b[A\n",
      " 63%|██████▎   | 1880/3000 [01:26<01:02, 17.94it/s]\u001b[A\n",
      " 63%|██████▎   | 1884/3000 [01:26<00:52, 21.21it/s]\u001b[A\n",
      " 63%|██████▎   | 1887/3000 [01:27<00:49, 22.64it/s]\u001b[A\n",
      " 63%|██████▎   | 1891/3000 [01:27<00:42, 26.07it/s]\u001b[A\n",
      " 63%|██████▎   | 1894/3000 [01:27<00:45, 24.49it/s]\u001b[A\n",
      " 63%|██████▎   | 1898/3000 [01:27<00:39, 27.63it/s]\u001b[A\n",
      " 63%|██████▎   | 1902/3000 [01:27<00:36, 29.73it/s]\u001b[A\n",
      " 64%|██████▎   | 1906/3000 [01:27<00:39, 27.57it/s]\u001b[A\n",
      " 64%|██████▎   | 1909/3000 [01:27<00:41, 25.98it/s]\u001b[A\n",
      " 64%|██████▎   | 1912/3000 [01:27<00:40, 26.71it/s]\u001b[A\n",
      " 64%|██████▍   | 1915/3000 [01:28<01:00, 18.01it/s]\u001b[A\n",
      " 64%|██████▍   | 1918/3000 [01:28<00:54, 19.76it/s]\u001b[A\n",
      " 64%|██████▍   | 1921/3000 [01:28<00:50, 21.27it/s]\u001b[A\n",
      " 64%|██████▍   | 1925/3000 [01:28<00:43, 24.82it/s]\u001b[A\n",
      " 64%|██████▍   | 1928/3000 [01:28<00:45, 23.77it/s]\u001b[A\n",
      " 64%|██████▍   | 1931/3000 [01:28<01:00, 17.66it/s]\u001b[A\n",
      " 64%|██████▍   | 1934/3000 [01:29<01:04, 16.41it/s]\u001b[A\n",
      " 65%|██████▍   | 1936/3000 [01:29<01:04, 16.60it/s]\u001b[A\n",
      " 65%|██████▍   | 1938/3000 [01:29<01:04, 16.57it/s]\u001b[A\n",
      " 65%|██████▍   | 1940/3000 [01:29<01:03, 16.64it/s]\u001b[A\n",
      " 65%|██████▍   | 1942/3000 [01:29<01:15, 14.04it/s]\u001b[A\n",
      " 65%|██████▍   | 1945/3000 [01:29<01:01, 17.09it/s]\u001b[A\n",
      " 65%|██████▍   | 1948/3000 [01:29<00:54, 19.40it/s]\u001b[A\n",
      " 65%|██████▌   | 1951/3000 [01:30<00:48, 21.45it/s]\u001b[A\n",
      " 65%|██████▌   | 1955/3000 [01:30<00:41, 25.39it/s]\u001b[A\n",
      " 65%|██████▌   | 1958/3000 [01:30<00:40, 25.54it/s]\u001b[A\n",
      " 65%|██████▌   | 1961/3000 [01:30<00:44, 23.30it/s]\u001b[A\n",
      " 65%|██████▌   | 1964/3000 [01:30<00:41, 24.79it/s]\u001b[A\n",
      " 66%|██████▌   | 1967/3000 [01:30<00:42, 24.59it/s]\u001b[A\n",
      " 66%|██████▌   | 1970/3000 [01:30<00:44, 23.02it/s]\u001b[A\n",
      " 66%|██████▌   | 1973/3000 [01:31<00:50, 20.16it/s]\u001b[A\n",
      " 66%|██████▌   | 1976/3000 [01:31<00:52, 19.37it/s]\u001b[A\n"
     ]
    },
    {
     "name": "stderr",
     "output_type": "stream",
     "text": [
      " 66%|██████▌   | 1979/3000 [01:31<00:54, 18.84it/s]\u001b[A\n",
      " 66%|██████▌   | 1981/3000 [01:31<01:04, 15.85it/s]\u001b[A\n",
      " 66%|██████▌   | 1984/3000 [01:31<00:56, 17.91it/s]\u001b[A\n",
      " 66%|██████▌   | 1987/3000 [01:31<00:51, 19.68it/s]\u001b[A\n",
      " 66%|██████▋   | 1990/3000 [01:32<00:54, 18.68it/s]\u001b[A\n",
      " 66%|██████▋   | 1993/3000 [01:32<00:48, 20.74it/s]\u001b[A\n",
      " 67%|██████▋   | 1996/3000 [01:32<00:46, 21.59it/s]\u001b[A\n",
      " 67%|██████▋   | 1999/3000 [01:32<00:50, 19.67it/s]\u001b[A\n",
      " 67%|██████▋   | 2002/3000 [01:32<00:48, 20.69it/s]\u001b[A\n",
      " 67%|██████▋   | 2005/3000 [01:32<00:48, 20.61it/s]\u001b[A\n",
      " 67%|██████▋   | 2008/3000 [01:32<00:55, 17.92it/s]\u001b[A\n",
      " 67%|██████▋   | 2011/3000 [01:33<00:53, 18.40it/s]\u001b[A\n",
      " 67%|██████▋   | 2013/3000 [01:33<00:56, 17.59it/s]\u001b[A\n",
      " 67%|██████▋   | 2016/3000 [01:33<00:54, 17.98it/s]\u001b[A\n",
      " 67%|██████▋   | 2020/3000 [01:33<00:44, 22.20it/s]\u001b[A\n",
      " 67%|██████▋   | 2023/3000 [01:33<00:50, 19.48it/s]\u001b[A\n",
      " 68%|██████▊   | 2026/3000 [01:33<00:53, 18.10it/s]\u001b[A\n",
      " 68%|██████▊   | 2029/3000 [01:34<00:51, 18.83it/s]\u001b[A\n",
      " 68%|██████▊   | 2032/3000 [01:34<00:49, 19.74it/s]\u001b[A\n",
      " 68%|██████▊   | 2035/3000 [01:34<00:44, 21.82it/s]\u001b[A\n",
      " 68%|██████▊   | 2038/3000 [01:34<01:01, 15.62it/s]\u001b[A\n",
      " 68%|██████▊   | 2041/3000 [01:34<00:55, 17.34it/s]\u001b[A\n",
      " 68%|██████▊   | 2044/3000 [01:34<00:48, 19.59it/s]\u001b[A\n",
      " 68%|██████▊   | 2047/3000 [01:34<00:44, 21.19it/s]\u001b[A\n",
      " 68%|██████▊   | 2050/3000 [01:35<00:45, 20.83it/s]\u001b[A\n",
      " 68%|██████▊   | 2053/3000 [01:35<00:45, 20.84it/s]\u001b[A\n",
      " 69%|██████▊   | 2056/3000 [01:35<00:45, 20.94it/s]\u001b[A\n",
      " 69%|██████▊   | 2059/3000 [01:35<00:46, 20.23it/s]\u001b[A\n",
      " 69%|██████▉   | 2063/3000 [01:35<00:39, 23.73it/s]\u001b[A\n",
      " 69%|██████▉   | 2067/3000 [01:35<00:42, 22.14it/s]\u001b[A\n",
      " 69%|██████▉   | 2070/3000 [01:35<00:40, 22.98it/s]\u001b[A\n",
      " 69%|██████▉   | 2073/3000 [01:36<00:56, 16.55it/s]\u001b[A\n",
      " 69%|██████▉   | 2076/3000 [01:36<00:49, 18.53it/s]\u001b[A\n",
      " 69%|██████▉   | 2079/3000 [01:36<00:44, 20.51it/s]\u001b[A\n",
      " 69%|██████▉   | 2083/3000 [01:36<00:38, 23.79it/s]\u001b[A\n",
      " 70%|██████▉   | 2086/3000 [01:36<00:38, 23.47it/s]\u001b[A\n",
      " 70%|██████▉   | 2089/3000 [01:37<00:51, 17.84it/s]\u001b[A\n",
      " 70%|██████▉   | 2092/3000 [01:37<00:51, 17.57it/s]\u001b[A\n",
      " 70%|██████▉   | 2096/3000 [01:37<00:44, 20.42it/s]\u001b[A\n",
      " 70%|██████▉   | 2099/3000 [01:37<00:40, 22.15it/s]\u001b[A\n",
      " 70%|███████   | 2102/3000 [01:37<00:38, 23.27it/s]\u001b[A\n",
      " 70%|███████   | 2105/3000 [01:37<00:40, 22.07it/s]\u001b[A\n",
      " 70%|███████   | 2108/3000 [01:37<00:54, 16.35it/s]\u001b[A\n",
      " 70%|███████   | 2111/3000 [01:38<00:47, 18.58it/s]\u001b[A\n",
      " 70%|███████   | 2114/3000 [01:38<00:44, 19.72it/s]\u001b[A\n",
      " 71%|███████   | 2117/3000 [01:38<00:51, 17.04it/s]\u001b[A\n",
      " 71%|███████   | 2120/3000 [01:38<00:46, 18.75it/s]\u001b[A\n",
      " 71%|███████   | 2123/3000 [01:38<00:41, 20.96it/s]\u001b[A\n",
      " 71%|███████   | 2126/3000 [01:38<00:38, 22.57it/s]\u001b[A\n",
      " 71%|███████   | 2130/3000 [01:39<00:49, 17.54it/s]\u001b[A\n",
      " 71%|███████   | 2133/3000 [01:39<00:45, 19.15it/s]\u001b[A\n",
      " 71%|███████   | 2137/3000 [01:39<00:40, 21.45it/s]\u001b[A\n",
      " 71%|███████▏  | 2141/3000 [01:39<00:37, 23.09it/s]\u001b[A\n",
      " 71%|███████▏  | 2144/3000 [01:39<00:36, 23.35it/s]\u001b[A\n",
      " 72%|███████▏  | 2147/3000 [01:39<00:42, 20.08it/s]\u001b[A\n",
      " 72%|███████▏  | 2150/3000 [01:40<00:56, 15.14it/s]\u001b[A\n",
      " 72%|███████▏  | 2153/3000 [01:40<00:50, 16.86it/s]\u001b[A\n",
      " 72%|███████▏  | 2156/3000 [01:40<00:44, 18.85it/s]\u001b[A\n",
      " 72%|███████▏  | 2159/3000 [01:40<00:40, 20.93it/s]\u001b[A\n",
      " 72%|███████▏  | 2162/3000 [01:40<00:39, 21.02it/s]\u001b[A\n",
      " 72%|███████▏  | 2165/3000 [01:40<00:36, 22.91it/s]\u001b[A\n",
      " 72%|███████▏  | 2169/3000 [01:40<00:31, 26.01it/s]\u001b[A\n",
      " 72%|███████▏  | 2172/3000 [01:41<00:32, 25.54it/s]\u001b[A\n",
      " 72%|███████▎  | 2175/3000 [01:41<00:33, 24.90it/s]\u001b[A\n",
      " 73%|███████▎  | 2178/3000 [01:41<00:47, 17.43it/s]\u001b[A\n",
      " 73%|███████▎  | 2181/3000 [01:41<00:45, 18.17it/s]\u001b[A\n",
      " 73%|███████▎  | 2184/3000 [01:41<00:46, 17.42it/s]\u001b[A\n",
      " 73%|███████▎  | 2187/3000 [01:41<00:40, 19.88it/s]\u001b[A\n",
      " 73%|███████▎  | 2191/3000 [01:41<00:34, 23.19it/s]\u001b[A\n",
      " 73%|███████▎  | 2195/3000 [01:42<00:35, 22.62it/s]\u001b[A\n",
      " 73%|███████▎  | 2198/3000 [01:42<00:35, 22.62it/s]\u001b[A\n",
      " 73%|███████▎  | 2201/3000 [01:42<00:33, 23.51it/s]\u001b[A\n",
      " 73%|███████▎  | 2204/3000 [01:42<00:46, 17.25it/s]\u001b[A\n",
      " 74%|███████▎  | 2208/3000 [01:42<00:37, 21.25it/s]\u001b[A\n",
      " 74%|███████▎  | 2212/3000 [01:42<00:31, 24.66it/s]\u001b[A\n",
      " 74%|███████▍  | 2215/3000 [01:43<00:30, 25.33it/s]\u001b[A\n",
      " 74%|███████▍  | 2219/3000 [01:43<00:27, 27.98it/s]\u001b[A\n",
      " 74%|███████▍  | 2223/3000 [01:43<00:28, 27.11it/s]\u001b[A\n",
      " 74%|███████▍  | 2226/3000 [01:43<00:36, 20.93it/s]\u001b[A\n",
      " 74%|███████▍  | 2229/3000 [01:43<00:34, 22.13it/s]\u001b[A\n",
      " 74%|███████▍  | 2233/3000 [01:43<00:31, 24.02it/s]\u001b[A\n",
      " 75%|███████▍  | 2236/3000 [01:43<00:30, 24.80it/s]\u001b[A\n",
      " 75%|███████▍  | 2239/3000 [01:44<00:30, 24.81it/s]\u001b[A\n",
      " 75%|███████▍  | 2242/3000 [01:44<00:32, 23.35it/s]\u001b[A\n",
      " 75%|███████▍  | 2246/3000 [01:44<00:28, 26.54it/s]\u001b[A\n",
      " 75%|███████▌  | 2250/3000 [01:44<00:28, 26.21it/s]\u001b[A\n",
      " 75%|███████▌  | 2253/3000 [01:44<00:41, 17.90it/s]\u001b[A\n",
      " 75%|███████▌  | 2256/3000 [01:44<00:37, 19.67it/s]\u001b[A\n",
      " 75%|███████▌  | 2259/3000 [01:45<00:35, 20.81it/s]\u001b[A\n",
      " 75%|███████▌  | 2263/3000 [01:45<00:31, 23.40it/s]\u001b[A\n",
      " 76%|███████▌  | 2266/3000 [01:45<00:34, 21.07it/s]\u001b[A\n",
      " 76%|███████▌  | 2270/3000 [01:45<00:30, 23.62it/s]\u001b[A\n",
      " 76%|███████▌  | 2273/3000 [01:45<00:31, 23.13it/s]\u001b[A\n",
      " 76%|███████▌  | 2277/3000 [01:45<00:27, 25.83it/s]\u001b[A\n",
      " 76%|███████▌  | 2281/3000 [01:45<00:27, 26.46it/s]\u001b[A\n",
      " 76%|███████▌  | 2284/3000 [01:45<00:27, 26.16it/s]\u001b[A\n",
      " 76%|███████▌  | 2287/3000 [01:46<00:39, 17.97it/s]\u001b[A\n",
      " 76%|███████▋  | 2290/3000 [01:46<00:35, 19.90it/s]\u001b[A\n",
      " 76%|███████▋  | 2293/3000 [01:46<00:34, 20.64it/s]\u001b[A\n",
      " 77%|███████▋  | 2297/3000 [01:46<00:30, 23.25it/s]\u001b[A\n",
      " 77%|███████▋  | 2300/3000 [01:46<00:29, 23.78it/s]\u001b[A\n",
      " 77%|███████▋  | 2303/3000 [01:46<00:28, 24.59it/s]\u001b[A\n",
      " 77%|███████▋  | 2306/3000 [01:47<00:31, 22.11it/s]\u001b[A\n",
      " 77%|███████▋  | 2309/3000 [01:47<00:33, 20.45it/s]\u001b[A\n",
      " 77%|███████▋  | 2312/3000 [01:47<00:32, 21.19it/s]\u001b[A\n",
      " 77%|███████▋  | 2315/3000 [01:47<00:30, 22.55it/s]\u001b[A\n",
      " 77%|███████▋  | 2319/3000 [01:47<00:28, 23.74it/s]\u001b[A\n",
      " 77%|███████▋  | 2323/3000 [01:47<00:26, 26.01it/s]\u001b[A\n",
      " 78%|███████▊  | 2326/3000 [01:48<00:38, 17.58it/s]\u001b[A\n",
      " 78%|███████▊  | 2330/3000 [01:48<00:33, 20.22it/s]\u001b[A\n",
      " 78%|███████▊  | 2333/3000 [01:48<00:31, 21.20it/s]\u001b[A\n",
      " 78%|███████▊  | 2336/3000 [01:48<00:32, 20.54it/s]\u001b[A\n",
      " 78%|███████▊  | 2339/3000 [01:48<00:30, 21.98it/s]\u001b[A\n",
      " 78%|███████▊  | 2342/3000 [01:48<00:28, 22.75it/s]\u001b[A\n",
      " 78%|███████▊  | 2345/3000 [01:48<00:32, 20.07it/s]\u001b[A\n",
      " 78%|███████▊  | 2348/3000 [01:49<00:30, 21.50it/s]\u001b[A\n",
      " 78%|███████▊  | 2352/3000 [01:49<00:28, 23.12it/s]\u001b[A\n",
      " 78%|███████▊  | 2355/3000 [01:49<00:26, 24.00it/s]\u001b[A\n",
      " 79%|███████▊  | 2359/3000 [01:49<00:24, 26.03it/s]\u001b[A\n",
      " 79%|███████▊  | 2362/3000 [01:49<00:24, 25.96it/s]\u001b[A\n",
      " 79%|███████▉  | 2366/3000 [01:49<00:23, 27.24it/s]\u001b[A\n",
      " 79%|███████▉  | 2370/3000 [01:49<00:22, 27.87it/s]\u001b[A\n",
      " 79%|███████▉  | 2374/3000 [01:49<00:21, 29.20it/s]\u001b[A\n",
      " 79%|███████▉  | 2377/3000 [01:50<00:21, 28.70it/s]\u001b[A\n",
      " 79%|███████▉  | 2380/3000 [01:50<00:22, 27.93it/s]\u001b[A\n",
      " 79%|███████▉  | 2383/3000 [01:50<00:22, 27.95it/s]\u001b[A\n",
      " 80%|███████▉  | 2386/3000 [01:50<00:23, 26.64it/s]\u001b[A\n",
      " 80%|███████▉  | 2389/3000 [01:50<00:23, 26.16it/s]\u001b[A\n",
      " 80%|███████▉  | 2392/3000 [01:50<00:30, 20.09it/s]\u001b[A\n",
      " 80%|███████▉  | 2395/3000 [01:50<00:36, 16.47it/s]\u001b[A\n",
      " 80%|███████▉  | 2398/3000 [01:51<00:33, 17.91it/s]\u001b[A\n",
      " 80%|████████  | 2401/3000 [01:51<00:38, 15.52it/s]\u001b[A\n",
      " 80%|████████  | 2404/3000 [01:51<00:35, 16.84it/s]\u001b[A\n",
      " 80%|████████  | 2407/3000 [01:51<00:31, 19.09it/s]\u001b[A\n",
      " 80%|████████  | 2410/3000 [01:51<00:28, 20.45it/s]\u001b[A\n",
      " 80%|████████  | 2413/3000 [01:51<00:26, 21.94it/s]\u001b[A\n",
      " 81%|████████  | 2416/3000 [01:51<00:25, 22.61it/s]\u001b[A\n",
      " 81%|████████  | 2419/3000 [01:52<00:24, 23.62it/s]\u001b[A\n",
      " 81%|████████  | 2422/3000 [01:52<00:24, 23.18it/s]\u001b[A\n",
      " 81%|████████  | 2425/3000 [01:52<00:42, 13.60it/s]\u001b[A\n",
      " 81%|████████  | 2427/3000 [01:52<00:39, 14.54it/s]\u001b[A\n",
      " 81%|████████  | 2430/3000 [01:52<00:33, 17.17it/s]\u001b[A\n",
      " 81%|████████  | 2433/3000 [01:53<00:30, 18.39it/s]\u001b[A\n",
      " 81%|████████  | 2436/3000 [01:53<00:27, 20.54it/s]\u001b[A\n",
      " 81%|████████▏ | 2439/3000 [01:53<00:24, 22.61it/s]\u001b[A\n",
      " 81%|████████▏ | 2442/3000 [01:53<00:22, 24.34it/s]\u001b[A\n",
      " 82%|████████▏ | 2445/3000 [01:53<00:24, 22.94it/s]\u001b[A\n",
      " 82%|████████▏ | 2448/3000 [01:53<00:24, 22.36it/s]\u001b[A\n"
     ]
    },
    {
     "name": "stderr",
     "output_type": "stream",
     "text": [
      " 82%|████████▏ | 2451/3000 [01:53<00:34, 15.89it/s]\u001b[A\n",
      " 82%|████████▏ | 2453/3000 [01:54<00:33, 16.49it/s]\u001b[A\n",
      " 82%|████████▏ | 2457/3000 [01:54<00:26, 20.73it/s]\u001b[A\n",
      " 82%|████████▏ | 2460/3000 [01:54<00:27, 19.95it/s]\u001b[A\n",
      " 82%|████████▏ | 2463/3000 [01:54<00:27, 19.87it/s]\u001b[A\n",
      " 82%|████████▏ | 2466/3000 [01:54<00:24, 22.04it/s]\u001b[A\n",
      " 82%|████████▏ | 2469/3000 [01:54<00:24, 21.50it/s]\u001b[A\n",
      " 82%|████████▏ | 2474/3000 [01:54<00:19, 26.41it/s]\u001b[A\n",
      " 83%|████████▎ | 2477/3000 [01:54<00:19, 26.23it/s]\u001b[A\n",
      " 83%|████████▎ | 2480/3000 [01:55<00:19, 27.09it/s]\u001b[A\n",
      " 83%|████████▎ | 2484/3000 [01:55<00:17, 29.55it/s]\u001b[A\n",
      " 83%|████████▎ | 2488/3000 [01:55<00:16, 30.66it/s]\u001b[A\n",
      " 83%|████████▎ | 2492/3000 [01:55<00:16, 30.29it/s]\u001b[A\n",
      " 83%|████████▎ | 2496/3000 [01:55<00:18, 26.80it/s]\u001b[A\n",
      " 83%|████████▎ | 2500/3000 [01:55<00:18, 27.43it/s]\u001b[A\n",
      " 84%|████████▎ | 2505/3000 [01:55<00:15, 31.44it/s]\u001b[A\n",
      " 84%|████████▎ | 2509/3000 [01:56<00:17, 28.14it/s]\u001b[A\n",
      " 84%|████████▍ | 2513/3000 [01:56<00:17, 28.62it/s]\u001b[A\n",
      " 84%|████████▍ | 2516/3000 [01:56<00:17, 27.29it/s]\u001b[A\n",
      " 84%|████████▍ | 2519/3000 [01:56<00:17, 27.62it/s]\u001b[A\n",
      " 84%|████████▍ | 2522/3000 [01:56<00:17, 26.98it/s]\u001b[A\n",
      " 84%|████████▍ | 2525/3000 [01:56<00:17, 27.67it/s]\u001b[A\n",
      " 84%|████████▍ | 2528/3000 [01:56<00:16, 27.98it/s]\u001b[A\n",
      " 84%|████████▍ | 2531/3000 [01:56<00:20, 23.09it/s]\u001b[A\n",
      " 84%|████████▍ | 2534/3000 [01:57<00:18, 24.59it/s]\u001b[A\n",
      " 85%|████████▍ | 2538/3000 [01:57<00:17, 27.01it/s]\u001b[A\n",
      " 85%|████████▍ | 2541/3000 [01:57<00:20, 22.82it/s]\u001b[A\n",
      " 85%|████████▍ | 2544/3000 [01:57<00:24, 18.57it/s]\u001b[A\n",
      " 85%|████████▍ | 2547/3000 [01:57<00:28, 15.78it/s]\u001b[A\n",
      " 85%|████████▌ | 2550/3000 [01:57<00:26, 16.85it/s]\u001b[A\n",
      " 85%|████████▌ | 2552/3000 [01:58<00:26, 17.00it/s]\u001b[A\n",
      " 85%|████████▌ | 2554/3000 [01:58<00:27, 16.46it/s]\u001b[A\n",
      " 85%|████████▌ | 2557/3000 [01:58<00:24, 18.34it/s]\u001b[A\n",
      " 85%|████████▌ | 2559/3000 [01:58<00:25, 16.98it/s]\u001b[A\n",
      " 85%|████████▌ | 2561/3000 [01:58<00:33, 13.02it/s]\u001b[A\n",
      " 85%|████████▌ | 2564/3000 [01:58<00:27, 15.94it/s]\u001b[A\n",
      " 86%|████████▌ | 2566/3000 [01:59<00:27, 15.64it/s]\u001b[A\n",
      " 86%|████████▌ | 2570/3000 [01:59<00:21, 19.78it/s]\u001b[A\n",
      " 86%|████████▌ | 2574/3000 [01:59<00:18, 23.51it/s]\u001b[A\n",
      " 86%|████████▌ | 2577/3000 [01:59<00:16, 24.89it/s]\u001b[A\n",
      " 86%|████████▌ | 2580/3000 [01:59<00:17, 23.62it/s]\u001b[A\n",
      " 86%|████████▌ | 2583/3000 [01:59<00:26, 15.73it/s]\u001b[A\n",
      " 86%|████████▌ | 2586/3000 [01:59<00:22, 18.03it/s]\u001b[A\n",
      " 86%|████████▋ | 2589/3000 [02:00<00:23, 17.80it/s]\u001b[A\n",
      " 86%|████████▋ | 2592/3000 [02:00<00:21, 19.13it/s]\u001b[A\n",
      " 87%|████████▋ | 2596/3000 [02:00<00:17, 22.48it/s]\u001b[A\n",
      " 87%|████████▋ | 2599/3000 [02:00<00:17, 23.58it/s]\u001b[A\n",
      " 87%|████████▋ | 2604/3000 [02:00<00:14, 27.41it/s]\u001b[A\n",
      " 87%|████████▋ | 2607/3000 [02:00<00:14, 27.16it/s]\u001b[A\n",
      " 87%|████████▋ | 2611/3000 [02:00<00:13, 28.12it/s]\u001b[A\n",
      " 87%|████████▋ | 2615/3000 [02:00<00:12, 30.13it/s]\u001b[A\n",
      " 87%|████████▋ | 2619/3000 [02:01<00:13, 28.52it/s]\u001b[A\n",
      " 87%|████████▋ | 2623/3000 [02:01<00:16, 23.22it/s]\u001b[A\n",
      " 88%|████████▊ | 2626/3000 [02:01<00:16, 22.67it/s]\u001b[A\n",
      " 88%|████████▊ | 2629/3000 [02:01<00:16, 22.93it/s]\u001b[A\n",
      " 88%|████████▊ | 2632/3000 [02:01<00:17, 21.57it/s]\u001b[A\n",
      " 88%|████████▊ | 2635/3000 [02:01<00:16, 22.65it/s]\u001b[A\n",
      " 88%|████████▊ | 2638/3000 [02:02<00:15, 23.01it/s]\u001b[A\n",
      " 88%|████████▊ | 2641/3000 [02:02<00:16, 21.21it/s]\u001b[A\n",
      " 88%|████████▊ | 2644/3000 [02:02<00:15, 22.30it/s]\u001b[A\n",
      " 88%|████████▊ | 2647/3000 [02:02<00:15, 23.44it/s]\u001b[A\n",
      " 88%|████████▊ | 2650/3000 [02:02<00:14, 24.28it/s]\u001b[A\n",
      " 88%|████████▊ | 2653/3000 [02:02<00:14, 23.18it/s]\u001b[A\n",
      " 89%|████████▊ | 2656/3000 [02:02<00:15, 22.52it/s]\u001b[A\n",
      " 89%|████████▊ | 2659/3000 [02:03<00:16, 20.66it/s]\u001b[A\n",
      " 89%|████████▊ | 2662/3000 [02:03<00:15, 22.12it/s]\u001b[A\n",
      " 89%|████████▉ | 2666/3000 [02:03<00:13, 25.67it/s]\u001b[A\n",
      " 89%|████████▉ | 2669/3000 [02:03<00:12, 26.21it/s]\u001b[A\n",
      " 89%|████████▉ | 2672/3000 [02:03<00:15, 20.57it/s]\u001b[A\n",
      " 89%|████████▉ | 2675/3000 [02:03<00:17, 18.96it/s]\u001b[A\n",
      " 89%|████████▉ | 2679/3000 [02:04<00:18, 16.96it/s]\u001b[A\n",
      " 89%|████████▉ | 2682/3000 [02:04<00:17, 18.43it/s]\u001b[A\n",
      " 90%|████████▉ | 2685/3000 [02:04<00:15, 19.89it/s]\u001b[A\n",
      " 90%|████████▉ | 2688/3000 [02:04<00:19, 16.12it/s]\u001b[A\n",
      " 90%|████████▉ | 2692/3000 [02:04<00:15, 19.43it/s]\u001b[A\n",
      " 90%|████████▉ | 2696/3000 [02:04<00:13, 22.64it/s]\u001b[A\n",
      " 90%|████████▉ | 2699/3000 [02:04<00:13, 22.34it/s]\u001b[A\n",
      " 90%|█████████ | 2702/3000 [02:05<00:12, 23.23it/s]\u001b[A\n",
      " 90%|█████████ | 2706/3000 [02:05<00:11, 25.07it/s]\u001b[A\n",
      " 90%|█████████ | 2710/3000 [02:05<00:10, 27.08it/s]\u001b[A\n",
      " 90%|█████████ | 2713/3000 [02:05<00:15, 19.00it/s]\u001b[A\n",
      " 91%|█████████ | 2716/3000 [02:05<00:15, 18.71it/s]\u001b[A\n",
      " 91%|█████████ | 2719/3000 [02:06<00:17, 16.17it/s]\u001b[A\n",
      " 91%|█████████ | 2722/3000 [02:06<00:15, 17.86it/s]\u001b[A\n",
      " 91%|█████████ | 2725/3000 [02:06<00:14, 19.49it/s]\u001b[A\n",
      " 91%|█████████ | 2729/3000 [02:06<00:11, 23.52it/s]\u001b[A\n",
      " 91%|█████████ | 2733/3000 [02:06<00:10, 26.03it/s]\u001b[A\n",
      " 91%|█████████ | 2736/3000 [02:06<00:09, 26.69it/s]\u001b[A\n",
      " 91%|█████████▏| 2739/3000 [02:06<00:13, 19.24it/s]\u001b[A\n",
      " 91%|█████████▏| 2743/3000 [02:07<00:11, 22.84it/s]\u001b[A\n",
      " 92%|█████████▏| 2746/3000 [02:07<00:11, 22.94it/s]\u001b[A\n",
      " 92%|█████████▏| 2749/3000 [02:07<00:10, 23.59it/s]\u001b[A\n",
      " 92%|█████████▏| 2753/3000 [02:07<00:09, 26.13it/s]\u001b[A\n",
      " 92%|█████████▏| 2756/3000 [02:07<00:09, 26.02it/s]\u001b[A\n",
      " 92%|█████████▏| 2760/3000 [02:07<00:08, 29.30it/s]\u001b[A\n",
      " 92%|█████████▏| 2764/3000 [02:07<00:08, 27.56it/s]\u001b[A\n",
      " 92%|█████████▏| 2767/3000 [02:07<00:08, 27.86it/s]\u001b[A\n",
      " 92%|█████████▏| 2771/3000 [02:07<00:07, 29.96it/s]\u001b[A\n",
      " 92%|█████████▎| 2775/3000 [02:08<00:07, 29.81it/s]\u001b[A\n",
      " 93%|█████████▎| 2779/3000 [02:08<00:08, 27.36it/s]\u001b[A\n",
      " 93%|█████████▎| 2783/3000 [02:08<00:07, 28.52it/s]\u001b[A\n",
      " 93%|█████████▎| 2787/3000 [02:08<00:07, 28.23it/s]\u001b[A\n",
      " 93%|█████████▎| 2791/3000 [02:08<00:06, 30.13it/s]\u001b[A\n",
      " 93%|█████████▎| 2795/3000 [02:08<00:09, 21.41it/s]\u001b[A\n",
      " 93%|█████████▎| 2799/3000 [02:09<00:08, 23.09it/s]\u001b[A\n",
      " 93%|█████████▎| 2802/3000 [02:09<00:08, 24.28it/s]\u001b[A\n",
      " 94%|█████████▎| 2805/3000 [02:09<00:07, 25.53it/s]\u001b[A\n",
      " 94%|█████████▎| 2808/3000 [02:09<00:11, 16.02it/s]\u001b[A\n",
      " 94%|█████████▎| 2812/3000 [02:09<00:09, 19.52it/s]\u001b[A\n",
      " 94%|█████████▍| 2815/3000 [02:09<00:09, 19.94it/s]\u001b[A\n",
      " 94%|█████████▍| 2819/3000 [02:10<00:07, 22.84it/s]\u001b[A\n",
      " 94%|█████████▍| 2822/3000 [02:10<00:09, 18.94it/s]\u001b[A\n",
      " 94%|█████████▍| 2825/3000 [02:10<00:09, 18.98it/s]\u001b[A\n",
      " 94%|█████████▍| 2828/3000 [02:10<00:08, 20.80it/s]\u001b[A\n",
      " 94%|█████████▍| 2831/3000 [02:10<00:07, 22.80it/s]\u001b[A\n",
      " 94%|█████████▍| 2834/3000 [02:10<00:06, 24.42it/s]\u001b[A\n",
      " 95%|█████████▍| 2837/3000 [02:11<00:09, 17.89it/s]\u001b[A\n",
      " 95%|█████████▍| 2840/3000 [02:11<00:08, 19.20it/s]\u001b[A\n",
      " 95%|█████████▍| 2844/3000 [02:11<00:06, 23.03it/s]\u001b[A\n",
      " 95%|█████████▍| 2848/3000 [02:11<00:05, 25.46it/s]\u001b[A\n",
      " 95%|█████████▌| 2851/3000 [02:11<00:08, 17.82it/s]\u001b[A\n",
      " 95%|█████████▌| 2854/3000 [02:11<00:07, 19.43it/s]\u001b[A\n",
      " 95%|█████████▌| 2858/3000 [02:11<00:06, 22.57it/s]\u001b[A\n",
      " 95%|█████████▌| 2861/3000 [02:12<00:06, 21.85it/s]\u001b[A\n",
      " 95%|█████████▌| 2864/3000 [02:12<00:06, 22.10it/s]\u001b[A\n",
      " 96%|█████████▌| 2867/3000 [02:12<00:06, 19.62it/s]\u001b[A\n",
      " 96%|█████████▌| 2871/3000 [02:12<00:05, 23.14it/s]\u001b[A\n",
      " 96%|█████████▌| 2875/3000 [02:12<00:04, 25.02it/s]\u001b[A\n",
      " 96%|█████████▌| 2879/3000 [02:12<00:04, 26.22it/s]\u001b[A\n",
      " 96%|█████████▌| 2882/3000 [02:12<00:04, 24.81it/s]\u001b[A\n",
      " 96%|█████████▌| 2885/3000 [02:13<00:04, 24.86it/s]\u001b[A\n",
      " 96%|█████████▋| 2888/3000 [02:13<00:04, 24.11it/s]\u001b[A\n",
      " 96%|█████████▋| 2892/3000 [02:13<00:04, 25.98it/s]\u001b[A\n",
      " 96%|█████████▋| 2895/3000 [02:13<00:04, 24.74it/s]\u001b[A\n",
      " 97%|█████████▋| 2898/3000 [02:13<00:03, 25.50it/s]\u001b[A\n",
      " 97%|█████████▋| 2901/3000 [02:13<00:03, 26.34it/s]\u001b[A\n",
      " 97%|█████████▋| 2906/3000 [02:13<00:03, 29.53it/s]\u001b[A\n",
      " 97%|█████████▋| 2910/3000 [02:13<00:02, 30.38it/s]\u001b[A\n",
      " 97%|█████████▋| 2914/3000 [02:14<00:02, 29.95it/s]\u001b[A\n",
      " 97%|█████████▋| 2917/3000 [02:14<00:02, 28.99it/s]\u001b[A\n",
      " 97%|█████████▋| 2920/3000 [02:14<00:03, 25.33it/s]\u001b[A\n",
      " 97%|█████████▋| 2923/3000 [02:14<00:04, 17.50it/s]\u001b[A\n",
      " 98%|█████████▊| 2926/3000 [02:14<00:04, 18.22it/s]\u001b[A\n",
      " 98%|█████████▊| 2930/3000 [02:14<00:03, 21.18it/s]\u001b[A\n",
      " 98%|█████████▊| 2933/3000 [02:15<00:03, 22.00it/s]\u001b[A\n",
      " 98%|█████████▊| 2936/3000 [02:15<00:02, 23.01it/s]\u001b[A\n",
      " 98%|█████████▊| 2940/3000 [02:15<00:02, 24.63it/s]\u001b[A\n",
      " 98%|█████████▊| 2943/3000 [02:15<00:02, 25.14it/s]\u001b[A\n"
     ]
    },
    {
     "name": "stderr",
     "output_type": "stream",
     "text": [
      " 98%|█████████▊| 2947/3000 [02:15<00:01, 27.53it/s]\u001b[A\n",
      " 98%|█████████▊| 2951/3000 [02:15<00:01, 29.54it/s]\u001b[A\n",
      " 98%|█████████▊| 2955/3000 [02:15<00:01, 30.66it/s]\u001b[A\n",
      " 99%|█████████▊| 2959/3000 [02:15<00:01, 28.40it/s]\u001b[A\n",
      " 99%|█████████▊| 2962/3000 [02:16<00:01, 19.52it/s]\u001b[A\n",
      " 99%|█████████▉| 2965/3000 [02:16<00:01, 18.72it/s]\u001b[A\n",
      " 99%|█████████▉| 2968/3000 [02:16<00:01, 20.74it/s]\u001b[A\n",
      " 99%|█████████▉| 2972/3000 [02:16<00:01, 24.05it/s]\u001b[A\n",
      " 99%|█████████▉| 2976/3000 [02:16<00:00, 26.13it/s]\u001b[A\n",
      " 99%|█████████▉| 2979/3000 [02:16<00:00, 26.03it/s]\u001b[A\n",
      " 99%|█████████▉| 2983/3000 [02:17<00:00, 28.22it/s]\u001b[A\n",
      "100%|█████████▉| 2987/3000 [02:17<00:00, 29.65it/s]\u001b[A\n",
      "100%|█████████▉| 2991/3000 [02:17<00:00, 30.65it/s]\u001b[A\n",
      "100%|█████████▉| 2995/3000 [02:17<00:00, 30.61it/s]\u001b[A\n",
      "100%|██████████| 3000/3000 [02:17<00:00, 21.76it/s]\u001b[A\n",
      "  8%|▊         | 1/13 [02:25<29:09, 145.80s/it]"
     ]
    },
    {
     "name": "stdout",
     "output_type": "stream",
     "text": [
      "results_CLIP_1 completed\n"
     ]
    },
    {
     "name": "stderr",
     "output_type": "stream",
     "text": [
      "\n",
      "  0%|          | 0/3000 [00:00<?, ?it/s]\u001b[A\n",
      "  0%|          | 4/3000 [00:00<01:37, 30.74it/s]\u001b[A\n",
      "  0%|          | 8/3000 [00:00<01:43, 28.92it/s]\u001b[A\n",
      "  0%|          | 11/3000 [00:00<02:45, 18.03it/s]\u001b[A\n",
      "  0%|          | 14/3000 [00:00<03:39, 13.59it/s]\u001b[A\n",
      "  1%|          | 18/3000 [00:00<02:46, 17.95it/s]\u001b[A\n",
      "  1%|          | 21/3000 [00:01<02:29, 19.94it/s]\u001b[A\n",
      "  1%|          | 25/3000 [00:01<02:05, 23.68it/s]\u001b[A\n",
      "  1%|          | 28/3000 [00:01<02:14, 22.12it/s]\u001b[A\n",
      "  1%|          | 31/3000 [00:01<02:05, 23.72it/s]\u001b[A\n",
      "  1%|          | 35/3000 [00:01<01:55, 25.58it/s]\u001b[A\n",
      "  1%|▏         | 39/3000 [00:01<01:45, 28.14it/s]\u001b[A\n",
      "  1%|▏         | 42/3000 [00:01<01:43, 28.48it/s]\u001b[A\n",
      "  2%|▏         | 46/3000 [00:01<01:38, 29.89it/s]\u001b[A\n",
      "  2%|▏         | 50/3000 [00:02<01:39, 29.61it/s]\u001b[A\n",
      "  2%|▏         | 54/3000 [00:02<01:37, 30.30it/s]\u001b[A\n",
      "  2%|▏         | 58/3000 [00:02<02:12, 22.22it/s]\u001b[A\n",
      "  2%|▏         | 61/3000 [00:02<02:04, 23.64it/s]\u001b[A\n",
      "  2%|▏         | 64/3000 [00:02<02:01, 24.23it/s]\u001b[A\n",
      "  2%|▏         | 68/3000 [00:02<01:49, 26.71it/s]\u001b[A\n",
      "  2%|▏         | 71/3000 [00:03<02:25, 20.16it/s]\u001b[A\n",
      "  2%|▎         | 75/3000 [00:03<02:07, 22.97it/s]\u001b[A\n",
      "  3%|▎         | 78/3000 [00:03<02:44, 17.74it/s]\u001b[A\n",
      "  3%|▎         | 81/3000 [00:03<03:06, 15.68it/s]\u001b[A\n",
      "  3%|▎         | 85/3000 [00:03<02:41, 18.05it/s]\u001b[A\n",
      "  3%|▎         | 89/3000 [00:04<02:20, 20.69it/s]\u001b[A\n",
      "  3%|▎         | 92/3000 [00:04<02:20, 20.72it/s]\u001b[A\n",
      "  3%|▎         | 95/3000 [00:04<02:17, 21.06it/s]\u001b[A\n",
      "  3%|▎         | 100/3000 [00:04<01:53, 25.50it/s]\u001b[A\n",
      "  3%|▎         | 104/3000 [00:04<01:42, 28.18it/s]\u001b[A\n",
      "  4%|▎         | 107/3000 [00:04<01:45, 27.49it/s]\u001b[A\n",
      "  4%|▎         | 110/3000 [00:04<01:58, 24.39it/s]\u001b[A\n",
      "  4%|▍         | 113/3000 [00:04<02:01, 23.77it/s]\u001b[A\n",
      "  4%|▍         | 116/3000 [00:05<02:07, 22.67it/s]\u001b[A\n",
      "  4%|▍         | 120/3000 [00:05<01:48, 26.47it/s]\u001b[A\n",
      "  4%|▍         | 124/3000 [00:05<01:44, 27.63it/s]\u001b[A\n",
      "  4%|▍         | 128/3000 [00:05<01:37, 29.36it/s]\u001b[A\n",
      "  4%|▍         | 132/3000 [00:05<01:34, 30.21it/s]\u001b[A\n",
      "  5%|▍         | 136/3000 [00:05<01:29, 31.94it/s]\u001b[A\n",
      "  5%|▍         | 140/3000 [00:05<01:33, 30.60it/s]\u001b[A\n",
      "  5%|▍         | 144/3000 [00:05<01:31, 31.30it/s]\u001b[A\n",
      "  5%|▍         | 148/3000 [00:06<01:30, 31.55it/s]\u001b[A\n",
      "  5%|▌         | 152/3000 [00:06<02:05, 22.74it/s]\u001b[A\n",
      "  5%|▌         | 156/3000 [00:06<01:53, 25.05it/s]\u001b[A\n",
      "  5%|▌         | 159/3000 [00:06<01:56, 24.43it/s]\u001b[A\n",
      "  5%|▌         | 163/3000 [00:06<01:46, 26.69it/s]\u001b[A\n",
      "  6%|▌         | 166/3000 [00:06<01:47, 26.37it/s]\u001b[A\n",
      "  6%|▌         | 169/3000 [00:07<02:27, 19.24it/s]\u001b[A\n",
      "  6%|▌         | 172/3000 [00:07<02:12, 21.34it/s]\u001b[A\n",
      "  6%|▌         | 176/3000 [00:07<02:40, 17.58it/s]\u001b[A\n",
      "  6%|▌         | 180/3000 [00:07<02:14, 21.01it/s]\u001b[A\n",
      "  6%|▌         | 184/3000 [00:07<01:58, 23.79it/s]\u001b[A\n",
      "  6%|▌         | 187/3000 [00:07<01:53, 24.81it/s]\u001b[A\n",
      "  6%|▋         | 190/3000 [00:08<02:08, 21.89it/s]\u001b[A\n",
      "  6%|▋         | 193/3000 [00:08<02:05, 22.39it/s]\u001b[A\n",
      "  7%|▋         | 196/3000 [00:08<02:25, 19.29it/s]\u001b[A\n",
      "  7%|▋         | 199/3000 [00:08<02:23, 19.58it/s]\u001b[A\n",
      "  7%|▋         | 202/3000 [00:08<02:59, 15.62it/s]\u001b[A\n",
      "  7%|▋         | 206/3000 [00:09<03:06, 15.00it/s]\u001b[A\n",
      "  7%|▋         | 208/3000 [00:09<02:59, 15.53it/s]\u001b[A\n",
      "  7%|▋         | 212/3000 [00:09<03:18, 14.06it/s]\u001b[A\n",
      "  7%|▋         | 214/3000 [00:09<03:12, 14.46it/s]\u001b[A\n",
      "  7%|▋         | 217/3000 [00:09<03:33, 13.02it/s]\u001b[A\n",
      "  7%|▋         | 220/3000 [00:10<02:59, 15.51it/s]\u001b[A\n",
      "  7%|▋         | 223/3000 [00:10<02:33, 18.13it/s]\u001b[A\n",
      "  8%|▊         | 227/3000 [00:10<02:07, 21.67it/s]\u001b[A\n",
      "  8%|▊         | 230/3000 [00:10<02:50, 16.25it/s]\u001b[A\n",
      "  8%|▊         | 234/3000 [00:10<02:17, 20.14it/s]\u001b[A\n",
      "  8%|▊         | 237/3000 [00:11<02:54, 15.81it/s]\u001b[A\n",
      "  8%|▊         | 240/3000 [00:11<03:07, 14.73it/s]\u001b[A\n",
      "  8%|▊         | 245/3000 [00:11<02:21, 19.54it/s]\u001b[A\n",
      "  8%|▊         | 249/3000 [00:11<02:03, 22.33it/s]\u001b[A\n",
      "  8%|▊         | 252/3000 [00:11<01:57, 23.29it/s]\u001b[A\n",
      "  8%|▊         | 255/3000 [00:11<01:54, 23.90it/s]\u001b[A\n",
      "  9%|▊         | 258/3000 [00:11<01:49, 24.96it/s]\u001b[A\n",
      "  9%|▊         | 261/3000 [00:11<01:56, 23.52it/s]\u001b[A\n",
      "  9%|▉         | 264/3000 [00:12<01:55, 23.69it/s]\u001b[A\n",
      "  9%|▉         | 267/3000 [00:12<01:56, 23.47it/s]\u001b[A\n",
      "  9%|▉         | 270/3000 [00:12<01:57, 23.24it/s]\u001b[A\n",
      "  9%|▉         | 273/3000 [00:12<01:53, 24.05it/s]\u001b[A\n",
      "  9%|▉         | 276/3000 [00:12<01:57, 23.26it/s]\u001b[A\n",
      "  9%|▉         | 279/3000 [00:12<01:51, 24.47it/s]\u001b[A\n",
      "  9%|▉         | 282/3000 [00:12<01:57, 23.05it/s]\u001b[A\n",
      " 10%|▉         | 285/3000 [00:13<01:58, 22.87it/s]\u001b[A\n",
      " 10%|▉         | 288/3000 [00:13<01:52, 24.09it/s]\u001b[A\n",
      " 10%|▉         | 291/3000 [00:13<03:27, 13.04it/s]\u001b[A\n",
      " 10%|▉         | 294/3000 [00:13<02:53, 15.64it/s]\u001b[A\n",
      " 10%|▉         | 297/3000 [00:13<02:29, 18.08it/s]\u001b[A\n",
      " 10%|█         | 300/3000 [00:13<02:11, 20.50it/s]\u001b[A\n",
      " 10%|█         | 303/3000 [00:14<02:10, 20.74it/s]\u001b[A\n",
      " 10%|█         | 306/3000 [00:14<01:58, 22.66it/s]\u001b[A\n",
      " 10%|█         | 310/3000 [00:14<01:43, 25.97it/s]\u001b[A\n",
      " 10%|█         | 314/3000 [00:14<01:35, 28.21it/s]\u001b[A\n",
      " 11%|█         | 318/3000 [00:14<01:35, 28.07it/s]\u001b[A\n",
      " 11%|█         | 321/3000 [00:14<01:35, 27.92it/s]\u001b[A\n",
      " 11%|█         | 324/3000 [00:14<02:07, 21.03it/s]\u001b[A\n",
      " 11%|█         | 328/3000 [00:14<01:49, 24.50it/s]\u001b[A\n",
      " 11%|█         | 331/3000 [00:15<01:44, 25.42it/s]\u001b[A\n",
      " 11%|█         | 334/3000 [00:15<02:25, 18.35it/s]\u001b[A\n",
      " 11%|█         | 337/3000 [00:15<02:54, 15.29it/s]\u001b[A\n",
      " 11%|█▏        | 341/3000 [00:15<02:25, 18.24it/s]\u001b[A\n",
      " 12%|█▏        | 345/3000 [00:16<02:46, 15.94it/s]\u001b[A\n",
      " 12%|█▏        | 349/3000 [00:16<02:25, 18.28it/s]\u001b[A\n",
      " 12%|█▏        | 352/3000 [00:16<02:51, 15.40it/s]\u001b[A\n",
      " 12%|█▏        | 355/3000 [00:16<02:31, 17.44it/s]\u001b[A\n",
      " 12%|█▏        | 358/3000 [00:16<02:23, 18.40it/s]\u001b[A\n",
      " 12%|█▏        | 361/3000 [00:16<02:07, 20.65it/s]\u001b[A\n",
      " 12%|█▏        | 364/3000 [00:17<02:43, 16.12it/s]\u001b[A\n",
      " 12%|█▏        | 367/3000 [00:17<02:22, 18.52it/s]\u001b[A\n",
      " 12%|█▏        | 372/3000 [00:17<01:54, 22.86it/s]\u001b[A\n",
      " 12%|█▎        | 375/3000 [00:17<02:10, 20.07it/s]\u001b[A\n",
      " 13%|█▎        | 378/3000 [00:17<02:47, 15.69it/s]\u001b[A\n",
      " 13%|█▎        | 382/3000 [00:18<02:15, 19.32it/s]\u001b[A\n",
      " 13%|█▎        | 385/3000 [00:18<02:21, 18.49it/s]\u001b[A\n",
      " 13%|█▎        | 388/3000 [00:18<02:09, 20.11it/s]\u001b[A\n",
      " 13%|█▎        | 392/3000 [00:18<01:52, 23.10it/s]\u001b[A\n",
      " 13%|█▎        | 395/3000 [00:18<01:54, 22.71it/s]\u001b[A\n",
      " 13%|█▎        | 399/3000 [00:18<01:46, 24.48it/s]\u001b[A\n",
      " 13%|█▎        | 403/3000 [00:18<01:40, 25.88it/s]\u001b[A\n",
      " 14%|█▎        | 407/3000 [00:19<01:35, 27.26it/s]\u001b[A\n",
      " 14%|█▎        | 410/3000 [00:19<01:43, 25.11it/s]\u001b[A\n",
      " 14%|█▍        | 413/3000 [00:19<01:39, 25.97it/s]\u001b[A\n",
      " 14%|█▍        | 416/3000 [00:19<01:43, 24.88it/s]\u001b[A\n",
      " 14%|█▍        | 419/3000 [00:19<01:51, 23.21it/s]\u001b[A\n",
      " 14%|█▍        | 423/3000 [00:19<01:42, 25.06it/s]\u001b[A\n",
      " 14%|█▍        | 426/3000 [00:19<01:43, 24.94it/s]\u001b[A\n",
      " 14%|█▍        | 429/3000 [00:19<01:46, 24.25it/s]\u001b[A\n",
      " 14%|█▍        | 432/3000 [00:20<01:42, 25.06it/s]\u001b[A\n",
      " 14%|█▍        | 435/3000 [00:20<01:49, 23.39it/s]\u001b[A\n",
      " 15%|█▍        | 438/3000 [00:20<01:43, 24.73it/s]\u001b[A\n",
      " 15%|█▍        | 443/3000 [00:20<01:27, 29.16it/s]\u001b[A\n",
      " 15%|█▍        | 446/3000 [00:20<01:29, 28.65it/s]\u001b[A\n",
      " 15%|█▌        | 450/3000 [00:20<01:26, 29.63it/s]\u001b[A\n",
      " 15%|█▌        | 453/3000 [00:20<01:37, 26.15it/s]\u001b[A\n",
      " 15%|█▌        | 456/3000 [00:20<01:42, 24.79it/s]\u001b[A\n",
      " 15%|█▌        | 460/3000 [00:21<01:34, 26.86it/s]\u001b[A\n",
      " 15%|█▌        | 463/3000 [00:21<02:06, 20.13it/s]\u001b[A\n",
      " 16%|█▌        | 466/3000 [00:21<02:01, 20.90it/s]\u001b[A\n",
      " 16%|█▌        | 470/3000 [00:21<01:46, 23.69it/s]\u001b[A\n",
      " 16%|█▌        | 473/3000 [00:21<01:44, 24.22it/s]\u001b[A\n",
      " 16%|█▌        | 477/3000 [00:21<01:30, 27.83it/s]\u001b[A\n",
      " 16%|█▌        | 480/3000 [00:21<01:39, 25.44it/s]\u001b[A\n",
      " 16%|█▌        | 483/3000 [00:22<02:01, 20.73it/s]\u001b[A\n",
      " 16%|█▌        | 486/3000 [00:22<02:21, 17.78it/s]\u001b[A\n",
      " 16%|█▋        | 490/3000 [00:22<01:58, 21.15it/s]\u001b[A\n",
      " 16%|█▋        | 493/3000 [00:22<02:24, 17.40it/s]\u001b[A\n",
      " 17%|█▋        | 497/3000 [00:22<02:06, 19.83it/s]\u001b[A\n",
      " 17%|█▋        | 500/3000 [00:23<01:55, 21.72it/s]\u001b[A\n",
      " 17%|█▋        | 503/3000 [00:23<02:28, 16.80it/s]\u001b[A\n",
      " 17%|█▋        | 506/3000 [00:23<03:05, 13.46it/s]\u001b[A\n",
      " 17%|█▋        | 510/3000 [00:23<02:26, 16.94it/s]\u001b[A\n",
      " 17%|█▋        | 514/3000 [00:23<02:05, 19.78it/s]\u001b[A\n"
     ]
    },
    {
     "name": "stderr",
     "output_type": "stream",
     "text": [
      " 17%|█▋        | 518/3000 [00:24<01:52, 22.07it/s]\u001b[A\n",
      " 17%|█▋        | 521/3000 [00:24<01:44, 23.65it/s]\u001b[A\n",
      " 18%|█▊        | 525/3000 [00:24<01:38, 25.18it/s]\u001b[A\n",
      " 18%|█▊        | 528/3000 [00:24<01:44, 23.67it/s]\u001b[A\n",
      " 18%|█▊        | 531/3000 [00:24<01:44, 23.66it/s]\u001b[A\n",
      " 18%|█▊        | 534/3000 [00:24<01:44, 23.63it/s]\u001b[A\n",
      " 18%|█▊        | 537/3000 [00:24<01:42, 24.00it/s]\u001b[A\n",
      " 18%|█▊        | 540/3000 [00:24<01:45, 23.24it/s]\u001b[A\n",
      " 18%|█▊        | 543/3000 [00:25<01:39, 24.70it/s]\u001b[A\n",
      " 18%|█▊        | 547/3000 [00:25<01:35, 25.82it/s]\u001b[A\n",
      " 18%|█▊        | 550/3000 [00:25<02:42, 15.12it/s]\u001b[A\n",
      " 18%|█▊        | 555/3000 [00:25<02:02, 19.92it/s]\u001b[A\n",
      " 19%|█▊        | 558/3000 [00:25<01:56, 21.02it/s]\u001b[A\n",
      " 19%|█▊        | 561/3000 [00:26<02:30, 16.16it/s]\u001b[A\n",
      " 19%|█▉        | 565/3000 [00:26<02:04, 19.48it/s]\u001b[A\n",
      " 19%|█▉        | 568/3000 [00:26<01:54, 21.16it/s]\u001b[A\n",
      " 19%|█▉        | 571/3000 [00:26<02:22, 17.08it/s]\u001b[A\n",
      " 19%|█▉        | 574/3000 [00:26<02:11, 18.47it/s]\u001b[A\n",
      " 19%|█▉        | 577/3000 [00:27<03:24, 11.84it/s]\u001b[A\n",
      " 19%|█▉        | 580/3000 [00:27<02:49, 14.31it/s]\u001b[A\n",
      " 19%|█▉        | 583/3000 [00:27<02:33, 15.70it/s]\u001b[A\n",
      " 20%|█▉        | 587/3000 [00:27<02:09, 18.61it/s]\u001b[A\n",
      " 20%|█▉        | 590/3000 [00:27<01:56, 20.75it/s]\u001b[A\n",
      " 20%|█▉        | 593/3000 [00:27<01:51, 21.49it/s]\u001b[A\n",
      " 20%|█▉        | 596/3000 [00:28<02:30, 15.94it/s]\u001b[A\n",
      " 20%|██        | 600/3000 [00:28<02:02, 19.60it/s]\u001b[A\n",
      " 20%|██        | 604/3000 [00:28<01:48, 22.09it/s]\u001b[A\n",
      " 20%|██        | 607/3000 [00:28<01:44, 22.83it/s]\u001b[A\n",
      " 20%|██        | 611/3000 [00:28<01:35, 24.95it/s]\u001b[A\n",
      " 20%|██        | 614/3000 [00:28<01:36, 24.70it/s]\u001b[A\n",
      " 21%|██        | 618/3000 [00:28<01:27, 27.10it/s]\u001b[A\n",
      " 21%|██        | 621/3000 [00:29<01:27, 27.30it/s]\u001b[A\n",
      " 21%|██        | 624/3000 [00:29<02:03, 19.17it/s]\u001b[A\n",
      " 21%|██        | 628/3000 [00:29<02:00, 19.72it/s]\u001b[A\n",
      " 21%|██        | 631/3000 [00:29<02:26, 16.18it/s]\u001b[A\n",
      " 21%|██        | 634/3000 [00:29<02:08, 18.43it/s]\u001b[A\n",
      " 21%|██▏       | 639/3000 [00:30<01:40, 23.50it/s]\u001b[A\n",
      " 21%|██▏       | 642/3000 [00:30<01:39, 23.78it/s]\u001b[A\n",
      " 22%|██▏       | 646/3000 [00:30<01:36, 24.33it/s]\u001b[A\n",
      " 22%|██▏       | 650/3000 [00:30<01:27, 26.99it/s]\u001b[A\n",
      " 22%|██▏       | 654/3000 [00:30<01:47, 21.77it/s]\u001b[A\n",
      " 22%|██▏       | 658/3000 [00:30<01:33, 24.95it/s]\u001b[A\n",
      " 22%|██▏       | 661/3000 [00:30<01:30, 25.83it/s]\u001b[A\n",
      " 22%|██▏       | 664/3000 [00:30<01:32, 25.34it/s]\u001b[A\n",
      " 22%|██▏       | 667/3000 [00:31<01:28, 26.45it/s]\u001b[A\n",
      " 22%|██▏       | 671/3000 [00:31<01:24, 27.65it/s]\u001b[A\n",
      " 22%|██▏       | 674/3000 [00:31<01:29, 26.03it/s]\u001b[A\n",
      " 23%|██▎       | 677/3000 [00:31<01:34, 24.61it/s]\u001b[A\n",
      " 23%|██▎       | 680/3000 [00:31<01:34, 24.61it/s]\u001b[A\n",
      " 23%|██▎       | 684/3000 [00:31<01:21, 28.32it/s]\u001b[A\n",
      " 23%|██▎       | 687/3000 [00:31<01:27, 26.41it/s]\u001b[A\n",
      " 23%|██▎       | 690/3000 [00:31<01:25, 26.90it/s]\u001b[A\n",
      " 23%|██▎       | 694/3000 [00:32<01:16, 30.21it/s]\u001b[A\n",
      " 23%|██▎       | 698/3000 [00:32<01:17, 29.73it/s]\u001b[A\n",
      " 23%|██▎       | 702/3000 [00:32<01:48, 21.09it/s]\u001b[A\n",
      " 24%|██▎       | 705/3000 [00:32<01:41, 22.67it/s]\u001b[A\n",
      " 24%|██▎       | 708/3000 [00:32<02:07, 17.97it/s]\u001b[A\n",
      " 24%|██▎       | 712/3000 [00:32<01:45, 21.71it/s]\u001b[A\n",
      " 24%|██▍       | 716/3000 [00:33<01:31, 24.93it/s]\u001b[A\n",
      " 24%|██▍       | 719/3000 [00:33<01:35, 23.88it/s]\u001b[A\n",
      " 24%|██▍       | 722/3000 [00:33<01:32, 24.65it/s]\u001b[A\n",
      " 24%|██▍       | 726/3000 [00:33<01:28, 25.69it/s]\u001b[A\n",
      " 24%|██▍       | 730/3000 [00:33<01:20, 28.29it/s]\u001b[A\n",
      " 24%|██▍       | 734/3000 [00:33<01:14, 30.41it/s]\u001b[A\n",
      " 25%|██▍       | 738/3000 [00:33<01:11, 31.63it/s]\u001b[A\n",
      " 25%|██▍       | 742/3000 [00:34<01:20, 28.11it/s]\u001b[A\n",
      " 25%|██▍       | 746/3000 [00:34<01:14, 30.36it/s]\u001b[A\n",
      " 25%|██▌       | 750/3000 [00:34<01:15, 29.98it/s]\u001b[A\n",
      " 25%|██▌       | 754/3000 [00:34<01:48, 20.62it/s]\u001b[A\n",
      " 25%|██▌       | 757/3000 [00:34<01:54, 19.60it/s]\u001b[A\n",
      " 25%|██▌       | 760/3000 [00:34<02:01, 18.44it/s]\u001b[A\n",
      " 25%|██▌       | 764/3000 [00:35<01:40, 22.18it/s]\u001b[A\n",
      " 26%|██▌       | 767/3000 [00:35<01:47, 20.82it/s]\u001b[A\n",
      " 26%|██▌       | 770/3000 [00:35<01:39, 22.52it/s]\u001b[A\n",
      " 26%|██▌       | 773/3000 [00:35<01:54, 19.38it/s]\u001b[A\n",
      " 26%|██▌       | 776/3000 [00:35<01:49, 20.38it/s]\u001b[A\n",
      " 26%|██▌       | 780/3000 [00:35<01:32, 24.04it/s]\u001b[A\n",
      " 26%|██▌       | 783/3000 [00:35<01:27, 25.33it/s]\u001b[A\n",
      " 26%|██▌       | 787/3000 [00:36<01:22, 26.98it/s]\u001b[A\n",
      " 26%|██▋       | 790/3000 [00:36<01:34, 23.34it/s]\u001b[A\n",
      " 26%|██▋       | 794/3000 [00:36<01:22, 26.64it/s]\u001b[A\n",
      " 27%|██▋       | 797/3000 [00:36<02:05, 17.55it/s]\u001b[A\n",
      " 27%|██▋       | 800/3000 [00:36<02:27, 14.88it/s]\u001b[A\n",
      " 27%|██▋       | 804/3000 [00:37<01:58, 18.51it/s]\u001b[A\n",
      " 27%|██▋       | 808/3000 [00:37<01:39, 22.02it/s]\u001b[A\n",
      " 27%|██▋       | 811/3000 [00:37<02:05, 17.44it/s]\u001b[A\n",
      " 27%|██▋       | 814/3000 [00:37<02:27, 14.82it/s]\u001b[A\n",
      " 27%|██▋       | 817/3000 [00:38<02:48, 12.94it/s]\u001b[A\n",
      " 27%|██▋       | 820/3000 [00:38<02:44, 13.23it/s]\u001b[A\n",
      " 27%|██▋       | 823/3000 [00:38<02:22, 15.31it/s]\u001b[A\n",
      " 28%|██▊       | 827/3000 [00:38<01:57, 18.52it/s]\u001b[A\n",
      " 28%|██▊       | 830/3000 [00:38<01:50, 19.58it/s]\u001b[A\n",
      " 28%|██▊       | 833/3000 [00:38<01:41, 21.42it/s]\u001b[A\n",
      " 28%|██▊       | 836/3000 [00:38<01:32, 23.34it/s]\u001b[A\n",
      " 28%|██▊       | 840/3000 [00:39<01:51, 19.41it/s]\u001b[A\n",
      " 28%|██▊       | 844/3000 [00:39<01:33, 23.10it/s]\u001b[A\n",
      " 28%|██▊       | 848/3000 [00:39<01:23, 25.91it/s]\u001b[A\n",
      " 28%|██▊       | 851/3000 [00:39<01:38, 21.89it/s]\u001b[A\n",
      " 28%|██▊       | 854/3000 [00:39<01:33, 22.94it/s]\u001b[A\n",
      " 29%|██▊       | 857/3000 [00:39<01:57, 18.30it/s]\u001b[A\n",
      " 29%|██▊       | 861/3000 [00:39<01:38, 21.70it/s]\u001b[A\n",
      " 29%|██▉       | 864/3000 [00:40<02:15, 15.78it/s]\u001b[A\n",
      " 29%|██▉       | 867/3000 [00:40<01:57, 18.18it/s]\u001b[A\n",
      " 29%|██▉       | 871/3000 [00:40<01:42, 20.78it/s]\u001b[A\n",
      " 29%|██▉       | 874/3000 [00:40<01:36, 22.11it/s]\u001b[A\n",
      " 29%|██▉       | 878/3000 [00:40<01:23, 25.54it/s]\u001b[A\n",
      " 29%|██▉       | 881/3000 [00:40<01:22, 25.55it/s]\u001b[A\n",
      " 29%|██▉       | 884/3000 [00:41<01:21, 26.04it/s]\u001b[A\n",
      " 30%|██▉       | 888/3000 [00:41<01:15, 27.93it/s]\u001b[A\n",
      " 30%|██▉       | 891/3000 [00:41<01:14, 28.21it/s]\u001b[A\n",
      " 30%|██▉       | 895/3000 [00:41<01:13, 28.67it/s]\u001b[A\n",
      " 30%|██▉       | 899/3000 [00:41<01:10, 29.80it/s]\u001b[A\n",
      " 30%|███       | 903/3000 [00:41<01:14, 27.99it/s]\u001b[A\n",
      " 30%|███       | 907/3000 [00:41<01:10, 29.64it/s]\u001b[A\n",
      " 30%|███       | 911/3000 [00:41<01:06, 31.62it/s]\u001b[A\n",
      " 30%|███       | 915/3000 [00:42<01:09, 30.18it/s]\u001b[A\n",
      " 31%|███       | 919/3000 [00:42<01:08, 30.33it/s]\u001b[A\n",
      " 31%|███       | 923/3000 [00:42<01:07, 30.76it/s]\u001b[A\n",
      " 31%|███       | 927/3000 [00:42<01:07, 30.72it/s]\u001b[A\n",
      " 31%|███       | 931/3000 [00:42<01:41, 20.29it/s]\u001b[A\n",
      " 31%|███       | 935/3000 [00:42<01:27, 23.62it/s]\u001b[A\n",
      " 31%|███▏      | 939/3000 [00:42<01:17, 26.55it/s]\u001b[A\n",
      " 31%|███▏      | 943/3000 [00:43<01:24, 24.44it/s]\u001b[A\n",
      " 32%|███▏      | 948/3000 [00:43<01:15, 27.27it/s]\u001b[A\n",
      " 32%|███▏      | 952/3000 [00:43<01:09, 29.39it/s]\u001b[A\n",
      " 32%|███▏      | 956/3000 [00:43<01:18, 26.08it/s]\u001b[A\n",
      " 32%|███▏      | 959/3000 [00:43<01:18, 26.15it/s]\u001b[A\n",
      " 32%|███▏      | 963/3000 [00:43<01:10, 28.72it/s]\u001b[A\n",
      " 32%|███▏      | 967/3000 [00:43<01:11, 28.31it/s]\u001b[A\n",
      " 32%|███▏      | 971/3000 [00:44<01:08, 29.51it/s]\u001b[A\n",
      " 32%|███▎      | 975/3000 [00:44<01:03, 31.90it/s]\u001b[A\n",
      " 33%|███▎      | 979/3000 [00:44<01:09, 29.17it/s]\u001b[A\n",
      " 33%|███▎      | 983/3000 [00:44<01:13, 27.51it/s]\u001b[A\n",
      " 33%|███▎      | 988/3000 [00:44<01:07, 29.88it/s]\u001b[A\n",
      " 33%|███▎      | 992/3000 [00:44<01:12, 27.87it/s]\u001b[A\n",
      " 33%|███▎      | 995/3000 [00:44<01:17, 25.74it/s]\u001b[A\n",
      " 33%|███▎      | 999/3000 [00:45<01:11, 27.87it/s]\u001b[A\n",
      " 33%|███▎      | 1002/3000 [00:45<01:33, 21.38it/s]\u001b[A\n",
      " 34%|███▎      | 1005/3000 [00:45<01:34, 21.07it/s]\u001b[A\n",
      " 34%|███▎      | 1009/3000 [00:45<01:23, 23.81it/s]\u001b[A\n",
      " 34%|███▎      | 1012/3000 [00:45<01:20, 24.71it/s]\u001b[A\n",
      " 34%|███▍      | 1015/3000 [00:45<01:30, 21.90it/s]\u001b[A\n",
      " 34%|███▍      | 1018/3000 [00:46<01:34, 20.97it/s]\u001b[A\n",
      " 34%|███▍      | 1022/3000 [00:46<01:22, 23.84it/s]\u001b[A\n",
      " 34%|███▍      | 1026/3000 [00:46<01:13, 26.79it/s]\u001b[A\n",
      " 34%|███▍      | 1029/3000 [00:46<01:15, 26.23it/s]\u001b[A\n",
      " 34%|███▍      | 1032/3000 [00:46<01:29, 21.98it/s]\u001b[A\n",
      " 34%|███▍      | 1035/3000 [00:46<01:32, 21.19it/s]\u001b[A\n",
      " 35%|███▍      | 1038/3000 [00:46<01:26, 22.79it/s]\u001b[A\n",
      " 35%|███▍      | 1041/3000 [00:46<01:20, 24.33it/s]\u001b[A\n",
      " 35%|███▍      | 1045/3000 [00:47<01:11, 27.36it/s]\u001b[A\n"
     ]
    },
    {
     "name": "stderr",
     "output_type": "stream",
     "text": [
      " 35%|███▍      | 1049/3000 [00:47<01:08, 28.54it/s]\u001b[A\n",
      " 35%|███▌      | 1053/3000 [00:47<01:04, 30.28it/s]\u001b[A\n",
      " 35%|███▌      | 1057/3000 [00:47<01:04, 30.27it/s]\u001b[A\n",
      " 35%|███▌      | 1061/3000 [00:47<01:34, 20.62it/s]\u001b[A\n",
      " 35%|███▌      | 1064/3000 [00:47<01:27, 22.12it/s]\u001b[A\n",
      " 36%|███▌      | 1067/3000 [00:48<01:23, 23.21it/s]\u001b[A\n",
      " 36%|███▌      | 1070/3000 [00:48<01:19, 24.33it/s]\u001b[A\n",
      " 36%|███▌      | 1073/3000 [00:48<01:24, 22.68it/s]\u001b[A\n",
      " 36%|███▌      | 1076/3000 [00:48<01:19, 24.08it/s]\u001b[A\n",
      " 36%|███▌      | 1079/3000 [00:48<01:49, 17.56it/s]\u001b[A\n",
      " 36%|███▌      | 1082/3000 [00:48<01:36, 19.89it/s]\u001b[A\n",
      " 36%|███▌      | 1085/3000 [00:48<01:26, 22.06it/s]\u001b[A\n",
      " 36%|███▋      | 1088/3000 [00:48<01:23, 22.89it/s]\u001b[A\n",
      " 36%|███▋      | 1092/3000 [00:49<01:13, 25.87it/s]\u001b[A\n",
      " 37%|███▋      | 1096/3000 [00:49<01:07, 28.16it/s]\u001b[A\n",
      " 37%|███▋      | 1100/3000 [00:49<01:03, 30.02it/s]\u001b[A\n",
      " 37%|███▋      | 1104/3000 [00:49<01:02, 30.55it/s]\u001b[A\n",
      " 37%|███▋      | 1108/3000 [00:49<01:11, 26.30it/s]\u001b[A\n",
      " 37%|███▋      | 1112/3000 [00:49<01:05, 28.93it/s]\u001b[A\n",
      " 37%|███▋      | 1116/3000 [00:49<01:04, 29.13it/s]\u001b[A\n",
      " 37%|███▋      | 1120/3000 [00:50<01:06, 28.07it/s]\u001b[A\n",
      " 37%|███▋      | 1124/3000 [00:50<01:27, 21.40it/s]\u001b[A\n",
      " 38%|███▊      | 1128/3000 [00:50<01:18, 23.89it/s]\u001b[A\n",
      " 38%|███▊      | 1132/3000 [00:50<01:11, 26.12it/s]\u001b[A\n",
      " 38%|███▊      | 1136/3000 [00:50<01:08, 27.24it/s]\u001b[A\n",
      " 38%|███▊      | 1139/3000 [00:50<01:06, 27.84it/s]\u001b[A\n",
      " 38%|███▊      | 1142/3000 [00:50<01:09, 26.79it/s]\u001b[A\n",
      " 38%|███▊      | 1146/3000 [00:51<01:02, 29.59it/s]\u001b[A\n",
      " 38%|███▊      | 1150/3000 [00:51<01:03, 29.06it/s]\u001b[A\n",
      " 38%|███▊      | 1154/3000 [00:51<00:58, 31.38it/s]\u001b[A\n",
      " 39%|███▊      | 1158/3000 [00:51<01:27, 21.00it/s]\u001b[A\n",
      " 39%|███▊      | 1161/3000 [00:51<01:22, 22.41it/s]\u001b[A\n",
      " 39%|███▉      | 1165/3000 [00:51<01:11, 25.61it/s]\u001b[A\n",
      " 39%|███▉      | 1169/3000 [00:51<01:04, 28.53it/s]\u001b[A\n",
      " 39%|███▉      | 1173/3000 [00:52<00:58, 31.31it/s]\u001b[A\n",
      " 39%|███▉      | 1177/3000 [00:52<01:04, 28.14it/s]\u001b[A\n",
      " 39%|███▉      | 1181/3000 [00:52<01:14, 24.33it/s]\u001b[A\n",
      " 39%|███▉      | 1184/3000 [00:52<01:12, 25.03it/s]\u001b[A\n",
      " 40%|███▉      | 1188/3000 [00:52<01:08, 26.36it/s]\u001b[A\n",
      " 40%|███▉      | 1191/3000 [00:52<01:23, 21.60it/s]\u001b[A\n",
      " 40%|███▉      | 1194/3000 [00:53<01:18, 22.96it/s]\u001b[A\n",
      " 40%|███▉      | 1198/3000 [00:53<01:09, 26.01it/s]\u001b[A\n",
      " 40%|████      | 1201/3000 [00:53<01:08, 26.43it/s]\u001b[A\n",
      " 40%|████      | 1205/3000 [00:53<01:00, 29.62it/s]\u001b[A\n",
      " 40%|████      | 1209/3000 [00:53<00:59, 29.98it/s]\u001b[A\n",
      " 40%|████      | 1213/3000 [00:53<00:59, 29.94it/s]\u001b[A\n",
      " 41%|████      | 1217/3000 [00:53<01:06, 26.73it/s]\u001b[A\n",
      " 41%|████      | 1220/3000 [00:53<01:08, 25.92it/s]\u001b[A\n",
      " 41%|████      | 1224/3000 [00:54<01:02, 28.34it/s]\u001b[A\n",
      " 41%|████      | 1227/3000 [00:54<01:02, 28.19it/s]\u001b[A\n",
      " 41%|████      | 1230/3000 [00:54<01:06, 26.62it/s]\u001b[A\n",
      " 41%|████      | 1234/3000 [00:54<01:01, 28.93it/s]\u001b[A\n",
      " 41%|████      | 1237/3000 [00:54<01:11, 24.66it/s]\u001b[A\n",
      " 41%|████▏     | 1241/3000 [00:54<01:04, 27.40it/s]\u001b[A\n",
      " 42%|████▏     | 1245/3000 [00:54<01:01, 28.60it/s]\u001b[A\n",
      " 42%|████▏     | 1248/3000 [00:55<01:28, 19.89it/s]\u001b[A\n",
      " 42%|████▏     | 1251/3000 [00:55<01:22, 21.30it/s]\u001b[A\n",
      " 42%|████▏     | 1255/3000 [00:55<01:12, 24.00it/s]\u001b[A\n",
      " 42%|████▏     | 1258/3000 [00:55<01:08, 25.30it/s]\u001b[A\n",
      " 42%|████▏     | 1261/3000 [00:55<01:07, 25.75it/s]\u001b[A\n",
      " 42%|████▏     | 1264/3000 [00:56<02:14, 12.91it/s]\u001b[A\n",
      " 42%|████▏     | 1267/3000 [00:56<02:26, 11.86it/s]\u001b[A\n",
      " 42%|████▏     | 1271/3000 [00:56<01:51, 15.48it/s]\u001b[A\n",
      " 42%|████▏     | 1274/3000 [00:57<03:42,  7.77it/s]\u001b[A\n",
      " 43%|████▎     | 1277/3000 [00:57<02:57,  9.72it/s]\u001b[A\n",
      " 43%|████▎     | 1281/3000 [00:57<02:15, 12.73it/s]\u001b[A\n",
      " 43%|████▎     | 1284/3000 [00:57<01:56, 14.79it/s]\u001b[A\n",
      " 43%|████▎     | 1288/3000 [00:57<01:36, 17.79it/s]\u001b[A\n",
      " 43%|████▎     | 1291/3000 [00:58<01:38, 17.36it/s]\u001b[A\n",
      " 43%|████▎     | 1295/3000 [00:58<01:22, 20.54it/s]\u001b[A\n",
      " 43%|████▎     | 1299/3000 [00:58<01:12, 23.37it/s]\u001b[A\n",
      " 43%|████▎     | 1303/3000 [00:58<01:05, 25.76it/s]\u001b[A\n",
      " 44%|████▎     | 1306/3000 [00:58<01:07, 25.03it/s]\u001b[A\n",
      " 44%|████▎     | 1310/3000 [00:58<01:01, 27.34it/s]\u001b[A\n",
      " 44%|████▍     | 1314/3000 [00:58<00:56, 29.60it/s]\u001b[A\n",
      " 44%|████▍     | 1318/3000 [00:58<01:03, 26.63it/s]\u001b[A\n",
      " 44%|████▍     | 1322/3000 [00:59<00:56, 29.69it/s]\u001b[A\n",
      " 44%|████▍     | 1326/3000 [00:59<00:56, 29.56it/s]\u001b[A\n",
      " 44%|████▍     | 1330/3000 [00:59<00:53, 30.97it/s]\u001b[A\n",
      " 44%|████▍     | 1335/3000 [00:59<00:47, 34.88it/s]\u001b[A\n",
      " 45%|████▍     | 1339/3000 [00:59<01:14, 22.16it/s]\u001b[A\n",
      " 45%|████▍     | 1342/3000 [01:00<01:35, 17.40it/s]\u001b[A\n",
      " 45%|████▍     | 1346/3000 [01:00<01:23, 19.73it/s]\u001b[A\n",
      " 45%|████▍     | 1349/3000 [01:00<01:19, 20.83it/s]\u001b[A\n",
      " 45%|████▌     | 1353/3000 [01:00<01:13, 22.32it/s]\u001b[A\n",
      " 45%|████▌     | 1357/3000 [01:00<01:06, 24.69it/s]\u001b[A\n",
      " 45%|████▌     | 1360/3000 [01:00<01:04, 25.51it/s]\u001b[A\n",
      " 45%|████▌     | 1364/3000 [01:00<00:56, 28.72it/s]\u001b[A\n",
      " 46%|████▌     | 1368/3000 [01:01<01:22, 19.79it/s]\u001b[A\n",
      " 46%|████▌     | 1372/3000 [01:01<01:12, 22.54it/s]\u001b[A\n",
      " 46%|████▌     | 1376/3000 [01:01<01:06, 24.55it/s]\u001b[A\n",
      " 46%|████▌     | 1379/3000 [01:01<01:20, 20.24it/s]\u001b[A\n",
      " 46%|████▌     | 1382/3000 [01:01<01:14, 21.69it/s]\u001b[A\n",
      " 46%|████▌     | 1386/3000 [01:01<01:05, 24.52it/s]\u001b[A\n",
      " 46%|████▋     | 1389/3000 [01:02<01:14, 21.60it/s]\u001b[A\n",
      " 46%|████▋     | 1392/3000 [01:02<01:26, 18.58it/s]\u001b[A\n",
      " 46%|████▋     | 1395/3000 [01:02<01:17, 20.78it/s]\u001b[A\n",
      " 47%|████▋     | 1399/3000 [01:02<01:07, 23.80it/s]\u001b[A\n",
      " 47%|████▋     | 1403/3000 [01:02<01:03, 25.29it/s]\u001b[A\n",
      " 47%|████▋     | 1408/3000 [01:02<00:56, 28.19it/s]\u001b[A\n",
      " 47%|████▋     | 1411/3000 [01:02<00:56, 27.90it/s]\u001b[A\n",
      " 47%|████▋     | 1414/3000 [01:03<01:23, 18.98it/s]\u001b[A\n",
      " 47%|████▋     | 1417/3000 [01:03<01:33, 16.99it/s]\u001b[A\n",
      " 47%|████▋     | 1421/3000 [01:03<01:18, 20.21it/s]\u001b[A\n",
      " 48%|████▊     | 1425/3000 [01:03<01:07, 23.48it/s]\u001b[A\n",
      " 48%|████▊     | 1428/3000 [01:03<01:05, 24.09it/s]\u001b[A\n",
      " 48%|████▊     | 1432/3000 [01:03<00:57, 27.32it/s]\u001b[A\n",
      " 48%|████▊     | 1437/3000 [01:04<00:51, 30.07it/s]\u001b[A\n",
      " 48%|████▊     | 1441/3000 [01:04<00:49, 31.54it/s]\u001b[A\n",
      " 48%|████▊     | 1445/3000 [01:04<00:49, 31.46it/s]\u001b[A\n",
      " 48%|████▊     | 1449/3000 [01:04<00:52, 29.79it/s]\u001b[A\n",
      " 48%|████▊     | 1453/3000 [01:04<00:53, 28.81it/s]\u001b[A\n",
      " 49%|████▊     | 1457/3000 [01:04<00:50, 30.69it/s]\u001b[A\n",
      " 49%|████▊     | 1461/3000 [01:04<00:59, 25.88it/s]\u001b[A\n",
      " 49%|████▉     | 1465/3000 [01:05<00:58, 26.40it/s]\u001b[A\n",
      " 49%|████▉     | 1469/3000 [01:05<00:53, 28.88it/s]\u001b[A\n",
      " 49%|████▉     | 1473/3000 [01:05<00:51, 29.86it/s]\u001b[A\n",
      " 49%|████▉     | 1477/3000 [01:05<00:49, 30.98it/s]\u001b[A\n",
      " 49%|████▉     | 1481/3000 [01:05<00:46, 32.74it/s]\u001b[A\n",
      " 50%|████▉     | 1485/3000 [01:05<00:47, 32.16it/s]\u001b[A\n",
      " 50%|████▉     | 1489/3000 [01:05<00:54, 27.91it/s]\u001b[A\n",
      " 50%|████▉     | 1492/3000 [01:05<00:57, 26.06it/s]\u001b[A\n",
      " 50%|████▉     | 1495/3000 [01:06<01:00, 24.84it/s]\u001b[A\n",
      " 50%|████▉     | 1498/3000 [01:06<01:00, 24.98it/s]\u001b[A\n",
      " 50%|█████     | 1501/3000 [01:06<00:58, 25.68it/s]\u001b[A\n",
      " 50%|█████     | 1504/3000 [01:06<01:30, 16.62it/s]\u001b[A\n",
      " 50%|█████     | 1507/3000 [01:06<01:21, 18.40it/s]\u001b[A\n",
      " 50%|█████     | 1511/3000 [01:06<01:07, 22.07it/s]\u001b[A\n",
      " 50%|█████     | 1514/3000 [01:06<01:02, 23.62it/s]\u001b[A\n",
      " 51%|█████     | 1517/3000 [01:07<01:25, 17.33it/s]\u001b[A\n",
      " 51%|█████     | 1521/3000 [01:07<01:10, 20.84it/s]\u001b[A\n",
      " 51%|█████     | 1525/3000 [01:07<01:01, 24.18it/s]\u001b[A\n",
      " 51%|█████     | 1529/3000 [01:07<00:56, 26.25it/s]\u001b[A\n",
      " 51%|█████     | 1533/3000 [01:07<00:58, 24.93it/s]\u001b[A\n",
      " 51%|█████     | 1537/3000 [01:07<00:54, 27.07it/s]\u001b[A\n",
      " 51%|█████▏    | 1541/3000 [01:08<00:52, 27.96it/s]\u001b[A\n",
      " 51%|█████▏    | 1544/3000 [01:08<00:52, 27.55it/s]\u001b[A\n",
      " 52%|█████▏    | 1547/3000 [01:08<01:19, 18.32it/s]\u001b[A\n",
      " 52%|█████▏    | 1551/3000 [01:08<01:06, 21.77it/s]\u001b[A\n",
      " 52%|█████▏    | 1554/3000 [01:08<01:20, 17.99it/s]\u001b[A\n",
      " 52%|█████▏    | 1557/3000 [01:08<01:11, 20.10it/s]\u001b[A\n",
      " 52%|█████▏    | 1560/3000 [01:09<01:49, 13.21it/s]\u001b[A\n",
      " 52%|█████▏    | 1562/3000 [01:09<01:47, 13.39it/s]\u001b[A\n",
      " 52%|█████▏    | 1565/3000 [01:09<01:34, 15.23it/s]\u001b[A\n",
      " 52%|█████▏    | 1569/3000 [01:09<01:14, 19.30it/s]\u001b[A\n",
      " 52%|█████▏    | 1573/3000 [01:09<01:01, 23.18it/s]\u001b[A\n",
      " 53%|█████▎    | 1578/3000 [01:09<00:50, 27.96it/s]\u001b[A\n",
      " 53%|█████▎    | 1582/3000 [01:10<00:52, 26.82it/s]\u001b[A\n"
     ]
    },
    {
     "name": "stderr",
     "output_type": "stream",
     "text": [
      " 53%|█████▎    | 1585/3000 [01:10<01:04, 22.08it/s]\u001b[A\n",
      " 53%|█████▎    | 1589/3000 [01:10<00:54, 25.67it/s]\u001b[A\n",
      " 53%|█████▎    | 1593/3000 [01:10<00:51, 27.31it/s]\u001b[A\n",
      " 53%|█████▎    | 1597/3000 [01:10<00:51, 27.39it/s]\u001b[A\n",
      " 53%|█████▎    | 1601/3000 [01:10<00:52, 26.75it/s]\u001b[A\n",
      " 54%|█████▎    | 1605/3000 [01:11<00:49, 28.09it/s]\u001b[A\n",
      " 54%|█████▎    | 1608/3000 [01:11<00:52, 26.35it/s]\u001b[A\n",
      " 54%|█████▎    | 1612/3000 [01:11<00:48, 28.87it/s]\u001b[A\n",
      " 54%|█████▍    | 1615/3000 [01:11<01:09, 19.94it/s]\u001b[A\n",
      " 54%|█████▍    | 1619/3000 [01:11<00:59, 23.29it/s]\u001b[A\n",
      " 54%|█████▍    | 1622/3000 [01:11<00:57, 24.08it/s]\u001b[A\n",
      " 54%|█████▍    | 1625/3000 [01:12<01:15, 18.25it/s]\u001b[A\n",
      " 54%|█████▍    | 1628/3000 [01:12<01:43, 13.25it/s]\u001b[A\n",
      " 54%|█████▍    | 1631/3000 [01:12<01:27, 15.73it/s]\u001b[A\n",
      " 54%|█████▍    | 1634/3000 [01:12<01:38, 13.88it/s]\u001b[A\n",
      " 55%|█████▍    | 1637/3000 [01:13<01:45, 12.94it/s]\u001b[A\n",
      " 55%|█████▍    | 1640/3000 [01:13<01:27, 15.53it/s]\u001b[A\n",
      " 55%|█████▍    | 1643/3000 [01:13<01:15, 17.86it/s]\u001b[A\n",
      " 55%|█████▍    | 1646/3000 [01:13<01:11, 18.90it/s]\u001b[A\n",
      " 55%|█████▍    | 1649/3000 [01:13<01:19, 17.08it/s]\u001b[A\n",
      " 55%|█████▌    | 1652/3000 [01:13<01:10, 19.23it/s]\u001b[A\n",
      " 55%|█████▌    | 1656/3000 [01:13<00:59, 22.43it/s]\u001b[A\n",
      " 55%|█████▌    | 1659/3000 [01:13<00:57, 23.34it/s]\u001b[A\n",
      " 55%|█████▌    | 1663/3000 [01:14<00:52, 25.42it/s]\u001b[A\n",
      " 56%|█████▌    | 1666/3000 [01:14<00:51, 26.12it/s]\u001b[A\n",
      " 56%|█████▌    | 1669/3000 [01:14<00:51, 26.07it/s]\u001b[A\n",
      " 56%|█████▌    | 1672/3000 [01:14<00:49, 26.97it/s]\u001b[A\n",
      " 56%|█████▌    | 1676/3000 [01:14<00:49, 27.01it/s]\u001b[A\n",
      " 56%|█████▌    | 1680/3000 [01:14<00:46, 28.42it/s]\u001b[A\n",
      " 56%|█████▌    | 1684/3000 [01:14<00:43, 30.38it/s]\u001b[A\n",
      " 56%|█████▋    | 1688/3000 [01:14<00:40, 32.43it/s]\u001b[A\n",
      " 56%|█████▋    | 1692/3000 [01:15<00:42, 31.10it/s]\u001b[A\n",
      " 57%|█████▋    | 1696/3000 [01:15<00:45, 28.69it/s]\u001b[A\n",
      " 57%|█████▋    | 1699/3000 [01:15<00:51, 25.19it/s]\u001b[A\n",
      " 57%|█████▋    | 1702/3000 [01:15<00:49, 26.20it/s]\u001b[A\n",
      " 57%|█████▋    | 1706/3000 [01:15<00:45, 28.50it/s]\u001b[A\n",
      " 57%|█████▋    | 1709/3000 [01:15<01:10, 18.31it/s]\u001b[A\n",
      " 57%|█████▋    | 1713/3000 [01:16<00:59, 21.58it/s]\u001b[A\n",
      " 57%|█████▋    | 1717/3000 [01:16<00:51, 25.09it/s]\u001b[A\n",
      " 57%|█████▋    | 1721/3000 [01:16<00:54, 23.28it/s]\u001b[A\n",
      " 57%|█████▋    | 1724/3000 [01:16<01:09, 18.29it/s]\u001b[A\n",
      " 58%|█████▊    | 1727/3000 [01:16<01:08, 18.67it/s]\u001b[A\n",
      " 58%|█████▊    | 1730/3000 [01:16<01:02, 20.18it/s]\u001b[A\n",
      " 58%|█████▊    | 1733/3000 [01:17<01:00, 20.94it/s]\u001b[A\n",
      " 58%|█████▊    | 1736/3000 [01:17<01:10, 17.88it/s]\u001b[A\n",
      " 58%|█████▊    | 1740/3000 [01:17<01:02, 20.19it/s]\u001b[A\n",
      " 58%|█████▊    | 1743/3000 [01:17<00:56, 22.12it/s]\u001b[A\n",
      " 58%|█████▊    | 1746/3000 [01:17<00:56, 22.30it/s]\u001b[A\n",
      " 58%|█████▊    | 1749/3000 [01:17<01:10, 17.83it/s]\u001b[A\n",
      " 58%|█████▊    | 1752/3000 [01:18<01:04, 19.36it/s]\u001b[A\n",
      " 58%|█████▊    | 1755/3000 [01:18<01:00, 20.75it/s]\u001b[A\n",
      " 59%|█████▊    | 1758/3000 [01:18<00:56, 22.04it/s]\u001b[A\n",
      " 59%|█████▊    | 1761/3000 [01:18<00:53, 23.19it/s]\u001b[A\n",
      " 59%|█████▉    | 1765/3000 [01:18<00:48, 25.44it/s]\u001b[A\n",
      " 59%|█████▉    | 1770/3000 [01:18<00:41, 30.00it/s]\u001b[A\n",
      " 59%|█████▉    | 1774/3000 [01:18<00:46, 26.19it/s]\u001b[A\n",
      " 59%|█████▉    | 1777/3000 [01:18<00:50, 24.21it/s]\u001b[A\n",
      " 59%|█████▉    | 1781/3000 [01:19<00:46, 25.96it/s]\u001b[A\n",
      " 59%|█████▉    | 1784/3000 [01:19<00:51, 23.74it/s]\u001b[A\n",
      " 60%|█████▉    | 1787/3000 [01:19<00:59, 20.53it/s]\u001b[A\n",
      " 60%|█████▉    | 1790/3000 [01:19<00:55, 21.67it/s]\u001b[A\n",
      " 60%|█████▉    | 1793/3000 [01:19<00:59, 20.38it/s]\u001b[A\n",
      " 60%|█████▉    | 1797/3000 [01:19<00:49, 24.40it/s]\u001b[A\n",
      " 60%|██████    | 1800/3000 [01:20<01:04, 18.50it/s]\u001b[A\n",
      " 60%|██████    | 1803/3000 [01:20<00:59, 20.11it/s]\u001b[A\n",
      " 60%|██████    | 1806/3000 [01:20<00:58, 20.30it/s]\u001b[A\n",
      " 60%|██████    | 1809/3000 [01:20<00:54, 21.70it/s]\u001b[A\n",
      " 60%|██████    | 1812/3000 [01:20<00:51, 23.07it/s]\u001b[A\n",
      " 60%|██████    | 1815/3000 [01:20<00:48, 24.22it/s]\u001b[A\n",
      " 61%|██████    | 1818/3000 [01:21<01:31, 12.90it/s]\u001b[A\n",
      " 61%|██████    | 1821/3000 [01:21<01:17, 15.16it/s]\u001b[A\n",
      " 61%|██████    | 1825/3000 [01:21<01:01, 19.14it/s]\u001b[A\n",
      " 61%|██████    | 1828/3000 [01:21<00:58, 20.15it/s]\u001b[A\n",
      " 61%|██████    | 1832/3000 [01:21<00:59, 19.53it/s]\u001b[A\n",
      " 61%|██████    | 1836/3000 [01:21<00:49, 23.36it/s]\u001b[A\n",
      " 61%|██████▏   | 1840/3000 [01:22<00:44, 25.84it/s]\u001b[A\n",
      " 61%|██████▏   | 1843/3000 [01:22<00:43, 26.70it/s]\u001b[A\n",
      " 62%|██████▏   | 1846/3000 [01:22<00:45, 25.23it/s]\u001b[A\n",
      " 62%|██████▏   | 1850/3000 [01:22<00:45, 25.23it/s]\u001b[A\n",
      " 62%|██████▏   | 1853/3000 [01:22<00:45, 25.44it/s]\u001b[A\n",
      " 62%|██████▏   | 1857/3000 [01:22<00:44, 25.78it/s]\u001b[A\n",
      " 62%|██████▏   | 1861/3000 [01:22<00:41, 27.70it/s]\u001b[A\n",
      " 62%|██████▏   | 1864/3000 [01:22<00:44, 25.75it/s]\u001b[A\n",
      " 62%|██████▏   | 1867/3000 [01:23<00:44, 25.22it/s]\u001b[A\n",
      " 62%|██████▏   | 1870/3000 [01:23<00:52, 21.46it/s]\u001b[A\n",
      " 62%|██████▏   | 1873/3000 [01:23<00:48, 23.22it/s]\u001b[A\n",
      " 63%|██████▎   | 1876/3000 [01:23<00:47, 23.77it/s]\u001b[A\n",
      " 63%|██████▎   | 1879/3000 [01:23<00:45, 24.69it/s]\u001b[A\n",
      " 63%|██████▎   | 1882/3000 [01:23<01:10, 15.80it/s]\u001b[A\n",
      " 63%|██████▎   | 1885/3000 [01:24<01:01, 18.09it/s]\u001b[A\n",
      " 63%|██████▎   | 1888/3000 [01:24<00:58, 18.89it/s]\u001b[A\n",
      " 63%|██████▎   | 1891/3000 [01:24<01:06, 16.66it/s]\u001b[A\n",
      " 63%|██████▎   | 1894/3000 [01:24<01:02, 17.72it/s]\u001b[A\n",
      " 63%|██████▎   | 1897/3000 [01:24<00:56, 19.61it/s]\u001b[A\n",
      " 63%|██████▎   | 1900/3000 [01:24<00:51, 21.49it/s]\u001b[A\n",
      " 63%|██████▎   | 1903/3000 [01:25<01:10, 15.58it/s]\u001b[A\n",
      " 64%|██████▎   | 1906/3000 [01:25<01:00, 18.16it/s]\u001b[A\n",
      " 64%|██████▎   | 1910/3000 [01:25<00:49, 21.91it/s]\u001b[A\n",
      " 64%|██████▍   | 1913/3000 [01:25<00:48, 22.48it/s]\u001b[A\n",
      " 64%|██████▍   | 1916/3000 [01:25<00:51, 21.19it/s]\u001b[A\n",
      " 64%|██████▍   | 1919/3000 [01:25<00:51, 20.97it/s]\u001b[A\n",
      " 64%|██████▍   | 1922/3000 [01:25<00:47, 22.49it/s]\u001b[A\n",
      " 64%|██████▍   | 1925/3000 [01:26<00:51, 20.93it/s]\u001b[A\n",
      " 64%|██████▍   | 1928/3000 [01:26<01:03, 16.95it/s]\u001b[A\n",
      " 64%|██████▍   | 1931/3000 [01:26<00:55, 19.21it/s]\u001b[A\n",
      " 64%|██████▍   | 1935/3000 [01:26<00:50, 21.12it/s]\u001b[A\n",
      " 65%|██████▍   | 1939/3000 [01:26<00:44, 24.07it/s]\u001b[A\n",
      " 65%|██████▍   | 1942/3000 [01:26<00:41, 25.21it/s]\u001b[A\n",
      " 65%|██████▍   | 1945/3000 [01:27<00:55, 19.12it/s]\u001b[A\n",
      " 65%|██████▍   | 1949/3000 [01:27<00:46, 22.70it/s]\u001b[A\n",
      " 65%|██████▌   | 1954/3000 [01:27<00:39, 26.76it/s]\u001b[A\n",
      " 65%|██████▌   | 1957/3000 [01:27<00:51, 20.10it/s]\u001b[A\n",
      " 65%|██████▌   | 1961/3000 [01:27<00:43, 23.76it/s]\u001b[A\n",
      " 66%|██████▌   | 1965/3000 [01:27<00:38, 26.89it/s]\u001b[A\n",
      " 66%|██████▌   | 1969/3000 [01:28<01:04, 15.89it/s]\u001b[A\n",
      " 66%|██████▌   | 1973/3000 [01:28<00:53, 19.03it/s]\u001b[A\n",
      " 66%|██████▌   | 1977/3000 [01:28<00:45, 22.58it/s]\u001b[A\n",
      " 66%|██████▌   | 1981/3000 [01:28<00:40, 25.35it/s]\u001b[A\n",
      " 66%|██████▌   | 1985/3000 [01:28<00:54, 18.70it/s]\u001b[A\n",
      " 66%|██████▋   | 1988/3000 [01:29<00:49, 20.45it/s]\u001b[A\n",
      " 66%|██████▋   | 1992/3000 [01:29<00:43, 23.00it/s]\u001b[A\n",
      " 66%|██████▋   | 1995/3000 [01:29<01:00, 16.64it/s]\u001b[A\n",
      " 67%|██████▋   | 1999/3000 [01:29<01:02, 16.02it/s]\u001b[A\n",
      " 67%|██████▋   | 2002/3000 [01:29<01:02, 16.08it/s]\u001b[A\n",
      " 67%|██████▋   | 2006/3000 [01:30<00:51, 19.34it/s]\u001b[A\n",
      " 67%|██████▋   | 2009/3000 [01:30<00:47, 20.76it/s]\u001b[A\n",
      " 67%|██████▋   | 2012/3000 [01:30<00:47, 20.90it/s]\u001b[A\n",
      " 67%|██████▋   | 2015/3000 [01:30<00:44, 21.97it/s]\u001b[A\n",
      " 67%|██████▋   | 2019/3000 [01:30<00:38, 25.38it/s]\u001b[A\n",
      " 67%|██████▋   | 2022/3000 [01:30<00:38, 25.42it/s]\u001b[A\n",
      " 68%|██████▊   | 2025/3000 [01:30<00:53, 18.15it/s]\u001b[A\n",
      " 68%|██████▊   | 2029/3000 [01:31<00:45, 21.29it/s]\u001b[A\n",
      " 68%|██████▊   | 2032/3000 [01:31<00:44, 21.65it/s]\u001b[A\n",
      " 68%|██████▊   | 2036/3000 [01:31<00:39, 24.12it/s]\u001b[A\n",
      " 68%|██████▊   | 2039/3000 [01:31<00:37, 25.36it/s]\u001b[A\n",
      " 68%|██████▊   | 2042/3000 [01:31<00:39, 24.48it/s]\u001b[A\n",
      " 68%|██████▊   | 2045/3000 [01:31<00:50, 18.91it/s]\u001b[A\n",
      " 68%|██████▊   | 2048/3000 [01:31<00:46, 20.28it/s]\u001b[A\n",
      " 68%|██████▊   | 2052/3000 [01:32<00:39, 23.90it/s]\u001b[A\n",
      " 68%|██████▊   | 2055/3000 [01:32<00:38, 24.32it/s]\u001b[A\n",
      " 69%|██████▊   | 2059/3000 [01:32<00:34, 26.90it/s]\u001b[A\n",
      " 69%|██████▉   | 2063/3000 [01:32<00:33, 27.61it/s]\u001b[A\n",
      " 69%|██████▉   | 2066/3000 [01:32<00:33, 27.74it/s]\u001b[A\n",
      " 69%|██████▉   | 2069/3000 [01:32<00:33, 28.12it/s]\u001b[A\n",
      " 69%|██████▉   | 2073/3000 [01:32<00:32, 28.67it/s]\u001b[A\n",
      " 69%|██████▉   | 2076/3000 [01:33<00:50, 18.24it/s]\u001b[A\n",
      " 69%|██████▉   | 2080/3000 [01:33<00:43, 21.28it/s]\u001b[A\n",
      " 69%|██████▉   | 2084/3000 [01:33<00:38, 23.84it/s]\u001b[A\n"
     ]
    },
    {
     "name": "stderr",
     "output_type": "stream",
     "text": [
      " 70%|██████▉   | 2087/3000 [01:33<00:36, 25.08it/s]\u001b[A\n",
      " 70%|██████▉   | 2091/3000 [01:33<00:33, 27.41it/s]\u001b[A\n",
      " 70%|██████▉   | 2094/3000 [01:33<00:45, 19.91it/s]\u001b[A\n",
      " 70%|██████▉   | 2097/3000 [01:33<00:42, 21.13it/s]\u001b[A\n",
      " 70%|███████   | 2101/3000 [01:34<00:38, 23.43it/s]\u001b[A\n",
      " 70%|███████   | 2104/3000 [01:34<00:46, 19.39it/s]\u001b[A\n",
      " 70%|███████   | 2107/3000 [01:34<01:05, 13.64it/s]\u001b[A\n",
      " 70%|███████   | 2110/3000 [01:34<00:58, 15.11it/s]\u001b[A\n",
      " 70%|███████   | 2114/3000 [01:34<00:46, 18.86it/s]\u001b[A\n",
      " 71%|███████   | 2118/3000 [01:35<00:41, 21.29it/s]\u001b[A\n",
      " 71%|███████   | 2122/3000 [01:35<00:37, 23.57it/s]\u001b[A\n",
      " 71%|███████   | 2126/3000 [01:35<00:34, 25.16it/s]\u001b[A\n",
      " 71%|███████   | 2130/3000 [01:35<00:33, 25.92it/s]\u001b[A\n",
      " 71%|███████   | 2133/3000 [01:35<00:32, 26.32it/s]\u001b[A\n",
      " 71%|███████   | 2136/3000 [01:35<00:32, 26.91it/s]\u001b[A\n",
      " 71%|███████▏  | 2140/3000 [01:35<00:29, 28.81it/s]\u001b[A\n",
      " 71%|███████▏  | 2144/3000 [01:35<00:27, 30.75it/s]\u001b[A\n",
      " 72%|███████▏  | 2148/3000 [01:36<00:31, 27.14it/s]\u001b[A\n",
      " 72%|███████▏  | 2151/3000 [01:36<00:31, 26.55it/s]\u001b[A\n",
      " 72%|███████▏  | 2154/3000 [01:36<00:46, 18.21it/s]\u001b[A\n",
      " 72%|███████▏  | 2158/3000 [01:36<00:39, 21.58it/s]\u001b[A\n",
      " 72%|███████▏  | 2161/3000 [01:36<00:36, 23.24it/s]\u001b[A\n",
      " 72%|███████▏  | 2165/3000 [01:36<00:38, 21.89it/s]\u001b[A\n",
      " 72%|███████▏  | 2168/3000 [01:37<00:35, 23.12it/s]\u001b[A\n",
      " 72%|███████▏  | 2172/3000 [01:37<00:31, 26.16it/s]\u001b[A\n",
      " 72%|███████▎  | 2175/3000 [01:37<00:30, 26.83it/s]\u001b[A\n",
      " 73%|███████▎  | 2179/3000 [01:37<00:28, 28.39it/s]\u001b[A\n",
      " 73%|███████▎  | 2183/3000 [01:37<00:27, 29.96it/s]\u001b[A\n",
      " 73%|███████▎  | 2187/3000 [01:37<00:28, 28.93it/s]\u001b[A\n",
      " 73%|███████▎  | 2190/3000 [01:37<00:27, 29.13it/s]\u001b[A\n",
      " 73%|███████▎  | 2194/3000 [01:37<00:25, 31.65it/s]\u001b[A\n",
      " 73%|███████▎  | 2198/3000 [01:38<00:24, 32.83it/s]\u001b[A\n",
      " 73%|███████▎  | 2202/3000 [01:38<00:24, 32.75it/s]\u001b[A\n",
      " 74%|███████▎  | 2206/3000 [01:38<00:33, 23.54it/s]\u001b[A\n",
      " 74%|███████▎  | 2209/3000 [01:38<00:35, 22.17it/s]\u001b[A\n",
      " 74%|███████▎  | 2212/3000 [01:38<00:37, 20.76it/s]\u001b[A\n",
      " 74%|███████▍  | 2215/3000 [01:38<00:35, 22.03it/s]\u001b[A\n",
      " 74%|███████▍  | 2219/3000 [01:38<00:32, 24.20it/s]\u001b[A\n",
      " 74%|███████▍  | 2222/3000 [01:39<00:31, 24.34it/s]\u001b[A\n",
      " 74%|███████▍  | 2226/3000 [01:39<00:29, 26.11it/s]\u001b[A\n",
      " 74%|███████▍  | 2229/3000 [01:39<00:29, 26.21it/s]\u001b[A\n",
      " 74%|███████▍  | 2232/3000 [01:39<00:40, 18.87it/s]\u001b[A\n",
      " 75%|███████▍  | 2236/3000 [01:39<00:34, 21.91it/s]\u001b[A\n",
      " 75%|███████▍  | 2240/3000 [01:39<00:30, 24.94it/s]\u001b[A\n",
      " 75%|███████▍  | 2243/3000 [01:40<00:37, 20.36it/s]\u001b[A\n",
      " 75%|███████▍  | 2247/3000 [01:40<00:31, 23.55it/s]\u001b[A\n",
      " 75%|███████▌  | 2250/3000 [01:40<00:30, 24.45it/s]\u001b[A\n",
      " 75%|███████▌  | 2253/3000 [01:40<00:40, 18.63it/s]\u001b[A\n",
      " 75%|███████▌  | 2256/3000 [01:40<00:50, 14.83it/s]\u001b[A\n",
      " 75%|███████▌  | 2259/3000 [01:41<00:43, 16.92it/s]\u001b[A\n",
      " 75%|███████▌  | 2262/3000 [01:41<00:41, 17.75it/s]\u001b[A\n",
      " 76%|███████▌  | 2265/3000 [01:41<00:39, 18.55it/s]\u001b[A\n",
      " 76%|███████▌  | 2268/3000 [01:41<00:35, 20.47it/s]\u001b[A\n",
      " 76%|███████▌  | 2271/3000 [01:41<00:45, 15.91it/s]\u001b[A\n",
      " 76%|███████▌  | 2275/3000 [01:41<00:36, 20.08it/s]\u001b[A\n",
      " 76%|███████▌  | 2278/3000 [01:42<00:39, 18.40it/s]\u001b[A\n",
      " 76%|███████▌  | 2281/3000 [01:42<00:35, 20.52it/s]\u001b[A\n",
      " 76%|███████▌  | 2285/3000 [01:42<00:30, 23.77it/s]\u001b[A\n",
      " 76%|███████▋  | 2289/3000 [01:42<00:26, 26.59it/s]\u001b[A\n",
      " 76%|███████▋  | 2293/3000 [01:42<00:25, 28.21it/s]\u001b[A\n",
      " 77%|███████▋  | 2297/3000 [01:42<00:24, 28.92it/s]\u001b[A\n",
      " 77%|███████▋  | 2301/3000 [01:42<00:25, 27.58it/s]\u001b[A\n",
      " 77%|███████▋  | 2304/3000 [01:43<00:35, 19.71it/s]\u001b[A\n",
      " 77%|███████▋  | 2307/3000 [01:43<00:33, 20.50it/s]\u001b[A\n",
      " 77%|███████▋  | 2311/3000 [01:43<00:29, 23.52it/s]\u001b[A\n",
      " 77%|███████▋  | 2315/3000 [01:43<00:25, 27.11it/s]\u001b[A\n",
      " 77%|███████▋  | 2319/3000 [01:43<00:27, 24.82it/s]\u001b[A\n",
      " 77%|███████▋  | 2322/3000 [01:43<00:26, 25.66it/s]\u001b[A\n",
      " 78%|███████▊  | 2327/3000 [01:43<00:22, 30.08it/s]\u001b[A\n",
      " 78%|███████▊  | 2331/3000 [01:43<00:22, 29.85it/s]\u001b[A\n",
      " 78%|███████▊  | 2335/3000 [01:44<00:22, 29.91it/s]\u001b[A\n",
      " 78%|███████▊  | 2339/3000 [01:44<00:24, 26.50it/s]\u001b[A\n",
      " 78%|███████▊  | 2343/3000 [01:44<00:23, 28.09it/s]\u001b[A\n",
      " 78%|███████▊  | 2346/3000 [01:44<00:23, 28.37it/s]\u001b[A\n",
      " 78%|███████▊  | 2350/3000 [01:44<00:21, 30.05it/s]\u001b[A\n",
      " 78%|███████▊  | 2354/3000 [01:45<00:39, 16.35it/s]\u001b[A\n",
      " 79%|███████▊  | 2358/3000 [01:45<00:32, 19.73it/s]\u001b[A\n",
      " 79%|███████▊  | 2361/3000 [01:45<00:30, 21.27it/s]\u001b[A\n",
      " 79%|███████▉  | 2364/3000 [01:45<00:28, 22.06it/s]\u001b[A\n",
      " 79%|███████▉  | 2368/3000 [01:45<00:24, 25.68it/s]\u001b[A\n",
      " 79%|███████▉  | 2372/3000 [01:45<00:23, 27.00it/s]\u001b[A\n",
      " 79%|███████▉  | 2376/3000 [01:45<00:23, 26.71it/s]\u001b[A\n",
      " 79%|███████▉  | 2379/3000 [01:45<00:25, 24.11it/s]\u001b[A\n",
      " 79%|███████▉  | 2382/3000 [01:46<00:31, 19.32it/s]\u001b[A\n",
      " 80%|███████▉  | 2386/3000 [01:46<00:27, 22.47it/s]\u001b[A\n",
      " 80%|███████▉  | 2390/3000 [01:46<00:23, 25.60it/s]\u001b[A\n",
      " 80%|███████▉  | 2393/3000 [01:46<00:32, 18.54it/s]\u001b[A\n",
      " 80%|███████▉  | 2396/3000 [01:46<00:31, 19.15it/s]\u001b[A\n",
      " 80%|███████▉  | 2399/3000 [01:47<00:30, 19.86it/s]\u001b[A\n",
      " 80%|████████  | 2403/3000 [01:47<00:26, 22.89it/s]\u001b[A\n",
      " 80%|████████  | 2406/3000 [01:47<00:25, 23.61it/s]\u001b[A\n",
      " 80%|████████  | 2410/3000 [01:47<00:25, 23.19it/s]\u001b[A\n",
      " 80%|████████  | 2413/3000 [01:47<00:25, 23.34it/s]\u001b[A\n",
      " 81%|████████  | 2416/3000 [01:47<00:23, 24.44it/s]\u001b[A\n",
      " 81%|████████  | 2420/3000 [01:47<00:21, 26.77it/s]\u001b[A\n",
      " 81%|████████  | 2423/3000 [01:47<00:21, 27.38it/s]\u001b[A\n",
      " 81%|████████  | 2427/3000 [01:48<00:19, 29.66it/s]\u001b[A\n",
      " 81%|████████  | 2431/3000 [01:48<00:25, 22.60it/s]\u001b[A\n",
      " 81%|████████  | 2434/3000 [01:48<00:24, 22.80it/s]\u001b[A\n",
      " 81%|████████  | 2437/3000 [01:48<00:25, 21.68it/s]\u001b[A\n",
      " 81%|████████▏ | 2441/3000 [01:48<00:22, 24.79it/s]\u001b[A\n",
      " 81%|████████▏ | 2444/3000 [01:48<00:21, 25.66it/s]\u001b[A\n",
      " 82%|████████▏ | 2447/3000 [01:48<00:23, 23.99it/s]\u001b[A\n",
      " 82%|████████▏ | 2451/3000 [01:49<00:20, 26.82it/s]\u001b[A\n",
      " 82%|████████▏ | 2454/3000 [01:49<00:27, 20.12it/s]\u001b[A\n",
      " 82%|████████▏ | 2457/3000 [01:49<00:24, 22.00it/s]\u001b[A\n",
      " 82%|████████▏ | 2460/3000 [01:49<00:24, 22.28it/s]\u001b[A\n",
      " 82%|████████▏ | 2463/3000 [01:49<00:25, 21.47it/s]\u001b[A\n",
      " 82%|████████▏ | 2467/3000 [01:49<00:21, 25.07it/s]\u001b[A\n",
      " 82%|████████▏ | 2470/3000 [01:50<00:28, 18.50it/s]\u001b[A\n",
      " 82%|████████▏ | 2473/3000 [01:50<00:32, 16.32it/s]\u001b[A\n",
      " 83%|████████▎ | 2476/3000 [01:50<00:27, 18.72it/s]\u001b[A\n",
      " 83%|████████▎ | 2479/3000 [01:50<00:48, 10.71it/s]\u001b[A\n",
      " 83%|████████▎ | 2482/3000 [01:51<00:59,  8.77it/s]\u001b[A\n",
      " 83%|████████▎ | 2485/3000 [01:51<01:04,  8.02it/s]\u001b[A\n",
      " 83%|████████▎ | 2488/3000 [01:52<01:09,  7.35it/s]\u001b[A\n",
      " 83%|████████▎ | 2492/3000 [01:52<00:49, 10.29it/s]\u001b[A\n",
      " 83%|████████▎ | 2494/3000 [01:52<00:47, 10.66it/s]\u001b[A\n",
      " 83%|████████▎ | 2498/3000 [01:52<00:35, 14.23it/s]\u001b[A\n",
      " 83%|████████▎ | 2502/3000 [01:52<00:28, 17.77it/s]\u001b[A\n",
      " 84%|████████▎ | 2505/3000 [01:53<00:24, 19.84it/s]\u001b[A\n",
      " 84%|████████▎ | 2508/3000 [01:53<00:23, 20.52it/s]\u001b[A\n",
      " 84%|████████▎ | 2512/3000 [01:53<00:19, 24.68it/s]\u001b[A\n",
      " 84%|████████▍ | 2515/3000 [01:53<00:18, 25.68it/s]\u001b[A\n",
      " 84%|████████▍ | 2518/3000 [01:53<00:18, 26.61it/s]\u001b[A\n",
      " 84%|████████▍ | 2522/3000 [01:53<00:17, 27.95it/s]\u001b[A\n",
      " 84%|████████▍ | 2525/3000 [01:53<00:18, 25.02it/s]\u001b[A\n",
      " 84%|████████▍ | 2529/3000 [01:53<00:16, 27.73it/s]\u001b[A\n",
      " 84%|████████▍ | 2532/3000 [01:53<00:16, 27.98it/s]\u001b[A\n",
      " 85%|████████▍ | 2536/3000 [01:54<00:15, 30.20it/s]\u001b[A\n",
      " 85%|████████▍ | 2540/3000 [01:54<00:15, 30.40it/s]\u001b[A\n",
      " 85%|████████▍ | 2544/3000 [01:54<00:15, 29.18it/s]\u001b[A\n",
      " 85%|████████▍ | 2547/3000 [01:54<00:23, 19.61it/s]\u001b[A\n",
      " 85%|████████▌ | 2550/3000 [01:54<00:24, 18.64it/s]\u001b[A\n",
      " 85%|████████▌ | 2554/3000 [01:54<00:19, 22.71it/s]\u001b[A\n",
      " 85%|████████▌ | 2557/3000 [01:55<00:18, 23.92it/s]\u001b[A\n",
      " 85%|████████▌ | 2561/3000 [01:55<00:16, 27.18it/s]\u001b[A\n",
      " 86%|████████▌ | 2565/3000 [01:55<00:16, 27.03it/s]\u001b[A\n",
      " 86%|████████▌ | 2568/3000 [01:55<00:30, 14.27it/s]\u001b[A\n",
      " 86%|████████▌ | 2571/3000 [01:56<00:32, 13.21it/s]\u001b[A\n",
      " 86%|████████▌ | 2573/3000 [01:56<00:38, 10.96it/s]\u001b[A\n",
      " 86%|████████▌ | 2575/3000 [01:56<00:35, 11.86it/s]\u001b[A\n",
      " 86%|████████▌ | 2578/3000 [01:56<00:30, 13.65it/s]\u001b[A\n",
      " 86%|████████▌ | 2583/3000 [01:56<00:22, 18.72it/s]\u001b[A\n",
      " 86%|████████▌ | 2587/3000 [01:56<00:18, 22.28it/s]\u001b[A\n",
      " 86%|████████▋ | 2591/3000 [01:57<00:15, 25.73it/s]\u001b[A\n",
      " 86%|████████▋ | 2595/3000 [01:57<00:15, 26.54it/s]\u001b[A\n",
      " 87%|████████▋ | 2598/3000 [01:57<00:15, 26.09it/s]\u001b[A\n"
     ]
    },
    {
     "name": "stderr",
     "output_type": "stream",
     "text": [
      " 87%|████████▋ | 2602/3000 [01:57<00:13, 28.75it/s]\u001b[A\n",
      " 87%|████████▋ | 2606/3000 [01:57<00:13, 28.75it/s]\u001b[A\n",
      " 87%|████████▋ | 2610/3000 [01:57<00:13, 28.12it/s]\u001b[A\n",
      " 87%|████████▋ | 2613/3000 [01:57<00:14, 26.34it/s]\u001b[A\n",
      " 87%|████████▋ | 2616/3000 [01:57<00:14, 25.96it/s]\u001b[A\n",
      " 87%|████████▋ | 2620/3000 [01:58<00:13, 27.40it/s]\u001b[A\n",
      " 87%|████████▋ | 2623/3000 [01:58<00:14, 26.41it/s]\u001b[A\n",
      " 88%|████████▊ | 2627/3000 [01:58<00:13, 28.20it/s]\u001b[A\n",
      " 88%|████████▊ | 2630/3000 [01:58<00:13, 27.15it/s]\u001b[A\n",
      " 88%|████████▊ | 2633/3000 [01:58<00:13, 26.77it/s]\u001b[A\n",
      " 88%|████████▊ | 2636/3000 [01:58<00:15, 22.91it/s]\u001b[A\n",
      " 88%|████████▊ | 2639/3000 [01:58<00:19, 18.18it/s]\u001b[A\n",
      " 88%|████████▊ | 2643/3000 [01:59<00:16, 22.28it/s]\u001b[A\n",
      " 88%|████████▊ | 2646/3000 [01:59<00:17, 19.84it/s]\u001b[A\n",
      " 88%|████████▊ | 2650/3000 [01:59<00:21, 16.42it/s]\u001b[A\n",
      " 88%|████████▊ | 2654/3000 [01:59<00:17, 19.28it/s]\u001b[A\n",
      " 89%|████████▊ | 2657/3000 [02:00<00:21, 16.08it/s]\u001b[A\n",
      " 89%|████████▊ | 2659/3000 [02:00<00:21, 16.12it/s]\u001b[A\n",
      " 89%|████████▊ | 2662/3000 [02:00<00:19, 17.56it/s]\u001b[A\n",
      " 89%|████████▉ | 2666/3000 [02:00<00:15, 21.40it/s]\u001b[A\n",
      " 89%|████████▉ | 2670/3000 [02:00<00:14, 23.10it/s]\u001b[A\n",
      " 89%|████████▉ | 2673/3000 [02:00<00:14, 23.26it/s]\u001b[A\n",
      " 89%|████████▉ | 2678/3000 [02:00<00:11, 28.01it/s]\u001b[A\n",
      " 89%|████████▉ | 2682/3000 [02:00<00:10, 30.21it/s]\u001b[A\n",
      " 90%|████████▉ | 2686/3000 [02:01<00:10, 29.25it/s]\u001b[A\n",
      " 90%|████████▉ | 2690/3000 [02:01<00:10, 30.17it/s]\u001b[A\n",
      " 90%|████████▉ | 2694/3000 [02:01<00:09, 31.11it/s]\u001b[A\n",
      " 90%|████████▉ | 2698/3000 [02:01<00:09, 32.85it/s]\u001b[A\n",
      " 90%|█████████ | 2702/3000 [02:01<00:14, 21.24it/s]\u001b[A\n",
      " 90%|█████████ | 2705/3000 [02:01<00:13, 22.15it/s]\u001b[A\n",
      " 90%|█████████ | 2708/3000 [02:01<00:12, 23.04it/s]\u001b[A\n",
      " 90%|█████████ | 2712/3000 [02:02<00:11, 25.54it/s]\u001b[A\n",
      " 90%|█████████ | 2715/3000 [02:02<00:11, 25.13it/s]\u001b[A\n",
      " 91%|█████████ | 2718/3000 [02:02<00:13, 21.20it/s]\u001b[A\n",
      " 91%|█████████ | 2721/3000 [02:02<00:12, 21.77it/s]\u001b[A\n",
      " 91%|█████████ | 2724/3000 [02:02<00:11, 23.27it/s]\u001b[A\n",
      " 91%|█████████ | 2727/3000 [02:02<00:11, 24.70it/s]\u001b[A\n",
      " 91%|█████████ | 2730/3000 [02:02<00:11, 23.65it/s]\u001b[A\n",
      " 91%|█████████ | 2733/3000 [02:03<00:14, 18.95it/s]\u001b[A\n",
      " 91%|█████████ | 2737/3000 [02:03<00:11, 22.89it/s]\u001b[A\n",
      " 91%|█████████▏| 2740/3000 [02:03<00:10, 23.71it/s]\u001b[A\n",
      " 91%|█████████▏| 2743/3000 [02:03<00:12, 20.86it/s]\u001b[A\n",
      " 92%|█████████▏| 2747/3000 [02:03<00:10, 24.21it/s]\u001b[A\n",
      " 92%|█████████▏| 2750/3000 [02:03<00:10, 24.71it/s]\u001b[A\n",
      " 92%|█████████▏| 2755/3000 [02:03<00:08, 28.84it/s]\u001b[A\n",
      " 92%|█████████▏| 2759/3000 [02:04<00:08, 29.71it/s]\u001b[A\n",
      " 92%|█████████▏| 2763/3000 [02:04<00:13, 18.19it/s]\u001b[A\n",
      " 92%|█████████▏| 2766/3000 [02:04<00:12, 19.01it/s]\u001b[A\n",
      " 92%|█████████▏| 2769/3000 [02:04<00:12, 18.66it/s]\u001b[A\n",
      " 92%|█████████▏| 2773/3000 [02:04<00:10, 22.00it/s]\u001b[A\n",
      " 93%|█████████▎| 2776/3000 [02:04<00:09, 22.96it/s]\u001b[A\n",
      " 93%|█████████▎| 2780/3000 [02:05<00:08, 26.31it/s]\u001b[A\n",
      " 93%|█████████▎| 2784/3000 [02:05<00:07, 29.15it/s]\u001b[A\n",
      " 93%|█████████▎| 2788/3000 [02:05<00:07, 27.08it/s]\u001b[A\n",
      " 93%|█████████▎| 2792/3000 [02:05<00:07, 27.94it/s]\u001b[A\n",
      " 93%|█████████▎| 2796/3000 [02:05<00:06, 30.62it/s]\u001b[A\n",
      " 93%|█████████▎| 2800/3000 [02:05<00:06, 28.77it/s]\u001b[A\n",
      " 94%|█████████▎| 2805/3000 [02:05<00:06, 31.97it/s]\u001b[A\n",
      " 94%|█████████▎| 2809/3000 [02:05<00:06, 31.67it/s]\u001b[A\n",
      " 94%|█████████▍| 2813/3000 [02:06<00:06, 29.95it/s]\u001b[A\n",
      " 94%|█████████▍| 2817/3000 [02:06<00:05, 31.06it/s]\u001b[A\n",
      " 94%|█████████▍| 2821/3000 [02:06<00:10, 17.42it/s]\u001b[A\n",
      " 94%|█████████▍| 2825/3000 [02:06<00:08, 20.61it/s]\u001b[A\n",
      " 94%|█████████▍| 2829/3000 [02:06<00:07, 22.78it/s]\u001b[A\n",
      " 94%|█████████▍| 2832/3000 [02:07<00:07, 22.21it/s]\u001b[A\n",
      " 95%|█████████▍| 2836/3000 [02:07<00:06, 25.36it/s]\u001b[A\n",
      " 95%|█████████▍| 2839/3000 [02:07<00:08, 18.69it/s]\u001b[A\n",
      " 95%|█████████▍| 2842/3000 [02:07<00:08, 19.30it/s]\u001b[A\n",
      " 95%|█████████▍| 2845/3000 [02:07<00:07, 20.75it/s]\u001b[A\n",
      " 95%|█████████▍| 2849/3000 [02:07<00:06, 23.43it/s]\u001b[A\n",
      " 95%|█████████▌| 2852/3000 [02:08<00:06, 23.70it/s]\u001b[A\n",
      " 95%|█████████▌| 2856/3000 [02:08<00:05, 27.18it/s]\u001b[A\n",
      " 95%|█████████▌| 2860/3000 [02:08<00:04, 28.27it/s]\u001b[A\n",
      " 95%|█████████▌| 2863/3000 [02:08<00:05, 26.59it/s]\u001b[A\n",
      " 96%|█████████▌| 2866/3000 [02:08<00:05, 24.78it/s]\u001b[A\n",
      " 96%|█████████▌| 2869/3000 [02:08<00:05, 25.30it/s]\u001b[A\n",
      " 96%|█████████▌| 2873/3000 [02:08<00:04, 27.75it/s]\u001b[A\n",
      " 96%|█████████▌| 2877/3000 [02:08<00:04, 26.66it/s]\u001b[A\n",
      " 96%|█████████▌| 2881/3000 [02:09<00:06, 19.81it/s]\u001b[A\n",
      " 96%|█████████▌| 2884/3000 [02:09<00:05, 21.56it/s]\u001b[A\n",
      " 96%|█████████▌| 2887/3000 [02:09<00:05, 21.09it/s]\u001b[A\n",
      " 96%|█████████▋| 2891/3000 [02:09<00:04, 24.09it/s]\u001b[A\n",
      " 96%|█████████▋| 2894/3000 [02:09<00:06, 17.56it/s]\u001b[A\n",
      " 97%|█████████▋| 2897/3000 [02:10<00:05, 19.17it/s]\u001b[A\n",
      " 97%|█████████▋| 2900/3000 [02:10<00:04, 20.99it/s]\u001b[A\n",
      " 97%|█████████▋| 2903/3000 [02:10<00:05, 16.38it/s]\u001b[A\n",
      " 97%|█████████▋| 2906/3000 [02:10<00:06, 14.12it/s]\u001b[A\n",
      " 97%|█████████▋| 2909/3000 [02:10<00:05, 16.46it/s]\u001b[A\n",
      " 97%|█████████▋| 2913/3000 [02:10<00:04, 20.71it/s]\u001b[A\n",
      " 97%|█████████▋| 2916/3000 [02:11<00:03, 22.61it/s]\u001b[A\n",
      " 97%|█████████▋| 2920/3000 [02:11<00:03, 26.14it/s]\u001b[A\n",
      " 97%|█████████▋| 2924/3000 [02:11<00:02, 27.72it/s]\u001b[A\n",
      " 98%|█████████▊| 2928/3000 [02:11<00:02, 28.44it/s]\u001b[A\n",
      " 98%|█████████▊| 2932/3000 [02:11<00:02, 27.15it/s]\u001b[A\n",
      " 98%|█████████▊| 2937/3000 [02:11<00:02, 30.81it/s]\u001b[A\n",
      " 98%|█████████▊| 2942/3000 [02:11<00:01, 33.91it/s]\u001b[A\n",
      " 98%|█████████▊| 2946/3000 [02:12<00:01, 27.22it/s]\u001b[A\n",
      " 98%|█████████▊| 2950/3000 [02:12<00:01, 29.04it/s]\u001b[A\n",
      " 98%|█████████▊| 2954/3000 [02:12<00:01, 31.35it/s]\u001b[A\n",
      " 99%|█████████▊| 2958/3000 [02:12<00:01, 27.81it/s]\u001b[A\n",
      " 99%|█████████▊| 2962/3000 [02:12<00:01, 25.08it/s]\u001b[A\n",
      " 99%|█████████▉| 2966/3000 [02:12<00:01, 26.64it/s]\u001b[A\n",
      " 99%|█████████▉| 2969/3000 [02:12<00:01, 27.30it/s]\u001b[A\n",
      " 99%|█████████▉| 2972/3000 [02:13<00:01, 24.40it/s]\u001b[A\n",
      " 99%|█████████▉| 2976/3000 [02:13<00:00, 26.88it/s]\u001b[A\n",
      " 99%|█████████▉| 2979/3000 [02:13<00:00, 26.84it/s]\u001b[A\n",
      " 99%|█████████▉| 2983/3000 [02:13<00:00, 28.43it/s]\u001b[A\n",
      "100%|█████████▉| 2987/3000 [02:13<00:00, 29.37it/s]\u001b[A\n",
      "100%|█████████▉| 2990/3000 [02:13<00:00, 23.18it/s]\u001b[A\n",
      "100%|█████████▉| 2995/3000 [02:13<00:00, 27.54it/s]\u001b[A\n",
      "100%|██████████| 3000/3000 [02:14<00:00, 22.37it/s]\u001b[A\n",
      " 15%|█▌        | 2/13 [04:47<26:19, 143.58s/it]"
     ]
    },
    {
     "name": "stdout",
     "output_type": "stream",
     "text": [
      "results_CLIP_2 completed\n"
     ]
    },
    {
     "name": "stderr",
     "output_type": "stream",
     "text": [
      "\n",
      "  0%|          | 0/3000 [00:00<?, ?it/s]\u001b[A\n",
      "  0%|          | 3/3000 [00:00<01:56, 25.67it/s]\u001b[A\n",
      "  0%|          | 7/3000 [00:00<01:39, 30.03it/s]\u001b[A\n",
      "  0%|          | 10/3000 [00:00<02:06, 23.65it/s]\u001b[A\n",
      "  0%|          | 13/3000 [00:00<03:16, 15.23it/s]\u001b[A\n",
      "  0%|          | 15/3000 [00:00<03:20, 14.89it/s]\u001b[A\n",
      "  1%|          | 19/3000 [00:00<02:35, 19.15it/s]\u001b[A\n",
      "  1%|          | 23/3000 [00:01<02:06, 23.58it/s]\u001b[A\n",
      "  1%|          | 27/3000 [00:01<01:54, 25.97it/s]\u001b[A\n",
      "  1%|          | 30/3000 [00:01<01:52, 26.46it/s]\u001b[A\n",
      "  1%|          | 34/3000 [00:01<01:45, 28.19it/s]\u001b[A\n",
      "  1%|          | 37/3000 [00:01<02:44, 18.02it/s]\u001b[A\n",
      "  1%|▏         | 40/3000 [00:01<02:35, 18.98it/s]\u001b[A\n",
      "  1%|▏         | 43/3000 [00:02<02:39, 18.54it/s]\u001b[A\n",
      "  2%|▏         | 47/3000 [00:02<02:16, 21.63it/s]\u001b[A\n",
      "  2%|▏         | 50/3000 [00:02<02:14, 21.90it/s]\u001b[A\n",
      "  2%|▏         | 54/3000 [00:02<01:55, 25.52it/s]\u001b[A\n",
      "  2%|▏         | 58/3000 [00:02<02:27, 19.90it/s]\u001b[A\n",
      "  2%|▏         | 62/3000 [00:02<02:09, 22.75it/s]\u001b[A\n",
      "  2%|▏         | 65/3000 [00:03<02:12, 22.08it/s]\u001b[A\n",
      "  2%|▏         | 69/3000 [00:03<01:53, 25.85it/s]\u001b[A\n",
      "  2%|▏         | 73/3000 [00:03<01:47, 27.32it/s]\u001b[A\n",
      "  3%|▎         | 76/3000 [00:03<01:52, 25.98it/s]\u001b[A\n",
      "  3%|▎         | 80/3000 [00:03<01:41, 28.82it/s]\u001b[A\n",
      "  3%|▎         | 84/3000 [00:03<01:59, 24.41it/s]\u001b[A\n",
      "  3%|▎         | 88/3000 [00:03<01:52, 25.98it/s]\u001b[A\n",
      "  3%|▎         | 92/3000 [00:03<01:47, 27.04it/s]\u001b[A\n",
      "  3%|▎         | 95/3000 [00:04<02:15, 21.49it/s]\u001b[A\n",
      "  3%|▎         | 99/3000 [00:04<01:56, 24.81it/s]\u001b[A\n",
      "  3%|▎         | 102/3000 [00:04<02:12, 21.94it/s]\u001b[A\n",
      "  4%|▎         | 105/3000 [00:04<02:07, 22.64it/s]\u001b[A\n",
      "  4%|▎         | 109/3000 [00:04<02:27, 19.62it/s]\u001b[A\n",
      "  4%|▎         | 112/3000 [00:04<02:13, 21.55it/s]\u001b[A\n",
      "  4%|▍         | 116/3000 [00:05<02:00, 23.97it/s]\u001b[A\n",
      "  4%|▍         | 119/3000 [00:05<01:54, 25.15it/s]\u001b[A\n",
      "  4%|▍         | 123/3000 [00:05<01:42, 28.03it/s]\u001b[A\n",
      "  4%|▍         | 127/3000 [00:05<01:43, 27.85it/s]\u001b[A\n",
      "  4%|▍         | 130/3000 [00:05<02:03, 23.20it/s]\u001b[A\n",
      "  4%|▍         | 133/3000 [00:05<02:08, 22.24it/s]\u001b[A\n",
      "  5%|▍         | 136/3000 [00:06<02:39, 18.01it/s]\u001b[A\n",
      "  5%|▍         | 140/3000 [00:06<02:11, 21.76it/s]\u001b[A\n",
      "  5%|▍         | 144/3000 [00:06<01:55, 24.74it/s]\u001b[A\n",
      "  5%|▍         | 147/3000 [00:06<01:57, 24.29it/s]\u001b[A\n",
      "  5%|▌         | 151/3000 [00:06<01:44, 27.36it/s]\u001b[A\n",
      "  5%|▌         | 155/3000 [00:06<01:37, 29.18it/s]\u001b[A\n",
      "  5%|▌         | 159/3000 [00:06<01:31, 30.92it/s]\u001b[A\n",
      "  5%|▌         | 163/3000 [00:06<01:35, 29.85it/s]\u001b[A\n",
      "  6%|▌         | 167/3000 [00:07<01:37, 29.10it/s]\u001b[A\n",
      "  6%|▌         | 171/3000 [00:07<01:31, 30.99it/s]\u001b[A\n",
      "  6%|▌         | 175/3000 [00:07<01:32, 30.44it/s]\u001b[A\n",
      "  6%|▌         | 179/3000 [00:07<01:38, 28.57it/s]\u001b[A\n",
      "  6%|▌         | 182/3000 [00:07<01:42, 27.43it/s]\u001b[A\n",
      "  6%|▌         | 185/3000 [00:07<01:52, 25.00it/s]\u001b[A\n",
      "  6%|▋         | 189/3000 [00:07<01:42, 27.30it/s]\u001b[A\n",
      "  6%|▋         | 193/3000 [00:07<01:39, 28.21it/s]\u001b[A\n",
      "  7%|▋         | 196/3000 [00:08<02:22, 19.62it/s]\u001b[A\n",
      "  7%|▋         | 200/3000 [00:08<02:14, 20.80it/s]\u001b[A\n",
      "  7%|▋         | 204/3000 [00:08<01:54, 24.48it/s]\u001b[A\n",
      "  7%|▋         | 207/3000 [00:08<01:49, 25.48it/s]\u001b[A\n",
      "  7%|▋         | 211/3000 [00:08<01:37, 28.47it/s]\u001b[A\n",
      "  7%|▋         | 215/3000 [00:08<01:43, 26.98it/s]\u001b[A\n",
      "  7%|▋         | 218/3000 [00:09<01:49, 25.31it/s]\u001b[A\n",
      "  7%|▋         | 221/3000 [00:09<01:48, 25.66it/s]\u001b[A\n",
      "  7%|▋         | 224/3000 [00:09<01:48, 25.55it/s]\u001b[A\n",
      "  8%|▊         | 228/3000 [00:09<01:48, 25.59it/s]\u001b[A\n",
      "  8%|▊         | 231/3000 [00:09<01:47, 25.87it/s]\u001b[A\n",
      "  8%|▊         | 235/3000 [00:09<01:38, 28.05it/s]\u001b[A\n",
      "  8%|▊         | 238/3000 [00:09<01:41, 27.09it/s]\u001b[A\n",
      "  8%|▊         | 242/3000 [00:09<01:43, 26.74it/s]\u001b[A\n",
      "  8%|▊         | 246/3000 [00:10<01:37, 28.28it/s]\u001b[A\n",
      "  8%|▊         | 249/3000 [00:10<01:38, 27.88it/s]\u001b[A\n",
      "  8%|▊         | 253/3000 [00:10<01:46, 25.88it/s]\u001b[A\n",
      "  9%|▊         | 257/3000 [00:10<01:36, 28.35it/s]\u001b[A\n",
      "  9%|▊         | 260/3000 [00:10<01:37, 28.24it/s]\u001b[A\n",
      "  9%|▉         | 264/3000 [00:10<01:32, 29.61it/s]\u001b[A\n",
      "  9%|▉         | 267/3000 [00:10<01:32, 29.57it/s]\u001b[A\n",
      "  9%|▉         | 270/3000 [00:11<02:22, 19.18it/s]\u001b[A\n",
      "  9%|▉         | 273/3000 [00:11<02:16, 20.00it/s]\u001b[A\n",
      "  9%|▉         | 276/3000 [00:11<02:07, 21.33it/s]\u001b[A\n",
      "  9%|▉         | 279/3000 [00:11<02:20, 19.39it/s]\u001b[A\n",
      "  9%|▉         | 283/3000 [00:11<01:59, 22.82it/s]\u001b[A\n",
      " 10%|▉         | 286/3000 [00:11<01:58, 22.92it/s]\u001b[A\n",
      " 10%|▉         | 290/3000 [00:11<01:46, 25.50it/s]\u001b[A\n",
      " 10%|▉         | 293/3000 [00:12<02:09, 20.86it/s]\u001b[A\n",
      " 10%|▉         | 297/3000 [00:12<01:53, 23.82it/s]\u001b[A\n",
      " 10%|█         | 301/3000 [00:12<01:38, 27.39it/s]\u001b[A\n",
      " 10%|█         | 305/3000 [00:12<01:42, 26.39it/s]\u001b[A\n",
      " 10%|█         | 308/3000 [00:12<01:39, 27.10it/s]\u001b[A\n",
      " 10%|█         | 311/3000 [00:12<01:46, 25.14it/s]\u001b[A\n",
      " 10%|█         | 315/3000 [00:12<01:38, 27.13it/s]\u001b[A\n",
      " 11%|█         | 319/3000 [00:13<01:48, 24.62it/s]\u001b[A\n",
      " 11%|█         | 323/3000 [00:13<01:42, 26.02it/s]\u001b[A\n",
      " 11%|█         | 327/3000 [00:13<01:34, 28.27it/s]\u001b[A\n",
      " 11%|█         | 331/3000 [00:13<01:29, 29.69it/s]\u001b[A\n",
      " 11%|█         | 335/3000 [00:13<01:31, 28.99it/s]\u001b[A\n",
      " 11%|█▏        | 338/3000 [00:13<01:33, 28.60it/s]\u001b[A\n",
      " 11%|█▏        | 341/3000 [00:13<01:35, 27.95it/s]\u001b[A\n",
      " 11%|█▏        | 344/3000 [00:14<02:27, 18.04it/s]\u001b[A\n",
      " 12%|█▏        | 348/3000 [00:14<02:01, 21.89it/s]\u001b[A\n",
      " 12%|█▏        | 351/3000 [00:14<01:59, 22.24it/s]\u001b[A\n",
      " 12%|█▏        | 354/3000 [00:14<01:56, 22.65it/s]\u001b[A\n",
      " 12%|█▏        | 357/3000 [00:14<01:50, 24.00it/s]\u001b[A\n",
      " 12%|█▏        | 361/3000 [00:14<01:45, 24.97it/s]\u001b[A\n",
      " 12%|█▏        | 364/3000 [00:14<01:52, 23.34it/s]\u001b[A\n",
      " 12%|█▏        | 367/3000 [00:15<01:52, 23.41it/s]\u001b[A\n",
      " 12%|█▏        | 370/3000 [00:15<01:46, 24.72it/s]\u001b[A\n",
      " 12%|█▏        | 373/3000 [00:15<01:49, 23.93it/s]\u001b[A\n",
      " 13%|█▎        | 376/3000 [00:15<02:11, 19.96it/s]\u001b[A\n",
      " 13%|█▎        | 379/3000 [00:15<02:51, 15.32it/s]\u001b[A\n",
      " 13%|█▎        | 383/3000 [00:15<02:18, 18.89it/s]\u001b[A\n",
      " 13%|█▎        | 387/3000 [00:16<01:57, 22.33it/s]\u001b[A\n",
      " 13%|█▎        | 390/3000 [00:16<01:49, 23.94it/s]\u001b[A\n",
      " 13%|█▎        | 393/3000 [00:16<01:54, 22.83it/s]\u001b[A\n",
      " 13%|█▎        | 396/3000 [00:16<02:34, 16.88it/s]\u001b[A\n",
      " 13%|█▎        | 399/3000 [00:16<02:16, 19.08it/s]\u001b[A\n",
      " 13%|█▎        | 402/3000 [00:16<02:56, 14.74it/s]\u001b[A\n",
      " 13%|█▎        | 404/3000 [00:17<02:55, 14.76it/s]\u001b[A\n",
      " 14%|█▎        | 408/3000 [00:17<02:19, 18.60it/s]\u001b[A\n",
      " 14%|█▎        | 412/3000 [00:17<02:44, 15.75it/s]\u001b[A\n",
      " 14%|█▍        | 416/3000 [00:17<02:15, 19.08it/s]\u001b[A\n",
      " 14%|█▍        | 419/3000 [00:18<03:05, 13.92it/s]\u001b[A\n",
      " 14%|█▍        | 423/3000 [00:18<02:50, 15.10it/s]\u001b[A\n",
      " 14%|█▍        | 425/3000 [00:18<02:57, 14.48it/s]\u001b[A\n",
      " 14%|█▍        | 429/3000 [00:18<02:21, 18.19it/s]\u001b[A\n",
      " 14%|█▍        | 433/3000 [00:18<02:04, 20.60it/s]\u001b[A\n",
      " 15%|█▍        | 437/3000 [00:18<01:53, 22.61it/s]\u001b[A\n",
      " 15%|█▍        | 440/3000 [00:19<02:24, 17.70it/s]\u001b[A\n",
      " 15%|█▍        | 443/3000 [00:19<02:14, 18.98it/s]\u001b[A\n",
      " 15%|█▍        | 447/3000 [00:19<01:50, 23.02it/s]\u001b[A\n",
      " 15%|█▌        | 450/3000 [00:19<01:48, 23.55it/s]\u001b[A\n",
      " 15%|█▌        | 453/3000 [00:19<01:59, 21.28it/s]\u001b[A\n",
      " 15%|█▌        | 456/3000 [00:19<01:51, 22.76it/s]\u001b[A\n",
      " 15%|█▌        | 460/3000 [00:19<01:35, 26.52it/s]\u001b[A\n",
      " 15%|█▌        | 464/3000 [00:19<01:31, 27.85it/s]\u001b[A\n",
      " 16%|█▌        | 467/3000 [00:20<02:05, 20.11it/s]\u001b[A\n",
      " 16%|█▌        | 470/3000 [00:20<02:03, 20.47it/s]\u001b[A\n",
      " 16%|█▌        | 474/3000 [00:20<01:43, 24.44it/s]\u001b[A\n",
      " 16%|█▌        | 477/3000 [00:20<02:11, 19.17it/s]\u001b[A\n",
      " 16%|█▌        | 480/3000 [00:20<02:03, 20.41it/s]\u001b[A\n",
      " 16%|█▌        | 484/3000 [00:21<01:51, 22.58it/s]\u001b[A\n",
      " 16%|█▌        | 487/3000 [00:21<01:52, 22.43it/s]\u001b[A\n",
      " 16%|█▋        | 490/3000 [00:21<01:48, 23.05it/s]\u001b[A\n",
      " 16%|█▋        | 495/3000 [00:21<01:27, 28.59it/s]\u001b[A\n",
      " 17%|█▋        | 499/3000 [00:21<01:54, 21.86it/s]\u001b[A\n",
      " 17%|█▋        | 502/3000 [00:21<01:47, 23.13it/s]\u001b[A\n",
      " 17%|█▋        | 505/3000 [00:21<01:46, 23.35it/s]\u001b[A\n",
      " 17%|█▋        | 508/3000 [00:21<01:40, 24.75it/s]\u001b[A\n",
      " 17%|█▋        | 512/3000 [00:22<01:31, 27.18it/s]\u001b[A\n",
      " 17%|█▋        | 516/3000 [00:22<01:29, 27.76it/s]\u001b[A\n",
      " 17%|█▋        | 519/3000 [00:22<01:39, 25.03it/s]\u001b[A\n",
      " 17%|█▋        | 522/3000 [00:22<01:52, 21.93it/s]\u001b[A\n",
      " 18%|█▊        | 525/3000 [00:22<01:58, 20.96it/s]\u001b[A\n"
     ]
    },
    {
     "name": "stderr",
     "output_type": "stream",
     "text": [
      " 18%|█▊        | 529/3000 [00:22<01:42, 24.09it/s]\u001b[A\n",
      " 18%|█▊        | 532/3000 [00:23<02:16, 18.07it/s]\u001b[A\n",
      " 18%|█▊        | 535/3000 [00:23<02:06, 19.50it/s]\u001b[A\n",
      " 18%|█▊        | 538/3000 [00:23<02:13, 18.43it/s]\u001b[A\n",
      " 18%|█▊        | 541/3000 [00:23<01:59, 20.63it/s]\u001b[A\n",
      " 18%|█▊        | 545/3000 [00:23<01:47, 22.91it/s]\u001b[A\n",
      " 18%|█▊        | 548/3000 [00:23<01:41, 24.12it/s]\u001b[A\n",
      " 18%|█▊        | 551/3000 [00:23<01:38, 24.79it/s]\u001b[A\n",
      " 18%|█▊        | 555/3000 [00:24<01:30, 26.96it/s]\u001b[A\n",
      " 19%|█▊        | 558/3000 [00:24<01:28, 27.45it/s]\u001b[A\n",
      " 19%|█▊        | 562/3000 [00:24<01:24, 28.83it/s]\u001b[A\n",
      " 19%|█▉        | 565/3000 [00:24<01:24, 28.82it/s]\u001b[A\n",
      " 19%|█▉        | 568/3000 [00:24<01:30, 26.95it/s]\u001b[A\n",
      " 19%|█▉        | 572/3000 [00:24<01:20, 29.99it/s]\u001b[A\n",
      " 19%|█▉        | 576/3000 [00:24<01:20, 30.24it/s]\u001b[A\n",
      " 19%|█▉        | 580/3000 [00:24<01:17, 31.35it/s]\u001b[A\n",
      " 19%|█▉        | 584/3000 [00:25<01:27, 27.52it/s]\u001b[A\n",
      " 20%|█▉        | 588/3000 [00:25<01:21, 29.45it/s]\u001b[A\n",
      " 20%|█▉        | 592/3000 [00:25<01:22, 29.13it/s]\u001b[A\n",
      " 20%|█▉        | 595/3000 [00:25<01:24, 28.62it/s]\u001b[A\n",
      " 20%|█▉        | 598/3000 [00:25<01:22, 28.97it/s]\u001b[A\n",
      " 20%|██        | 601/3000 [00:25<01:29, 26.68it/s]\u001b[A\n",
      " 20%|██        | 605/3000 [00:25<01:23, 28.81it/s]\u001b[A\n",
      " 20%|██        | 609/3000 [00:25<01:18, 30.31it/s]\u001b[A\n",
      " 20%|██        | 613/3000 [00:25<01:15, 31.58it/s]\u001b[A\n",
      " 21%|██        | 617/3000 [00:26<01:15, 31.76it/s]\u001b[A\n",
      " 21%|██        | 621/3000 [00:26<01:20, 29.57it/s]\u001b[A\n",
      " 21%|██        | 625/3000 [00:26<01:34, 25.20it/s]\u001b[A\n",
      " 21%|██        | 628/3000 [00:26<01:31, 25.99it/s]\u001b[A\n",
      " 21%|██        | 631/3000 [00:26<01:29, 26.61it/s]\u001b[A\n",
      " 21%|██        | 635/3000 [00:26<01:24, 27.96it/s]\u001b[A\n",
      " 21%|██▏       | 638/3000 [00:26<01:31, 25.93it/s]\u001b[A\n",
      " 21%|██▏       | 641/3000 [00:27<01:28, 26.60it/s]\u001b[A\n",
      " 21%|██▏       | 644/3000 [00:27<01:31, 25.70it/s]\u001b[A\n",
      " 22%|██▏       | 647/3000 [00:27<01:36, 24.48it/s]\u001b[A\n",
      " 22%|██▏       | 650/3000 [00:27<01:44, 22.43it/s]\u001b[A\n",
      " 22%|██▏       | 653/3000 [00:27<01:41, 23.18it/s]\u001b[A\n",
      " 22%|██▏       | 657/3000 [00:27<01:31, 25.62it/s]\u001b[A\n",
      " 22%|██▏       | 660/3000 [00:27<01:35, 24.48it/s]\u001b[A\n",
      " 22%|██▏       | 663/3000 [00:27<01:32, 25.27it/s]\u001b[A\n",
      " 22%|██▏       | 667/3000 [00:28<01:26, 27.06it/s]\u001b[A\n",
      " 22%|██▏       | 671/3000 [00:28<01:27, 26.67it/s]\u001b[A\n",
      " 22%|██▎       | 675/3000 [00:28<01:25, 27.25it/s]\u001b[A\n",
      " 23%|██▎       | 678/3000 [00:28<01:34, 24.66it/s]\u001b[A\n",
      " 23%|██▎       | 682/3000 [00:28<01:30, 25.60it/s]\u001b[A\n",
      " 23%|██▎       | 685/3000 [00:28<01:45, 21.87it/s]\u001b[A\n",
      " 23%|██▎       | 689/3000 [00:29<01:34, 24.56it/s]\u001b[A\n",
      " 23%|██▎       | 693/3000 [00:29<01:57, 19.68it/s]\u001b[A\n",
      " 23%|██▎       | 696/3000 [00:29<01:50, 20.90it/s]\u001b[A\n",
      " 23%|██▎       | 699/3000 [00:29<01:47, 21.40it/s]\u001b[A\n",
      " 23%|██▎       | 703/3000 [00:29<01:35, 23.95it/s]\u001b[A\n",
      " 24%|██▎       | 706/3000 [00:29<01:33, 24.66it/s]\u001b[A\n",
      " 24%|██▎       | 710/3000 [00:29<01:23, 27.55it/s]\u001b[A\n",
      " 24%|██▍       | 713/3000 [00:30<01:22, 27.77it/s]\u001b[A\n",
      " 24%|██▍       | 717/3000 [00:30<01:22, 27.58it/s]\u001b[A\n",
      " 24%|██▍       | 720/3000 [00:30<01:26, 26.36it/s]\u001b[A\n",
      " 24%|██▍       | 725/3000 [00:30<01:16, 29.69it/s]\u001b[A\n",
      " 24%|██▍       | 729/3000 [00:30<01:14, 30.39it/s]\u001b[A\n",
      " 24%|██▍       | 733/3000 [00:30<01:10, 32.03it/s]\u001b[A\n",
      " 25%|██▍       | 737/3000 [00:30<01:09, 32.74it/s]\u001b[A\n",
      " 25%|██▍       | 741/3000 [00:30<01:15, 29.73it/s]\u001b[A\n",
      " 25%|██▍       | 745/3000 [00:31<01:10, 31.77it/s]\u001b[A\n",
      " 25%|██▍       | 749/3000 [00:31<01:13, 30.69it/s]\u001b[A\n",
      " 25%|██▌       | 753/3000 [00:31<01:12, 30.84it/s]\u001b[A\n",
      " 25%|██▌       | 757/3000 [00:31<01:09, 32.33it/s]\u001b[A\n",
      " 25%|██▌       | 761/3000 [00:31<01:06, 33.84it/s]\u001b[A\n",
      " 26%|██▌       | 765/3000 [00:31<01:29, 25.01it/s]\u001b[A\n",
      " 26%|██▌       | 768/3000 [00:31<01:31, 24.48it/s]\u001b[A\n",
      " 26%|██▌       | 772/3000 [00:32<01:39, 22.35it/s]\u001b[A\n",
      " 26%|██▌       | 776/3000 [00:32<01:27, 25.54it/s]\u001b[A\n",
      " 26%|██▌       | 779/3000 [00:32<01:34, 23.58it/s]\u001b[A\n",
      " 26%|██▌       | 782/3000 [00:32<01:37, 22.70it/s]\u001b[A\n",
      " 26%|██▌       | 786/3000 [00:32<01:45, 21.04it/s]\u001b[A\n",
      " 26%|██▋       | 790/3000 [00:32<01:31, 24.04it/s]\u001b[A\n",
      " 26%|██▋       | 793/3000 [00:33<01:34, 23.39it/s]\u001b[A\n",
      " 27%|██▋       | 797/3000 [00:33<01:24, 25.94it/s]\u001b[A\n",
      " 27%|██▋       | 801/3000 [00:33<01:16, 28.90it/s]\u001b[A\n",
      " 27%|██▋       | 805/3000 [00:33<01:12, 30.46it/s]\u001b[A\n",
      " 27%|██▋       | 809/3000 [00:33<01:18, 27.83it/s]\u001b[A\n",
      " 27%|██▋       | 812/3000 [00:33<01:41, 21.46it/s]\u001b[A\n",
      " 27%|██▋       | 815/3000 [00:33<01:36, 22.57it/s]\u001b[A\n",
      " 27%|██▋       | 818/3000 [00:33<01:32, 23.69it/s]\u001b[A\n",
      " 27%|██▋       | 821/3000 [00:34<01:26, 25.10it/s]\u001b[A\n",
      " 28%|██▊       | 825/3000 [00:34<01:32, 23.64it/s]\u001b[A\n",
      " 28%|██▊       | 828/3000 [00:34<01:32, 23.42it/s]\u001b[A\n",
      " 28%|██▊       | 831/3000 [00:34<01:27, 24.84it/s]\u001b[A\n",
      " 28%|██▊       | 834/3000 [00:34<01:32, 23.52it/s]\u001b[A\n",
      " 28%|██▊       | 837/3000 [00:34<01:26, 24.97it/s]\u001b[A\n",
      " 28%|██▊       | 840/3000 [00:34<01:49, 19.70it/s]\u001b[A\n",
      " 28%|██▊       | 843/3000 [00:35<02:06, 17.04it/s]\u001b[A\n",
      " 28%|██▊       | 845/3000 [00:35<03:03, 11.72it/s]\u001b[A\n",
      " 28%|██▊       | 849/3000 [00:35<02:15, 15.82it/s]\u001b[A\n",
      " 28%|██▊       | 852/3000 [00:35<02:03, 17.44it/s]\u001b[A\n",
      " 28%|██▊       | 855/3000 [00:35<01:57, 18.21it/s]\u001b[A\n",
      " 29%|██▊       | 858/3000 [00:36<01:48, 19.78it/s]\u001b[A\n",
      " 29%|██▊       | 862/3000 [00:36<01:40, 21.27it/s]\u001b[A\n",
      " 29%|██▉       | 865/3000 [00:36<01:36, 22.03it/s]\u001b[A\n",
      " 29%|██▉       | 868/3000 [00:36<01:31, 23.34it/s]\u001b[A\n",
      " 29%|██▉       | 871/3000 [00:36<01:30, 23.50it/s]\u001b[A\n",
      " 29%|██▉       | 874/3000 [00:36<01:27, 24.38it/s]\u001b[A\n",
      " 29%|██▉       | 877/3000 [00:36<01:29, 23.85it/s]\u001b[A\n",
      " 29%|██▉       | 880/3000 [00:37<01:40, 21.14it/s]\u001b[A\n",
      " 30%|██▉       | 885/3000 [00:37<01:17, 27.12it/s]\u001b[A\n",
      " 30%|██▉       | 888/3000 [00:37<01:33, 22.71it/s]\u001b[A\n",
      " 30%|██▉       | 891/3000 [00:37<01:34, 22.42it/s]\u001b[A\n",
      " 30%|██▉       | 894/3000 [00:37<01:58, 17.78it/s]\u001b[A\n",
      " 30%|██▉       | 897/3000 [00:38<02:32, 13.82it/s]\u001b[A\n",
      " 30%|███       | 901/3000 [00:38<01:59, 17.51it/s]\u001b[A\n",
      " 30%|███       | 904/3000 [00:38<01:48, 19.25it/s]\u001b[A\n",
      " 30%|███       | 907/3000 [00:38<01:47, 19.47it/s]\u001b[A\n",
      " 30%|███       | 911/3000 [00:38<01:31, 22.91it/s]\u001b[A\n",
      " 30%|███       | 914/3000 [00:38<01:54, 18.29it/s]\u001b[A\n",
      " 31%|███       | 917/3000 [00:38<01:47, 19.42it/s]\u001b[A\n",
      " 31%|███       | 920/3000 [00:39<01:52, 18.42it/s]\u001b[A\n",
      " 31%|███       | 924/3000 [00:39<01:42, 20.29it/s]\u001b[A\n",
      " 31%|███       | 927/3000 [00:39<01:42, 20.28it/s]\u001b[A\n",
      " 31%|███       | 930/3000 [00:39<01:34, 21.91it/s]\u001b[A\n",
      " 31%|███       | 933/3000 [00:39<01:31, 22.51it/s]\u001b[A\n",
      " 31%|███       | 936/3000 [00:39<02:00, 17.19it/s]\u001b[A\n",
      " 31%|███▏      | 939/3000 [00:40<01:46, 19.44it/s]\u001b[A\n",
      " 31%|███▏      | 943/3000 [00:40<01:33, 22.03it/s]\u001b[A\n",
      " 32%|███▏      | 947/3000 [00:40<01:23, 24.68it/s]\u001b[A\n",
      " 32%|███▏      | 950/3000 [00:40<01:24, 24.26it/s]\u001b[A\n",
      " 32%|███▏      | 954/3000 [00:40<01:16, 26.75it/s]\u001b[A\n",
      " 32%|███▏      | 957/3000 [00:40<01:16, 26.57it/s]\u001b[A\n",
      " 32%|███▏      | 960/3000 [00:40<01:36, 21.14it/s]\u001b[A\n",
      " 32%|███▏      | 964/3000 [00:41<01:26, 23.61it/s]\u001b[A\n",
      " 32%|███▏      | 967/3000 [00:41<01:27, 23.26it/s]\u001b[A\n",
      " 32%|███▏      | 970/3000 [00:41<02:11, 15.41it/s]\u001b[A\n",
      " 32%|███▏      | 972/3000 [00:41<02:10, 15.49it/s]\u001b[A\n",
      " 32%|███▏      | 974/3000 [00:41<02:05, 16.19it/s]\u001b[A\n",
      " 33%|███▎      | 976/3000 [00:41<02:02, 16.49it/s]\u001b[A\n",
      " 33%|███▎      | 979/3000 [00:41<01:46, 19.00it/s]\u001b[A\n",
      " 33%|███▎      | 982/3000 [00:42<01:48, 18.62it/s]\u001b[A\n",
      " 33%|███▎      | 985/3000 [00:42<01:35, 21.17it/s]\u001b[A\n",
      " 33%|███▎      | 988/3000 [00:42<01:33, 21.48it/s]\u001b[A\n",
      " 33%|███▎      | 991/3000 [00:42<01:49, 18.33it/s]\u001b[A\n",
      " 33%|███▎      | 994/3000 [00:42<01:42, 19.58it/s]\u001b[A\n",
      " 33%|███▎      | 997/3000 [00:42<01:42, 19.59it/s]\u001b[A\n",
      " 33%|███▎      | 1001/3000 [00:43<01:30, 22.19it/s]\u001b[A\n",
      " 34%|███▎      | 1005/3000 [00:43<01:18, 25.57it/s]\u001b[A\n",
      " 34%|███▎      | 1008/3000 [00:43<01:29, 22.34it/s]\u001b[A\n",
      " 34%|███▎      | 1011/3000 [00:43<01:38, 20.26it/s]\u001b[A\n",
      " 34%|███▍      | 1015/3000 [00:43<01:23, 23.84it/s]\u001b[A\n",
      " 34%|███▍      | 1019/3000 [00:43<01:14, 26.68it/s]\u001b[A\n",
      " 34%|███▍      | 1022/3000 [00:43<01:15, 26.36it/s]\u001b[A\n",
      " 34%|███▍      | 1025/3000 [00:44<02:37, 12.57it/s]\u001b[A\n",
      " 34%|███▍      | 1028/3000 [00:44<02:15, 14.52it/s]\u001b[A\n",
      " 34%|███▍      | 1031/3000 [00:44<02:04, 15.76it/s]\u001b[A\n",
      " 34%|███▍      | 1034/3000 [00:44<01:56, 16.91it/s]\u001b[A\n",
      " 35%|███▍      | 1038/3000 [00:44<01:37, 20.14it/s]\u001b[A\n"
     ]
    },
    {
     "name": "stderr",
     "output_type": "stream",
     "text": [
      " 35%|███▍      | 1041/3000 [00:45<01:34, 20.82it/s]\u001b[A\n",
      " 35%|███▍      | 1044/3000 [00:45<01:30, 21.71it/s]\u001b[A\n",
      " 35%|███▍      | 1048/3000 [00:45<01:28, 22.04it/s]\u001b[A\n",
      " 35%|███▌      | 1051/3000 [00:45<01:36, 20.20it/s]\u001b[A\n",
      " 35%|███▌      | 1054/3000 [00:45<01:35, 20.32it/s]\u001b[A\n",
      " 35%|███▌      | 1057/3000 [00:45<01:27, 22.22it/s]\u001b[A\n",
      " 35%|███▌      | 1060/3000 [00:45<01:31, 21.22it/s]\u001b[A\n",
      " 35%|███▌      | 1063/3000 [00:46<01:32, 20.88it/s]\u001b[A\n",
      " 36%|███▌      | 1066/3000 [00:46<01:46, 18.22it/s]\u001b[A\n",
      " 36%|███▌      | 1069/3000 [00:46<01:34, 20.48it/s]\u001b[A\n",
      " 36%|███▌      | 1072/3000 [00:46<01:27, 21.96it/s]\u001b[A\n",
      " 36%|███▌      | 1075/3000 [00:46<01:29, 21.51it/s]\u001b[A\n",
      " 36%|███▌      | 1078/3000 [00:46<01:33, 20.65it/s]\u001b[A\n",
      " 36%|███▌      | 1082/3000 [00:47<01:27, 22.03it/s]\u001b[A\n",
      " 36%|███▌      | 1085/3000 [00:47<01:24, 22.69it/s]\u001b[A\n",
      " 36%|███▋      | 1088/3000 [00:47<01:24, 22.56it/s]\u001b[A\n",
      " 36%|███▋      | 1091/3000 [00:47<01:34, 20.18it/s]\u001b[A\n",
      " 36%|███▋      | 1094/3000 [00:47<01:34, 20.20it/s]\u001b[A\n",
      " 37%|███▋      | 1097/3000 [00:47<01:26, 22.00it/s]\u001b[A\n",
      " 37%|███▋      | 1100/3000 [00:47<01:24, 22.53it/s]\u001b[A\n",
      " 37%|███▋      | 1103/3000 [00:47<01:19, 23.95it/s]\u001b[A\n",
      " 37%|███▋      | 1106/3000 [00:48<01:29, 21.19it/s]\u001b[A\n",
      " 37%|███▋      | 1109/3000 [00:48<02:32, 12.43it/s]\u001b[A\n",
      " 37%|███▋      | 1111/3000 [00:48<03:08, 10.04it/s]\u001b[A\n",
      " 37%|███▋      | 1113/3000 [00:49<02:56, 10.68it/s]\u001b[A\n",
      " 37%|███▋      | 1116/3000 [00:49<03:17,  9.55it/s]\u001b[A\n",
      " 37%|███▋      | 1118/3000 [00:49<02:56, 10.68it/s]\u001b[A\n",
      " 37%|███▋      | 1120/3000 [00:49<02:39, 11.80it/s]\u001b[A\n",
      " 37%|███▋      | 1122/3000 [00:49<02:21, 13.24it/s]\u001b[A\n",
      " 37%|███▋      | 1124/3000 [00:49<02:17, 13.68it/s]\u001b[A\n",
      " 38%|███▊      | 1127/3000 [00:50<01:57, 15.90it/s]\u001b[A\n",
      " 38%|███▊      | 1129/3000 [00:50<01:55, 16.20it/s]\u001b[A\n",
      " 38%|███▊      | 1132/3000 [00:50<02:23, 13.00it/s]\u001b[A\n",
      " 38%|███▊      | 1134/3000 [00:50<02:19, 13.41it/s]\u001b[A\n",
      " 38%|███▊      | 1136/3000 [00:50<02:55, 10.63it/s]\u001b[A\n",
      " 38%|███▊      | 1139/3000 [00:51<02:21, 13.15it/s]\u001b[A\n",
      " 38%|███▊      | 1141/3000 [00:51<02:09, 14.38it/s]\u001b[A\n",
      " 38%|███▊      | 1144/3000 [00:51<01:50, 16.74it/s]\u001b[A\n",
      " 38%|███▊      | 1147/3000 [00:51<01:37, 19.07it/s]\u001b[A\n",
      " 38%|███▊      | 1150/3000 [00:51<01:40, 18.49it/s]\u001b[A\n",
      " 38%|███▊      | 1153/3000 [00:51<01:27, 21.02it/s]\u001b[A\n",
      " 39%|███▊      | 1157/3000 [00:51<01:15, 24.34it/s]\u001b[A\n",
      " 39%|███▊      | 1160/3000 [00:51<01:13, 24.98it/s]\u001b[A\n",
      " 39%|███▉      | 1163/3000 [00:52<01:12, 25.22it/s]\u001b[A\n",
      " 39%|███▉      | 1167/3000 [00:52<01:07, 27.03it/s]\u001b[A\n",
      " 39%|███▉      | 1171/3000 [00:52<01:01, 29.89it/s]\u001b[A\n",
      " 39%|███▉      | 1175/3000 [00:52<01:23, 21.73it/s]\u001b[A\n",
      " 39%|███▉      | 1178/3000 [00:52<01:39, 18.31it/s]\u001b[A\n",
      " 39%|███▉      | 1181/3000 [00:52<01:35, 19.08it/s]\u001b[A\n",
      " 39%|███▉      | 1184/3000 [00:53<01:40, 18.10it/s]\u001b[A\n",
      " 40%|███▉      | 1187/3000 [00:53<01:37, 18.58it/s]\u001b[A\n",
      " 40%|███▉      | 1190/3000 [00:53<01:28, 20.53it/s]\u001b[A\n",
      " 40%|███▉      | 1194/3000 [00:53<01:16, 23.61it/s]\u001b[A\n",
      " 40%|███▉      | 1197/3000 [00:53<01:14, 24.33it/s]\u001b[A\n",
      " 40%|████      | 1200/3000 [00:53<01:35, 18.90it/s]\u001b[A\n",
      " 40%|████      | 1203/3000 [00:53<01:26, 20.85it/s]\u001b[A\n",
      " 40%|████      | 1207/3000 [00:54<01:17, 23.18it/s]\u001b[A\n",
      " 40%|████      | 1210/3000 [00:54<01:15, 23.83it/s]\u001b[A\n",
      " 40%|████      | 1213/3000 [00:54<01:16, 23.49it/s]\u001b[A\n",
      " 41%|████      | 1216/3000 [00:54<01:14, 23.86it/s]\u001b[A\n",
      " 41%|████      | 1219/3000 [00:54<01:38, 18.09it/s]\u001b[A\n",
      " 41%|████      | 1222/3000 [00:54<01:28, 20.18it/s]\u001b[A\n",
      " 41%|████      | 1225/3000 [00:55<01:25, 20.75it/s]\u001b[A\n",
      " 41%|████      | 1228/3000 [00:55<01:22, 21.56it/s]\u001b[A\n",
      " 41%|████      | 1231/3000 [00:55<01:22, 21.38it/s]\u001b[A\n",
      " 41%|████      | 1234/3000 [00:55<01:32, 19.14it/s]\u001b[A\n",
      " 41%|████      | 1237/3000 [00:55<01:25, 20.74it/s]\u001b[A\n",
      " 41%|████▏     | 1240/3000 [00:55<01:55, 15.30it/s]\u001b[A\n",
      " 41%|████▏     | 1242/3000 [00:56<02:00, 14.56it/s]\u001b[A\n",
      " 42%|████▏     | 1245/3000 [00:56<01:44, 16.78it/s]\u001b[A\n",
      " 42%|████▏     | 1247/3000 [00:56<01:48, 16.20it/s]\u001b[A\n",
      " 42%|████▏     | 1249/3000 [00:56<02:05, 14.00it/s]\u001b[A\n",
      " 42%|████▏     | 1252/3000 [00:56<01:42, 17.12it/s]\u001b[A\n",
      " 42%|████▏     | 1254/3000 [00:56<01:44, 16.73it/s]\u001b[A\n",
      " 42%|████▏     | 1257/3000 [00:56<01:33, 18.62it/s]\u001b[A\n",
      " 42%|████▏     | 1260/3000 [00:57<01:25, 20.26it/s]\u001b[A\n",
      " 42%|████▏     | 1263/3000 [00:57<01:30, 19.10it/s]\u001b[A\n",
      " 42%|████▏     | 1267/3000 [00:57<01:17, 22.39it/s]\u001b[A\n",
      " 42%|████▏     | 1270/3000 [00:57<01:17, 22.37it/s]\u001b[A\n",
      " 42%|████▏     | 1273/3000 [00:57<01:12, 23.76it/s]\u001b[A\n",
      " 43%|████▎     | 1276/3000 [00:57<01:16, 22.63it/s]\u001b[A\n",
      " 43%|████▎     | 1279/3000 [00:57<01:26, 20.00it/s]\u001b[A\n",
      " 43%|████▎     | 1282/3000 [00:58<02:04, 13.83it/s]\u001b[A\n",
      " 43%|████▎     | 1285/3000 [00:58<01:48, 15.85it/s]\u001b[A\n",
      " 43%|████▎     | 1287/3000 [00:58<01:43, 16.57it/s]\u001b[A\n",
      " 43%|████▎     | 1291/3000 [00:58<01:23, 20.37it/s]\u001b[A\n",
      " 43%|████▎     | 1294/3000 [00:58<01:16, 22.26it/s]\u001b[A\n",
      " 43%|████▎     | 1298/3000 [00:58<01:05, 26.12it/s]\u001b[A\n",
      " 43%|████▎     | 1302/3000 [00:58<00:58, 29.16it/s]\u001b[A\n",
      " 44%|████▎     | 1306/3000 [00:59<00:53, 31.59it/s]\u001b[A\n",
      " 44%|████▎     | 1310/3000 [00:59<01:31, 18.49it/s]\u001b[A\n",
      " 44%|████▍     | 1314/3000 [00:59<01:24, 20.05it/s]\u001b[A\n",
      " 44%|████▍     | 1317/3000 [00:59<01:17, 21.64it/s]\u001b[A\n",
      " 44%|████▍     | 1320/3000 [00:59<01:12, 23.22it/s]\u001b[A\n",
      " 44%|████▍     | 1323/3000 [01:00<01:31, 18.37it/s]\u001b[A\n",
      " 44%|████▍     | 1326/3000 [01:00<01:24, 19.71it/s]\u001b[A\n",
      " 44%|████▍     | 1329/3000 [01:00<01:20, 20.89it/s]\u001b[A\n",
      " 44%|████▍     | 1333/3000 [01:00<01:06, 24.91it/s]\u001b[A\n",
      " 45%|████▍     | 1338/3000 [01:00<00:56, 29.46it/s]\u001b[A\n",
      " 45%|████▍     | 1342/3000 [01:00<01:01, 26.78it/s]\u001b[A\n",
      " 45%|████▍     | 1346/3000 [01:00<00:58, 28.23it/s]\u001b[A\n",
      " 45%|████▌     | 1350/3000 [01:01<01:03, 25.82it/s]\u001b[A\n",
      " 45%|████▌     | 1353/3000 [01:01<01:26, 18.97it/s]\u001b[A\n",
      " 45%|████▌     | 1357/3000 [01:01<01:15, 21.64it/s]\u001b[A\n",
      " 45%|████▌     | 1360/3000 [01:01<01:11, 23.01it/s]\u001b[A\n",
      " 45%|████▌     | 1363/3000 [01:01<01:13, 22.39it/s]\u001b[A\n",
      " 46%|████▌     | 1366/3000 [01:01<01:08, 23.82it/s]\u001b[A\n",
      " 46%|████▌     | 1370/3000 [01:01<01:04, 25.19it/s]\u001b[A\n",
      " 46%|████▌     | 1373/3000 [01:02<01:21, 19.88it/s]\u001b[A\n",
      " 46%|████▌     | 1376/3000 [01:02<01:17, 20.89it/s]\u001b[A\n",
      " 46%|████▌     | 1379/3000 [01:02<01:18, 20.77it/s]\u001b[A\n",
      " 46%|████▌     | 1382/3000 [01:02<01:13, 22.09it/s]\u001b[A\n",
      " 46%|████▌     | 1385/3000 [01:02<01:13, 22.03it/s]\u001b[A\n",
      " 46%|████▋     | 1389/3000 [01:02<01:04, 24.94it/s]\u001b[A\n",
      " 46%|████▋     | 1392/3000 [01:03<01:33, 17.25it/s]\u001b[A\n",
      " 46%|████▋     | 1395/3000 [01:03<01:24, 18.90it/s]\u001b[A\n",
      " 47%|████▋     | 1398/3000 [01:03<01:35, 16.71it/s]\u001b[A\n",
      " 47%|████▋     | 1401/3000 [01:03<01:27, 18.36it/s]\u001b[A\n",
      " 47%|████▋     | 1404/3000 [01:03<01:26, 18.52it/s]\u001b[A\n",
      " 47%|████▋     | 1407/3000 [01:03<01:31, 17.35it/s]\u001b[A\n",
      " 47%|████▋     | 1409/3000 [01:04<01:37, 16.39it/s]\u001b[A\n",
      " 47%|████▋     | 1412/3000 [01:04<01:29, 17.82it/s]\u001b[A\n",
      " 47%|████▋     | 1415/3000 [01:04<01:21, 19.39it/s]\u001b[A\n",
      " 47%|████▋     | 1418/3000 [01:04<01:17, 20.42it/s]\u001b[A\n",
      " 47%|████▋     | 1421/3000 [01:04<01:40, 15.66it/s]\u001b[A\n",
      " 48%|████▊     | 1425/3000 [01:04<01:26, 18.29it/s]\u001b[A\n",
      " 48%|████▊     | 1429/3000 [01:05<01:14, 21.19it/s]\u001b[A\n",
      " 48%|████▊     | 1432/3000 [01:05<01:12, 21.65it/s]\u001b[A\n",
      " 48%|████▊     | 1435/3000 [01:05<01:07, 23.04it/s]\u001b[A\n",
      " 48%|████▊     | 1439/3000 [01:05<00:59, 26.06it/s]\u001b[A\n",
      " 48%|████▊     | 1443/3000 [01:05<00:53, 28.90it/s]\u001b[A\n",
      " 48%|████▊     | 1447/3000 [01:05<01:01, 25.23it/s]\u001b[A\n",
      " 48%|████▊     | 1450/3000 [01:05<00:59, 26.23it/s]\u001b[A\n",
      " 48%|████▊     | 1454/3000 [01:05<00:55, 27.92it/s]\u001b[A\n",
      " 49%|████▊     | 1459/3000 [01:06<00:50, 30.51it/s]\u001b[A\n",
      " 49%|████▉     | 1463/3000 [01:06<01:02, 24.75it/s]\u001b[A\n",
      " 49%|████▉     | 1466/3000 [01:06<01:04, 23.65it/s]\u001b[A\n",
      " 49%|████▉     | 1469/3000 [01:06<01:06, 22.97it/s]\u001b[A\n",
      " 49%|████▉     | 1473/3000 [01:06<00:59, 25.77it/s]\u001b[A\n",
      " 49%|████▉     | 1476/3000 [01:07<01:22, 18.47it/s]\u001b[A\n",
      " 49%|████▉     | 1479/3000 [01:07<01:14, 20.45it/s]\u001b[A\n",
      " 49%|████▉     | 1483/3000 [01:07<01:05, 23.21it/s]\u001b[A\n",
      " 50%|████▉     | 1487/3000 [01:07<00:59, 25.27it/s]\u001b[A\n",
      " 50%|████▉     | 1490/3000 [01:07<01:17, 19.57it/s]\u001b[A\n",
      " 50%|████▉     | 1493/3000 [01:07<01:13, 20.64it/s]\u001b[A\n",
      " 50%|████▉     | 1496/3000 [01:07<01:14, 20.12it/s]\u001b[A\n",
      " 50%|████▉     | 1499/3000 [01:08<01:08, 21.98it/s]\u001b[A\n",
      " 50%|█████     | 1502/3000 [01:08<01:06, 22.48it/s]\u001b[A\n"
     ]
    },
    {
     "name": "stderr",
     "output_type": "stream",
     "text": [
      " 50%|█████     | 1506/3000 [01:08<00:58, 25.48it/s]\u001b[A\n",
      " 50%|█████     | 1509/3000 [01:08<00:58, 25.30it/s]\u001b[A\n",
      " 50%|█████     | 1512/3000 [01:08<01:16, 19.58it/s]\u001b[A\n",
      " 50%|█████     | 1515/3000 [01:08<01:37, 15.24it/s]\u001b[A\n",
      " 51%|█████     | 1517/3000 [01:09<01:33, 15.92it/s]\u001b[A\n",
      " 51%|█████     | 1520/3000 [01:09<01:23, 17.74it/s]\u001b[A\n",
      " 51%|█████     | 1523/3000 [01:09<01:26, 17.08it/s]\u001b[A\n",
      " 51%|█████     | 1525/3000 [01:09<01:29, 16.42it/s]\u001b[A\n",
      " 51%|█████     | 1527/3000 [01:09<01:48, 13.63it/s]\u001b[A\n",
      " 51%|█████     | 1530/3000 [01:09<01:28, 16.60it/s]\u001b[A\n",
      " 51%|█████     | 1532/3000 [01:09<01:24, 17.28it/s]\u001b[A\n",
      " 51%|█████     | 1535/3000 [01:10<01:13, 19.88it/s]\u001b[A\n",
      " 51%|█████▏    | 1538/3000 [01:10<01:20, 18.13it/s]\u001b[A\n",
      " 51%|█████▏    | 1541/3000 [01:10<01:22, 17.65it/s]\u001b[A\n",
      " 52%|█████▏    | 1545/3000 [01:10<01:07, 21.68it/s]\u001b[A\n",
      " 52%|█████▏    | 1548/3000 [01:10<01:05, 22.27it/s]\u001b[A\n",
      " 52%|█████▏    | 1552/3000 [01:10<00:57, 25.20it/s]\u001b[A\n",
      " 52%|█████▏    | 1555/3000 [01:10<00:59, 24.35it/s]\u001b[A\n",
      " 52%|█████▏    | 1558/3000 [01:11<00:57, 25.21it/s]\u001b[A\n",
      " 52%|█████▏    | 1561/3000 [01:11<00:57, 25.15it/s]\u001b[A\n",
      " 52%|█████▏    | 1564/3000 [01:11<00:56, 25.63it/s]\u001b[A\n",
      " 52%|█████▏    | 1567/3000 [01:11<01:03, 22.70it/s]\u001b[A\n",
      " 52%|█████▏    | 1570/3000 [01:11<01:12, 19.78it/s]\u001b[A\n",
      " 52%|█████▏    | 1573/3000 [01:11<01:05, 21.92it/s]\u001b[A\n",
      " 53%|█████▎    | 1576/3000 [01:11<01:05, 21.59it/s]\u001b[A\n",
      " 53%|█████▎    | 1579/3000 [01:12<01:06, 21.48it/s]\u001b[A\n",
      " 53%|█████▎    | 1582/3000 [01:12<01:08, 20.76it/s]\u001b[A\n",
      " 53%|█████▎    | 1585/3000 [01:12<01:18, 17.96it/s]\u001b[A\n",
      " 53%|█████▎    | 1588/3000 [01:12<01:10, 20.16it/s]\u001b[A\n",
      " 53%|█████▎    | 1591/3000 [01:12<01:04, 21.95it/s]\u001b[A\n",
      " 53%|█████▎    | 1594/3000 [01:12<01:04, 21.87it/s]\u001b[A\n",
      " 53%|█████▎    | 1597/3000 [01:12<01:10, 20.00it/s]\u001b[A\n",
      " 53%|█████▎    | 1600/3000 [01:13<01:08, 20.43it/s]\u001b[A\n",
      " 53%|█████▎    | 1603/3000 [01:13<01:04, 21.61it/s]\u001b[A\n",
      " 54%|█████▎    | 1606/3000 [01:13<01:04, 21.60it/s]\u001b[A\n",
      " 54%|█████▎    | 1609/3000 [01:13<01:01, 22.61it/s]\u001b[A\n",
      " 54%|█████▎    | 1612/3000 [01:13<01:02, 22.13it/s]\u001b[A\n",
      " 54%|█████▍    | 1616/3000 [01:13<00:55, 24.98it/s]\u001b[A\n",
      " 54%|█████▍    | 1620/3000 [01:13<00:49, 27.84it/s]\u001b[A\n",
      " 54%|█████▍    | 1624/3000 [01:13<00:50, 27.30it/s]\u001b[A\n",
      " 54%|█████▍    | 1627/3000 [01:14<00:57, 23.94it/s]\u001b[A\n",
      " 54%|█████▍    | 1630/3000 [01:14<01:17, 17.76it/s]\u001b[A\n",
      " 54%|█████▍    | 1634/3000 [01:14<01:05, 20.81it/s]\u001b[A\n",
      " 55%|█████▍    | 1638/3000 [01:14<00:57, 23.74it/s]\u001b[A\n",
      " 55%|█████▍    | 1642/3000 [01:14<00:51, 26.47it/s]\u001b[A\n",
      " 55%|█████▍    | 1645/3000 [01:14<00:49, 27.15it/s]\u001b[A\n",
      " 55%|█████▍    | 1648/3000 [01:15<00:55, 24.22it/s]\u001b[A\n",
      " 55%|█████▌    | 1651/3000 [01:15<00:56, 24.05it/s]\u001b[A\n",
      " 55%|█████▌    | 1654/3000 [01:15<00:59, 22.50it/s]\u001b[A\n",
      " 55%|█████▌    | 1657/3000 [01:15<00:59, 22.65it/s]\u001b[A\n",
      " 55%|█████▌    | 1660/3000 [01:15<01:10, 18.91it/s]\u001b[A\n",
      " 55%|█████▌    | 1663/3000 [01:15<01:03, 21.07it/s]\u001b[A\n",
      " 56%|█████▌    | 1667/3000 [01:15<00:54, 24.49it/s]\u001b[A\n",
      " 56%|█████▌    | 1670/3000 [01:16<00:54, 24.37it/s]\u001b[A\n",
      " 56%|█████▌    | 1674/3000 [01:16<00:48, 27.58it/s]\u001b[A\n",
      " 56%|█████▌    | 1677/3000 [01:16<00:51, 25.78it/s]\u001b[A\n",
      " 56%|█████▌    | 1680/3000 [01:16<00:53, 24.69it/s]\u001b[A\n",
      " 56%|█████▌    | 1683/3000 [01:16<00:51, 25.74it/s]\u001b[A\n",
      " 56%|█████▌    | 1686/3000 [01:16<00:49, 26.35it/s]\u001b[A\n",
      " 56%|█████▋    | 1690/3000 [01:16<00:44, 29.16it/s]\u001b[A\n",
      " 56%|█████▋    | 1694/3000 [01:16<00:42, 30.67it/s]\u001b[A\n",
      " 57%|█████▋    | 1698/3000 [01:17<00:49, 26.08it/s]\u001b[A\n",
      " 57%|█████▋    | 1701/3000 [01:17<00:49, 25.99it/s]\u001b[A\n",
      " 57%|█████▋    | 1705/3000 [01:17<00:51, 24.94it/s]\u001b[A\n",
      " 57%|█████▋    | 1709/3000 [01:17<00:47, 27.27it/s]\u001b[A\n",
      " 57%|█████▋    | 1713/3000 [01:17<00:45, 28.54it/s]\u001b[A\n",
      " 57%|█████▋    | 1716/3000 [01:17<00:45, 28.17it/s]\u001b[A\n",
      " 57%|█████▋    | 1720/3000 [01:17<00:43, 29.15it/s]\u001b[A\n",
      " 57%|█████▋    | 1723/3000 [01:18<00:57, 22.12it/s]\u001b[A\n",
      " 58%|█████▊    | 1726/3000 [01:18<00:57, 21.98it/s]\u001b[A\n",
      " 58%|█████▊    | 1730/3000 [01:18<00:51, 24.69it/s]\u001b[A\n",
      " 58%|█████▊    | 1733/3000 [01:18<00:49, 25.65it/s]\u001b[A\n",
      " 58%|█████▊    | 1736/3000 [01:18<00:50, 24.97it/s]\u001b[A\n",
      " 58%|█████▊    | 1739/3000 [01:18<00:49, 25.72it/s]\u001b[A\n",
      " 58%|█████▊    | 1743/3000 [01:18<00:45, 27.69it/s]\u001b[A\n",
      " 58%|█████▊    | 1746/3000 [01:18<00:55, 22.80it/s]\u001b[A\n",
      " 58%|█████▊    | 1749/3000 [01:19<01:15, 16.48it/s]\u001b[A\n",
      " 58%|█████▊    | 1752/3000 [01:19<01:06, 18.64it/s]\u001b[A\n",
      " 58%|█████▊    | 1755/3000 [01:19<01:01, 20.40it/s]\u001b[A\n",
      " 59%|█████▊    | 1758/3000 [01:19<00:56, 21.99it/s]\u001b[A\n",
      " 59%|█████▊    | 1761/3000 [01:19<00:53, 23.08it/s]\u001b[A\n",
      " 59%|█████▉    | 1765/3000 [01:19<00:48, 25.70it/s]\u001b[A\n",
      " 59%|█████▉    | 1769/3000 [01:20<00:47, 26.13it/s]\u001b[A\n",
      " 59%|█████▉    | 1773/3000 [01:20<00:44, 27.42it/s]\u001b[A\n",
      " 59%|█████▉    | 1776/3000 [01:20<00:47, 25.73it/s]\u001b[A\n",
      " 59%|█████▉    | 1780/3000 [01:20<00:47, 25.73it/s]\u001b[A\n",
      " 59%|█████▉    | 1783/3000 [01:20<01:03, 19.31it/s]\u001b[A\n",
      " 60%|█████▉    | 1787/3000 [01:20<00:53, 22.54it/s]\u001b[A\n",
      " 60%|█████▉    | 1790/3000 [01:20<00:50, 23.89it/s]\u001b[A\n",
      " 60%|█████▉    | 1793/3000 [01:21<00:52, 23.15it/s]\u001b[A\n",
      " 60%|█████▉    | 1796/3000 [01:21<00:51, 23.39it/s]\u001b[A\n",
      " 60%|█████▉    | 1799/3000 [01:21<00:56, 21.16it/s]\u001b[A\n",
      " 60%|██████    | 1802/3000 [01:21<00:56, 21.07it/s]\u001b[A\n",
      " 60%|██████    | 1806/3000 [01:21<00:50, 23.42it/s]\u001b[A\n",
      " 60%|██████    | 1809/3000 [01:21<00:50, 23.40it/s]\u001b[A\n",
      " 60%|██████    | 1812/3000 [01:21<00:49, 23.82it/s]\u001b[A\n",
      " 60%|██████    | 1815/3000 [01:22<00:50, 23.46it/s]\u001b[A\n",
      " 61%|██████    | 1818/3000 [01:22<00:48, 24.59it/s]\u001b[A\n",
      " 61%|██████    | 1821/3000 [01:22<00:48, 24.47it/s]\u001b[A\n",
      " 61%|██████    | 1824/3000 [01:22<00:50, 23.25it/s]\u001b[A\n",
      " 61%|██████    | 1828/3000 [01:22<00:47, 24.46it/s]\u001b[A\n",
      " 61%|██████    | 1832/3000 [01:22<00:45, 25.87it/s]\u001b[A\n",
      " 61%|██████    | 1835/3000 [01:22<00:45, 25.36it/s]\u001b[A\n",
      " 61%|██████▏   | 1838/3000 [01:22<00:45, 25.29it/s]\u001b[A\n",
      " 61%|██████▏   | 1841/3000 [01:23<00:49, 23.55it/s]\u001b[A\n",
      " 61%|██████▏   | 1844/3000 [01:23<00:48, 24.05it/s]\u001b[A\n",
      " 62%|██████▏   | 1847/3000 [01:23<00:46, 24.73it/s]\u001b[A\n",
      " 62%|██████▏   | 1850/3000 [01:23<00:48, 23.93it/s]\u001b[A\n",
      " 62%|██████▏   | 1853/3000 [01:23<00:45, 25.39it/s]\u001b[A\n",
      " 62%|██████▏   | 1856/3000 [01:23<00:43, 26.29it/s]\u001b[A\n",
      " 62%|██████▏   | 1859/3000 [01:23<00:49, 23.14it/s]\u001b[A\n",
      " 62%|██████▏   | 1862/3000 [01:23<00:53, 21.20it/s]\u001b[A\n",
      " 62%|██████▏   | 1866/3000 [01:24<00:46, 24.37it/s]\u001b[A\n",
      " 62%|██████▏   | 1869/3000 [01:24<00:48, 23.31it/s]\u001b[A\n",
      " 62%|██████▏   | 1872/3000 [01:24<00:50, 22.27it/s]\u001b[A\n",
      " 62%|██████▎   | 1875/3000 [01:24<00:54, 20.47it/s]\u001b[A\n",
      " 63%|██████▎   | 1878/3000 [01:24<00:49, 22.45it/s]\u001b[A\n",
      " 63%|██████▎   | 1881/3000 [01:24<00:47, 23.45it/s]\u001b[A\n",
      " 63%|██████▎   | 1884/3000 [01:24<00:49, 22.54it/s]\u001b[A\n",
      " 63%|██████▎   | 1887/3000 [01:25<00:54, 20.44it/s]\u001b[A\n",
      " 63%|██████▎   | 1890/3000 [01:25<00:49, 22.35it/s]\u001b[A\n",
      " 63%|██████▎   | 1893/3000 [01:25<00:45, 24.12it/s]\u001b[A\n",
      " 63%|██████▎   | 1896/3000 [01:25<01:05, 16.77it/s]\u001b[A\n",
      " 63%|██████▎   | 1899/3000 [01:25<00:59, 18.43it/s]\u001b[A\n",
      " 63%|██████▎   | 1902/3000 [01:25<01:02, 17.52it/s]\u001b[A\n",
      " 63%|██████▎   | 1904/3000 [01:26<01:00, 17.98it/s]\u001b[A\n",
      " 64%|██████▎   | 1906/3000 [01:26<01:42, 10.67it/s]\u001b[A\n",
      " 64%|██████▎   | 1909/3000 [01:26<01:27, 12.42it/s]\u001b[A\n",
      " 64%|██████▎   | 1911/3000 [01:26<01:19, 13.69it/s]\u001b[A\n",
      " 64%|██████▍   | 1915/3000 [01:26<00:58, 18.65it/s]\u001b[A\n",
      " 64%|██████▍   | 1919/3000 [01:26<00:47, 22.58it/s]\u001b[A\n",
      " 64%|██████▍   | 1923/3000 [01:27<00:42, 25.17it/s]\u001b[A\n",
      " 64%|██████▍   | 1926/3000 [01:27<00:41, 25.75it/s]\u001b[A\n",
      " 64%|██████▍   | 1929/3000 [01:27<00:42, 25.42it/s]\u001b[A\n",
      " 64%|██████▍   | 1932/3000 [01:27<00:40, 26.28it/s]\u001b[A\n",
      " 64%|██████▍   | 1935/3000 [01:27<00:42, 25.30it/s]\u001b[A\n",
      " 65%|██████▍   | 1938/3000 [01:27<00:42, 25.05it/s]\u001b[A\n",
      " 65%|██████▍   | 1941/3000 [01:27<00:42, 24.71it/s]\u001b[A\n",
      " 65%|██████▍   | 1944/3000 [01:27<00:41, 25.42it/s]\u001b[A\n",
      " 65%|██████▍   | 1948/3000 [01:28<00:45, 23.37it/s]\u001b[A\n",
      " 65%|██████▌   | 1952/3000 [01:28<00:39, 26.58it/s]\u001b[A\n",
      " 65%|██████▌   | 1955/3000 [01:28<00:38, 26.98it/s]\u001b[A\n",
      " 65%|██████▌   | 1958/3000 [01:28<00:41, 25.01it/s]\u001b[A\n",
      " 65%|██████▌   | 1961/3000 [01:28<00:44, 23.39it/s]\u001b[A\n",
      " 66%|██████▌   | 1965/3000 [01:28<00:39, 25.95it/s]\u001b[A\n",
      " 66%|██████▌   | 1968/3000 [01:28<00:40, 25.71it/s]\u001b[A\n",
      " 66%|██████▌   | 1971/3000 [01:28<00:42, 24.50it/s]\u001b[A\n",
      " 66%|██████▌   | 1974/3000 [01:29<00:41, 24.84it/s]\u001b[A\n"
     ]
    },
    {
     "name": "stderr",
     "output_type": "stream",
     "text": [
      " 66%|██████▌   | 1977/3000 [01:29<00:45, 22.57it/s]\u001b[A\n",
      " 66%|██████▌   | 1981/3000 [01:29<00:39, 25.65it/s]\u001b[A\n",
      " 66%|██████▌   | 1985/3000 [01:29<00:36, 27.98it/s]\u001b[A\n",
      " 66%|██████▋   | 1988/3000 [01:29<00:36, 27.65it/s]\u001b[A\n",
      " 66%|██████▋   | 1992/3000 [01:29<00:35, 28.29it/s]\u001b[A\n",
      " 66%|██████▋   | 1995/3000 [01:29<00:39, 25.26it/s]\u001b[A\n",
      " 67%|██████▋   | 1998/3000 [01:30<00:42, 23.62it/s]\u001b[A\n",
      " 67%|██████▋   | 2002/3000 [01:30<00:37, 26.62it/s]\u001b[A\n",
      " 67%|██████▋   | 2005/3000 [01:30<00:37, 26.44it/s]\u001b[A\n",
      " 67%|██████▋   | 2008/3000 [01:30<00:37, 26.69it/s]\u001b[A\n",
      " 67%|██████▋   | 2011/3000 [01:30<00:43, 22.98it/s]\u001b[A\n",
      " 67%|██████▋   | 2014/3000 [01:30<01:02, 15.69it/s]\u001b[A\n",
      " 67%|██████▋   | 2016/3000 [01:31<01:04, 15.36it/s]\u001b[A\n",
      " 67%|██████▋   | 2020/3000 [01:31<00:49, 19.68it/s]\u001b[A\n",
      " 67%|██████▋   | 2023/3000 [01:31<00:48, 19.97it/s]\u001b[A\n",
      " 68%|██████▊   | 2027/3000 [01:31<00:40, 23.78it/s]\u001b[A\n",
      " 68%|██████▊   | 2030/3000 [01:31<00:44, 21.78it/s]\u001b[A\n",
      " 68%|██████▊   | 2033/3000 [01:31<00:42, 22.84it/s]\u001b[A\n",
      " 68%|██████▊   | 2037/3000 [01:31<00:37, 25.52it/s]\u001b[A\n",
      " 68%|██████▊   | 2040/3000 [01:31<00:37, 25.73it/s]\u001b[A\n",
      " 68%|██████▊   | 2044/3000 [01:32<00:38, 24.73it/s]\u001b[A\n",
      " 68%|██████▊   | 2047/3000 [01:32<00:41, 22.69it/s]\u001b[A\n",
      " 68%|██████▊   | 2050/3000 [01:32<00:40, 23.72it/s]\u001b[A\n",
      " 68%|██████▊   | 2053/3000 [01:32<00:42, 22.36it/s]\u001b[A\n",
      " 69%|██████▊   | 2057/3000 [01:32<00:38, 24.61it/s]\u001b[A\n",
      " 69%|██████▊   | 2060/3000 [01:32<00:38, 24.59it/s]\u001b[A\n",
      " 69%|██████▉   | 2063/3000 [01:32<00:39, 23.87it/s]\u001b[A\n",
      " 69%|██████▉   | 2067/3000 [01:33<00:35, 26.50it/s]\u001b[A\n",
      " 69%|██████▉   | 2070/3000 [01:33<00:35, 25.94it/s]\u001b[A\n",
      " 69%|██████▉   | 2074/3000 [01:33<00:33, 27.71it/s]\u001b[A\n",
      " 69%|██████▉   | 2078/3000 [01:33<00:32, 28.15it/s]\u001b[A\n",
      " 69%|██████▉   | 2082/3000 [01:33<00:35, 25.67it/s]\u001b[A\n",
      " 70%|██████▉   | 2085/3000 [01:33<00:46, 19.70it/s]\u001b[A\n",
      " 70%|██████▉   | 2088/3000 [01:34<01:04, 14.21it/s]\u001b[A\n",
      " 70%|██████▉   | 2091/3000 [01:34<00:54, 16.54it/s]\u001b[A\n",
      " 70%|██████▉   | 2094/3000 [01:34<01:05, 13.86it/s]\u001b[A\n",
      " 70%|██████▉   | 2097/3000 [01:34<00:55, 16.13it/s]\u001b[A\n",
      " 70%|███████   | 2100/3000 [01:34<00:51, 17.38it/s]\u001b[A\n",
      " 70%|███████   | 2103/3000 [01:35<00:46, 19.39it/s]\u001b[A\n",
      " 70%|███████   | 2106/3000 [01:35<00:43, 20.78it/s]\u001b[A\n",
      " 70%|███████   | 2109/3000 [01:35<00:41, 21.58it/s]\u001b[A\n",
      " 70%|███████   | 2113/3000 [01:35<00:48, 18.31it/s]\u001b[A\n",
      " 71%|███████   | 2116/3000 [01:35<00:51, 17.24it/s]\u001b[A\n",
      " 71%|███████   | 2119/3000 [01:35<00:46, 18.93it/s]\u001b[A\n",
      " 71%|███████   | 2123/3000 [01:35<00:40, 21.67it/s]\u001b[A\n",
      " 71%|███████   | 2126/3000 [01:36<00:46, 18.73it/s]\u001b[A\n",
      " 71%|███████   | 2130/3000 [01:36<00:40, 21.75it/s]\u001b[A\n",
      " 71%|███████   | 2134/3000 [01:36<00:35, 24.14it/s]\u001b[A\n",
      " 71%|███████▏  | 2138/3000 [01:36<00:33, 25.99it/s]\u001b[A\n",
      " 71%|███████▏  | 2142/3000 [01:36<00:31, 27.33it/s]\u001b[A\n",
      " 72%|███████▏  | 2145/3000 [01:36<00:33, 25.44it/s]\u001b[A\n",
      " 72%|███████▏  | 2148/3000 [01:37<00:39, 21.77it/s]\u001b[A\n",
      " 72%|███████▏  | 2151/3000 [01:37<00:36, 23.43it/s]\u001b[A\n",
      " 72%|███████▏  | 2156/3000 [01:37<00:30, 27.77it/s]\u001b[A\n",
      " 72%|███████▏  | 2159/3000 [01:37<00:33, 24.80it/s]\u001b[A\n",
      " 72%|███████▏  | 2163/3000 [01:37<00:29, 28.04it/s]\u001b[A\n",
      " 72%|███████▏  | 2166/3000 [01:37<00:30, 27.76it/s]\u001b[A\n",
      " 72%|███████▏  | 2169/3000 [01:37<00:30, 27.20it/s]\u001b[A\n",
      " 72%|███████▏  | 2172/3000 [01:37<00:32, 25.85it/s]\u001b[A\n",
      " 72%|███████▎  | 2175/3000 [01:38<00:31, 25.80it/s]\u001b[A\n",
      " 73%|███████▎  | 2179/3000 [01:38<00:28, 29.32it/s]\u001b[A\n",
      " 73%|███████▎  | 2183/3000 [01:38<00:28, 28.36it/s]\u001b[A\n",
      " 73%|███████▎  | 2187/3000 [01:38<00:27, 29.59it/s]\u001b[A\n",
      " 73%|███████▎  | 2191/3000 [01:38<00:29, 26.98it/s]\u001b[A\n",
      " 73%|███████▎  | 2194/3000 [01:38<00:29, 27.63it/s]\u001b[A\n",
      " 73%|███████▎  | 2199/3000 [01:38<00:26, 29.89it/s]\u001b[A\n",
      " 73%|███████▎  | 2203/3000 [01:38<00:26, 30.62it/s]\u001b[A\n",
      " 74%|███████▎  | 2207/3000 [01:39<00:28, 27.83it/s]\u001b[A\n",
      " 74%|███████▎  | 2211/3000 [01:39<00:28, 27.25it/s]\u001b[A\n",
      " 74%|███████▍  | 2216/3000 [01:39<00:26, 29.98it/s]\u001b[A\n",
      " 74%|███████▍  | 2221/3000 [01:39<00:23, 32.71it/s]\u001b[A\n",
      " 74%|███████▍  | 2225/3000 [01:39<00:36, 21.10it/s]\u001b[A\n",
      " 74%|███████▍  | 2228/3000 [01:40<00:45, 17.06it/s]\u001b[A\n",
      " 74%|███████▍  | 2232/3000 [01:40<00:37, 20.55it/s]\u001b[A\n",
      " 74%|███████▍  | 2235/3000 [01:40<00:35, 21.77it/s]\u001b[A\n",
      " 75%|███████▍  | 2238/3000 [01:40<00:32, 23.16it/s]\u001b[A\n",
      " 75%|███████▍  | 2242/3000 [01:40<00:31, 24.03it/s]\u001b[A\n",
      " 75%|███████▍  | 2246/3000 [01:40<00:32, 23.51it/s]\u001b[A\n",
      " 75%|███████▌  | 2250/3000 [01:40<00:28, 26.57it/s]\u001b[A\n",
      " 75%|███████▌  | 2253/3000 [01:41<00:30, 24.66it/s]\u001b[A\n",
      " 75%|███████▌  | 2256/3000 [01:41<00:30, 24.74it/s]\u001b[A\n",
      " 75%|███████▌  | 2259/3000 [01:41<00:42, 17.47it/s]\u001b[A\n",
      " 75%|███████▌  | 2262/3000 [01:41<00:39, 18.60it/s]\u001b[A\n",
      " 76%|███████▌  | 2265/3000 [01:41<00:38, 19.21it/s]\u001b[A\n",
      " 76%|███████▌  | 2268/3000 [01:41<00:37, 19.66it/s]\u001b[A\n",
      " 76%|███████▌  | 2271/3000 [01:42<00:38, 18.87it/s]\u001b[A\n",
      " 76%|███████▌  | 2273/3000 [01:42<00:39, 18.22it/s]\u001b[A\n",
      " 76%|███████▌  | 2276/3000 [01:42<00:35, 20.30it/s]\u001b[A\n",
      " 76%|███████▌  | 2279/3000 [01:42<00:35, 20.24it/s]\u001b[A\n",
      " 76%|███████▌  | 2283/3000 [01:42<00:31, 23.07it/s]\u001b[A\n",
      " 76%|███████▌  | 2287/3000 [01:42<00:28, 24.65it/s]\u001b[A\n",
      " 76%|███████▋  | 2291/3000 [01:42<00:26, 26.98it/s]\u001b[A\n",
      " 76%|███████▋  | 2294/3000 [01:43<00:36, 19.36it/s]\u001b[A\n",
      " 77%|███████▋  | 2297/3000 [01:43<00:32, 21.32it/s]\u001b[A\n",
      " 77%|███████▋  | 2300/3000 [01:43<00:36, 19.36it/s]\u001b[A\n",
      " 77%|███████▋  | 2303/3000 [01:43<00:32, 21.53it/s]\u001b[A\n",
      " 77%|███████▋  | 2306/3000 [01:43<00:49, 13.91it/s]\u001b[A\n",
      " 77%|███████▋  | 2309/3000 [01:44<00:42, 16.42it/s]\u001b[A\n",
      " 77%|███████▋  | 2312/3000 [01:44<00:41, 16.72it/s]\u001b[A\n",
      " 77%|███████▋  | 2315/3000 [01:44<00:37, 18.44it/s]\u001b[A\n",
      " 77%|███████▋  | 2318/3000 [01:44<00:33, 20.37it/s]\u001b[A\n",
      " 77%|███████▋  | 2321/3000 [01:44<00:31, 21.50it/s]\u001b[A\n",
      " 78%|███████▊  | 2325/3000 [01:44<00:27, 24.67it/s]\u001b[A\n",
      " 78%|███████▊  | 2328/3000 [01:44<00:27, 24.60it/s]\u001b[A\n",
      " 78%|███████▊  | 2331/3000 [01:44<00:27, 24.65it/s]\u001b[A\n",
      " 78%|███████▊  | 2334/3000 [01:45<00:26, 25.01it/s]\u001b[A\n",
      " 78%|███████▊  | 2337/3000 [01:45<00:25, 26.23it/s]\u001b[A\n",
      " 78%|███████▊  | 2340/3000 [01:45<00:25, 26.31it/s]\u001b[A\n",
      " 78%|███████▊  | 2343/3000 [01:45<00:25, 26.19it/s]\u001b[A\n",
      " 78%|███████▊  | 2346/3000 [01:45<00:28, 22.92it/s]\u001b[A\n",
      " 78%|███████▊  | 2349/3000 [01:45<00:27, 23.61it/s]\u001b[A\n",
      " 78%|███████▊  | 2352/3000 [01:45<00:28, 23.12it/s]\u001b[A\n",
      " 78%|███████▊  | 2355/3000 [01:46<00:35, 18.21it/s]\u001b[A\n",
      " 79%|███████▊  | 2359/3000 [01:46<00:29, 21.58it/s]\u001b[A\n",
      " 79%|███████▊  | 2362/3000 [01:46<00:30, 21.11it/s]\u001b[A\n",
      " 79%|███████▉  | 2365/3000 [01:46<00:28, 22.09it/s]\u001b[A\n",
      " 79%|███████▉  | 2370/3000 [01:46<00:23, 27.32it/s]\u001b[A\n",
      " 79%|███████▉  | 2373/3000 [01:46<00:22, 27.73it/s]\u001b[A\n",
      " 79%|███████▉  | 2376/3000 [01:46<00:22, 28.01it/s]\u001b[A\n",
      " 79%|███████▉  | 2379/3000 [01:46<00:22, 27.45it/s]\u001b[A\n",
      " 79%|███████▉  | 2383/3000 [01:47<00:21, 28.93it/s]\u001b[A\n",
      " 80%|███████▉  | 2386/3000 [01:47<00:21, 28.66it/s]\u001b[A\n",
      " 80%|███████▉  | 2389/3000 [01:47<00:21, 28.80it/s]\u001b[A\n",
      " 80%|███████▉  | 2393/3000 [01:47<00:20, 29.01it/s]\u001b[A\n",
      " 80%|███████▉  | 2396/3000 [01:47<00:21, 28.46it/s]\u001b[A\n",
      " 80%|███████▉  | 2399/3000 [01:47<00:22, 27.16it/s]\u001b[A\n",
      " 80%|████████  | 2402/3000 [01:47<00:22, 26.57it/s]\u001b[A\n",
      " 80%|████████  | 2406/3000 [01:47<00:26, 22.55it/s]\u001b[A\n",
      " 80%|████████  | 2409/3000 [01:48<00:26, 22.08it/s]\u001b[A\n",
      " 80%|████████  | 2412/3000 [01:48<00:25, 23.48it/s]\u001b[A\n",
      " 81%|████████  | 2416/3000 [01:48<00:22, 25.92it/s]\u001b[A\n",
      " 81%|████████  | 2419/3000 [01:48<00:22, 25.33it/s]\u001b[A\n",
      " 81%|████████  | 2422/3000 [01:48<00:23, 24.52it/s]\u001b[A\n",
      " 81%|████████  | 2425/3000 [01:48<00:25, 22.58it/s]\u001b[A\n",
      " 81%|████████  | 2428/3000 [01:48<00:25, 22.71it/s]\u001b[A\n",
      " 81%|████████  | 2431/3000 [01:49<00:26, 21.79it/s]\u001b[A\n",
      " 81%|████████  | 2435/3000 [01:49<00:23, 24.50it/s]\u001b[A\n",
      " 81%|████████▏ | 2438/3000 [01:49<00:21, 25.56it/s]\u001b[A\n",
      " 81%|████████▏ | 2441/3000 [01:49<00:28, 19.79it/s]\u001b[A\n",
      " 81%|████████▏ | 2444/3000 [01:49<00:28, 19.29it/s]\u001b[A\n",
      " 82%|████████▏ | 2447/3000 [01:49<00:33, 16.64it/s]\u001b[A\n",
      " 82%|████████▏ | 2450/3000 [01:50<00:29, 18.40it/s]\u001b[A\n",
      " 82%|████████▏ | 2454/3000 [01:50<00:24, 22.25it/s]\u001b[A\n",
      " 82%|████████▏ | 2458/3000 [01:50<00:21, 25.62it/s]\u001b[A\n",
      " 82%|████████▏ | 2462/3000 [01:50<00:18, 28.46it/s]\u001b[A\n",
      " 82%|████████▏ | 2466/3000 [01:50<00:20, 26.07it/s]\u001b[A\n",
      " 82%|████████▏ | 2469/3000 [01:50<00:19, 26.85it/s]\u001b[A\n",
      " 82%|████████▏ | 2472/3000 [01:50<00:20, 25.70it/s]\u001b[A\n"
     ]
    },
    {
     "name": "stderr",
     "output_type": "stream",
     "text": [
      " 83%|████████▎ | 2476/3000 [01:50<00:18, 27.96it/s]\u001b[A\n",
      " 83%|████████▎ | 2479/3000 [01:51<00:18, 27.96it/s]\u001b[A\n",
      " 83%|████████▎ | 2483/3000 [01:51<00:20, 25.21it/s]\u001b[A\n",
      " 83%|████████▎ | 2486/3000 [01:51<00:20, 25.61it/s]\u001b[A\n",
      " 83%|████████▎ | 2489/3000 [01:51<00:29, 17.25it/s]\u001b[A\n",
      " 83%|████████▎ | 2492/3000 [01:51<00:26, 19.43it/s]\u001b[A\n",
      " 83%|████████▎ | 2496/3000 [01:51<00:21, 23.10it/s]\u001b[A\n",
      " 83%|████████▎ | 2499/3000 [01:52<00:24, 20.04it/s]\u001b[A\n",
      " 83%|████████▎ | 2503/3000 [01:52<00:21, 23.53it/s]\u001b[A\n",
      " 84%|████████▎ | 2506/3000 [01:52<00:27, 17.95it/s]\u001b[A\n",
      " 84%|████████▎ | 2510/3000 [01:52<00:25, 19.17it/s]\u001b[A\n",
      " 84%|████████▍ | 2513/3000 [01:52<00:23, 20.55it/s]\u001b[A\n",
      " 84%|████████▍ | 2516/3000 [01:52<00:28, 17.22it/s]\u001b[A\n",
      " 84%|████████▍ | 2519/3000 [01:53<00:26, 18.37it/s]\u001b[A\n",
      " 84%|████████▍ | 2523/3000 [01:53<00:21, 22.17it/s]\u001b[A\n",
      " 84%|████████▍ | 2526/3000 [01:53<00:20, 23.23it/s]\u001b[A\n",
      " 84%|████████▍ | 2530/3000 [01:53<00:17, 26.54it/s]\u001b[A\n",
      " 84%|████████▍ | 2533/3000 [01:53<00:17, 26.88it/s]\u001b[A\n",
      " 85%|████████▍ | 2536/3000 [01:53<00:16, 27.58it/s]\u001b[A\n",
      " 85%|████████▍ | 2539/3000 [01:53<00:17, 26.27it/s]\u001b[A\n",
      " 85%|████████▍ | 2542/3000 [01:53<00:18, 25.13it/s]\u001b[A\n",
      " 85%|████████▍ | 2545/3000 [01:54<00:19, 23.92it/s]\u001b[A\n",
      " 85%|████████▍ | 2548/3000 [01:54<00:25, 17.50it/s]\u001b[A\n",
      " 85%|████████▌ | 2551/3000 [01:54<00:23, 19.13it/s]\u001b[A\n",
      " 85%|████████▌ | 2554/3000 [01:54<00:21, 20.53it/s]\u001b[A\n",
      " 85%|████████▌ | 2558/3000 [01:54<00:21, 20.12it/s]\u001b[A\n",
      " 85%|████████▌ | 2561/3000 [01:54<00:22, 19.70it/s]\u001b[A\n",
      " 85%|████████▌ | 2564/3000 [01:55<00:20, 21.28it/s]\u001b[A\n",
      " 86%|████████▌ | 2567/3000 [01:55<00:19, 21.75it/s]\u001b[A\n",
      " 86%|████████▌ | 2570/3000 [01:55<00:23, 18.40it/s]\u001b[A\n",
      " 86%|████████▌ | 2574/3000 [01:55<00:20, 21.12it/s]\u001b[A\n",
      " 86%|████████▌ | 2577/3000 [01:55<00:22, 19.23it/s]\u001b[A\n",
      " 86%|████████▌ | 2580/3000 [01:55<00:20, 20.73it/s]\u001b[A\n",
      " 86%|████████▌ | 2583/3000 [01:55<00:18, 22.04it/s]\u001b[A\n",
      " 86%|████████▌ | 2586/3000 [01:56<00:20, 19.96it/s]\u001b[A\n",
      " 86%|████████▋ | 2589/3000 [01:56<00:18, 21.75it/s]\u001b[A\n",
      " 86%|████████▋ | 2592/3000 [01:56<00:17, 23.15it/s]\u001b[A\n",
      " 86%|████████▋ | 2595/3000 [01:56<00:22, 17.94it/s]\u001b[A\n",
      " 87%|████████▋ | 2599/3000 [01:56<00:18, 21.54it/s]\u001b[A\n",
      " 87%|████████▋ | 2602/3000 [01:56<00:17, 22.64it/s]\u001b[A\n",
      " 87%|████████▋ | 2605/3000 [01:57<00:16, 23.72it/s]\u001b[A\n",
      " 87%|████████▋ | 2609/3000 [01:57<00:14, 26.35it/s]\u001b[A\n",
      " 87%|████████▋ | 2612/3000 [01:57<00:14, 25.91it/s]\u001b[A\n",
      " 87%|████████▋ | 2615/3000 [01:57<00:14, 26.74it/s]\u001b[A\n",
      " 87%|████████▋ | 2619/3000 [01:57<00:13, 29.08it/s]\u001b[A\n",
      " 87%|████████▋ | 2622/3000 [01:57<00:14, 26.22it/s]\u001b[A\n",
      " 88%|████████▊ | 2626/3000 [01:57<00:13, 27.80it/s]\u001b[A\n",
      " 88%|████████▊ | 2630/3000 [01:57<00:12, 29.25it/s]\u001b[A\n",
      " 88%|████████▊ | 2633/3000 [01:57<00:12, 29.05it/s]\u001b[A\n",
      " 88%|████████▊ | 2636/3000 [01:58<00:13, 27.52it/s]\u001b[A\n",
      " 88%|████████▊ | 2640/3000 [01:58<00:12, 28.97it/s]\u001b[A\n",
      " 88%|████████▊ | 2643/3000 [01:58<00:14, 25.23it/s]\u001b[A\n",
      " 88%|████████▊ | 2646/3000 [01:58<00:13, 26.17it/s]\u001b[A\n",
      " 88%|████████▊ | 2649/3000 [01:58<00:15, 23.16it/s]\u001b[A\n",
      " 88%|████████▊ | 2652/3000 [01:58<00:14, 24.55it/s]\u001b[A\n",
      " 89%|████████▊ | 2656/3000 [01:58<00:13, 25.31it/s]\u001b[A\n",
      " 89%|████████▊ | 2659/3000 [01:59<00:14, 22.97it/s]\u001b[A\n",
      " 89%|████████▉ | 2663/3000 [01:59<00:14, 23.16it/s]\u001b[A\n",
      " 89%|████████▉ | 2666/3000 [01:59<00:14, 22.86it/s]\u001b[A\n",
      " 89%|████████▉ | 2669/3000 [01:59<00:13, 24.41it/s]\u001b[A\n",
      " 89%|████████▉ | 2672/3000 [01:59<00:14, 22.13it/s]\u001b[A\n",
      " 89%|████████▉ | 2675/3000 [01:59<00:14, 22.77it/s]\u001b[A\n",
      " 89%|████████▉ | 2678/3000 [01:59<00:15, 20.99it/s]\u001b[A\n",
      " 89%|████████▉ | 2682/3000 [02:00<00:13, 23.91it/s]\u001b[A\n",
      " 90%|████████▉ | 2685/3000 [02:00<00:14, 21.86it/s]\u001b[A\n",
      " 90%|████████▉ | 2689/3000 [02:00<00:12, 25.80it/s]\u001b[A\n",
      " 90%|████████▉ | 2692/3000 [02:00<00:11, 26.14it/s]\u001b[A\n",
      " 90%|████████▉ | 2696/3000 [02:00<00:12, 24.54it/s]\u001b[A\n",
      " 90%|█████████ | 2700/3000 [02:00<00:11, 26.64it/s]\u001b[A\n",
      " 90%|█████████ | 2703/3000 [02:01<00:15, 18.63it/s]\u001b[A\n",
      " 90%|█████████ | 2706/3000 [02:01<00:15, 19.43it/s]\u001b[A\n",
      " 90%|█████████ | 2710/3000 [02:01<00:12, 22.80it/s]\u001b[A\n",
      " 90%|█████████ | 2714/3000 [02:01<00:11, 24.55it/s]\u001b[A\n",
      " 91%|█████████ | 2718/3000 [02:01<00:10, 26.77it/s]\u001b[A\n",
      " 91%|█████████ | 2721/3000 [02:01<00:10, 26.08it/s]\u001b[A\n",
      " 91%|█████████ | 2725/3000 [02:01<00:09, 27.88it/s]\u001b[A\n",
      " 91%|█████████ | 2728/3000 [02:01<00:09, 28.12it/s]\u001b[A\n",
      " 91%|█████████ | 2732/3000 [02:02<00:09, 29.21it/s]\u001b[A\n",
      " 91%|█████████ | 2735/3000 [02:02<00:10, 25.43it/s]\u001b[A\n",
      " 91%|█████████▏| 2738/3000 [02:02<00:11, 22.97it/s]\u001b[A\n",
      " 91%|█████████▏| 2742/3000 [02:02<00:09, 26.40it/s]\u001b[A\n",
      " 92%|█████████▏| 2745/3000 [02:02<00:10, 24.80it/s]\u001b[A\n",
      " 92%|█████████▏| 2748/3000 [02:02<00:10, 23.44it/s]\u001b[A\n",
      " 92%|█████████▏| 2751/3000 [02:02<00:10, 24.63it/s]\u001b[A\n",
      " 92%|█████████▏| 2754/3000 [02:02<00:09, 25.43it/s]\u001b[A\n",
      " 92%|█████████▏| 2757/3000 [02:03<00:09, 26.06it/s]\u001b[A\n",
      " 92%|█████████▏| 2760/3000 [02:03<00:09, 26.23it/s]\u001b[A\n",
      " 92%|█████████▏| 2764/3000 [02:03<00:09, 25.85it/s]\u001b[A\n",
      " 92%|█████████▏| 2767/3000 [02:03<00:08, 26.59it/s]\u001b[A\n",
      " 92%|█████████▏| 2770/3000 [02:03<00:09, 25.47it/s]\u001b[A\n",
      " 92%|█████████▏| 2773/3000 [02:03<00:08, 26.11it/s]\u001b[A\n",
      " 93%|█████████▎| 2776/3000 [02:03<00:08, 26.36it/s]\u001b[A\n",
      " 93%|█████████▎| 2780/3000 [02:03<00:07, 28.77it/s]\u001b[A\n",
      " 93%|█████████▎| 2783/3000 [02:04<00:07, 28.20it/s]\u001b[A\n",
      " 93%|█████████▎| 2786/3000 [02:04<00:09, 22.48it/s]\u001b[A\n",
      " 93%|█████████▎| 2789/3000 [02:04<00:09, 23.17it/s]\u001b[A\n",
      " 93%|█████████▎| 2792/3000 [02:04<00:08, 24.53it/s]\u001b[A\n",
      " 93%|█████████▎| 2796/3000 [02:04<00:08, 25.29it/s]\u001b[A\n",
      " 93%|█████████▎| 2800/3000 [02:04<00:09, 20.35it/s]\u001b[A\n",
      " 93%|█████████▎| 2804/3000 [02:05<00:08, 22.64it/s]\u001b[A\n",
      " 94%|█████████▎| 2807/3000 [02:05<00:09, 20.00it/s]\u001b[A\n",
      " 94%|█████████▎| 2810/3000 [02:05<00:09, 20.29it/s]\u001b[A\n",
      " 94%|█████████▍| 2813/3000 [02:05<00:10, 18.40it/s]\u001b[A\n",
      " 94%|█████████▍| 2817/3000 [02:05<00:08, 21.39it/s]\u001b[A\n",
      " 94%|█████████▍| 2821/3000 [02:05<00:07, 24.88it/s]\u001b[A\n",
      " 94%|█████████▍| 2824/3000 [02:05<00:06, 26.04it/s]\u001b[A\n",
      " 94%|█████████▍| 2828/3000 [02:06<00:06, 26.84it/s]\u001b[A\n",
      " 94%|█████████▍| 2831/3000 [02:06<00:09, 18.48it/s]\u001b[A\n",
      " 94%|█████████▍| 2834/3000 [02:06<00:08, 20.33it/s]\u001b[A\n",
      " 95%|█████████▍| 2838/3000 [02:06<00:07, 22.85it/s]\u001b[A\n",
      " 95%|█████████▍| 2841/3000 [02:06<00:06, 23.68it/s]\u001b[A\n",
      " 95%|█████████▍| 2844/3000 [02:06<00:06, 23.96it/s]\u001b[A\n",
      " 95%|█████████▍| 2848/3000 [02:06<00:05, 26.20it/s]\u001b[A\n",
      " 95%|█████████▌| 2852/3000 [02:07<00:05, 25.36it/s]\u001b[A\n",
      " 95%|█████████▌| 2855/3000 [02:07<00:05, 25.73it/s]\u001b[A\n",
      " 95%|█████████▌| 2858/3000 [02:07<00:05, 25.59it/s]\u001b[A\n",
      " 95%|█████████▌| 2861/3000 [02:07<00:05, 24.82it/s]\u001b[A\n",
      " 95%|█████████▌| 2864/3000 [02:07<00:06, 21.87it/s]\u001b[A\n",
      " 96%|█████████▌| 2867/3000 [02:07<00:05, 23.18it/s]\u001b[A\n",
      " 96%|█████████▌| 2870/3000 [02:07<00:05, 22.44it/s]\u001b[A\n",
      " 96%|█████████▌| 2873/3000 [02:08<00:05, 22.01it/s]\u001b[A\n",
      " 96%|█████████▌| 2876/3000 [02:08<00:05, 23.72it/s]\u001b[A\n",
      " 96%|█████████▌| 2879/3000 [02:08<00:05, 23.75it/s]\u001b[A\n",
      " 96%|█████████▌| 2882/3000 [02:08<00:05, 22.29it/s]\u001b[A\n",
      " 96%|█████████▌| 2885/3000 [02:08<00:04, 23.02it/s]\u001b[A\n",
      " 96%|█████████▋| 2888/3000 [02:08<00:06, 18.44it/s]\u001b[A\n",
      " 96%|█████████▋| 2892/3000 [02:08<00:04, 22.08it/s]\u001b[A\n",
      " 97%|█████████▋| 2896/3000 [02:09<00:04, 25.16it/s]\u001b[A\n",
      " 97%|█████████▋| 2899/3000 [02:09<00:03, 25.93it/s]\u001b[A\n",
      " 97%|█████████▋| 2902/3000 [02:09<00:05, 19.48it/s]\u001b[A\n",
      " 97%|█████████▋| 2905/3000 [02:09<00:04, 21.07it/s]\u001b[A\n",
      " 97%|█████████▋| 2908/3000 [02:09<00:04, 18.43it/s]\u001b[A\n",
      " 97%|█████████▋| 2911/3000 [02:09<00:04, 20.47it/s]\u001b[A\n",
      " 97%|█████████▋| 2914/3000 [02:09<00:03, 22.36it/s]\u001b[A\n",
      " 97%|█████████▋| 2917/3000 [02:10<00:04, 19.63it/s]\u001b[A\n",
      " 97%|█████████▋| 2921/3000 [02:10<00:03, 22.88it/s]\u001b[A\n",
      " 97%|█████████▋| 2924/3000 [02:10<00:03, 23.12it/s]\u001b[A\n",
      " 98%|█████████▊| 2928/3000 [02:10<00:02, 24.36it/s]\u001b[A\n",
      " 98%|█████████▊| 2932/3000 [02:10<00:02, 26.72it/s]\u001b[A\n",
      " 98%|█████████▊| 2936/3000 [02:10<00:02, 27.72it/s]\u001b[A\n",
      " 98%|█████████▊| 2939/3000 [02:11<00:02, 20.41it/s]\u001b[A\n",
      " 98%|█████████▊| 2942/3000 [02:11<00:02, 20.25it/s]\u001b[A\n",
      " 98%|█████████▊| 2945/3000 [02:11<00:02, 22.09it/s]\u001b[A\n",
      " 98%|█████████▊| 2948/3000 [02:11<00:02, 23.03it/s]\u001b[A\n",
      " 98%|█████████▊| 2951/3000 [02:11<00:02, 23.58it/s]\u001b[A\n",
      " 98%|█████████▊| 2955/3000 [02:11<00:01, 22.73it/s]\u001b[A\n",
      " 99%|█████████▊| 2958/3000 [02:11<00:01, 21.62it/s]\u001b[A\n",
      " 99%|█████████▊| 2962/3000 [02:11<00:01, 24.14it/s]\u001b[A\n"
     ]
    },
    {
     "name": "stderr",
     "output_type": "stream",
     "text": [
      " 99%|█████████▉| 2965/3000 [02:12<00:01, 25.18it/s]\u001b[A\n",
      " 99%|█████████▉| 2968/3000 [02:12<00:01, 26.04it/s]\u001b[A\n",
      " 99%|█████████▉| 2971/3000 [02:12<00:01, 26.30it/s]\u001b[A\n",
      " 99%|█████████▉| 2975/3000 [02:12<00:00, 28.76it/s]\u001b[A\n",
      " 99%|█████████▉| 2979/3000 [02:12<00:00, 29.93it/s]\u001b[A\n",
      " 99%|█████████▉| 2983/3000 [02:12<00:00, 22.58it/s]\u001b[A\n",
      "100%|█████████▉| 2987/3000 [02:12<00:00, 26.09it/s]\u001b[A\n",
      "100%|█████████▉| 2990/3000 [02:13<00:00, 26.56it/s]\u001b[A\n",
      "100%|█████████▉| 2993/3000 [02:13<00:00, 25.40it/s]\u001b[A\n",
      "100%|█████████▉| 2996/3000 [02:13<00:00, 26.02it/s]\u001b[A\n",
      "100%|██████████| 3000/3000 [02:13<00:00, 22.48it/s]\u001b[A\n",
      " 23%|██▎       | 3/13 [07:09<23:45, 142.59s/it]"
     ]
    },
    {
     "name": "stdout",
     "output_type": "stream",
     "text": [
      "results_CLIP_3 completed\n"
     ]
    },
    {
     "name": "stderr",
     "output_type": "stream",
     "text": [
      "\n",
      "  0%|          | 0/3000 [00:00<?, ?it/s]\u001b[A\n",
      "  0%|          | 3/3000 [00:00<02:32, 19.69it/s]\u001b[A\n",
      "  0%|          | 6/3000 [00:00<02:11, 22.74it/s]\u001b[A\n",
      "  0%|          | 9/3000 [00:00<02:29, 20.04it/s]\u001b[A\n",
      "  0%|          | 12/3000 [00:00<03:07, 15.95it/s]\u001b[A\n",
      "  1%|          | 16/3000 [00:00<02:35, 19.19it/s]\u001b[A\n",
      "  1%|          | 21/3000 [00:00<01:59, 25.03it/s]\u001b[A\n",
      "  1%|          | 24/3000 [00:01<02:09, 22.90it/s]\u001b[A\n",
      "  1%|          | 28/3000 [00:01<02:36, 19.02it/s]\u001b[A\n",
      "  1%|          | 31/3000 [00:01<02:29, 19.80it/s]\u001b[A\n",
      "  1%|          | 35/3000 [00:01<02:14, 22.08it/s]\u001b[A\n",
      "  1%|▏         | 38/3000 [00:01<02:28, 19.95it/s]\u001b[A\n",
      "  1%|▏         | 41/3000 [00:01<02:19, 21.16it/s]\u001b[A\n",
      "  1%|▏         | 44/3000 [00:02<02:10, 22.71it/s]\u001b[A\n",
      "  2%|▏         | 48/3000 [00:02<01:54, 25.81it/s]\u001b[A\n",
      "  2%|▏         | 52/3000 [00:02<01:47, 27.41it/s]\u001b[A\n",
      "  2%|▏         | 55/3000 [00:02<02:11, 22.40it/s]\u001b[A\n",
      "  2%|▏         | 59/3000 [00:02<01:58, 24.82it/s]\u001b[A\n",
      "  2%|▏         | 62/3000 [00:02<01:55, 25.36it/s]\u001b[A\n",
      "  2%|▏         | 66/3000 [00:02<01:46, 27.58it/s]\u001b[A\n",
      "  2%|▏         | 71/3000 [00:03<01:37, 30.11it/s]\u001b[A\n",
      "  2%|▎         | 75/3000 [00:03<01:39, 29.36it/s]\u001b[A\n",
      "  3%|▎         | 78/3000 [00:03<01:47, 27.19it/s]\u001b[A\n",
      "  3%|▎         | 81/3000 [00:03<01:46, 27.51it/s]\u001b[A\n",
      "  3%|▎         | 84/3000 [00:03<01:53, 25.78it/s]\u001b[A\n",
      "  3%|▎         | 87/3000 [00:03<01:52, 25.86it/s]\u001b[A\n",
      "  3%|▎         | 91/3000 [00:03<01:44, 27.77it/s]\u001b[A\n",
      "  3%|▎         | 94/3000 [00:03<01:44, 27.92it/s]\u001b[A\n",
      "  3%|▎         | 97/3000 [00:04<01:42, 28.26it/s]\u001b[A\n",
      "  3%|▎         | 100/3000 [00:04<01:45, 27.39it/s]\u001b[A\n",
      "  3%|▎         | 103/3000 [00:04<01:51, 25.98it/s]\u001b[A\n",
      "  4%|▎         | 107/3000 [00:04<01:38, 29.50it/s]\u001b[A\n",
      "  4%|▎         | 111/3000 [00:04<01:44, 27.61it/s]\u001b[A\n",
      "  4%|▍         | 115/3000 [00:04<01:41, 28.46it/s]\u001b[A\n",
      "  4%|▍         | 118/3000 [00:04<01:57, 24.43it/s]\u001b[A\n",
      "  4%|▍         | 122/3000 [00:04<01:52, 25.51it/s]\u001b[A\n",
      "  4%|▍         | 125/3000 [00:05<01:53, 25.40it/s]\u001b[A\n",
      "  4%|▍         | 128/3000 [00:05<01:51, 25.78it/s]\u001b[A\n",
      "  4%|▍         | 131/3000 [00:05<01:51, 25.65it/s]\u001b[A\n",
      "  4%|▍         | 134/3000 [00:05<01:53, 25.16it/s]\u001b[A\n",
      "  5%|▍         | 137/3000 [00:05<02:30, 19.05it/s]\u001b[A\n",
      "  5%|▍         | 140/3000 [00:05<03:09, 15.09it/s]\u001b[A\n",
      "  5%|▍         | 143/3000 [00:06<02:51, 16.65it/s]\u001b[A\n",
      "  5%|▍         | 145/3000 [00:06<03:35, 13.27it/s]\u001b[A\n",
      "  5%|▍         | 148/3000 [00:06<03:07, 15.19it/s]\u001b[A\n",
      "  5%|▌         | 151/3000 [00:06<02:48, 16.91it/s]\u001b[A\n",
      "  5%|▌         | 154/3000 [00:06<02:39, 17.83it/s]\u001b[A\n",
      "  5%|▌         | 158/3000 [00:06<02:10, 21.79it/s]\u001b[A\n",
      "  5%|▌         | 161/3000 [00:07<02:05, 22.64it/s]\u001b[A\n",
      "  5%|▌         | 164/3000 [00:07<01:59, 23.81it/s]\u001b[A\n",
      "  6%|▌         | 168/3000 [00:07<01:42, 27.75it/s]\u001b[A\n",
      "  6%|▌         | 171/3000 [00:07<02:38, 17.85it/s]\u001b[A\n",
      "  6%|▌         | 175/3000 [00:07<02:38, 17.87it/s]\u001b[A\n",
      "  6%|▌         | 179/3000 [00:07<02:11, 21.46it/s]\u001b[A\n",
      "  6%|▌         | 182/3000 [00:08<02:35, 18.17it/s]\u001b[A\n",
      "  6%|▌         | 185/3000 [00:08<02:42, 17.34it/s]\u001b[A\n",
      "  6%|▋         | 189/3000 [00:08<02:17, 20.44it/s]\u001b[A\n",
      "  6%|▋         | 193/3000 [00:08<01:57, 23.88it/s]\u001b[A\n",
      "  7%|▋         | 197/3000 [00:08<01:50, 25.48it/s]\u001b[A\n",
      "  7%|▋         | 201/3000 [00:08<01:44, 26.72it/s]\u001b[A\n",
      "  7%|▋         | 205/3000 [00:08<01:39, 27.99it/s]\u001b[A\n",
      "  7%|▋         | 209/3000 [00:09<01:31, 30.37it/s]\u001b[A\n",
      "  7%|▋         | 213/3000 [00:09<01:30, 30.70it/s]\u001b[A\n",
      "  7%|▋         | 217/3000 [00:09<01:54, 24.24it/s]\u001b[A\n",
      "  7%|▋         | 220/3000 [00:09<01:50, 25.11it/s]\u001b[A\n",
      "  7%|▋         | 223/3000 [00:09<01:51, 24.98it/s]\u001b[A\n",
      "  8%|▊         | 227/3000 [00:09<01:44, 26.62it/s]\u001b[A\n",
      "  8%|▊         | 231/3000 [00:09<01:39, 27.88it/s]\u001b[A\n",
      "  8%|▊         | 235/3000 [00:10<01:43, 26.81it/s]\u001b[A\n",
      "  8%|▊         | 238/3000 [00:10<01:49, 25.33it/s]\u001b[A\n",
      "  8%|▊         | 241/3000 [00:10<02:13, 20.70it/s]\u001b[A\n",
      "  8%|▊         | 244/3000 [00:10<02:02, 22.57it/s]\u001b[A\n",
      "  8%|▊         | 247/3000 [00:10<02:14, 20.40it/s]\u001b[A\n",
      "  8%|▊         | 250/3000 [00:10<02:34, 17.83it/s]\u001b[A\n",
      "  8%|▊         | 253/3000 [00:11<02:17, 20.03it/s]\u001b[A\n",
      "  9%|▊         | 256/3000 [00:11<02:06, 21.70it/s]\u001b[A\n",
      "  9%|▊         | 259/3000 [00:11<02:00, 22.75it/s]\u001b[A\n",
      "  9%|▊         | 262/3000 [00:11<02:06, 21.66it/s]\u001b[A\n",
      "  9%|▉         | 266/3000 [00:11<01:46, 25.75it/s]\u001b[A\n",
      "  9%|▉         | 269/3000 [00:11<01:58, 23.12it/s]\u001b[A\n",
      "  9%|▉         | 272/3000 [00:11<01:58, 23.09it/s]\u001b[A\n",
      "  9%|▉         | 275/3000 [00:12<03:02, 14.94it/s]\u001b[A\n",
      "  9%|▉         | 279/3000 [00:12<02:23, 19.00it/s]\u001b[A\n",
      "  9%|▉         | 282/3000 [00:12<02:20, 19.37it/s]\u001b[A\n",
      " 10%|▉         | 285/3000 [00:12<02:12, 20.50it/s]\u001b[A\n",
      " 10%|▉         | 289/3000 [00:12<01:55, 23.47it/s]\u001b[A\n",
      " 10%|▉         | 292/3000 [00:12<02:13, 20.22it/s]\u001b[A\n",
      " 10%|▉         | 295/3000 [00:13<02:05, 21.61it/s]\u001b[A\n",
      " 10%|▉         | 298/3000 [00:13<02:00, 22.50it/s]\u001b[A\n",
      " 10%|█         | 301/3000 [00:13<01:59, 22.63it/s]\u001b[A\n",
      " 10%|█         | 304/3000 [00:13<01:53, 23.75it/s]\u001b[A\n",
      " 10%|█         | 307/3000 [00:13<01:53, 23.79it/s]\u001b[A\n",
      " 10%|█         | 311/3000 [00:13<01:50, 24.38it/s]\u001b[A\n",
      " 10%|█         | 315/3000 [00:13<01:40, 26.82it/s]\u001b[A\n",
      " 11%|█         | 319/3000 [00:13<01:31, 29.32it/s]\u001b[A\n",
      " 11%|█         | 323/3000 [00:14<01:31, 29.29it/s]\u001b[A\n",
      " 11%|█         | 326/3000 [00:14<01:42, 26.11it/s]\u001b[A\n",
      " 11%|█         | 329/3000 [00:14<01:38, 26.98it/s]\u001b[A\n",
      " 11%|█         | 332/3000 [00:14<01:52, 23.67it/s]\u001b[A\n",
      " 11%|█         | 336/3000 [00:14<01:43, 25.76it/s]\u001b[A\n",
      " 11%|█▏        | 339/3000 [00:14<01:52, 23.68it/s]\u001b[A\n",
      " 11%|█▏        | 342/3000 [00:14<02:02, 21.78it/s]\u001b[A\n",
      " 12%|█▏        | 345/3000 [00:15<01:56, 22.74it/s]\u001b[A\n",
      " 12%|█▏        | 348/3000 [00:15<01:52, 23.65it/s]\u001b[A\n",
      " 12%|█▏        | 352/3000 [00:15<01:42, 25.89it/s]\u001b[A\n",
      " 12%|█▏        | 355/3000 [00:15<01:45, 25.17it/s]\u001b[A\n",
      " 12%|█▏        | 358/3000 [00:15<01:41, 26.04it/s]\u001b[A\n",
      " 12%|█▏        | 361/3000 [00:15<01:39, 26.51it/s]\u001b[A\n",
      " 12%|█▏        | 364/3000 [00:15<01:51, 23.57it/s]\u001b[A\n",
      " 12%|█▏        | 367/3000 [00:15<01:52, 23.37it/s]\u001b[A\n",
      " 12%|█▏        | 371/3000 [00:16<01:38, 26.59it/s]\u001b[A\n",
      " 12%|█▏        | 374/3000 [00:16<01:46, 24.70it/s]\u001b[A\n",
      " 13%|█▎        | 377/3000 [00:16<01:55, 22.65it/s]\u001b[A\n",
      " 13%|█▎        | 381/3000 [00:16<01:44, 25.14it/s]\u001b[A\n",
      " 13%|█▎        | 385/3000 [00:16<01:36, 26.99it/s]\u001b[A\n",
      " 13%|█▎        | 388/3000 [00:16<01:37, 26.69it/s]\u001b[A\n",
      " 13%|█▎        | 391/3000 [00:16<01:39, 26.35it/s]\u001b[A\n",
      " 13%|█▎        | 395/3000 [00:16<01:29, 28.97it/s]\u001b[A\n",
      " 13%|█▎        | 398/3000 [00:17<01:42, 25.35it/s]\u001b[A\n",
      " 13%|█▎        | 401/3000 [00:17<02:52, 15.05it/s]\u001b[A\n",
      " 14%|█▎        | 405/3000 [00:17<03:07, 13.83it/s]\u001b[A\n",
      " 14%|█▎        | 408/3000 [00:17<02:43, 15.85it/s]\u001b[A\n",
      " 14%|█▎        | 412/3000 [00:18<02:29, 17.26it/s]\u001b[A\n",
      " 14%|█▍        | 415/3000 [00:18<02:16, 18.90it/s]\u001b[A\n",
      " 14%|█▍        | 418/3000 [00:18<02:05, 20.54it/s]\u001b[A\n",
      " 14%|█▍        | 421/3000 [00:18<01:57, 21.96it/s]\u001b[A\n",
      " 14%|█▍        | 424/3000 [00:18<01:51, 23.00it/s]\u001b[A\n",
      " 14%|█▍        | 427/3000 [00:18<01:46, 24.16it/s]\u001b[A\n",
      " 14%|█▍        | 431/3000 [00:18<01:40, 25.48it/s]\u001b[A\n",
      " 14%|█▍        | 435/3000 [00:18<01:31, 28.10it/s]\u001b[A\n",
      " 15%|█▍        | 439/3000 [00:19<01:25, 29.78it/s]\u001b[A\n",
      " 15%|█▍        | 443/3000 [00:19<01:21, 31.25it/s]\u001b[A\n",
      " 15%|█▍        | 447/3000 [00:19<01:21, 31.14it/s]\u001b[A\n",
      " 15%|█▌        | 451/3000 [00:19<01:29, 28.54it/s]\u001b[A\n",
      " 15%|█▌        | 454/3000 [00:19<01:43, 24.52it/s]\u001b[A\n",
      " 15%|█▌        | 458/3000 [00:19<01:34, 26.81it/s]\u001b[A\n",
      " 15%|█▌        | 461/3000 [00:19<01:48, 23.47it/s]\u001b[A\n",
      " 15%|█▌        | 464/3000 [00:20<02:09, 19.55it/s]\u001b[A\n",
      " 16%|█▌        | 467/3000 [00:20<02:01, 20.84it/s]\u001b[A\n",
      " 16%|█▌        | 470/3000 [00:20<01:52, 22.41it/s]\u001b[A\n",
      " 16%|█▌        | 473/3000 [00:20<01:48, 23.35it/s]\u001b[A\n",
      " 16%|█▌        | 477/3000 [00:20<01:40, 25.11it/s]\u001b[A\n",
      " 16%|█▌        | 480/3000 [00:20<02:12, 19.03it/s]\u001b[A\n",
      " 16%|█▌        | 483/3000 [00:21<02:34, 16.33it/s]\u001b[A\n",
      " 16%|█▌        | 485/3000 [00:21<02:44, 15.33it/s]\u001b[A\n",
      " 16%|█▋        | 488/3000 [00:21<02:59, 13.98it/s]\u001b[A\n",
      " 16%|█▋        | 491/3000 [00:21<02:43, 15.32it/s]\u001b[A\n",
      " 16%|█▋        | 494/3000 [00:21<02:34, 16.17it/s]\u001b[A\n",
      " 17%|█▋        | 497/3000 [00:22<02:16, 18.34it/s]\u001b[A\n",
      " 17%|█▋        | 502/3000 [00:22<01:46, 23.40it/s]\u001b[A\n",
      " 17%|█▋        | 505/3000 [00:22<01:42, 24.36it/s]\u001b[A\n",
      " 17%|█▋        | 509/3000 [00:22<01:40, 24.82it/s]\u001b[A\n"
     ]
    },
    {
     "name": "stderr",
     "output_type": "stream",
     "text": [
      " 17%|█▋        | 513/3000 [00:22<01:46, 23.30it/s]\u001b[A\n",
      " 17%|█▋        | 516/3000 [00:22<01:42, 24.14it/s]\u001b[A\n",
      " 17%|█▋        | 519/3000 [00:22<01:55, 21.56it/s]\u001b[A\n",
      " 17%|█▋        | 522/3000 [00:22<01:46, 23.28it/s]\u001b[A\n",
      " 18%|█▊        | 526/3000 [00:23<01:31, 26.89it/s]\u001b[A\n",
      " 18%|█▊        | 530/3000 [00:23<01:25, 28.88it/s]\u001b[A\n",
      " 18%|█▊        | 534/3000 [00:23<01:46, 23.16it/s]\u001b[A\n",
      " 18%|█▊        | 538/3000 [00:23<01:44, 23.63it/s]\u001b[A\n",
      " 18%|█▊        | 541/3000 [00:23<01:45, 23.21it/s]\u001b[A\n",
      " 18%|█▊        | 545/3000 [00:23<01:34, 26.05it/s]\u001b[A\n",
      " 18%|█▊        | 548/3000 [00:24<01:35, 25.70it/s]\u001b[A\n",
      " 18%|█▊        | 551/3000 [00:24<02:30, 16.27it/s]\u001b[A\n",
      " 18%|█▊        | 555/3000 [00:24<02:05, 19.47it/s]\u001b[A\n",
      " 19%|█▊        | 559/3000 [00:24<01:46, 22.92it/s]\u001b[A\n",
      " 19%|█▊        | 562/3000 [00:24<01:43, 23.54it/s]\u001b[A\n",
      " 19%|█▉        | 565/3000 [00:24<01:38, 24.66it/s]\u001b[A\n",
      " 19%|█▉        | 569/3000 [00:24<01:32, 26.17it/s]\u001b[A\n",
      " 19%|█▉        | 572/3000 [00:25<01:30, 26.80it/s]\u001b[A\n",
      " 19%|█▉        | 576/3000 [00:25<01:20, 29.94it/s]\u001b[A\n",
      " 19%|█▉        | 580/3000 [00:25<01:20, 30.01it/s]\u001b[A\n",
      " 19%|█▉        | 584/3000 [00:25<01:18, 30.90it/s]\u001b[A\n",
      " 20%|█▉        | 588/3000 [00:25<01:33, 25.75it/s]\u001b[A\n",
      " 20%|█▉        | 591/3000 [00:25<01:44, 23.09it/s]\u001b[A\n",
      " 20%|█▉        | 594/3000 [00:26<02:54, 13.77it/s]\u001b[A\n",
      " 20%|█▉        | 598/3000 [00:26<02:22, 16.87it/s]\u001b[A\n",
      " 20%|██        | 602/3000 [00:26<02:17, 17.46it/s]\u001b[A\n",
      " 20%|██        | 605/3000 [00:26<02:36, 15.32it/s]\u001b[A\n",
      " 20%|██        | 608/3000 [00:26<02:18, 17.30it/s]\u001b[A\n",
      " 20%|██        | 611/3000 [00:27<02:45, 14.42it/s]\u001b[A\n",
      " 20%|██        | 615/3000 [00:27<02:11, 18.08it/s]\u001b[A\n",
      " 21%|██        | 619/3000 [00:27<01:50, 21.55it/s]\u001b[A\n",
      " 21%|██        | 622/3000 [00:27<02:00, 19.67it/s]\u001b[A\n",
      " 21%|██        | 626/3000 [00:28<02:23, 16.56it/s]\u001b[A\n",
      " 21%|██        | 630/3000 [00:28<01:57, 20.25it/s]\u001b[A\n",
      " 21%|██        | 633/3000 [00:28<02:10, 18.16it/s]\u001b[A\n",
      " 21%|██        | 636/3000 [00:28<02:23, 16.50it/s]\u001b[A\n",
      " 21%|██▏       | 638/3000 [00:28<02:18, 17.08it/s]\u001b[A\n",
      " 21%|██▏       | 641/3000 [00:28<02:03, 19.15it/s]\u001b[A\n",
      " 21%|██▏       | 644/3000 [00:29<02:38, 14.88it/s]\u001b[A\n",
      " 22%|██▏       | 648/3000 [00:29<02:05, 18.81it/s]\u001b[A\n",
      " 22%|██▏       | 651/3000 [00:29<02:01, 19.37it/s]\u001b[A\n",
      " 22%|██▏       | 654/3000 [00:29<02:08, 18.27it/s]\u001b[A\n",
      " 22%|██▏       | 657/3000 [00:29<02:00, 19.43it/s]\u001b[A\n",
      " 22%|██▏       | 660/3000 [00:29<01:48, 21.60it/s]\u001b[A\n",
      " 22%|██▏       | 663/3000 [00:29<01:47, 21.75it/s]\u001b[A\n",
      " 22%|██▏       | 666/3000 [00:30<01:44, 22.39it/s]\u001b[A\n",
      " 22%|██▏       | 669/3000 [00:30<01:40, 23.24it/s]\u001b[A\n",
      " 22%|██▏       | 672/3000 [00:30<01:34, 24.61it/s]\u001b[A\n",
      " 23%|██▎       | 676/3000 [00:30<01:24, 27.63it/s]\u001b[A\n",
      " 23%|██▎       | 679/3000 [00:30<01:31, 25.47it/s]\u001b[A\n",
      " 23%|██▎       | 682/3000 [00:30<01:29, 25.96it/s]\u001b[A\n",
      " 23%|██▎       | 685/3000 [00:30<01:27, 26.55it/s]\u001b[A\n",
      " 23%|██▎       | 689/3000 [00:30<01:21, 28.53it/s]\u001b[A\n",
      " 23%|██▎       | 692/3000 [00:31<01:34, 24.49it/s]\u001b[A\n",
      " 23%|██▎       | 695/3000 [00:31<01:42, 22.59it/s]\u001b[A\n",
      " 23%|██▎       | 698/3000 [00:31<01:44, 21.99it/s]\u001b[A\n",
      " 23%|██▎       | 701/3000 [00:31<01:44, 21.92it/s]\u001b[A\n",
      " 23%|██▎       | 704/3000 [00:31<01:42, 22.34it/s]\u001b[A\n",
      " 24%|██▎       | 707/3000 [00:31<01:38, 23.24it/s]\u001b[A\n",
      " 24%|██▎       | 710/3000 [00:31<01:33, 24.41it/s]\u001b[A\n",
      " 24%|██▍       | 713/3000 [00:31<01:32, 24.69it/s]\u001b[A\n",
      " 24%|██▍       | 716/3000 [00:32<01:43, 22.12it/s]\u001b[A\n",
      " 24%|██▍       | 719/3000 [00:32<02:03, 18.41it/s]\u001b[A\n",
      " 24%|██▍       | 721/3000 [00:32<02:18, 16.46it/s]\u001b[A\n",
      " 24%|██▍       | 724/3000 [00:32<02:04, 18.22it/s]\u001b[A\n",
      " 24%|██▍       | 727/3000 [00:32<02:08, 17.68it/s]\u001b[A\n",
      " 24%|██▍       | 729/3000 [00:32<02:13, 17.05it/s]\u001b[A\n",
      " 24%|██▍       | 733/3000 [00:33<01:48, 20.89it/s]\u001b[A\n",
      " 25%|██▍       | 736/3000 [00:33<01:43, 21.81it/s]\u001b[A\n",
      " 25%|██▍       | 739/3000 [00:33<01:57, 19.20it/s]\u001b[A\n",
      " 25%|██▍       | 742/3000 [00:33<01:52, 20.16it/s]\u001b[A\n",
      " 25%|██▍       | 746/3000 [00:33<01:46, 21.14it/s]\u001b[A\n",
      " 25%|██▍       | 749/3000 [00:33<01:49, 20.54it/s]\u001b[A\n",
      " 25%|██▌       | 752/3000 [00:33<01:45, 21.40it/s]\u001b[A\n",
      " 25%|██▌       | 755/3000 [00:34<01:37, 23.02it/s]\u001b[A\n",
      " 25%|██▌       | 758/3000 [00:34<01:35, 23.40it/s]\u001b[A\n",
      " 25%|██▌       | 761/3000 [00:34<01:45, 21.19it/s]\u001b[A\n",
      " 26%|██▌       | 765/3000 [00:34<01:32, 24.09it/s]\u001b[A\n",
      " 26%|██▌       | 768/3000 [00:34<01:35, 23.49it/s]\u001b[A\n",
      " 26%|██▌       | 772/3000 [00:34<01:26, 25.79it/s]\u001b[A\n",
      " 26%|██▌       | 776/3000 [00:34<01:20, 27.46it/s]\u001b[A\n",
      " 26%|██▌       | 779/3000 [00:35<01:31, 24.18it/s]\u001b[A\n",
      " 26%|██▌       | 782/3000 [00:35<01:31, 24.16it/s]\u001b[A\n",
      " 26%|██▌       | 786/3000 [00:35<01:23, 26.38it/s]\u001b[A\n",
      " 26%|██▋       | 789/3000 [00:35<01:21, 27.11it/s]\u001b[A\n",
      " 26%|██▋       | 792/3000 [00:35<01:21, 27.00it/s]\u001b[A\n",
      " 27%|██▋       | 796/3000 [00:35<01:17, 28.33it/s]\u001b[A\n",
      " 27%|██▋       | 800/3000 [00:35<01:12, 30.18it/s]\u001b[A\n",
      " 27%|██▋       | 804/3000 [00:35<01:16, 28.63it/s]\u001b[A\n",
      " 27%|██▋       | 808/3000 [00:36<01:15, 29.12it/s]\u001b[A\n",
      " 27%|██▋       | 811/3000 [00:36<01:16, 28.46it/s]\u001b[A\n",
      " 27%|██▋       | 814/3000 [00:36<01:35, 22.81it/s]\u001b[A\n",
      " 27%|██▋       | 818/3000 [00:36<01:23, 26.21it/s]\u001b[A\n",
      " 27%|██▋       | 821/3000 [00:36<01:25, 25.37it/s]\u001b[A\n",
      " 28%|██▊       | 825/3000 [00:36<01:23, 26.06it/s]\u001b[A\n",
      " 28%|██▊       | 829/3000 [00:36<01:14, 29.28it/s]\u001b[A\n",
      " 28%|██▊       | 833/3000 [00:37<01:22, 26.14it/s]\u001b[A\n",
      " 28%|██▊       | 836/3000 [00:37<01:29, 24.23it/s]\u001b[A\n",
      " 28%|██▊       | 840/3000 [00:37<01:21, 26.45it/s]\u001b[A\n",
      " 28%|██▊       | 843/3000 [00:37<01:26, 25.08it/s]\u001b[A\n",
      " 28%|██▊       | 847/3000 [00:37<01:17, 27.62it/s]\u001b[A\n",
      " 28%|██▊       | 850/3000 [00:37<01:52, 19.08it/s]\u001b[A\n",
      " 28%|██▊       | 853/3000 [00:37<01:48, 19.83it/s]\u001b[A\n",
      " 29%|██▊       | 856/3000 [00:38<02:19, 15.32it/s]\u001b[A\n",
      " 29%|██▊       | 858/3000 [00:38<02:13, 16.03it/s]\u001b[A\n",
      " 29%|██▊       | 861/3000 [00:38<01:58, 18.09it/s]\u001b[A\n",
      " 29%|██▉       | 864/3000 [00:38<01:45, 20.23it/s]\u001b[A\n",
      " 29%|██▉       | 867/3000 [00:38<02:04, 17.11it/s]\u001b[A\n",
      " 29%|██▉       | 870/3000 [00:38<01:54, 18.53it/s]\u001b[A\n",
      " 29%|██▉       | 874/3000 [00:39<01:44, 20.32it/s]\u001b[A\n",
      " 29%|██▉       | 877/3000 [00:39<01:37, 21.84it/s]\u001b[A\n",
      " 29%|██▉       | 880/3000 [00:39<01:56, 18.23it/s]\u001b[A\n",
      " 29%|██▉       | 883/3000 [00:39<01:43, 20.50it/s]\u001b[A\n",
      " 30%|██▉       | 887/3000 [00:39<01:29, 23.70it/s]\u001b[A\n",
      " 30%|██▉       | 890/3000 [00:39<01:24, 25.10it/s]\u001b[A\n",
      " 30%|██▉       | 893/3000 [00:39<01:22, 25.63it/s]\u001b[A\n",
      " 30%|██▉       | 897/3000 [00:40<01:19, 26.51it/s]\u001b[A\n",
      " 30%|███       | 901/3000 [00:40<01:18, 26.73it/s]\u001b[A\n",
      " 30%|███       | 905/3000 [00:40<01:11, 29.15it/s]\u001b[A\n",
      " 30%|███       | 909/3000 [00:40<01:09, 30.26it/s]\u001b[A\n",
      " 30%|███       | 913/3000 [00:40<01:33, 22.39it/s]\u001b[A\n",
      " 31%|███       | 916/3000 [00:40<01:37, 21.47it/s]\u001b[A\n",
      " 31%|███       | 919/3000 [00:41<01:58, 17.50it/s]\u001b[A\n",
      " 31%|███       | 923/3000 [00:41<01:44, 19.79it/s]\u001b[A\n",
      " 31%|███       | 926/3000 [00:41<01:43, 19.95it/s]\u001b[A\n",
      " 31%|███       | 930/3000 [00:41<01:28, 23.29it/s]\u001b[A\n",
      " 31%|███       | 934/3000 [00:41<01:20, 25.74it/s]\u001b[A\n",
      " 31%|███▏      | 938/3000 [00:41<01:12, 28.58it/s]\u001b[A\n",
      " 31%|███▏      | 942/3000 [00:42<01:43, 19.88it/s]\u001b[A\n",
      " 32%|███▏      | 945/3000 [00:42<01:45, 19.40it/s]\u001b[A\n",
      " 32%|███▏      | 948/3000 [00:42<02:09, 15.90it/s]\u001b[A\n",
      " 32%|███▏      | 951/3000 [00:42<01:54, 17.95it/s]\u001b[A\n",
      " 32%|███▏      | 954/3000 [00:42<01:49, 18.73it/s]\u001b[A\n",
      " 32%|███▏      | 958/3000 [00:43<01:47, 18.95it/s]\u001b[A\n",
      " 32%|███▏      | 962/3000 [00:43<01:32, 22.07it/s]\u001b[A\n",
      " 32%|███▏      | 966/3000 [00:43<01:27, 23.16it/s]\u001b[A\n",
      " 32%|███▏      | 970/3000 [00:43<01:52, 18.00it/s]\u001b[A\n",
      " 32%|███▏      | 974/3000 [00:43<01:36, 21.08it/s]\u001b[A\n",
      " 33%|███▎      | 977/3000 [00:43<01:31, 22.09it/s]\u001b[A\n",
      " 33%|███▎      | 981/3000 [00:44<02:10, 15.50it/s]\u001b[A\n",
      " 33%|███▎      | 984/3000 [00:44<01:55, 17.47it/s]\u001b[A\n",
      " 33%|███▎      | 987/3000 [00:44<01:43, 19.45it/s]\u001b[A\n",
      " 33%|███▎      | 990/3000 [00:44<01:35, 21.08it/s]\u001b[A\n",
      " 33%|███▎      | 993/3000 [00:44<01:47, 18.69it/s]\u001b[A\n",
      " 33%|███▎      | 996/3000 [00:44<01:42, 19.54it/s]\u001b[A\n",
      " 33%|███▎      | 999/3000 [00:45<02:10, 15.36it/s]\u001b[A\n",
      " 33%|███▎      | 1003/3000 [00:45<01:43, 19.21it/s]\u001b[A\n",
      " 34%|███▎      | 1006/3000 [00:45<01:44, 19.16it/s]\u001b[A\n",
      " 34%|███▎      | 1009/3000 [00:45<01:46, 18.63it/s]\u001b[A\n",
      " 34%|███▎      | 1012/3000 [00:45<01:37, 20.30it/s]\u001b[A\n",
      " 34%|███▍      | 1016/3000 [00:45<01:21, 24.39it/s]\u001b[A\n"
     ]
    },
    {
     "name": "stderr",
     "output_type": "stream",
     "text": [
      " 34%|███▍      | 1020/3000 [00:46<01:16, 25.74it/s]\u001b[A\n",
      " 34%|███▍      | 1023/3000 [00:46<01:18, 25.16it/s]\u001b[A\n",
      " 34%|███▍      | 1026/3000 [00:46<01:21, 24.22it/s]\u001b[A\n",
      " 34%|███▍      | 1030/3000 [00:46<01:18, 25.19it/s]\u001b[A\n",
      " 34%|███▍      | 1034/3000 [00:46<01:08, 28.56it/s]\u001b[A\n",
      " 35%|███▍      | 1038/3000 [00:46<01:03, 30.78it/s]\u001b[A\n",
      " 35%|███▍      | 1042/3000 [00:46<01:05, 29.97it/s]\u001b[A\n",
      " 35%|███▍      | 1046/3000 [00:47<01:19, 24.44it/s]\u001b[A\n",
      " 35%|███▍      | 1049/3000 [00:47<01:25, 22.73it/s]\u001b[A\n",
      " 35%|███▌      | 1052/3000 [00:47<01:22, 23.65it/s]\u001b[A\n",
      " 35%|███▌      | 1055/3000 [00:47<01:20, 24.17it/s]\u001b[A\n",
      " 35%|███▌      | 1058/3000 [00:47<01:27, 22.17it/s]\u001b[A\n",
      " 35%|███▌      | 1061/3000 [00:47<01:24, 22.92it/s]\u001b[A\n",
      " 35%|███▌      | 1064/3000 [00:47<01:23, 23.08it/s]\u001b[A\n",
      " 36%|███▌      | 1068/3000 [00:47<01:15, 25.72it/s]\u001b[A\n",
      " 36%|███▌      | 1071/3000 [00:48<01:28, 21.71it/s]\u001b[A\n",
      " 36%|███▌      | 1074/3000 [00:48<01:30, 21.20it/s]\u001b[A\n",
      " 36%|███▌      | 1078/3000 [00:48<01:17, 24.83it/s]\u001b[A\n",
      " 36%|███▌      | 1081/3000 [00:48<01:28, 21.73it/s]\u001b[A\n",
      " 36%|███▌      | 1084/3000 [00:48<01:26, 22.21it/s]\u001b[A\n",
      " 36%|███▋      | 1088/3000 [00:48<01:22, 23.29it/s]\u001b[A\n",
      " 36%|███▋      | 1091/3000 [00:49<01:22, 23.20it/s]\u001b[A\n",
      " 36%|███▋      | 1095/3000 [00:49<01:15, 25.11it/s]\u001b[A\n",
      " 37%|███▋      | 1098/3000 [00:49<01:30, 21.13it/s]\u001b[A\n",
      " 37%|███▋      | 1102/3000 [00:49<01:21, 23.15it/s]\u001b[A\n",
      " 37%|███▋      | 1105/3000 [00:49<01:17, 24.42it/s]\u001b[A\n",
      " 37%|███▋      | 1108/3000 [00:49<01:17, 24.35it/s]\u001b[A\n",
      " 37%|███▋      | 1111/3000 [00:49<01:23, 22.52it/s]\u001b[A\n",
      " 37%|███▋      | 1114/3000 [00:50<01:19, 23.80it/s]\u001b[A\n",
      " 37%|███▋      | 1117/3000 [00:50<01:15, 25.10it/s]\u001b[A\n",
      " 37%|███▋      | 1120/3000 [00:50<01:13, 25.72it/s]\u001b[A\n",
      " 37%|███▋      | 1123/3000 [00:50<01:13, 25.41it/s]\u001b[A\n",
      " 38%|███▊      | 1126/3000 [00:50<01:10, 26.62it/s]\u001b[A\n",
      " 38%|███▊      | 1130/3000 [00:50<01:06, 28.27it/s]\u001b[A\n",
      " 38%|███▊      | 1133/3000 [00:50<01:07, 27.46it/s]\u001b[A\n",
      " 38%|███▊      | 1137/3000 [00:50<01:25, 21.71it/s]\u001b[A\n",
      " 38%|███▊      | 1141/3000 [00:51<01:15, 24.66it/s]\u001b[A\n",
      " 38%|███▊      | 1144/3000 [00:51<01:14, 25.08it/s]\u001b[A\n",
      " 38%|███▊      | 1147/3000 [00:51<01:12, 25.62it/s]\u001b[A\n",
      " 38%|███▊      | 1150/3000 [00:51<01:11, 25.77it/s]\u001b[A\n",
      " 38%|███▊      | 1153/3000 [00:51<01:18, 23.65it/s]\u001b[A\n",
      " 39%|███▊      | 1156/3000 [00:51<01:33, 19.81it/s]\u001b[A\n",
      " 39%|███▊      | 1159/3000 [00:51<01:27, 21.08it/s]\u001b[A\n",
      " 39%|███▊      | 1162/3000 [00:52<01:23, 22.12it/s]\u001b[A\n",
      " 39%|███▉      | 1165/3000 [00:52<01:23, 22.08it/s]\u001b[A\n",
      " 39%|███▉      | 1168/3000 [00:52<01:18, 23.34it/s]\u001b[A\n",
      " 39%|███▉      | 1171/3000 [00:52<01:21, 22.53it/s]\u001b[A\n",
      " 39%|███▉      | 1174/3000 [00:52<01:21, 22.34it/s]\u001b[A\n",
      " 39%|███▉      | 1177/3000 [00:52<01:17, 23.42it/s]\u001b[A\n",
      " 39%|███▉      | 1182/3000 [00:52<01:03, 28.63it/s]\u001b[A\n",
      " 40%|███▉      | 1185/3000 [00:52<01:07, 27.01it/s]\u001b[A\n",
      " 40%|███▉      | 1188/3000 [00:53<01:31, 19.84it/s]\u001b[A\n",
      " 40%|███▉      | 1191/3000 [00:53<01:24, 21.32it/s]\u001b[A\n",
      " 40%|███▉      | 1195/3000 [00:53<01:14, 24.38it/s]\u001b[A\n",
      " 40%|███▉      | 1198/3000 [00:53<01:12, 24.74it/s]\u001b[A\n",
      " 40%|████      | 1201/3000 [00:53<01:13, 24.62it/s]\u001b[A\n",
      " 40%|████      | 1204/3000 [00:53<01:10, 25.58it/s]\u001b[A\n",
      " 40%|████      | 1207/3000 [00:53<01:19, 22.69it/s]\u001b[A\n",
      " 40%|████      | 1210/3000 [00:54<01:16, 23.53it/s]\u001b[A\n",
      " 40%|████      | 1213/3000 [00:54<01:41, 17.58it/s]\u001b[A\n",
      " 41%|████      | 1217/3000 [00:54<01:22, 21.66it/s]\u001b[A\n",
      " 41%|████      | 1220/3000 [00:54<01:17, 23.03it/s]\u001b[A\n",
      " 41%|████      | 1223/3000 [00:54<01:12, 24.45it/s]\u001b[A\n",
      " 41%|████      | 1226/3000 [00:54<01:12, 24.42it/s]\u001b[A\n",
      " 41%|████      | 1229/3000 [00:54<01:25, 20.66it/s]\u001b[A\n",
      " 41%|████      | 1233/3000 [00:55<01:23, 21.06it/s]\u001b[A\n",
      " 41%|████      | 1237/3000 [00:55<01:14, 23.56it/s]\u001b[A\n",
      " 41%|████▏     | 1240/3000 [00:55<01:12, 24.22it/s]\u001b[A\n",
      " 41%|████▏     | 1243/3000 [00:55<01:11, 24.72it/s]\u001b[A\n",
      " 42%|████▏     | 1247/3000 [00:55<01:27, 20.00it/s]\u001b[A\n",
      " 42%|████▏     | 1250/3000 [00:55<01:25, 20.48it/s]\u001b[A\n",
      " 42%|████▏     | 1253/3000 [00:56<01:28, 19.70it/s]\u001b[A\n",
      " 42%|████▏     | 1256/3000 [00:56<01:26, 20.22it/s]\u001b[A\n",
      " 42%|████▏     | 1259/3000 [00:56<01:31, 19.09it/s]\u001b[A\n",
      " 42%|████▏     | 1261/3000 [00:56<01:53, 15.30it/s]\u001b[A\n",
      " 42%|████▏     | 1265/3000 [00:56<01:29, 19.46it/s]\u001b[A\n",
      " 42%|████▏     | 1268/3000 [00:56<01:23, 20.86it/s]\u001b[A\n",
      " 42%|████▏     | 1271/3000 [00:57<01:51, 15.53it/s]\u001b[A\n",
      " 42%|████▏     | 1274/3000 [00:57<01:43, 16.60it/s]\u001b[A\n",
      " 43%|████▎     | 1277/3000 [00:57<01:32, 18.58it/s]\u001b[A\n",
      " 43%|████▎     | 1280/3000 [00:57<01:30, 19.01it/s]\u001b[A\n",
      " 43%|████▎     | 1283/3000 [00:57<01:21, 20.99it/s]\u001b[A\n",
      " 43%|████▎     | 1288/3000 [00:57<01:04, 26.39it/s]\u001b[A\n",
      " 43%|████▎     | 1291/3000 [00:57<01:11, 23.86it/s]\u001b[A\n",
      " 43%|████▎     | 1294/3000 [00:58<01:09, 24.46it/s]\u001b[A\n",
      " 43%|████▎     | 1297/3000 [00:58<01:22, 20.60it/s]\u001b[A\n",
      " 43%|████▎     | 1301/3000 [00:58<01:09, 24.58it/s]\u001b[A\n",
      " 43%|████▎     | 1304/3000 [00:58<01:11, 23.76it/s]\u001b[A\n",
      " 44%|████▎     | 1308/3000 [00:58<01:08, 24.55it/s]\u001b[A\n",
      " 44%|████▎     | 1311/3000 [00:58<01:18, 21.43it/s]\u001b[A\n",
      " 44%|████▍     | 1315/3000 [00:58<01:12, 23.39it/s]\u001b[A\n",
      " 44%|████▍     | 1318/3000 [00:59<01:23, 20.16it/s]\u001b[A\n",
      " 44%|████▍     | 1321/3000 [00:59<01:48, 15.53it/s]\u001b[A\n",
      " 44%|████▍     | 1324/3000 [00:59<01:40, 16.63it/s]\u001b[A\n",
      " 44%|████▍     | 1327/3000 [00:59<01:29, 18.78it/s]\u001b[A\n",
      " 44%|████▍     | 1330/3000 [01:00<01:41, 16.52it/s]\u001b[A\n",
      " 44%|████▍     | 1333/3000 [01:00<01:34, 17.66it/s]\u001b[A\n",
      " 44%|████▍     | 1335/3000 [01:00<01:49, 15.20it/s]\u001b[A\n",
      " 45%|████▍     | 1338/3000 [01:00<01:32, 17.96it/s]\u001b[A\n",
      " 45%|████▍     | 1342/3000 [01:00<01:13, 22.68it/s]\u001b[A\n",
      " 45%|████▍     | 1346/3000 [01:00<01:07, 24.46it/s]\u001b[A\n",
      " 45%|████▍     | 1349/3000 [01:00<01:08, 24.25it/s]\u001b[A\n",
      " 45%|████▌     | 1352/3000 [01:00<01:06, 24.91it/s]\u001b[A\n",
      " 45%|████▌     | 1355/3000 [01:01<01:04, 25.51it/s]\u001b[A\n",
      " 45%|████▌     | 1358/3000 [01:01<01:03, 25.88it/s]\u001b[A\n",
      " 45%|████▌     | 1361/3000 [01:01<01:04, 25.23it/s]\u001b[A\n",
      " 45%|████▌     | 1364/3000 [01:01<01:07, 24.23it/s]\u001b[A\n",
      " 46%|████▌     | 1367/3000 [01:01<01:08, 23.72it/s]\u001b[A\n",
      " 46%|████▌     | 1370/3000 [01:01<01:07, 23.98it/s]\u001b[A\n",
      " 46%|████▌     | 1373/3000 [01:01<01:07, 24.21it/s]\u001b[A\n",
      " 46%|████▌     | 1376/3000 [01:01<01:21, 20.05it/s]\u001b[A\n",
      " 46%|████▌     | 1379/3000 [01:02<01:21, 19.97it/s]\u001b[A\n",
      " 46%|████▌     | 1382/3000 [01:02<01:14, 21.60it/s]\u001b[A\n",
      " 46%|████▌     | 1386/3000 [01:02<01:07, 23.75it/s]\u001b[A\n",
      " 46%|████▋     | 1390/3000 [01:02<01:02, 25.82it/s]\u001b[A\n",
      " 46%|████▋     | 1394/3000 [01:02<01:00, 26.38it/s]\u001b[A\n",
      " 47%|████▋     | 1397/3000 [01:02<01:10, 22.75it/s]\u001b[A\n",
      " 47%|████▋     | 1400/3000 [01:02<01:06, 24.14it/s]\u001b[A\n",
      " 47%|████▋     | 1403/3000 [01:03<01:03, 25.15it/s]\u001b[A\n",
      " 47%|████▋     | 1406/3000 [01:03<01:03, 25.00it/s]\u001b[A\n",
      " 47%|████▋     | 1409/3000 [01:03<01:06, 23.95it/s]\u001b[A\n",
      " 47%|████▋     | 1412/3000 [01:03<01:07, 23.47it/s]\u001b[A\n",
      " 47%|████▋     | 1415/3000 [01:03<01:09, 22.93it/s]\u001b[A\n",
      " 47%|████▋     | 1418/3000 [01:03<01:08, 22.96it/s]\u001b[A\n",
      " 47%|████▋     | 1421/3000 [01:03<01:04, 24.60it/s]\u001b[A\n",
      " 48%|████▊     | 1425/3000 [01:03<00:57, 27.35it/s]\u001b[A\n",
      " 48%|████▊     | 1429/3000 [01:04<00:54, 28.86it/s]\u001b[A\n",
      " 48%|████▊     | 1433/3000 [01:04<00:53, 29.35it/s]\u001b[A\n",
      " 48%|████▊     | 1437/3000 [01:04<00:53, 29.37it/s]\u001b[A\n",
      " 48%|████▊     | 1440/3000 [01:04<00:55, 28.00it/s]\u001b[A\n",
      " 48%|████▊     | 1444/3000 [01:04<00:58, 26.64it/s]\u001b[A\n",
      " 48%|████▊     | 1447/3000 [01:04<00:59, 26.02it/s]\u001b[A\n",
      " 48%|████▊     | 1450/3000 [01:04<01:04, 24.18it/s]\u001b[A\n",
      " 48%|████▊     | 1453/3000 [01:05<01:09, 22.23it/s]\u001b[A\n",
      " 49%|████▊     | 1456/3000 [01:05<01:10, 21.81it/s]\u001b[A\n",
      " 49%|████▊     | 1459/3000 [01:05<01:05, 23.53it/s]\u001b[A\n",
      " 49%|████▊     | 1462/3000 [01:05<01:06, 22.99it/s]\u001b[A\n",
      " 49%|████▉     | 1465/3000 [01:05<01:04, 23.85it/s]\u001b[A\n",
      " 49%|████▉     | 1468/3000 [01:05<01:07, 22.80it/s]\u001b[A\n",
      " 49%|████▉     | 1472/3000 [01:05<00:58, 26.28it/s]\u001b[A\n",
      " 49%|████▉     | 1475/3000 [01:06<01:17, 19.70it/s]\u001b[A\n",
      " 49%|████▉     | 1479/3000 [01:06<01:07, 22.39it/s]\u001b[A\n",
      " 49%|████▉     | 1482/3000 [01:06<01:05, 23.08it/s]\u001b[A\n",
      " 50%|████▉     | 1485/3000 [01:06<01:03, 23.80it/s]\u001b[A\n",
      " 50%|████▉     | 1488/3000 [01:06<01:02, 24.17it/s]\u001b[A\n",
      " 50%|████▉     | 1491/3000 [01:06<00:59, 25.38it/s]\u001b[A\n",
      " 50%|████▉     | 1494/3000 [01:06<00:58, 25.74it/s]\u001b[A\n",
      " 50%|████▉     | 1497/3000 [01:06<00:58, 25.60it/s]\u001b[A\n"
     ]
    },
    {
     "name": "stderr",
     "output_type": "stream",
     "text": [
      " 50%|█████     | 1500/3000 [01:07<01:27, 17.21it/s]\u001b[A\n",
      " 50%|█████     | 1503/3000 [01:07<01:16, 19.66it/s]\u001b[A\n",
      " 50%|█████     | 1506/3000 [01:07<01:19, 18.69it/s]\u001b[A\n",
      " 50%|█████     | 1510/3000 [01:07<01:10, 21.00it/s]\u001b[A\n",
      " 50%|█████     | 1513/3000 [01:07<01:06, 22.51it/s]\u001b[A\n",
      " 51%|█████     | 1516/3000 [01:07<01:10, 21.12it/s]\u001b[A\n",
      " 51%|█████     | 1519/3000 [01:08<01:09, 21.43it/s]\u001b[A\n",
      " 51%|█████     | 1522/3000 [01:08<01:10, 20.83it/s]\u001b[A\n",
      " 51%|█████     | 1525/3000 [01:08<01:10, 20.95it/s]\u001b[A\n",
      " 51%|█████     | 1529/3000 [01:08<00:59, 24.89it/s]\u001b[A\n",
      " 51%|█████     | 1532/3000 [01:08<01:01, 24.04it/s]\u001b[A\n",
      " 51%|█████     | 1536/3000 [01:08<00:55, 26.42it/s]\u001b[A\n",
      " 51%|█████▏    | 1539/3000 [01:08<01:11, 20.41it/s]\u001b[A\n",
      " 51%|█████▏    | 1543/3000 [01:09<01:01, 23.85it/s]\u001b[A\n",
      " 52%|█████▏    | 1546/3000 [01:09<01:06, 21.80it/s]\u001b[A\n",
      " 52%|█████▏    | 1550/3000 [01:09<01:01, 23.43it/s]\u001b[A\n",
      " 52%|█████▏    | 1553/3000 [01:09<01:02, 23.12it/s]\u001b[A\n",
      " 52%|█████▏    | 1556/3000 [01:09<00:59, 24.29it/s]\u001b[A\n",
      " 52%|█████▏    | 1559/3000 [01:09<00:56, 25.53it/s]\u001b[A\n",
      " 52%|█████▏    | 1562/3000 [01:09<00:56, 25.39it/s]\u001b[A\n",
      " 52%|█████▏    | 1565/3000 [01:09<01:02, 22.95it/s]\u001b[A\n",
      " 52%|█████▏    | 1568/3000 [01:10<00:58, 24.40it/s]\u001b[A\n",
      " 52%|█████▏    | 1571/3000 [01:10<00:55, 25.74it/s]\u001b[A\n",
      " 52%|█████▎    | 1575/3000 [01:10<00:49, 28.60it/s]\u001b[A\n",
      " 53%|█████▎    | 1578/3000 [01:10<00:54, 25.88it/s]\u001b[A\n",
      " 53%|█████▎    | 1581/3000 [01:10<00:58, 24.15it/s]\u001b[A\n",
      " 53%|█████▎    | 1584/3000 [01:10<00:55, 25.39it/s]\u001b[A\n",
      " 53%|█████▎    | 1588/3000 [01:10<00:49, 28.28it/s]\u001b[A\n",
      " 53%|█████▎    | 1591/3000 [01:10<00:49, 28.42it/s]\u001b[A\n",
      " 53%|█████▎    | 1594/3000 [01:11<00:55, 25.21it/s]\u001b[A\n",
      " 53%|█████▎    | 1597/3000 [01:11<01:16, 18.26it/s]\u001b[A\n",
      " 53%|█████▎    | 1600/3000 [01:11<01:08, 20.30it/s]\u001b[A\n",
      " 53%|█████▎    | 1603/3000 [01:11<01:06, 21.17it/s]\u001b[A\n",
      " 54%|█████▎    | 1606/3000 [01:11<01:29, 15.54it/s]\u001b[A\n",
      " 54%|█████▎    | 1608/3000 [01:11<01:26, 16.15it/s]\u001b[A\n",
      " 54%|█████▎    | 1610/3000 [01:12<01:54, 12.12it/s]\u001b[A\n",
      " 54%|█████▍    | 1614/3000 [01:12<01:24, 16.38it/s]\u001b[A\n",
      " 54%|█████▍    | 1617/3000 [01:12<01:19, 17.45it/s]\u001b[A\n",
      " 54%|█████▍    | 1620/3000 [01:12<01:10, 19.64it/s]\u001b[A\n",
      " 54%|█████▍    | 1623/3000 [01:12<01:08, 19.97it/s]\u001b[A\n",
      " 54%|█████▍    | 1626/3000 [01:12<01:05, 20.92it/s]\u001b[A\n",
      " 54%|█████▍    | 1629/3000 [01:13<01:00, 22.64it/s]\u001b[A\n",
      " 54%|█████▍    | 1632/3000 [01:13<00:57, 23.84it/s]\u001b[A\n",
      " 55%|█████▍    | 1636/3000 [01:13<00:48, 27.90it/s]\u001b[A\n",
      " 55%|█████▍    | 1639/3000 [01:13<00:49, 27.45it/s]\u001b[A\n",
      " 55%|█████▍    | 1642/3000 [01:13<00:54, 25.10it/s]\u001b[A\n",
      " 55%|█████▍    | 1646/3000 [01:13<00:55, 24.42it/s]\u001b[A\n",
      " 55%|█████▍    | 1649/3000 [01:13<00:59, 22.85it/s]\u001b[A\n",
      " 55%|█████▌    | 1652/3000 [01:13<00:58, 22.94it/s]\u001b[A\n",
      " 55%|█████▌    | 1655/3000 [01:14<00:57, 23.26it/s]\u001b[A\n",
      " 55%|█████▌    | 1659/3000 [01:14<00:52, 25.57it/s]\u001b[A\n",
      " 55%|█████▌    | 1662/3000 [01:14<01:05, 20.40it/s]\u001b[A\n",
      " 56%|█████▌    | 1665/3000 [01:14<01:06, 20.22it/s]\u001b[A\n",
      " 56%|█████▌    | 1668/3000 [01:14<01:00, 21.99it/s]\u001b[A\n",
      " 56%|█████▌    | 1672/3000 [01:14<00:54, 24.27it/s]\u001b[A\n",
      " 56%|█████▌    | 1675/3000 [01:14<00:55, 23.97it/s]\u001b[A\n",
      " 56%|█████▌    | 1678/3000 [01:15<00:53, 24.72it/s]\u001b[A\n",
      " 56%|█████▌    | 1682/3000 [01:15<00:50, 26.09it/s]\u001b[A\n",
      " 56%|█████▌    | 1685/3000 [01:15<00:51, 25.75it/s]\u001b[A\n",
      " 56%|█████▋    | 1689/3000 [01:15<00:46, 28.43it/s]\u001b[A\n",
      " 56%|█████▋    | 1693/3000 [01:15<00:47, 27.78it/s]\u001b[A\n",
      " 57%|█████▋    | 1696/3000 [01:15<01:02, 21.01it/s]\u001b[A\n",
      " 57%|█████▋    | 1699/3000 [01:15<00:59, 21.70it/s]\u001b[A\n",
      " 57%|█████▋    | 1703/3000 [01:16<00:52, 24.86it/s]\u001b[A\n",
      " 57%|█████▋    | 1706/3000 [01:16<00:49, 25.97it/s]\u001b[A\n",
      " 57%|█████▋    | 1709/3000 [01:16<00:49, 25.99it/s]\u001b[A\n",
      " 57%|█████▋    | 1712/3000 [01:16<00:49, 26.00it/s]\u001b[A\n",
      " 57%|█████▋    | 1716/3000 [01:16<00:43, 29.56it/s]\u001b[A\n",
      " 57%|█████▋    | 1720/3000 [01:16<00:43, 29.51it/s]\u001b[A\n",
      " 57%|█████▋    | 1724/3000 [01:16<00:54, 23.29it/s]\u001b[A\n",
      " 58%|█████▊    | 1727/3000 [01:17<00:57, 22.15it/s]\u001b[A\n",
      " 58%|█████▊    | 1730/3000 [01:17<00:54, 23.12it/s]\u001b[A\n",
      " 58%|█████▊    | 1733/3000 [01:17<00:57, 22.01it/s]\u001b[A\n",
      " 58%|█████▊    | 1736/3000 [01:17<01:20, 15.73it/s]\u001b[A\n",
      " 58%|█████▊    | 1739/3000 [01:17<01:14, 16.96it/s]\u001b[A\n",
      " 58%|█████▊    | 1742/3000 [01:17<01:07, 18.60it/s]\u001b[A\n",
      " 58%|█████▊    | 1746/3000 [01:18<01:22, 15.26it/s]\u001b[A\n",
      " 58%|█████▊    | 1750/3000 [01:18<01:05, 19.09it/s]\u001b[A\n",
      " 58%|█████▊    | 1753/3000 [01:18<01:00, 20.62it/s]\u001b[A\n",
      " 59%|█████▊    | 1756/3000 [01:18<00:58, 21.14it/s]\u001b[A\n",
      " 59%|█████▊    | 1759/3000 [01:18<01:06, 18.54it/s]\u001b[A\n",
      " 59%|█████▊    | 1762/3000 [01:18<01:07, 18.36it/s]\u001b[A\n",
      " 59%|█████▉    | 1765/3000 [01:19<01:01, 19.93it/s]\u001b[A\n",
      " 59%|█████▉    | 1768/3000 [01:19<00:56, 21.78it/s]\u001b[A\n",
      " 59%|█████▉    | 1771/3000 [01:19<00:54, 22.71it/s]\u001b[A\n",
      " 59%|█████▉    | 1774/3000 [01:19<01:14, 16.46it/s]\u001b[A\n",
      " 59%|█████▉    | 1777/3000 [01:19<01:04, 18.98it/s]\u001b[A\n",
      " 59%|█████▉    | 1780/3000 [01:19<01:02, 19.38it/s]\u001b[A\n",
      " 59%|█████▉    | 1784/3000 [01:20<00:52, 23.10it/s]\u001b[A\n",
      " 60%|█████▉    | 1787/3000 [01:20<00:56, 21.45it/s]\u001b[A\n",
      " 60%|█████▉    | 1790/3000 [01:20<00:52, 23.07it/s]\u001b[A\n",
      " 60%|█████▉    | 1793/3000 [01:20<00:49, 24.42it/s]\u001b[A\n",
      " 60%|█████▉    | 1797/3000 [01:20<00:44, 26.84it/s]\u001b[A\n",
      " 60%|██████    | 1800/3000 [01:20<00:48, 24.92it/s]\u001b[A\n",
      " 60%|██████    | 1804/3000 [01:20<00:44, 27.07it/s]\u001b[A\n",
      " 60%|██████    | 1808/3000 [01:20<00:43, 27.57it/s]\u001b[A\n",
      " 60%|██████    | 1811/3000 [01:21<00:44, 27.01it/s]\u001b[A\n",
      " 60%|██████    | 1815/3000 [01:21<00:42, 27.86it/s]\u001b[A\n",
      " 61%|██████    | 1819/3000 [01:21<00:42, 28.03it/s]\u001b[A\n",
      " 61%|██████    | 1822/3000 [01:21<00:44, 26.54it/s]\u001b[A\n",
      " 61%|██████    | 1825/3000 [01:21<00:42, 27.37it/s]\u001b[A\n",
      " 61%|██████    | 1829/3000 [01:21<00:42, 27.87it/s]\u001b[A\n",
      " 61%|██████    | 1832/3000 [01:21<00:41, 28.33it/s]\u001b[A\n",
      " 61%|██████    | 1835/3000 [01:21<00:41, 27.82it/s]\u001b[A\n",
      " 61%|██████▏   | 1839/3000 [01:22<00:40, 28.52it/s]\u001b[A\n",
      " 61%|██████▏   | 1842/3000 [01:22<00:45, 25.57it/s]\u001b[A\n",
      " 62%|██████▏   | 1845/3000 [01:22<00:46, 24.81it/s]\u001b[A\n",
      " 62%|██████▏   | 1848/3000 [01:22<00:47, 24.13it/s]\u001b[A\n",
      " 62%|██████▏   | 1851/3000 [01:22<00:45, 25.51it/s]\u001b[A\n",
      " 62%|██████▏   | 1854/3000 [01:22<00:46, 24.47it/s]\u001b[A\n",
      " 62%|██████▏   | 1858/3000 [01:22<00:41, 27.60it/s]\u001b[A\n",
      " 62%|██████▏   | 1861/3000 [01:22<00:43, 25.96it/s]\u001b[A\n",
      " 62%|██████▏   | 1864/3000 [01:23<00:48, 23.53it/s]\u001b[A\n",
      " 62%|██████▏   | 1867/3000 [01:23<00:51, 22.13it/s]\u001b[A\n",
      " 62%|██████▏   | 1870/3000 [01:23<00:53, 21.11it/s]\u001b[A\n",
      " 62%|██████▏   | 1873/3000 [01:23<00:49, 22.96it/s]\u001b[A\n",
      " 63%|██████▎   | 1876/3000 [01:23<00:45, 24.45it/s]\u001b[A\n",
      " 63%|██████▎   | 1880/3000 [01:23<00:40, 27.81it/s]\u001b[A\n",
      " 63%|██████▎   | 1883/3000 [01:23<00:39, 28.34it/s]\u001b[A\n",
      " 63%|██████▎   | 1886/3000 [01:23<00:40, 27.72it/s]\u001b[A\n",
      " 63%|██████▎   | 1889/3000 [01:24<00:39, 28.23it/s]\u001b[A\n",
      " 63%|██████▎   | 1893/3000 [01:24<00:37, 29.59it/s]\u001b[A\n",
      " 63%|██████▎   | 1896/3000 [01:24<00:41, 26.74it/s]\u001b[A\n",
      " 63%|██████▎   | 1899/3000 [01:24<00:55, 19.75it/s]\u001b[A\n",
      " 63%|██████▎   | 1902/3000 [01:24<00:50, 21.82it/s]\u001b[A\n",
      " 64%|██████▎   | 1905/3000 [01:24<00:46, 23.38it/s]\u001b[A\n",
      " 64%|██████▎   | 1908/3000 [01:24<00:47, 22.79it/s]\u001b[A\n",
      " 64%|██████▎   | 1911/3000 [01:25<00:59, 18.32it/s]\u001b[A\n",
      " 64%|██████▍   | 1914/3000 [01:25<00:53, 20.49it/s]\u001b[A\n",
      " 64%|██████▍   | 1918/3000 [01:25<00:56, 19.19it/s]\u001b[A\n",
      " 64%|██████▍   | 1921/3000 [01:25<00:52, 20.50it/s]\u001b[A\n",
      " 64%|██████▍   | 1924/3000 [01:25<00:48, 21.98it/s]\u001b[A\n",
      " 64%|██████▍   | 1928/3000 [01:25<00:42, 25.45it/s]\u001b[A\n",
      " 64%|██████▍   | 1932/3000 [01:25<00:38, 27.53it/s]\u001b[A\n",
      " 64%|██████▍   | 1935/3000 [01:26<00:37, 28.07it/s]\u001b[A\n",
      " 65%|██████▍   | 1938/3000 [01:26<00:38, 27.86it/s]\u001b[A\n",
      " 65%|██████▍   | 1941/3000 [01:26<00:40, 26.40it/s]\u001b[A\n",
      " 65%|██████▍   | 1944/3000 [01:26<00:40, 25.98it/s]\u001b[A\n",
      " 65%|██████▍   | 1947/3000 [01:26<00:39, 26.87it/s]\u001b[A\n",
      " 65%|██████▌   | 1950/3000 [01:26<00:43, 24.10it/s]\u001b[A\n",
      " 65%|██████▌   | 1954/3000 [01:26<00:39, 26.56it/s]\u001b[A\n",
      " 65%|██████▌   | 1957/3000 [01:26<00:38, 26.97it/s]\u001b[A\n",
      " 65%|██████▌   | 1960/3000 [01:26<00:40, 25.82it/s]\u001b[A\n",
      " 65%|██████▌   | 1963/3000 [01:27<00:44, 23.54it/s]\u001b[A\n",
      " 66%|██████▌   | 1966/3000 [01:27<00:41, 24.85it/s]\u001b[A\n",
      " 66%|██████▌   | 1969/3000 [01:27<00:48, 21.36it/s]\u001b[A\n",
      " 66%|██████▌   | 1972/3000 [01:27<00:48, 21.18it/s]\u001b[A\n",
      " 66%|██████▌   | 1975/3000 [01:27<00:56, 18.22it/s]\u001b[A\n"
     ]
    },
    {
     "name": "stderr",
     "output_type": "stream",
     "text": [
      " 66%|██████▌   | 1978/3000 [01:27<00:55, 18.54it/s]\u001b[A\n",
      " 66%|██████▌   | 1981/3000 [01:28<00:48, 20.84it/s]\u001b[A\n",
      " 66%|██████▌   | 1984/3000 [01:28<00:46, 22.06it/s]\u001b[A\n",
      " 66%|██████▌   | 1987/3000 [01:28<00:57, 17.60it/s]\u001b[A\n",
      " 66%|██████▋   | 1989/3000 [01:28<00:59, 17.09it/s]\u001b[A\n",
      " 66%|██████▋   | 1992/3000 [01:28<00:55, 18.14it/s]\u001b[A\n",
      " 67%|██████▋   | 1996/3000 [01:28<00:46, 21.79it/s]\u001b[A\n",
      " 67%|██████▋   | 2001/3000 [01:28<00:39, 25.46it/s]\u001b[A\n",
      " 67%|██████▋   | 2005/3000 [01:29<00:35, 27.92it/s]\u001b[A\n",
      " 67%|██████▋   | 2008/3000 [01:29<00:36, 27.49it/s]\u001b[A\n",
      " 67%|██████▋   | 2011/3000 [01:29<00:42, 23.25it/s]\u001b[A\n",
      " 67%|██████▋   | 2015/3000 [01:29<00:37, 26.46it/s]\u001b[A\n",
      " 67%|██████▋   | 2018/3000 [01:29<00:40, 24.51it/s]\u001b[A\n",
      " 67%|██████▋   | 2021/3000 [01:29<00:40, 24.21it/s]\u001b[A\n",
      " 67%|██████▋   | 2024/3000 [01:29<00:47, 20.72it/s]\u001b[A\n",
      " 68%|██████▊   | 2027/3000 [01:30<00:52, 18.70it/s]\u001b[A\n",
      " 68%|██████▊   | 2031/3000 [01:30<00:43, 22.11it/s]\u001b[A\n",
      " 68%|██████▊   | 2034/3000 [01:30<00:41, 23.33it/s]\u001b[A\n",
      " 68%|██████▊   | 2037/3000 [01:30<00:46, 20.66it/s]\u001b[A\n",
      " 68%|██████▊   | 2041/3000 [01:30<00:39, 24.00it/s]\u001b[A\n",
      " 68%|██████▊   | 2045/3000 [01:30<00:37, 25.31it/s]\u001b[A\n",
      " 68%|██████▊   | 2048/3000 [01:30<00:39, 24.01it/s]\u001b[A\n",
      " 68%|██████▊   | 2051/3000 [01:31<00:42, 22.34it/s]\u001b[A\n",
      " 68%|██████▊   | 2055/3000 [01:31<00:38, 24.68it/s]\u001b[A\n",
      " 69%|██████▊   | 2058/3000 [01:31<00:36, 25.70it/s]\u001b[A\n",
      " 69%|██████▊   | 2062/3000 [01:31<00:33, 27.73it/s]\u001b[A\n",
      " 69%|██████▉   | 2065/3000 [01:31<00:43, 21.60it/s]\u001b[A\n",
      " 69%|██████▉   | 2068/3000 [01:31<00:41, 22.32it/s]\u001b[A\n",
      " 69%|██████▉   | 2072/3000 [01:31<00:38, 24.38it/s]\u001b[A\n",
      " 69%|██████▉   | 2075/3000 [01:32<00:36, 25.15it/s]\u001b[A\n",
      " 69%|██████▉   | 2079/3000 [01:32<00:33, 27.13it/s]\u001b[A\n",
      " 69%|██████▉   | 2082/3000 [01:32<00:35, 26.04it/s]\u001b[A\n",
      " 70%|██████▉   | 2085/3000 [01:32<00:39, 22.94it/s]\u001b[A\n",
      " 70%|██████▉   | 2089/3000 [01:32<00:36, 25.03it/s]\u001b[A\n",
      " 70%|██████▉   | 2092/3000 [01:32<00:36, 25.12it/s]\u001b[A\n",
      " 70%|██████▉   | 2096/3000 [01:32<00:32, 28.04it/s]\u001b[A\n",
      " 70%|██████▉   | 2099/3000 [01:32<00:31, 28.21it/s]\u001b[A\n",
      " 70%|███████   | 2103/3000 [01:33<00:30, 29.35it/s]\u001b[A\n",
      " 70%|███████   | 2106/3000 [01:33<00:41, 21.60it/s]\u001b[A\n",
      " 70%|███████   | 2110/3000 [01:33<00:45, 19.40it/s]\u001b[A\n",
      " 70%|███████   | 2113/3000 [01:33<00:42, 21.09it/s]\u001b[A\n",
      " 71%|███████   | 2116/3000 [01:33<00:38, 22.89it/s]\u001b[A\n",
      " 71%|███████   | 2119/3000 [01:33<00:36, 24.12it/s]\u001b[A\n",
      " 71%|███████   | 2122/3000 [01:34<00:39, 22.44it/s]\u001b[A\n",
      " 71%|███████   | 2126/3000 [01:34<00:33, 26.44it/s]\u001b[A\n",
      " 71%|███████   | 2130/3000 [01:34<00:30, 28.70it/s]\u001b[A\n",
      " 71%|███████   | 2134/3000 [01:34<00:29, 29.53it/s]\u001b[A\n",
      " 71%|███████▏  | 2138/3000 [01:34<00:36, 23.59it/s]\u001b[A\n",
      " 71%|███████▏  | 2141/3000 [01:34<00:35, 24.40it/s]\u001b[A\n",
      " 71%|███████▏  | 2144/3000 [01:34<00:37, 23.03it/s]\u001b[A\n",
      " 72%|███████▏  | 2148/3000 [01:35<00:33, 25.49it/s]\u001b[A\n",
      " 72%|███████▏  | 2152/3000 [01:35<00:30, 27.99it/s]\u001b[A\n",
      " 72%|███████▏  | 2155/3000 [01:35<00:31, 27.25it/s]\u001b[A\n",
      " 72%|███████▏  | 2158/3000 [01:35<00:38, 21.82it/s]\u001b[A\n",
      " 72%|███████▏  | 2161/3000 [01:35<00:37, 22.63it/s]\u001b[A\n",
      " 72%|███████▏  | 2164/3000 [01:35<00:35, 23.40it/s]\u001b[A\n",
      " 72%|███████▏  | 2167/3000 [01:35<00:34, 24.28it/s]\u001b[A\n",
      " 72%|███████▏  | 2170/3000 [01:35<00:33, 24.70it/s]\u001b[A\n",
      " 72%|███████▏  | 2173/3000 [01:36<00:34, 24.24it/s]\u001b[A\n",
      " 73%|███████▎  | 2176/3000 [01:36<00:33, 24.29it/s]\u001b[A\n",
      " 73%|███████▎  | 2179/3000 [01:36<00:33, 24.39it/s]\u001b[A\n",
      " 73%|███████▎  | 2183/3000 [01:36<00:34, 23.85it/s]\u001b[A\n",
      " 73%|███████▎  | 2186/3000 [01:36<00:34, 23.45it/s]\u001b[A\n",
      " 73%|███████▎  | 2189/3000 [01:36<00:33, 24.57it/s]\u001b[A\n",
      " 73%|███████▎  | 2192/3000 [01:36<00:31, 25.78it/s]\u001b[A\n",
      " 73%|███████▎  | 2195/3000 [01:36<00:31, 25.32it/s]\u001b[A\n",
      " 73%|███████▎  | 2198/3000 [01:37<00:34, 23.56it/s]\u001b[A\n",
      " 73%|███████▎  | 2201/3000 [01:37<00:40, 19.87it/s]\u001b[A\n",
      " 73%|███████▎  | 2204/3000 [01:37<00:36, 21.67it/s]\u001b[A\n",
      " 74%|███████▎  | 2208/3000 [01:37<00:33, 23.87it/s]\u001b[A\n",
      " 74%|███████▎  | 2212/3000 [01:37<00:30, 25.80it/s]\u001b[A\n",
      " 74%|███████▍  | 2216/3000 [01:37<00:30, 25.43it/s]\u001b[A\n",
      " 74%|███████▍  | 2219/3000 [01:37<00:30, 26.01it/s]\u001b[A\n",
      " 74%|███████▍  | 2222/3000 [01:38<00:34, 22.50it/s]\u001b[A\n",
      " 74%|███████▍  | 2225/3000 [01:38<00:39, 19.47it/s]\u001b[A\n",
      " 74%|███████▍  | 2228/3000 [01:38<00:38, 19.85it/s]\u001b[A\n",
      " 74%|███████▍  | 2231/3000 [01:38<00:36, 21.28it/s]\u001b[A\n",
      " 74%|███████▍  | 2234/3000 [01:38<00:33, 23.04it/s]\u001b[A\n",
      " 75%|███████▍  | 2238/3000 [01:38<00:31, 24.49it/s]\u001b[A\n",
      " 75%|███████▍  | 2241/3000 [01:38<00:30, 24.49it/s]\u001b[A\n",
      " 75%|███████▍  | 2244/3000 [01:39<00:31, 24.38it/s]\u001b[A\n",
      " 75%|███████▍  | 2247/3000 [01:39<00:30, 24.42it/s]\u001b[A\n",
      " 75%|███████▌  | 2250/3000 [01:39<00:29, 25.70it/s]\u001b[A\n",
      " 75%|███████▌  | 2253/3000 [01:39<00:28, 26.25it/s]\u001b[A\n",
      " 75%|███████▌  | 2256/3000 [01:39<00:28, 26.27it/s]\u001b[A\n",
      " 75%|███████▌  | 2259/3000 [01:39<00:30, 24.21it/s]\u001b[A\n",
      " 75%|███████▌  | 2262/3000 [01:39<00:30, 24.07it/s]\u001b[A\n",
      " 76%|███████▌  | 2265/3000 [01:39<00:28, 25.36it/s]\u001b[A\n",
      " 76%|███████▌  | 2269/3000 [01:40<00:26, 27.88it/s]\u001b[A\n",
      " 76%|███████▌  | 2272/3000 [01:40<00:26, 27.38it/s]\u001b[A\n",
      " 76%|███████▌  | 2275/3000 [01:40<00:29, 24.60it/s]\u001b[A\n",
      " 76%|███████▌  | 2278/3000 [01:40<00:28, 24.93it/s]\u001b[A\n",
      " 76%|███████▌  | 2281/3000 [01:40<00:39, 18.34it/s]\u001b[A\n",
      " 76%|███████▌  | 2284/3000 [01:40<00:36, 19.81it/s]\u001b[A\n",
      " 76%|███████▌  | 2287/3000 [01:41<00:50, 14.13it/s]\u001b[A\n",
      " 76%|███████▋  | 2291/3000 [01:41<00:40, 17.68it/s]\u001b[A\n",
      " 76%|███████▋  | 2295/3000 [01:41<00:33, 21.31it/s]\u001b[A\n",
      " 77%|███████▋  | 2298/3000 [01:41<00:32, 21.84it/s]\u001b[A\n",
      " 77%|███████▋  | 2301/3000 [01:41<00:32, 21.70it/s]\u001b[A\n",
      " 77%|███████▋  | 2304/3000 [01:41<00:31, 21.95it/s]\u001b[A\n",
      " 77%|███████▋  | 2307/3000 [01:42<00:35, 19.56it/s]\u001b[A\n",
      " 77%|███████▋  | 2311/3000 [01:42<00:36, 19.09it/s]\u001b[A\n",
      " 77%|███████▋  | 2314/3000 [01:42<00:33, 20.32it/s]\u001b[A\n",
      " 77%|███████▋  | 2318/3000 [01:42<00:28, 23.84it/s]\u001b[A\n",
      " 77%|███████▋  | 2322/3000 [01:42<00:26, 25.75it/s]\u001b[A\n",
      " 78%|███████▊  | 2326/3000 [01:42<00:24, 27.26it/s]\u001b[A\n",
      " 78%|███████▊  | 2330/3000 [01:42<00:24, 27.51it/s]\u001b[A\n",
      " 78%|███████▊  | 2333/3000 [01:43<00:25, 26.06it/s]\u001b[A\n",
      " 78%|███████▊  | 2336/3000 [01:43<00:25, 25.58it/s]\u001b[A\n",
      " 78%|███████▊  | 2339/3000 [01:43<00:25, 25.73it/s]\u001b[A\n",
      " 78%|███████▊  | 2343/3000 [01:43<00:24, 26.73it/s]\u001b[A\n",
      " 78%|███████▊  | 2346/3000 [01:43<00:24, 26.52it/s]\u001b[A\n",
      " 78%|███████▊  | 2350/3000 [01:43<00:22, 28.65it/s]\u001b[A\n",
      " 78%|███████▊  | 2353/3000 [01:43<00:22, 28.18it/s]\u001b[A\n",
      " 79%|███████▊  | 2356/3000 [01:43<00:24, 26.45it/s]\u001b[A\n",
      " 79%|███████▊  | 2359/3000 [01:43<00:23, 27.24it/s]\u001b[A\n",
      " 79%|███████▉  | 2363/3000 [01:44<00:22, 28.79it/s]\u001b[A\n",
      " 79%|███████▉  | 2366/3000 [01:44<00:25, 24.75it/s]\u001b[A\n",
      " 79%|███████▉  | 2369/3000 [01:44<00:25, 24.31it/s]\u001b[A\n",
      " 79%|███████▉  | 2373/3000 [01:44<00:23, 26.52it/s]\u001b[A\n",
      " 79%|███████▉  | 2377/3000 [01:44<00:21, 29.44it/s]\u001b[A\n",
      " 79%|███████▉  | 2381/3000 [01:44<00:20, 30.68it/s]\u001b[A\n",
      " 80%|███████▉  | 2385/3000 [01:45<00:28, 21.38it/s]\u001b[A\n",
      " 80%|███████▉  | 2388/3000 [01:45<00:26, 22.83it/s]\u001b[A\n",
      " 80%|███████▉  | 2391/3000 [01:45<00:25, 23.57it/s]\u001b[A\n",
      " 80%|███████▉  | 2394/3000 [01:45<00:24, 24.26it/s]\u001b[A\n",
      " 80%|███████▉  | 2397/3000 [01:45<00:23, 25.32it/s]\u001b[A\n",
      " 80%|████████  | 2400/3000 [01:45<00:36, 16.30it/s]\u001b[A\n",
      " 80%|████████  | 2403/3000 [01:45<00:33, 18.08it/s]\u001b[A\n",
      " 80%|████████  | 2406/3000 [01:46<00:29, 20.32it/s]\u001b[A\n",
      " 80%|████████  | 2410/3000 [01:46<00:26, 22.06it/s]\u001b[A\n",
      " 80%|████████  | 2413/3000 [01:46<00:25, 23.16it/s]\u001b[A\n",
      " 81%|████████  | 2416/3000 [01:46<00:24, 24.07it/s]\u001b[A\n",
      " 81%|████████  | 2419/3000 [01:46<00:25, 23.24it/s]\u001b[A\n",
      " 81%|████████  | 2423/3000 [01:46<00:22, 25.75it/s]\u001b[A\n",
      " 81%|████████  | 2427/3000 [01:46<00:20, 27.88it/s]\u001b[A\n",
      " 81%|████████  | 2431/3000 [01:46<00:19, 29.14it/s]\u001b[A\n",
      " 81%|████████  | 2435/3000 [01:47<00:18, 29.81it/s]\u001b[A\n",
      " 81%|████████▏ | 2439/3000 [01:47<00:24, 22.84it/s]\u001b[A\n",
      " 81%|████████▏ | 2443/3000 [01:47<00:24, 22.85it/s]\u001b[A\n",
      " 82%|████████▏ | 2446/3000 [01:47<00:23, 23.83it/s]\u001b[A\n",
      " 82%|████████▏ | 2449/3000 [01:47<00:23, 23.66it/s]\u001b[A\n",
      " 82%|████████▏ | 2452/3000 [01:48<00:33, 16.40it/s]\u001b[A\n",
      " 82%|████████▏ | 2455/3000 [01:48<00:31, 17.19it/s]\u001b[A\n",
      " 82%|████████▏ | 2458/3000 [01:48<00:28, 18.76it/s]\u001b[A\n",
      " 82%|████████▏ | 2461/3000 [01:48<00:27, 19.26it/s]\u001b[A\n",
      " 82%|████████▏ | 2464/3000 [01:48<00:26, 19.99it/s]\u001b[A\n",
      " 82%|████████▏ | 2467/3000 [01:48<00:27, 19.29it/s]\u001b[A\n"
     ]
    },
    {
     "name": "stderr",
     "output_type": "stream",
     "text": [
      " 82%|████████▏ | 2470/3000 [01:48<00:25, 21.01it/s]\u001b[A\n",
      " 82%|████████▏ | 2474/3000 [01:49<00:21, 24.74it/s]\u001b[A\n",
      " 83%|████████▎ | 2477/3000 [01:49<00:21, 24.29it/s]\u001b[A\n",
      " 83%|████████▎ | 2480/3000 [01:49<00:21, 23.85it/s]\u001b[A\n",
      " 83%|████████▎ | 2483/3000 [01:49<00:21, 24.47it/s]\u001b[A\n",
      " 83%|████████▎ | 2486/3000 [01:49<00:20, 25.03it/s]\u001b[A\n",
      " 83%|████████▎ | 2489/3000 [01:49<00:25, 20.00it/s]\u001b[A\n",
      " 83%|████████▎ | 2492/3000 [01:49<00:28, 17.53it/s]\u001b[A\n",
      " 83%|████████▎ | 2494/3000 [01:50<00:31, 15.87it/s]\u001b[A\n",
      " 83%|████████▎ | 2496/3000 [01:50<00:31, 16.03it/s]\u001b[A\n",
      " 83%|████████▎ | 2500/3000 [01:50<00:24, 20.68it/s]\u001b[A\n",
      " 83%|████████▎ | 2503/3000 [01:50<00:22, 22.22it/s]\u001b[A\n",
      " 84%|████████▎ | 2507/3000 [01:50<00:19, 25.31it/s]\u001b[A\n",
      " 84%|████████▎ | 2510/3000 [01:50<00:22, 21.56it/s]\u001b[A\n",
      " 84%|████████▍ | 2513/3000 [01:50<00:21, 22.29it/s]\u001b[A\n",
      " 84%|████████▍ | 2516/3000 [01:51<00:20, 23.67it/s]\u001b[A\n",
      " 84%|████████▍ | 2519/3000 [01:51<00:36, 13.25it/s]\u001b[A\n",
      " 84%|████████▍ | 2521/3000 [01:51<00:33, 14.27it/s]\u001b[A\n",
      " 84%|████████▍ | 2525/3000 [01:51<00:26, 17.75it/s]\u001b[A\n",
      " 84%|████████▍ | 2529/3000 [01:51<00:22, 20.71it/s]\u001b[A\n",
      " 84%|████████▍ | 2532/3000 [01:52<00:23, 20.01it/s]\u001b[A\n",
      " 84%|████████▍ | 2535/3000 [01:52<00:21, 21.33it/s]\u001b[A\n",
      " 85%|████████▍ | 2538/3000 [01:52<00:24, 18.74it/s]\u001b[A\n",
      " 85%|████████▍ | 2541/3000 [01:52<00:22, 20.69it/s]\u001b[A\n",
      " 85%|████████▍ | 2544/3000 [01:52<00:30, 14.84it/s]\u001b[A\n",
      " 85%|████████▍ | 2547/3000 [01:52<00:26, 17.31it/s]\u001b[A\n",
      " 85%|████████▌ | 2550/3000 [01:53<00:35, 12.80it/s]\u001b[A\n",
      " 85%|████████▌ | 2553/3000 [01:53<00:29, 15.31it/s]\u001b[A\n",
      " 85%|████████▌ | 2556/3000 [01:53<00:25, 17.42it/s]\u001b[A\n",
      " 85%|████████▌ | 2559/3000 [01:54<00:43, 10.11it/s]\u001b[A\n",
      " 85%|████████▌ | 2561/3000 [01:54<00:41, 10.62it/s]\u001b[A\n",
      " 85%|████████▌ | 2564/3000 [01:54<00:34, 12.73it/s]\u001b[A\n",
      " 86%|████████▌ | 2567/3000 [01:54<00:28, 15.29it/s]\u001b[A\n",
      " 86%|████████▌ | 2570/3000 [01:54<00:25, 16.75it/s]\u001b[A\n",
      " 86%|████████▌ | 2573/3000 [01:54<00:26, 16.40it/s]\u001b[A\n",
      " 86%|████████▌ | 2577/3000 [01:54<00:21, 20.07it/s]\u001b[A\n",
      " 86%|████████▌ | 2580/3000 [01:55<00:19, 21.65it/s]\u001b[A\n",
      " 86%|████████▌ | 2583/3000 [01:55<00:19, 21.69it/s]\u001b[A\n",
      " 86%|████████▌ | 2587/3000 [01:55<00:22, 18.65it/s]\u001b[A\n",
      " 86%|████████▋ | 2590/3000 [01:55<00:19, 20.79it/s]\u001b[A\n",
      " 86%|████████▋ | 2594/3000 [01:55<00:17, 23.49it/s]\u001b[A\n",
      " 87%|████████▋ | 2597/3000 [01:55<00:16, 24.84it/s]\u001b[A\n",
      " 87%|████████▋ | 2601/3000 [01:55<00:15, 26.44it/s]\u001b[A\n",
      " 87%|████████▋ | 2604/3000 [01:56<00:15, 26.34it/s]\u001b[A\n",
      " 87%|████████▋ | 2607/3000 [01:56<00:14, 26.58it/s]\u001b[A\n",
      " 87%|████████▋ | 2610/3000 [01:56<00:15, 25.40it/s]\u001b[A\n",
      " 87%|████████▋ | 2613/3000 [01:56<00:15, 24.87it/s]\u001b[A\n",
      " 87%|████████▋ | 2617/3000 [01:56<00:14, 26.13it/s]\u001b[A\n",
      " 87%|████████▋ | 2620/3000 [01:56<00:14, 26.70it/s]\u001b[A\n",
      " 87%|████████▋ | 2623/3000 [01:56<00:15, 24.85it/s]\u001b[A\n",
      " 88%|████████▊ | 2626/3000 [01:57<00:18, 19.88it/s]\u001b[A\n",
      " 88%|████████▊ | 2630/3000 [01:57<00:15, 23.53it/s]\u001b[A\n",
      " 88%|████████▊ | 2633/3000 [01:57<00:16, 22.85it/s]\u001b[A\n",
      " 88%|████████▊ | 2636/3000 [01:57<00:15, 23.60it/s]\u001b[A\n",
      " 88%|████████▊ | 2640/3000 [01:57<00:14, 25.56it/s]\u001b[A\n",
      " 88%|████████▊ | 2643/3000 [01:57<00:13, 25.89it/s]\u001b[A\n",
      " 88%|████████▊ | 2646/3000 [01:57<00:14, 25.19it/s]\u001b[A\n",
      " 88%|████████▊ | 2649/3000 [01:58<00:18, 18.80it/s]\u001b[A\n",
      " 88%|████████▊ | 2652/3000 [01:58<00:17, 20.44it/s]\u001b[A\n",
      " 88%|████████▊ | 2655/3000 [01:58<00:18, 19.05it/s]\u001b[A\n",
      " 89%|████████▊ | 2659/3000 [01:58<00:15, 21.92it/s]\u001b[A\n",
      " 89%|████████▊ | 2662/3000 [01:58<00:14, 23.04it/s]\u001b[A\n",
      " 89%|████████▉ | 2666/3000 [01:58<00:13, 24.75it/s]\u001b[A\n",
      " 89%|████████▉ | 2670/3000 [01:58<00:12, 26.84it/s]\u001b[A\n",
      " 89%|████████▉ | 2673/3000 [01:58<00:12, 26.38it/s]\u001b[A\n",
      " 89%|████████▉ | 2677/3000 [01:59<00:11, 29.25it/s]\u001b[A\n",
      " 89%|████████▉ | 2681/3000 [01:59<00:17, 18.05it/s]\u001b[A\n",
      " 90%|████████▉ | 2685/3000 [01:59<00:14, 21.17it/s]\u001b[A\n",
      " 90%|████████▉ | 2689/3000 [01:59<00:13, 23.12it/s]\u001b[A\n",
      " 90%|████████▉ | 2692/3000 [01:59<00:13, 22.35it/s]\u001b[A\n",
      " 90%|████████▉ | 2695/3000 [02:00<00:13, 22.13it/s]\u001b[A\n",
      " 90%|████████▉ | 2699/3000 [02:00<00:11, 25.30it/s]\u001b[A\n",
      " 90%|█████████ | 2703/3000 [02:00<00:11, 26.62it/s]\u001b[A\n",
      " 90%|█████████ | 2706/3000 [02:00<00:10, 26.81it/s]\u001b[A\n",
      " 90%|█████████ | 2709/3000 [02:00<00:11, 24.40it/s]\u001b[A\n",
      " 90%|█████████ | 2712/3000 [02:00<00:11, 24.16it/s]\u001b[A\n",
      " 90%|█████████ | 2715/3000 [02:00<00:11, 23.79it/s]\u001b[A\n",
      " 91%|█████████ | 2718/3000 [02:00<00:11, 25.04it/s]\u001b[A\n",
      " 91%|█████████ | 2721/3000 [02:00<00:10, 26.11it/s]\u001b[A\n",
      " 91%|█████████ | 2724/3000 [02:01<00:14, 19.62it/s]\u001b[A\n",
      " 91%|█████████ | 2728/3000 [02:01<00:12, 22.36it/s]\u001b[A\n",
      " 91%|█████████ | 2731/3000 [02:01<00:12, 21.98it/s]\u001b[A\n",
      " 91%|█████████ | 2734/3000 [02:01<00:12, 21.01it/s]\u001b[A\n",
      " 91%|█████████▏| 2738/3000 [02:01<00:11, 23.54it/s]\u001b[A\n",
      " 91%|█████████▏| 2741/3000 [02:02<00:12, 20.03it/s]\u001b[A\n",
      " 92%|█████████▏| 2745/3000 [02:02<00:16, 15.89it/s]\u001b[A\n",
      " 92%|█████████▏| 2749/3000 [02:02<00:13, 18.85it/s]\u001b[A\n",
      " 92%|█████████▏| 2753/3000 [02:02<00:11, 21.24it/s]\u001b[A\n",
      " 92%|█████████▏| 2756/3000 [02:02<00:10, 22.39it/s]\u001b[A\n",
      " 92%|█████████▏| 2759/3000 [02:02<00:10, 22.12it/s]\u001b[A\n",
      " 92%|█████████▏| 2763/3000 [02:03<00:09, 24.83it/s]\u001b[A\n",
      " 92%|█████████▏| 2766/3000 [02:03<00:09, 23.76it/s]\u001b[A\n",
      " 92%|█████████▏| 2769/3000 [02:03<00:12, 18.10it/s]\u001b[A\n",
      " 92%|█████████▏| 2773/3000 [02:03<00:11, 20.51it/s]\u001b[A\n",
      " 93%|█████████▎| 2776/3000 [02:03<00:11, 20.04it/s]\u001b[A\n",
      " 93%|█████████▎| 2779/3000 [02:03<00:10, 21.41it/s]\u001b[A\n",
      " 93%|█████████▎| 2782/3000 [02:03<00:10, 21.50it/s]\u001b[A\n",
      " 93%|█████████▎| 2786/3000 [02:04<00:08, 24.83it/s]\u001b[A\n",
      " 93%|█████████▎| 2789/3000 [02:04<00:10, 20.82it/s]\u001b[A\n",
      " 93%|█████████▎| 2792/3000 [02:04<00:09, 21.88it/s]\u001b[A\n",
      " 93%|█████████▎| 2795/3000 [02:04<00:13, 15.72it/s]\u001b[A\n",
      " 93%|█████████▎| 2798/3000 [02:04<00:11, 17.97it/s]\u001b[A\n",
      " 93%|█████████▎| 2801/3000 [02:04<00:10, 18.90it/s]\u001b[A\n",
      " 93%|█████████▎| 2804/3000 [02:05<00:12, 16.20it/s]\u001b[A\n",
      " 94%|█████████▎| 2807/3000 [02:05<00:10, 18.61it/s]\u001b[A\n",
      " 94%|█████████▎| 2810/3000 [02:05<00:09, 19.10it/s]\u001b[A\n",
      " 94%|█████████▍| 2814/3000 [02:05<00:11, 15.76it/s]\u001b[A\n",
      " 94%|█████████▍| 2817/3000 [02:05<00:11, 16.08it/s]\u001b[A\n",
      " 94%|█████████▍| 2820/3000 [02:06<00:09, 18.09it/s]\u001b[A\n",
      " 94%|█████████▍| 2823/3000 [02:06<00:09, 19.00it/s]\u001b[A\n",
      " 94%|█████████▍| 2826/3000 [02:06<00:12, 13.45it/s]\u001b[A\n",
      " 94%|█████████▍| 2829/3000 [02:06<00:11, 14.84it/s]\u001b[A\n",
      " 94%|█████████▍| 2832/3000 [02:06<00:09, 16.91it/s]\u001b[A\n",
      " 95%|█████████▍| 2836/3000 [02:07<00:08, 19.21it/s]\u001b[A\n",
      " 95%|█████████▍| 2839/3000 [02:07<00:15, 10.20it/s]\u001b[A\n",
      " 95%|█████████▍| 2842/3000 [02:08<00:22,  7.11it/s]\u001b[A\n",
      " 95%|█████████▍| 2845/3000 [02:08<00:21,  7.21it/s]\u001b[A\n",
      " 95%|█████████▍| 2847/3000 [02:08<00:19,  8.04it/s]\u001b[A\n",
      " 95%|█████████▍| 2849/3000 [02:09<00:17,  8.56it/s]\u001b[A\n",
      " 95%|█████████▌| 2851/3000 [02:09<00:15,  9.76it/s]\u001b[A\n",
      " 95%|█████████▌| 2854/3000 [02:09<00:11, 12.59it/s]\u001b[A\n",
      " 95%|█████████▌| 2857/3000 [02:09<00:12, 11.74it/s]\u001b[A\n",
      " 95%|█████████▌| 2860/3000 [02:09<00:09, 14.14it/s]\u001b[A\n",
      " 95%|█████████▌| 2863/3000 [02:09<00:08, 16.21it/s]\u001b[A\n",
      " 96%|█████████▌| 2865/3000 [02:10<00:10, 13.19it/s]\u001b[A\n",
      " 96%|█████████▌| 2868/3000 [02:10<00:08, 15.43it/s]\u001b[A\n",
      " 96%|█████████▌| 2871/3000 [02:10<00:07, 16.76it/s]\u001b[A\n",
      " 96%|█████████▌| 2874/3000 [02:10<00:08, 14.98it/s]\u001b[A\n",
      " 96%|█████████▌| 2877/3000 [02:10<00:06, 17.60it/s]\u001b[A\n",
      " 96%|█████████▌| 2880/3000 [02:10<00:06, 18.85it/s]\u001b[A\n",
      " 96%|█████████▌| 2883/3000 [02:11<00:05, 20.75it/s]\u001b[A\n",
      " 96%|█████████▌| 2886/3000 [02:11<00:05, 19.24it/s]\u001b[A\n",
      " 96%|█████████▋| 2889/3000 [02:11<00:05, 21.17it/s]\u001b[A\n",
      " 96%|█████████▋| 2892/3000 [02:11<00:05, 21.26it/s]\u001b[A\n",
      " 96%|█████████▋| 2895/3000 [02:11<00:04, 21.73it/s]\u001b[A\n",
      " 97%|█████████▋| 2899/3000 [02:11<00:04, 23.83it/s]\u001b[A\n",
      " 97%|█████████▋| 2902/3000 [02:11<00:04, 22.47it/s]\u001b[A\n",
      " 97%|█████████▋| 2905/3000 [02:12<00:04, 22.93it/s]\u001b[A\n",
      " 97%|█████████▋| 2908/3000 [02:12<00:03, 24.56it/s]\u001b[A\n",
      " 97%|█████████▋| 2912/3000 [02:12<00:03, 27.10it/s]\u001b[A\n",
      " 97%|█████████▋| 2915/3000 [02:12<00:03, 24.52it/s]\u001b[A\n",
      " 97%|█████████▋| 2918/3000 [02:12<00:03, 20.54it/s]\u001b[A\n",
      " 97%|█████████▋| 2922/3000 [02:12<00:03, 23.23it/s]\u001b[A\n",
      " 98%|█████████▊| 2925/3000 [02:13<00:04, 17.35it/s]\u001b[A\n",
      " 98%|█████████▊| 2928/3000 [02:13<00:03, 19.33it/s]\u001b[A\n",
      " 98%|█████████▊| 2931/3000 [02:13<00:03, 21.13it/s]\u001b[A\n",
      " 98%|█████████▊| 2934/3000 [02:13<00:03, 20.93it/s]\u001b[A\n",
      " 98%|█████████▊| 2938/3000 [02:13<00:02, 24.04it/s]\u001b[A\n"
     ]
    },
    {
     "name": "stderr",
     "output_type": "stream",
     "text": [
      " 98%|█████████▊| 2941/3000 [02:13<00:02, 25.20it/s]\u001b[A\n",
      " 98%|█████████▊| 2944/3000 [02:13<00:02, 26.05it/s]\u001b[A\n",
      " 98%|█████████▊| 2947/3000 [02:14<00:02, 17.77it/s]\u001b[A\n",
      " 98%|█████████▊| 2950/3000 [02:14<00:03, 15.90it/s]\u001b[A\n",
      " 98%|█████████▊| 2952/3000 [02:14<00:03, 12.76it/s]\u001b[A\n",
      " 98%|█████████▊| 2955/3000 [02:14<00:03, 14.79it/s]\u001b[A\n",
      " 99%|█████████▊| 2957/3000 [02:14<00:03, 14.13it/s]\u001b[A\n",
      " 99%|█████████▊| 2959/3000 [02:14<00:02, 15.02it/s]\u001b[A\n",
      " 99%|█████████▉| 2963/3000 [02:15<00:01, 20.17it/s]\u001b[A\n",
      " 99%|█████████▉| 2966/3000 [02:15<00:01, 20.07it/s]\u001b[A\n",
      " 99%|█████████▉| 2969/3000 [02:15<00:01, 20.05it/s]\u001b[A\n",
      " 99%|█████████▉| 2972/3000 [02:15<00:01, 22.11it/s]\u001b[A\n",
      " 99%|█████████▉| 2976/3000 [02:15<00:00, 25.83it/s]\u001b[A\n",
      " 99%|█████████▉| 2980/3000 [02:15<00:00, 28.41it/s]\u001b[A\n",
      " 99%|█████████▉| 2984/3000 [02:15<00:00, 29.40it/s]\u001b[A\n",
      "100%|█████████▉| 2988/3000 [02:15<00:00, 27.17it/s]\u001b[A\n",
      "100%|█████████▉| 2991/3000 [02:16<00:00, 23.10it/s]\u001b[A\n",
      "100%|█████████▉| 2994/3000 [02:16<00:00, 23.90it/s]\u001b[A\n",
      "100%|██████████| 3000/3000 [02:16<00:00, 21.99it/s]\u001b[A\n",
      " 31%|███       | 4/13 [09:33<21:29, 143.30s/it]"
     ]
    },
    {
     "name": "stdout",
     "output_type": "stream",
     "text": [
      "results_CLIP_4 completed\n"
     ]
    },
    {
     "name": "stderr",
     "output_type": "stream",
     "text": [
      "\n",
      "  0%|          | 0/3000 [00:00<?, ?it/s]\u001b[A\n",
      "  0%|          | 2/3000 [00:00<02:47, 17.88it/s]\u001b[A\n",
      "  0%|          | 5/3000 [00:00<02:10, 22.98it/s]\u001b[A\n",
      "  0%|          | 8/3000 [00:00<02:07, 23.38it/s]\u001b[A\n",
      "  0%|          | 11/3000 [00:00<02:35, 19.26it/s]\u001b[A\n",
      "  0%|          | 15/3000 [00:00<02:05, 23.81it/s]\u001b[A\n",
      "  1%|          | 18/3000 [00:00<02:04, 24.04it/s]\u001b[A\n",
      "  1%|          | 22/3000 [00:00<02:04, 23.91it/s]\u001b[A\n",
      "  1%|          | 25/3000 [00:01<02:00, 24.78it/s]\u001b[A\n",
      "  1%|          | 28/3000 [00:01<01:55, 25.75it/s]\u001b[A\n",
      "  1%|          | 31/3000 [00:01<01:51, 26.68it/s]\u001b[A\n",
      "  1%|          | 35/3000 [00:01<01:46, 27.96it/s]\u001b[A\n",
      "  1%|▏         | 38/3000 [00:01<02:02, 24.11it/s]\u001b[A\n",
      "  1%|▏         | 41/3000 [00:01<02:03, 23.94it/s]\u001b[A\n",
      "  1%|▏         | 44/3000 [00:01<02:26, 20.22it/s]\u001b[A\n",
      "  2%|▏         | 47/3000 [00:02<03:02, 16.14it/s]\u001b[A\n",
      "  2%|▏         | 50/3000 [00:02<02:41, 18.22it/s]\u001b[A\n",
      "  2%|▏         | 54/3000 [00:02<02:14, 21.86it/s]\u001b[A\n",
      "  2%|▏         | 57/3000 [00:02<02:32, 19.31it/s]\u001b[A\n",
      "  2%|▏         | 60/3000 [00:02<02:20, 20.86it/s]\u001b[A\n",
      "  2%|▏         | 63/3000 [00:02<02:12, 22.16it/s]\u001b[A\n",
      "  2%|▏         | 66/3000 [00:02<02:03, 23.72it/s]\u001b[A\n",
      "  2%|▏         | 69/3000 [00:03<01:57, 24.91it/s]\u001b[A\n",
      "  2%|▏         | 73/3000 [00:03<01:42, 28.68it/s]\u001b[A\n",
      "  3%|▎         | 77/3000 [00:03<01:41, 28.93it/s]\u001b[A\n",
      "  3%|▎         | 81/3000 [00:03<01:38, 29.57it/s]\u001b[A\n",
      "  3%|▎         | 85/3000 [00:03<01:49, 26.52it/s]\u001b[A\n",
      "  3%|▎         | 88/3000 [00:03<02:24, 20.21it/s]\u001b[A\n",
      "  3%|▎         | 91/3000 [00:04<03:08, 15.43it/s]\u001b[A\n",
      "  3%|▎         | 94/3000 [00:04<02:50, 17.05it/s]\u001b[A\n",
      "  3%|▎         | 98/3000 [00:04<02:18, 20.98it/s]\u001b[A\n",
      "  3%|▎         | 101/3000 [00:04<02:13, 21.70it/s]\u001b[A\n",
      "  3%|▎         | 104/3000 [00:04<02:06, 22.82it/s]\u001b[A\n",
      "  4%|▎         | 107/3000 [00:04<02:39, 18.15it/s]\u001b[A\n",
      "  4%|▎         | 110/3000 [00:05<02:26, 19.69it/s]\u001b[A\n",
      "  4%|▍         | 113/3000 [00:05<02:29, 19.37it/s]\u001b[A\n",
      "  4%|▍         | 116/3000 [00:05<02:39, 18.08it/s]\u001b[A\n",
      "  4%|▍         | 120/3000 [00:05<02:11, 21.90it/s]\u001b[A\n",
      "  4%|▍         | 123/3000 [00:05<02:12, 21.73it/s]\u001b[A\n",
      "  4%|▍         | 126/3000 [00:05<02:09, 22.16it/s]\u001b[A\n",
      "  4%|▍         | 129/3000 [00:05<02:16, 21.02it/s]\u001b[A\n",
      "  4%|▍         | 133/3000 [00:06<01:57, 24.45it/s]\u001b[A\n",
      "  5%|▍         | 136/3000 [00:06<02:18, 20.71it/s]\u001b[A\n",
      "  5%|▍         | 139/3000 [00:06<02:38, 18.10it/s]\u001b[A\n",
      "  5%|▍         | 143/3000 [00:06<02:12, 21.61it/s]\u001b[A\n",
      "  5%|▍         | 146/3000 [00:06<02:50, 16.70it/s]\u001b[A\n",
      "  5%|▍         | 149/3000 [00:06<02:31, 18.83it/s]\u001b[A\n",
      "  5%|▌         | 152/3000 [00:07<02:27, 19.36it/s]\u001b[A\n",
      "  5%|▌         | 156/3000 [00:07<02:13, 21.32it/s]\u001b[A\n",
      "  5%|▌         | 159/3000 [00:07<02:11, 21.54it/s]\u001b[A\n",
      "  5%|▌         | 162/3000 [00:07<02:14, 21.11it/s]\u001b[A\n",
      "  6%|▌         | 165/3000 [00:07<02:07, 22.23it/s]\u001b[A\n",
      "  6%|▌         | 168/3000 [00:07<02:12, 21.31it/s]\u001b[A\n",
      "  6%|▌         | 171/3000 [00:07<02:05, 22.46it/s]\u001b[A\n",
      "  6%|▌         | 174/3000 [00:08<02:06, 22.31it/s]\u001b[A\n",
      "  6%|▌         | 177/3000 [00:08<02:04, 22.66it/s]\u001b[A\n",
      "  6%|▌         | 180/3000 [00:08<02:30, 18.74it/s]\u001b[A\n",
      "  6%|▌         | 184/3000 [00:08<02:10, 21.51it/s]\u001b[A\n",
      "  6%|▌         | 187/3000 [00:08<02:02, 23.01it/s]\u001b[A\n",
      "  6%|▋         | 190/3000 [00:08<01:56, 24.12it/s]\u001b[A\n",
      "  6%|▋         | 193/3000 [00:08<01:54, 24.42it/s]\u001b[A\n",
      "  7%|▋         | 196/3000 [00:09<01:51, 25.22it/s]\u001b[A\n",
      "  7%|▋         | 200/3000 [00:09<01:41, 27.70it/s]\u001b[A\n",
      "  7%|▋         | 204/3000 [00:09<01:31, 30.53it/s]\u001b[A\n",
      "  7%|▋         | 208/3000 [00:09<01:27, 31.79it/s]\u001b[A\n",
      "  7%|▋         | 212/3000 [00:09<01:22, 33.92it/s]\u001b[A\n",
      "  7%|▋         | 216/3000 [00:09<01:27, 31.84it/s]\u001b[A\n",
      "  7%|▋         | 220/3000 [00:09<01:35, 29.15it/s]\u001b[A\n",
      "  7%|▋         | 224/3000 [00:09<01:40, 27.54it/s]\u001b[A\n",
      "  8%|▊         | 228/3000 [00:10<01:36, 28.79it/s]\u001b[A\n",
      "  8%|▊         | 231/3000 [00:10<02:19, 19.89it/s]\u001b[A\n",
      "  8%|▊         | 234/3000 [00:10<02:10, 21.16it/s]\u001b[A\n",
      "  8%|▊         | 238/3000 [00:10<01:57, 23.50it/s]\u001b[A\n",
      "  8%|▊         | 241/3000 [00:10<02:12, 20.86it/s]\u001b[A\n",
      "  8%|▊         | 244/3000 [00:10<02:14, 20.51it/s]\u001b[A\n",
      "  8%|▊         | 247/3000 [00:11<02:05, 21.86it/s]\u001b[A\n",
      "  8%|▊         | 251/3000 [00:11<02:01, 22.58it/s]\u001b[A\n",
      "  8%|▊         | 255/3000 [00:11<01:50, 24.83it/s]\u001b[A\n",
      "  9%|▊         | 258/3000 [00:11<01:46, 25.71it/s]\u001b[A\n",
      "  9%|▊         | 261/3000 [00:11<03:22, 13.50it/s]\u001b[A\n",
      "  9%|▉         | 264/3000 [00:12<03:08, 14.53it/s]\u001b[A\n",
      "  9%|▉         | 267/3000 [00:12<02:40, 16.98it/s]\u001b[A\n",
      "  9%|▉         | 270/3000 [00:12<02:33, 17.83it/s]\u001b[A\n",
      "  9%|▉         | 274/3000 [00:12<02:16, 19.98it/s]\u001b[A\n",
      "  9%|▉         | 278/3000 [00:12<01:59, 22.87it/s]\u001b[A\n",
      "  9%|▉         | 281/3000 [00:12<02:40, 16.90it/s]\u001b[A\n",
      "  9%|▉         | 284/3000 [00:13<02:29, 18.15it/s]\u001b[A\n",
      " 10%|▉         | 287/3000 [00:13<02:20, 19.35it/s]\u001b[A\n",
      " 10%|▉         | 290/3000 [00:13<02:58, 15.18it/s]\u001b[A\n",
      " 10%|▉         | 293/3000 [00:13<02:39, 16.98it/s]\u001b[A\n",
      " 10%|▉         | 296/3000 [00:13<02:33, 17.57it/s]\u001b[A\n",
      " 10%|█         | 300/3000 [00:13<02:19, 19.35it/s]\u001b[A\n",
      " 10%|█         | 304/3000 [00:14<02:00, 22.44it/s]\u001b[A\n",
      " 10%|█         | 307/3000 [00:14<01:57, 23.01it/s]\u001b[A\n",
      " 10%|█         | 310/3000 [00:14<02:06, 21.31it/s]\u001b[A\n",
      " 10%|█         | 313/3000 [00:14<02:02, 21.85it/s]\u001b[A\n",
      " 11%|█         | 316/3000 [00:14<02:11, 20.44it/s]\u001b[A\n",
      " 11%|█         | 319/3000 [00:14<02:08, 20.80it/s]\u001b[A\n",
      " 11%|█         | 322/3000 [00:14<02:10, 20.54it/s]\u001b[A\n",
      " 11%|█         | 325/3000 [00:15<02:06, 21.09it/s]\u001b[A\n",
      " 11%|█         | 328/3000 [00:15<01:58, 22.59it/s]\u001b[A\n",
      " 11%|█         | 331/3000 [00:15<02:25, 18.36it/s]\u001b[A\n",
      " 11%|█         | 335/3000 [00:15<02:02, 21.77it/s]\u001b[A\n",
      " 11%|█▏        | 339/3000 [00:15<01:51, 23.95it/s]\u001b[A\n",
      " 11%|█▏        | 342/3000 [00:15<01:46, 24.87it/s]\u001b[A\n",
      " 12%|█▏        | 345/3000 [00:16<02:19, 19.00it/s]\u001b[A\n",
      " 12%|█▏        | 348/3000 [00:16<02:12, 20.08it/s]\u001b[A\n",
      " 12%|█▏        | 351/3000 [00:16<02:05, 21.08it/s]\u001b[A\n",
      " 12%|█▏        | 355/3000 [00:16<01:46, 24.81it/s]\u001b[A\n",
      " 12%|█▏        | 358/3000 [00:16<01:45, 25.13it/s]\u001b[A\n",
      " 12%|█▏        | 361/3000 [00:16<01:51, 23.71it/s]\u001b[A\n",
      " 12%|█▏        | 364/3000 [00:16<01:45, 24.98it/s]\u001b[A\n",
      " 12%|█▏        | 367/3000 [00:16<01:48, 24.20it/s]\u001b[A\n",
      " 12%|█▏        | 371/3000 [00:17<01:43, 25.33it/s]\u001b[A\n",
      " 12%|█▏        | 374/3000 [00:17<01:59, 22.03it/s]\u001b[A\n",
      " 13%|█▎        | 377/3000 [00:17<02:10, 20.13it/s]\u001b[A\n",
      " 13%|█▎        | 381/3000 [00:17<02:03, 21.27it/s]\u001b[A\n",
      " 13%|█▎        | 384/3000 [00:17<01:59, 21.91it/s]\u001b[A\n",
      " 13%|█▎        | 387/3000 [00:17<02:08, 20.31it/s]\u001b[A\n",
      " 13%|█▎        | 390/3000 [00:18<02:10, 20.01it/s]\u001b[A\n",
      " 13%|█▎        | 393/3000 [00:18<02:00, 21.59it/s]\u001b[A\n",
      " 13%|█▎        | 397/3000 [00:18<01:45, 24.71it/s]\u001b[A\n",
      " 13%|█▎        | 400/3000 [00:18<01:40, 25.92it/s]\u001b[A\n",
      " 13%|█▎        | 403/3000 [00:18<01:38, 26.24it/s]\u001b[A\n",
      " 14%|█▎        | 406/3000 [00:18<01:40, 25.87it/s]\u001b[A\n",
      " 14%|█▎        | 409/3000 [00:18<02:33, 16.91it/s]\u001b[A\n",
      " 14%|█▎        | 412/3000 [00:19<02:18, 18.69it/s]\u001b[A\n",
      " 14%|█▍        | 415/3000 [00:19<02:08, 20.12it/s]\u001b[A\n",
      " 14%|█▍        | 418/3000 [00:19<02:06, 20.40it/s]\u001b[A\n",
      " 14%|█▍        | 421/3000 [00:19<01:59, 21.61it/s]\u001b[A\n",
      " 14%|█▍        | 424/3000 [00:19<02:11, 19.65it/s]\u001b[A\n",
      " 14%|█▍        | 428/3000 [00:19<01:54, 22.56it/s]\u001b[A\n",
      " 14%|█▍        | 431/3000 [00:20<02:28, 17.28it/s]\u001b[A\n",
      " 14%|█▍        | 434/3000 [00:20<03:04, 13.94it/s]\u001b[A\n",
      " 15%|█▍        | 437/3000 [00:20<02:37, 16.27it/s]\u001b[A\n",
      " 15%|█▍        | 440/3000 [00:20<02:18, 18.52it/s]\u001b[A\n",
      " 15%|█▍        | 443/3000 [00:20<02:06, 20.18it/s]\u001b[A\n",
      " 15%|█▍        | 446/3000 [00:20<02:10, 19.63it/s]\u001b[A\n",
      " 15%|█▍        | 449/3000 [00:20<01:59, 21.40it/s]\u001b[A\n",
      " 15%|█▌        | 453/3000 [00:21<01:48, 23.53it/s]\u001b[A\n",
      " 15%|█▌        | 456/3000 [00:21<02:16, 18.63it/s]\u001b[A\n",
      " 15%|█▌        | 460/3000 [00:21<01:55, 22.05it/s]\u001b[A\n",
      " 15%|█▌        | 463/3000 [00:21<01:55, 21.91it/s]\u001b[A\n",
      " 16%|█▌        | 466/3000 [00:21<02:17, 18.39it/s]\u001b[A\n",
      " 16%|█▌        | 469/3000 [00:21<02:11, 19.22it/s]\u001b[A\n",
      " 16%|█▌        | 472/3000 [00:22<01:58, 21.42it/s]\u001b[A\n",
      " 16%|█▌        | 475/3000 [00:22<01:54, 22.12it/s]\u001b[A\n",
      " 16%|█▌        | 478/3000 [00:22<02:19, 18.13it/s]\u001b[A\n",
      " 16%|█▌        | 481/3000 [00:22<02:06, 19.91it/s]\u001b[A\n",
      " 16%|█▌        | 484/3000 [00:22<02:35, 16.13it/s]\u001b[A\n",
      " 16%|█▌        | 486/3000 [00:23<02:56, 14.28it/s]\u001b[A\n",
      " 16%|█▋        | 489/3000 [00:23<02:26, 17.09it/s]\u001b[A\n"
     ]
    },
    {
     "name": "stderr",
     "output_type": "stream",
     "text": [
      " 16%|█▋        | 492/3000 [00:23<02:13, 18.84it/s]\u001b[A\n",
      " 16%|█▋        | 495/3000 [00:23<02:04, 20.09it/s]\u001b[A\n",
      " 17%|█▋        | 498/3000 [00:23<01:56, 21.51it/s]\u001b[A\n",
      " 17%|█▋        | 502/3000 [00:23<01:38, 25.30it/s]\u001b[A\n",
      " 17%|█▋        | 505/3000 [00:23<01:40, 24.81it/s]\u001b[A\n",
      " 17%|█▋        | 508/3000 [00:23<01:41, 24.47it/s]\u001b[A\n",
      " 17%|█▋        | 512/3000 [00:24<01:36, 25.74it/s]\u001b[A\n",
      " 17%|█▋        | 516/3000 [00:24<01:27, 28.51it/s]\u001b[A\n",
      " 17%|█▋        | 519/3000 [00:24<01:36, 25.66it/s]\u001b[A\n",
      " 17%|█▋        | 523/3000 [00:24<01:31, 27.21it/s]\u001b[A\n",
      " 18%|█▊        | 526/3000 [00:24<01:42, 24.22it/s]\u001b[A\n",
      " 18%|█▊        | 529/3000 [00:24<02:39, 15.51it/s]\u001b[A\n",
      " 18%|█▊        | 532/3000 [00:25<02:18, 17.77it/s]\u001b[A\n",
      " 18%|█▊        | 536/3000 [00:25<01:56, 21.10it/s]\u001b[A\n",
      " 18%|█▊        | 539/3000 [00:25<01:52, 21.88it/s]\u001b[A\n",
      " 18%|█▊        | 542/3000 [00:25<01:49, 22.42it/s]\u001b[A\n",
      " 18%|█▊        | 546/3000 [00:25<01:35, 25.58it/s]\u001b[A\n",
      " 18%|█▊        | 549/3000 [00:25<01:33, 26.31it/s]\u001b[A\n",
      " 18%|█▊        | 553/3000 [00:25<01:48, 22.63it/s]\u001b[A\n",
      " 19%|█▊        | 556/3000 [00:25<01:45, 23.20it/s]\u001b[A\n",
      " 19%|█▊        | 559/3000 [00:26<02:02, 19.92it/s]\u001b[A\n",
      " 19%|█▉        | 563/3000 [00:26<01:45, 23.06it/s]\u001b[A\n",
      " 19%|█▉        | 566/3000 [00:26<02:12, 18.33it/s]\u001b[A\n",
      " 19%|█▉        | 569/3000 [00:26<02:09, 18.76it/s]\u001b[A\n",
      " 19%|█▉        | 572/3000 [00:26<02:17, 17.71it/s]\u001b[A\n",
      " 19%|█▉        | 575/3000 [00:27<02:01, 20.01it/s]\u001b[A\n",
      " 19%|█▉        | 578/3000 [00:27<02:16, 17.76it/s]\u001b[A\n",
      " 19%|█▉        | 582/3000 [00:27<01:53, 21.23it/s]\u001b[A\n",
      " 20%|█▉        | 586/3000 [00:27<01:36, 24.96it/s]\u001b[A\n",
      " 20%|█▉        | 589/3000 [00:27<01:32, 25.97it/s]\u001b[A\n",
      " 20%|█▉        | 592/3000 [00:27<01:41, 23.66it/s]\u001b[A\n",
      " 20%|█▉        | 595/3000 [00:27<02:15, 17.69it/s]\u001b[A\n",
      " 20%|█▉        | 598/3000 [00:28<02:23, 16.68it/s]\u001b[A\n",
      " 20%|██        | 602/3000 [00:28<01:57, 20.34it/s]\u001b[A\n",
      " 20%|██        | 606/3000 [00:28<01:45, 22.69it/s]\u001b[A\n",
      " 20%|██        | 609/3000 [00:28<01:44, 22.87it/s]\u001b[A\n",
      " 20%|██        | 612/3000 [00:28<02:00, 19.74it/s]\u001b[A\n",
      " 20%|██        | 615/3000 [00:28<01:59, 19.96it/s]\u001b[A\n",
      " 21%|██        | 618/3000 [00:29<01:49, 21.85it/s]\u001b[A\n",
      " 21%|██        | 622/3000 [00:29<01:39, 23.96it/s]\u001b[A\n",
      " 21%|██        | 626/3000 [00:29<01:31, 25.95it/s]\u001b[A\n",
      " 21%|██        | 629/3000 [00:29<01:35, 24.75it/s]\u001b[A\n",
      " 21%|██        | 632/3000 [00:29<01:54, 20.65it/s]\u001b[A\n",
      " 21%|██        | 636/3000 [00:29<01:35, 24.71it/s]\u001b[A\n",
      " 21%|██▏       | 640/3000 [00:29<01:30, 26.08it/s]\u001b[A\n",
      " 21%|██▏       | 643/3000 [00:30<01:44, 22.49it/s]\u001b[A\n",
      " 22%|██▏       | 647/3000 [00:30<01:36, 24.29it/s]\u001b[A\n",
      " 22%|██▏       | 651/3000 [00:30<01:27, 26.95it/s]\u001b[A\n",
      " 22%|██▏       | 654/3000 [00:30<01:25, 27.48it/s]\u001b[A\n",
      " 22%|██▏       | 659/3000 [00:30<01:19, 29.34it/s]\u001b[A\n",
      " 22%|██▏       | 663/3000 [00:30<01:45, 22.25it/s]\u001b[A\n",
      " 22%|██▏       | 666/3000 [00:31<01:48, 21.50it/s]\u001b[A\n",
      " 22%|██▏       | 669/3000 [00:31<01:47, 21.75it/s]\u001b[A\n",
      " 22%|██▏       | 673/3000 [00:31<01:35, 24.34it/s]\u001b[A\n",
      " 23%|██▎       | 676/3000 [00:31<01:49, 21.20it/s]\u001b[A\n",
      " 23%|██▎       | 679/3000 [00:31<01:43, 22.51it/s]\u001b[A\n",
      " 23%|██▎       | 682/3000 [00:31<01:37, 23.87it/s]\u001b[A\n",
      " 23%|██▎       | 685/3000 [00:31<01:33, 24.87it/s]\u001b[A\n",
      " 23%|██▎       | 688/3000 [00:31<01:28, 26.12it/s]\u001b[A\n",
      " 23%|██▎       | 691/3000 [00:32<01:33, 24.61it/s]\u001b[A\n",
      " 23%|██▎       | 694/3000 [00:32<01:30, 25.48it/s]\u001b[A\n",
      " 23%|██▎       | 697/3000 [00:32<01:57, 19.64it/s]\u001b[A\n",
      " 23%|██▎       | 701/3000 [00:32<01:40, 22.82it/s]\u001b[A\n",
      " 24%|██▎       | 705/3000 [00:32<01:33, 24.47it/s]\u001b[A\n",
      " 24%|██▎       | 709/3000 [00:32<01:28, 25.91it/s]\u001b[A\n",
      " 24%|██▎       | 712/3000 [00:32<01:28, 25.97it/s]\u001b[A\n",
      " 24%|██▍       | 715/3000 [00:33<01:27, 25.97it/s]\u001b[A\n",
      " 24%|██▍       | 719/3000 [00:33<01:19, 28.71it/s]\u001b[A\n",
      " 24%|██▍       | 722/3000 [00:33<01:40, 22.78it/s]\u001b[A\n",
      " 24%|██▍       | 726/3000 [00:33<01:28, 25.65it/s]\u001b[A\n",
      " 24%|██▍       | 730/3000 [00:33<01:23, 27.32it/s]\u001b[A\n",
      " 24%|██▍       | 733/3000 [00:33<01:24, 26.86it/s]\u001b[A\n",
      " 25%|██▍       | 736/3000 [00:33<01:32, 24.56it/s]\u001b[A\n",
      " 25%|██▍       | 739/3000 [00:34<01:45, 21.39it/s]\u001b[A\n",
      " 25%|██▍       | 743/3000 [00:34<01:34, 23.92it/s]\u001b[A\n",
      " 25%|██▍       | 746/3000 [00:34<01:29, 25.12it/s]\u001b[A\n",
      " 25%|██▍       | 749/3000 [00:34<01:25, 26.26it/s]\u001b[A\n",
      " 25%|██▌       | 752/3000 [00:34<01:29, 25.16it/s]\u001b[A\n",
      " 25%|██▌       | 756/3000 [00:34<01:56, 19.18it/s]\u001b[A\n",
      " 25%|██▌       | 759/3000 [00:34<01:52, 19.89it/s]\u001b[A\n",
      " 25%|██▌       | 762/3000 [00:35<01:43, 21.54it/s]\u001b[A\n",
      " 26%|██▌       | 765/3000 [00:35<01:35, 23.32it/s]\u001b[A\n",
      " 26%|██▌       | 768/3000 [00:35<01:58, 18.79it/s]\u001b[A\n",
      " 26%|██▌       | 772/3000 [00:35<01:54, 19.39it/s]\u001b[A\n",
      " 26%|██▌       | 775/3000 [00:35<02:05, 17.74it/s]\u001b[A\n",
      " 26%|██▌       | 779/3000 [00:35<01:48, 20.40it/s]\u001b[A\n",
      " 26%|██▌       | 782/3000 [00:36<02:05, 17.73it/s]\u001b[A\n",
      " 26%|██▌       | 785/3000 [00:36<01:51, 19.84it/s]\u001b[A\n",
      " 26%|██▋       | 788/3000 [00:36<01:47, 20.62it/s]\u001b[A\n",
      " 26%|██▋       | 791/3000 [00:36<01:38, 22.51it/s]\u001b[A\n",
      " 26%|██▋       | 794/3000 [00:36<01:34, 23.32it/s]\u001b[A\n",
      " 27%|██▋       | 797/3000 [00:36<01:48, 20.33it/s]\u001b[A\n",
      " 27%|██▋       | 800/3000 [00:37<02:04, 17.65it/s]\u001b[A\n",
      " 27%|██▋       | 803/3000 [00:37<01:52, 19.60it/s]\u001b[A\n",
      " 27%|██▋       | 806/3000 [00:37<01:57, 18.71it/s]\u001b[A\n",
      " 27%|██▋       | 809/3000 [00:37<01:53, 19.23it/s]\u001b[A\n",
      " 27%|██▋       | 812/3000 [00:37<01:53, 19.31it/s]\u001b[A\n",
      " 27%|██▋       | 815/3000 [00:37<01:41, 21.44it/s]\u001b[A\n",
      " 27%|██▋       | 818/3000 [00:37<01:43, 21.14it/s]\u001b[A\n",
      " 27%|██▋       | 821/3000 [00:38<01:54, 19.04it/s]\u001b[A\n",
      " 27%|██▋       | 824/3000 [00:38<01:50, 19.67it/s]\u001b[A\n",
      " 28%|██▊       | 827/3000 [00:38<01:43, 21.02it/s]\u001b[A\n",
      " 28%|██▊       | 831/3000 [00:38<01:38, 21.98it/s]\u001b[A\n",
      " 28%|██▊       | 834/3000 [00:38<01:47, 20.08it/s]\u001b[A\n",
      " 28%|██▊       | 837/3000 [00:38<01:40, 21.55it/s]\u001b[A\n",
      " 28%|██▊       | 840/3000 [00:39<02:12, 16.29it/s]\u001b[A\n",
      " 28%|██▊       | 842/3000 [00:39<02:19, 15.42it/s]\u001b[A\n",
      " 28%|██▊       | 844/3000 [00:39<02:23, 14.98it/s]\u001b[A\n",
      " 28%|██▊       | 847/3000 [00:39<02:45, 13.00it/s]\u001b[A\n",
      " 28%|██▊       | 850/3000 [00:39<02:33, 13.99it/s]\u001b[A\n",
      " 28%|██▊       | 853/3000 [00:39<02:12, 16.26it/s]\u001b[A\n",
      " 29%|██▊       | 856/3000 [00:40<02:01, 17.70it/s]\u001b[A\n",
      " 29%|██▊       | 859/3000 [00:40<01:49, 19.58it/s]\u001b[A\n",
      " 29%|██▉       | 863/3000 [00:40<01:33, 22.95it/s]\u001b[A\n",
      " 29%|██▉       | 866/3000 [00:40<01:29, 23.75it/s]\u001b[A\n",
      " 29%|██▉       | 869/3000 [00:40<01:26, 24.56it/s]\u001b[A\n",
      " 29%|██▉       | 872/3000 [00:40<01:34, 22.41it/s]\u001b[A\n",
      " 29%|██▉       | 875/3000 [00:40<01:28, 24.10it/s]\u001b[A\n",
      " 29%|██▉       | 878/3000 [00:40<01:26, 24.50it/s]\u001b[A\n",
      " 29%|██▉       | 881/3000 [00:41<01:23, 25.48it/s]\u001b[A\n",
      " 29%|██▉       | 884/3000 [00:41<01:38, 21.38it/s]\u001b[A\n",
      " 30%|██▉       | 887/3000 [00:41<01:40, 21.10it/s]\u001b[A\n",
      " 30%|██▉       | 890/3000 [00:41<01:33, 22.59it/s]\u001b[A\n",
      " 30%|██▉       | 893/3000 [00:41<01:27, 23.97it/s]\u001b[A\n",
      " 30%|██▉       | 897/3000 [00:41<01:24, 24.94it/s]\u001b[A\n",
      " 30%|███       | 901/3000 [00:41<01:17, 27.23it/s]\u001b[A\n",
      " 30%|███       | 904/3000 [00:41<01:16, 27.55it/s]\u001b[A\n",
      " 30%|███       | 907/3000 [00:42<01:20, 25.90it/s]\u001b[A\n",
      " 30%|███       | 910/3000 [00:42<01:18, 26.76it/s]\u001b[A\n",
      " 30%|███       | 914/3000 [00:42<01:14, 27.87it/s]\u001b[A\n",
      " 31%|███       | 917/3000 [00:42<01:23, 25.09it/s]\u001b[A\n",
      " 31%|███       | 921/3000 [00:42<01:17, 26.68it/s]\u001b[A\n",
      " 31%|███       | 924/3000 [00:42<01:15, 27.34it/s]\u001b[A\n",
      " 31%|███       | 927/3000 [00:42<01:20, 25.75it/s]\u001b[A\n",
      " 31%|███       | 930/3000 [00:42<01:21, 25.41it/s]\u001b[A\n",
      " 31%|███       | 933/3000 [00:43<01:42, 20.20it/s]\u001b[A\n",
      " 31%|███       | 936/3000 [00:43<01:35, 21.72it/s]\u001b[A\n",
      " 31%|███▏      | 939/3000 [00:43<01:27, 23.47it/s]\u001b[A\n",
      " 31%|███▏      | 943/3000 [00:43<01:33, 21.99it/s]\u001b[A\n",
      " 32%|███▏      | 947/3000 [00:43<01:25, 24.04it/s]\u001b[A\n",
      " 32%|███▏      | 950/3000 [00:43<01:31, 22.50it/s]\u001b[A\n",
      " 32%|███▏      | 953/3000 [00:44<01:43, 19.74it/s]\u001b[A\n",
      " 32%|███▏      | 957/3000 [00:44<01:33, 21.84it/s]\u001b[A\n",
      " 32%|███▏      | 961/3000 [00:44<01:34, 21.57it/s]\u001b[A\n",
      " 32%|███▏      | 964/3000 [00:44<01:38, 20.76it/s]\u001b[A\n",
      " 32%|███▏      | 967/3000 [00:44<02:01, 16.80it/s]\u001b[A\n",
      " 32%|███▏      | 970/3000 [00:45<01:49, 18.52it/s]\u001b[A\n",
      " 32%|███▏      | 974/3000 [00:45<01:30, 22.46it/s]\u001b[A\n",
      " 33%|███▎      | 978/3000 [00:45<01:18, 25.62it/s]\u001b[A\n",
      " 33%|███▎      | 981/3000 [00:45<01:18, 25.72it/s]\u001b[A\n",
      " 33%|███▎      | 984/3000 [00:45<01:28, 22.68it/s]\u001b[A\n"
     ]
    },
    {
     "name": "stderr",
     "output_type": "stream",
     "text": [
      " 33%|███▎      | 987/3000 [00:45<01:23, 24.10it/s]\u001b[A\n",
      " 33%|███▎      | 990/3000 [00:45<01:18, 25.45it/s]\u001b[A\n",
      " 33%|███▎      | 994/3000 [00:45<01:16, 26.36it/s]\u001b[A\n",
      " 33%|███▎      | 998/3000 [00:45<01:09, 28.85it/s]\u001b[A\n",
      " 33%|███▎      | 1002/3000 [00:46<01:05, 30.38it/s]\u001b[A\n",
      " 34%|███▎      | 1006/3000 [00:46<01:11, 27.97it/s]\u001b[A\n",
      " 34%|███▎      | 1010/3000 [00:46<01:09, 28.61it/s]\u001b[A\n",
      " 34%|███▍      | 1014/3000 [00:46<01:03, 31.04it/s]\u001b[A\n",
      " 34%|███▍      | 1018/3000 [00:46<01:00, 32.54it/s]\u001b[A\n",
      " 34%|███▍      | 1022/3000 [00:46<00:57, 34.20it/s]\u001b[A\n",
      " 34%|███▍      | 1026/3000 [00:46<01:02, 31.61it/s]\u001b[A\n",
      " 34%|███▍      | 1030/3000 [00:46<01:02, 31.45it/s]\u001b[A\n",
      " 34%|███▍      | 1034/3000 [00:47<01:08, 28.88it/s]\u001b[A\n",
      " 35%|███▍      | 1037/3000 [00:47<01:37, 20.14it/s]\u001b[A\n",
      " 35%|███▍      | 1040/3000 [00:47<01:30, 21.65it/s]\u001b[A\n",
      " 35%|███▍      | 1043/3000 [00:47<01:38, 19.85it/s]\u001b[A\n",
      " 35%|███▍      | 1046/3000 [00:47<01:32, 21.17it/s]\u001b[A\n",
      " 35%|███▍      | 1049/3000 [00:47<01:25, 22.80it/s]\u001b[A\n",
      " 35%|███▌      | 1052/3000 [00:48<01:24, 22.96it/s]\u001b[A\n",
      " 35%|███▌      | 1055/3000 [00:48<01:19, 24.59it/s]\u001b[A\n",
      " 35%|███▌      | 1058/3000 [00:48<01:15, 25.58it/s]\u001b[A\n",
      " 35%|███▌      | 1062/3000 [00:48<01:08, 28.36it/s]\u001b[A\n",
      " 36%|███▌      | 1065/3000 [00:48<01:17, 25.09it/s]\u001b[A\n",
      " 36%|███▌      | 1068/3000 [00:48<01:42, 18.86it/s]\u001b[A\n",
      " 36%|███▌      | 1071/3000 [00:49<02:03, 15.68it/s]\u001b[A\n",
      " 36%|███▌      | 1075/3000 [00:49<01:37, 19.74it/s]\u001b[A\n",
      " 36%|███▌      | 1078/3000 [00:49<01:31, 21.00it/s]\u001b[A\n",
      " 36%|███▌      | 1082/3000 [00:49<01:18, 24.36it/s]\u001b[A\n",
      " 36%|███▌      | 1085/3000 [00:49<01:19, 24.22it/s]\u001b[A\n",
      " 36%|███▋      | 1088/3000 [00:49<01:18, 24.24it/s]\u001b[A\n",
      " 36%|███▋      | 1091/3000 [00:49<01:15, 25.45it/s]\u001b[A\n",
      " 36%|███▋      | 1094/3000 [00:50<01:57, 16.16it/s]\u001b[A\n",
      " 37%|███▋      | 1098/3000 [00:50<01:39, 19.16it/s]\u001b[A\n",
      " 37%|███▋      | 1101/3000 [00:50<01:32, 20.55it/s]\u001b[A\n",
      " 37%|███▋      | 1105/3000 [00:50<01:19, 23.69it/s]\u001b[A\n",
      " 37%|███▋      | 1108/3000 [00:50<01:16, 24.74it/s]\u001b[A\n",
      " 37%|███▋      | 1111/3000 [00:50<01:34, 19.93it/s]\u001b[A\n",
      " 37%|███▋      | 1114/3000 [00:50<01:29, 21.05it/s]\u001b[A\n",
      " 37%|███▋      | 1117/3000 [00:51<01:31, 20.55it/s]\u001b[A\n",
      " 37%|███▋      | 1120/3000 [00:51<01:23, 22.48it/s]\u001b[A\n",
      " 37%|███▋      | 1123/3000 [00:51<01:27, 21.45it/s]\u001b[A\n",
      " 38%|███▊      | 1126/3000 [00:51<01:57, 15.99it/s]\u001b[A\n",
      " 38%|███▊      | 1129/3000 [00:51<01:44, 17.85it/s]\u001b[A\n",
      " 38%|███▊      | 1132/3000 [00:51<01:39, 18.79it/s]\u001b[A\n",
      " 38%|███▊      | 1135/3000 [00:52<01:29, 20.75it/s]\u001b[A\n",
      " 38%|███▊      | 1138/3000 [00:52<01:22, 22.67it/s]\u001b[A\n",
      " 38%|███▊      | 1141/3000 [00:52<01:20, 23.10it/s]\u001b[A\n",
      " 38%|███▊      | 1144/3000 [00:52<01:15, 24.54it/s]\u001b[A\n",
      " 38%|███▊      | 1147/3000 [00:52<01:39, 18.58it/s]\u001b[A\n",
      " 38%|███▊      | 1150/3000 [00:52<02:05, 14.71it/s]\u001b[A\n",
      " 38%|███▊      | 1154/3000 [00:53<01:40, 18.45it/s]\u001b[A\n",
      " 39%|███▊      | 1158/3000 [00:53<01:23, 22.05it/s]\u001b[A\n",
      " 39%|███▊      | 1162/3000 [00:53<01:14, 24.61it/s]\u001b[A\n",
      " 39%|███▉      | 1165/3000 [00:53<01:17, 23.71it/s]\u001b[A\n",
      " 39%|███▉      | 1169/3000 [00:53<01:11, 25.47it/s]\u001b[A\n",
      " 39%|███▉      | 1172/3000 [00:53<01:10, 26.05it/s]\u001b[A\n",
      " 39%|███▉      | 1176/3000 [00:53<01:04, 28.27it/s]\u001b[A\n",
      " 39%|███▉      | 1180/3000 [00:53<00:59, 30.56it/s]\u001b[A\n",
      " 39%|███▉      | 1184/3000 [00:54<01:10, 25.63it/s]\u001b[A\n",
      " 40%|███▉      | 1187/3000 [00:54<01:23, 21.83it/s]\u001b[A\n",
      " 40%|███▉      | 1190/3000 [00:54<01:32, 19.65it/s]\u001b[A\n",
      " 40%|███▉      | 1193/3000 [00:54<01:23, 21.69it/s]\u001b[A\n",
      " 40%|███▉      | 1197/3000 [00:54<01:17, 23.19it/s]\u001b[A\n",
      " 40%|████      | 1200/3000 [00:54<01:17, 23.10it/s]\u001b[A\n",
      " 40%|████      | 1203/3000 [00:55<01:13, 24.38it/s]\u001b[A\n",
      " 40%|████      | 1206/3000 [00:55<01:21, 22.12it/s]\u001b[A\n",
      " 40%|████      | 1209/3000 [00:55<01:16, 23.44it/s]\u001b[A\n",
      " 40%|████      | 1213/3000 [00:55<01:14, 24.15it/s]\u001b[A\n",
      " 41%|████      | 1216/3000 [00:55<01:10, 25.15it/s]\u001b[A\n",
      " 41%|████      | 1220/3000 [00:55<01:05, 27.07it/s]\u001b[A\n",
      " 41%|████      | 1223/3000 [00:55<01:11, 24.91it/s]\u001b[A\n",
      " 41%|████      | 1227/3000 [00:56<01:27, 20.16it/s]\u001b[A\n",
      " 41%|████      | 1230/3000 [00:56<01:21, 21.63it/s]\u001b[A\n",
      " 41%|████      | 1233/3000 [00:56<01:21, 21.63it/s]\u001b[A\n",
      " 41%|████      | 1236/3000 [00:56<01:26, 20.33it/s]\u001b[A\n",
      " 41%|████▏     | 1239/3000 [00:56<01:20, 21.79it/s]\u001b[A\n",
      " 41%|████▏     | 1242/3000 [00:56<01:14, 23.64it/s]\u001b[A\n",
      " 42%|████▏     | 1245/3000 [00:56<01:24, 20.85it/s]\u001b[A\n",
      " 42%|████▏     | 1248/3000 [00:57<01:18, 22.18it/s]\u001b[A\n",
      " 42%|████▏     | 1251/3000 [00:57<01:18, 22.37it/s]\u001b[A\n",
      " 42%|████▏     | 1255/3000 [00:57<01:10, 24.88it/s]\u001b[A\n",
      " 42%|████▏     | 1258/3000 [00:57<01:09, 25.14it/s]\u001b[A\n",
      " 42%|████▏     | 1261/3000 [00:57<01:09, 24.91it/s]\u001b[A\n",
      " 42%|████▏     | 1264/3000 [00:57<01:08, 25.52it/s]\u001b[A\n",
      " 42%|████▏     | 1268/3000 [00:57<01:05, 26.37it/s]\u001b[A\n",
      " 42%|████▏     | 1271/3000 [00:57<01:04, 26.85it/s]\u001b[A\n",
      " 42%|████▎     | 1275/3000 [00:58<01:00, 28.34it/s]\u001b[A\n",
      " 43%|████▎     | 1278/3000 [00:58<01:11, 24.19it/s]\u001b[A\n",
      " 43%|████▎     | 1282/3000 [00:58<01:05, 26.35it/s]\u001b[A\n",
      " 43%|████▎     | 1285/3000 [00:58<01:08, 25.12it/s]\u001b[A\n",
      " 43%|████▎     | 1288/3000 [00:58<01:10, 24.19it/s]\u001b[A\n",
      " 43%|████▎     | 1291/3000 [00:58<01:09, 24.47it/s]\u001b[A\n",
      " 43%|████▎     | 1294/3000 [00:58<01:13, 23.06it/s]\u001b[A\n",
      " 43%|████▎     | 1297/3000 [00:59<01:36, 17.60it/s]\u001b[A\n",
      " 43%|████▎     | 1300/3000 [00:59<01:29, 18.93it/s]\u001b[A\n",
      " 43%|████▎     | 1303/3000 [00:59<01:22, 20.54it/s]\u001b[A\n",
      " 44%|████▎     | 1306/3000 [00:59<01:19, 21.41it/s]\u001b[A\n",
      " 44%|████▎     | 1309/3000 [00:59<01:20, 20.99it/s]\u001b[A\n",
      " 44%|████▎     | 1312/3000 [00:59<01:15, 22.50it/s]\u001b[A\n",
      " 44%|████▍     | 1315/3000 [00:59<01:15, 22.18it/s]\u001b[A\n",
      " 44%|████▍     | 1320/3000 [01:00<01:01, 27.39it/s]\u001b[A\n",
      " 44%|████▍     | 1323/3000 [01:00<01:00, 27.49it/s]\u001b[A\n",
      " 44%|████▍     | 1326/3000 [01:00<01:09, 24.12it/s]\u001b[A\n",
      " 44%|████▍     | 1330/3000 [01:00<01:05, 25.42it/s]\u001b[A\n",
      " 44%|████▍     | 1333/3000 [01:00<01:03, 26.07it/s]\u001b[A\n",
      " 45%|████▍     | 1337/3000 [01:00<00:57, 28.90it/s]\u001b[A\n",
      " 45%|████▍     | 1340/3000 [01:00<01:05, 25.32it/s]\u001b[A\n",
      " 45%|████▍     | 1343/3000 [01:01<01:27, 18.99it/s]\u001b[A\n",
      " 45%|████▍     | 1346/3000 [01:01<01:23, 19.83it/s]\u001b[A\n",
      " 45%|████▌     | 1350/3000 [01:01<01:12, 22.81it/s]\u001b[A\n",
      " 45%|████▌     | 1353/3000 [01:01<01:11, 23.09it/s]\u001b[A\n",
      " 45%|████▌     | 1356/3000 [01:01<01:08, 23.93it/s]\u001b[A\n",
      " 45%|████▌     | 1360/3000 [01:01<01:02, 26.06it/s]\u001b[A\n",
      " 45%|████▌     | 1363/3000 [01:01<01:05, 24.88it/s]\u001b[A\n",
      " 46%|████▌     | 1366/3000 [01:01<01:06, 24.67it/s]\u001b[A\n",
      " 46%|████▌     | 1369/3000 [01:02<01:04, 25.13it/s]\u001b[A\n",
      " 46%|████▌     | 1372/3000 [01:02<01:22, 19.79it/s]\u001b[A\n",
      " 46%|████▌     | 1375/3000 [01:02<01:37, 16.70it/s]\u001b[A\n",
      " 46%|████▌     | 1378/3000 [01:02<01:28, 18.39it/s]\u001b[A\n",
      " 46%|████▌     | 1381/3000 [01:02<01:46, 15.23it/s]\u001b[A\n",
      " 46%|████▌     | 1384/3000 [01:03<01:35, 16.96it/s]\u001b[A\n",
      " 46%|████▋     | 1388/3000 [01:03<01:19, 20.23it/s]\u001b[A\n",
      " 46%|████▋     | 1392/3000 [01:03<01:12, 22.15it/s]\u001b[A\n",
      " 46%|████▋     | 1395/3000 [01:03<01:08, 23.55it/s]\u001b[A\n",
      " 47%|████▋     | 1399/3000 [01:03<01:19, 20.04it/s]\u001b[A\n",
      " 47%|████▋     | 1402/3000 [01:03<01:13, 21.74it/s]\u001b[A\n",
      " 47%|████▋     | 1405/3000 [01:03<01:08, 23.25it/s]\u001b[A\n",
      " 47%|████▋     | 1408/3000 [01:04<01:08, 23.23it/s]\u001b[A\n",
      " 47%|████▋     | 1411/3000 [01:04<01:04, 24.74it/s]\u001b[A\n",
      " 47%|████▋     | 1415/3000 [01:04<00:58, 27.29it/s]\u001b[A\n",
      " 47%|████▋     | 1418/3000 [01:04<00:56, 27.79it/s]\u001b[A\n",
      " 47%|████▋     | 1421/3000 [01:04<01:03, 24.94it/s]\u001b[A\n",
      " 47%|████▋     | 1424/3000 [01:04<01:06, 23.72it/s]\u001b[A\n",
      " 48%|████▊     | 1427/3000 [01:04<01:04, 24.52it/s]\u001b[A\n",
      " 48%|████▊     | 1431/3000 [01:04<01:02, 25.16it/s]\u001b[A\n",
      " 48%|████▊     | 1434/3000 [01:05<01:00, 25.72it/s]\u001b[A\n",
      " 48%|████▊     | 1437/3000 [01:05<01:00, 25.91it/s]\u001b[A\n",
      " 48%|████▊     | 1440/3000 [01:05<00:59, 26.36it/s]\u001b[A\n",
      " 48%|████▊     | 1444/3000 [01:05<01:05, 23.79it/s]\u001b[A\n",
      " 48%|████▊     | 1447/3000 [01:05<01:03, 24.29it/s]\u001b[A\n",
      " 48%|████▊     | 1450/3000 [01:05<01:06, 23.27it/s]\u001b[A\n",
      " 48%|████▊     | 1453/3000 [01:05<01:04, 23.88it/s]\u001b[A\n",
      " 49%|████▊     | 1457/3000 [01:05<00:58, 26.25it/s]\u001b[A\n",
      " 49%|████▊     | 1461/3000 [01:06<00:55, 27.71it/s]\u001b[A\n",
      " 49%|████▉     | 1464/3000 [01:06<00:55, 27.87it/s]\u001b[A\n",
      " 49%|████▉     | 1467/3000 [01:06<00:59, 25.64it/s]\u001b[A\n",
      " 49%|████▉     | 1471/3000 [01:06<00:55, 27.66it/s]\u001b[A\n",
      " 49%|████▉     | 1474/3000 [01:06<00:54, 27.76it/s]\u001b[A\n",
      " 49%|████▉     | 1477/3000 [01:06<00:57, 26.68it/s]\u001b[A\n"
     ]
    },
    {
     "name": "stderr",
     "output_type": "stream",
     "text": [
      " 49%|████▉     | 1481/3000 [01:06<00:53, 28.39it/s]\u001b[A\n",
      " 49%|████▉     | 1484/3000 [01:06<00:53, 28.17it/s]\u001b[A\n",
      " 50%|████▉     | 1487/3000 [01:07<01:02, 24.11it/s]\u001b[A\n",
      " 50%|████▉     | 1490/3000 [01:07<01:03, 23.86it/s]\u001b[A\n",
      " 50%|████▉     | 1493/3000 [01:07<01:08, 22.13it/s]\u001b[A\n",
      " 50%|████▉     | 1497/3000 [01:07<00:58, 25.70it/s]\u001b[A\n",
      " 50%|█████     | 1500/3000 [01:07<00:58, 25.46it/s]\u001b[A\n",
      " 50%|█████     | 1504/3000 [01:07<00:56, 26.37it/s]\u001b[A\n",
      " 50%|█████     | 1507/3000 [01:07<00:59, 24.96it/s]\u001b[A\n",
      " 50%|█████     | 1510/3000 [01:08<01:06, 22.29it/s]\u001b[A\n",
      " 50%|█████     | 1513/3000 [01:08<01:07, 22.17it/s]\u001b[A\n",
      " 51%|█████     | 1517/3000 [01:08<01:02, 23.72it/s]\u001b[A\n",
      " 51%|█████     | 1520/3000 [01:08<01:00, 24.52it/s]\u001b[A\n",
      " 51%|█████     | 1524/3000 [01:08<01:03, 23.12it/s]\u001b[A\n",
      " 51%|█████     | 1527/3000 [01:08<01:04, 22.83it/s]\u001b[A"
     ]
    }
   ],
   "source": [
    "for k in tqdm.tqdm(range(13)):\n",
    "    images = []\n",
    "    images_prep = []\n",
    "    image_names_list=[]\n",
    "    count = 3000\n",
    "    \n",
    "    original_images = [path_original_images + s for s in data['imageRelPath']][count*k:count*(k+1)]\n",
    "    processed_images = [path_processed_images + \"/\" + img_id + \".npy\" for img_id in data['id']][count*k:count*(k+1)]\n",
    "    image_path_list = []\n",
    "\n",
    "    imgs_corrupted = []\n",
    "    for image_path in tqdm.tqdm(processed_images):\n",
    "        if Path(image_path).is_file():\n",
    "            image_path_list.append(image_path)\n",
    "            images_prep.append(torch.from_numpy(np.load(image_path)).to(device))\n",
    "        else:\n",
    "            imgs_corrupted.append(image_path)\n",
    "            #print(f\"{image_path} corrupted\")\n",
    "\n",
    "    torch.cuda.empty_cache()\n",
    "    images_prep = torch.stack(images_prep)\n",
    "    #print(imgs_corrupted)\n",
    "    torch.cuda.empty_cache()\n",
    "    \n",
    "    \n",
    "    image_names_list = [image_path.split(\"/\")[-1].split(\".\")[0] for image_path in image_path_list]\n",
    "    \n",
    "    text =  []\n",
    "    for id_ in image_names_list:\n",
    "        topic = data[data['id'] == id_]['topics']\n",
    "        text.append(list(topic))\n",
    "    text = flatten_extend(text)\n",
    "    \n",
    "    temp = \"This is a photo of \"\n",
    "    texts = [temp + topic for topic in text]\n",
    "    \n",
    "    gc.collect()\n",
    "    torch.cuda.empty_cache()\n",
    "\n",
    "    \n",
    "    with torch.no_grad():\n",
    "        image_features = model.encode_image(images_prep)\n",
    "        image_features /= image_features.norm(dim=-1, keepdim=True)\n",
    "\n",
    "        text_tokens = clip.tokenize([desc for desc in texts]).cuda()\n",
    "        text_features = model.encode_text(text_tokens).float()\n",
    "        text_features /= text_features.norm(dim=-1, keepdim=True)\n",
    "    \n",
    "    similarity = text_features.cpu().numpy() @ image_features.cpu().numpy().T # dot product of image and text features\n",
    "    similarity_diag = similarity.diagonal()\n",
    "    \n",
    "    results_df = data[data['id'].isin(image_names_list)]\n",
    "    results_df = results_df.drop(columns=['region.id', 'type', 'imageRelPath', 'place'])\n",
    "    results_df[\"CLIP score\"] = similarity_diag\n",
    "\n",
    "    results_df.to_csv(f\"results_CLIP_{k+1}.csv\") \n",
    "    print(f\"results_CLIP_{k+1} completed\")\n",
    "    \n",
    "    gc.collect()\n",
    "    torch.cuda.empty_cache()"
   ]
  },
  {
   "cell_type": "code",
   "execution_count": null,
   "id": "865e5ef0",
   "metadata": {},
   "outputs": [],
   "source": []
  }
 ],
 "metadata": {
  "kernelspec": {
   "display_name": "Python 3 (ipykernel)",
   "language": "python",
   "name": "python3"
  },
  "language_info": {
   "codemirror_mode": {
    "name": "ipython",
    "version": 3
   },
   "file_extension": ".py",
   "mimetype": "text/x-python",
   "name": "python",
   "nbconvert_exporter": "python",
   "pygments_lexer": "ipython3",
   "version": "3.9.7"
  }
 },
 "nbformat": 4,
 "nbformat_minor": 5
}
