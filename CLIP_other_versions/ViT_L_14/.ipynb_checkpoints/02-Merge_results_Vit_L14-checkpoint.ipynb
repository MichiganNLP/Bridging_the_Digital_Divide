{
 "cells": [
  {
   "cell_type": "code",
   "execution_count": 2,
   "id": "d02ca0b0",
   "metadata": {},
   "outputs": [],
   "source": [
    "path_data = 'Bridging_the_digital_divide/data/'\n",
    "\n",
    "dest_path = \"/\".join([path_data, \"clip_large_patch_processed_imgs/\"])\n",
    "path = \"Bridging_the_digital_divide/CLIP_other_versions/Vit_G_14 (LAION)\""
   ]
  },
  {
   "cell_type": "code",
   "execution_count": 3,
   "id": "68657470",
   "metadata": {},
   "outputs": [],
   "source": [
    "import pandas as pd\n",
    "import numpy as np\n",
    "import os\n",
    "\n"
   ]
  },
  {
   "cell_type": "code",
   "execution_count": 4,
   "id": "48c8243f",
   "metadata": {},
   "outputs": [
    {
     "data": {
      "text/plain": [
       "35353"
      ]
     },
     "execution_count": 4,
     "metadata": {},
     "output_type": "execute_result"
    }
   ],
   "source": [
    "processed_images = [filename for filename in os.listdir(dest_path)]\n",
    "len(processed_images)"
   ]
  },
  {
   "cell_type": "code",
   "execution_count": 5,
   "id": "2342ffa7",
   "metadata": {},
   "outputs": [
    {
     "data": {
      "text/plain": [
       "3"
      ]
     },
     "execution_count": 5,
     "metadata": {},
     "output_type": "execute_result"
    }
   ],
   "source": [
    "csv_list = [filename for filename in os.listdir(path) if filename.split(\".\")[-1] == \"csv\"]\n",
    "csv_list.remove(\"images_v2_nosub.csv\")\n",
    "len(csv_list)     "
   ]
  },
  {
   "cell_type": "code",
   "execution_count": 6,
   "id": "87a0d59b",
   "metadata": {},
   "outputs": [],
   "source": [
    "results_df = pd.concat(map(pd.read_csv, csv_list))"
   ]
  },
  {
   "cell_type": "code",
   "execution_count": 7,
   "id": "724c14e4",
   "metadata": {},
   "outputs": [
    {
     "data": {
      "text/plain": [
       "107460"
      ]
     },
     "execution_count": 7,
     "metadata": {},
     "output_type": "execute_result"
    }
   ],
   "source": [
    "len(results_df)"
   ]
  },
  {
   "cell_type": "code",
   "execution_count": 8,
   "id": "3a4608cd",
   "metadata": {},
   "outputs": [
    {
     "data": {
      "text/plain": [
       "1401"
      ]
     },
     "execution_count": 8,
     "metadata": {},
     "output_type": "execute_result"
    }
   ],
   "source": [
    "36754 - 35353"
   ]
  },
  {
   "cell_type": "code",
   "execution_count": 9,
   "id": "5d66c76b",
   "metadata": {},
   "outputs": [
    {
     "data": {
      "text/html": [
       "<div>\n",
       "<style scoped>\n",
       "    .dataframe tbody tr th:only-of-type {\n",
       "        vertical-align: middle;\n",
       "    }\n",
       "\n",
       "    .dataframe tbody tr th {\n",
       "        vertical-align: top;\n",
       "    }\n",
       "\n",
       "    .dataframe thead th {\n",
       "        text-align: right;\n",
       "    }\n",
       "</style>\n",
       "<table border=\"1\" class=\"dataframe\">\n",
       "  <thead>\n",
       "    <tr style=\"text-align: right;\">\n",
       "      <th></th>\n",
       "      <th>Unnamed: 0</th>\n",
       "      <th>Unnamed: 0.1</th>\n",
       "      <th>id</th>\n",
       "      <th>country.name</th>\n",
       "      <th>country.id</th>\n",
       "      <th>topics</th>\n",
       "      <th>income</th>\n",
       "      <th>CLIP score</th>\n",
       "      <th>region.id</th>\n",
       "      <th>type</th>\n",
       "      <th>imageRelPath</th>\n",
       "      <th>place</th>\n",
       "      <th>German_topics</th>\n",
       "      <th>Hindi_topics</th>\n",
       "      <th>Japanese_topics</th>\n",
       "    </tr>\n",
       "  </thead>\n",
       "  <tbody>\n",
       "    <tr>\n",
       "      <th>0</th>\n",
       "      <td>0</td>\n",
       "      <td>21895.0</td>\n",
       "      <td>5d4bee84cf0b3a0f3f35189c</td>\n",
       "      <td>Philippines</td>\n",
       "      <td>ph</td>\n",
       "      <td>Dish washing soap</td>\n",
       "      <td>865.0</td>\n",
       "      <td>0.197833</td>\n",
       "      <td>NaN</td>\n",
       "      <td>NaN</td>\n",
       "      <td>NaN</td>\n",
       "      <td>NaN</td>\n",
       "      <td>NaN</td>\n",
       "      <td>NaN</td>\n",
       "      <td>NaN</td>\n",
       "    </tr>\n",
       "    <tr>\n",
       "      <th>1</th>\n",
       "      <td>1</td>\n",
       "      <td>21896.0</td>\n",
       "      <td>5d4bee84cf0b3a0f3f35189e</td>\n",
       "      <td>Philippines</td>\n",
       "      <td>ph</td>\n",
       "      <td>Kitchen sink</td>\n",
       "      <td>865.0</td>\n",
       "      <td>0.269724</td>\n",
       "      <td>NaN</td>\n",
       "      <td>NaN</td>\n",
       "      <td>NaN</td>\n",
       "      <td>NaN</td>\n",
       "      <td>NaN</td>\n",
       "      <td>NaN</td>\n",
       "      <td>NaN</td>\n",
       "    </tr>\n",
       "    <tr>\n",
       "      <th>2</th>\n",
       "      <td>2</td>\n",
       "      <td>21897.0</td>\n",
       "      <td>5d4bee84cf0b3a0f3f3518a2</td>\n",
       "      <td>Philippines</td>\n",
       "      <td>ph</td>\n",
       "      <td>Social drink</td>\n",
       "      <td>865.0</td>\n",
       "      <td>0.211693</td>\n",
       "      <td>NaN</td>\n",
       "      <td>NaN</td>\n",
       "      <td>NaN</td>\n",
       "      <td>NaN</td>\n",
       "      <td>NaN</td>\n",
       "      <td>NaN</td>\n",
       "      <td>NaN</td>\n",
       "    </tr>\n",
       "    <tr>\n",
       "      <th>3</th>\n",
       "      <td>3</td>\n",
       "      <td>21898.0</td>\n",
       "      <td>5d4bee84cf0b3a0f3f3518a4</td>\n",
       "      <td>Philippines</td>\n",
       "      <td>ph</td>\n",
       "      <td>Table with food</td>\n",
       "      <td>865.0</td>\n",
       "      <td>0.194584</td>\n",
       "      <td>NaN</td>\n",
       "      <td>NaN</td>\n",
       "      <td>NaN</td>\n",
       "      <td>NaN</td>\n",
       "      <td>NaN</td>\n",
       "      <td>NaN</td>\n",
       "      <td>NaN</td>\n",
       "    </tr>\n",
       "    <tr>\n",
       "      <th>4</th>\n",
       "      <td>4</td>\n",
       "      <td>21899.0</td>\n",
       "      <td>5d4bee84cf0b3a0f3f3518a6</td>\n",
       "      <td>Philippines</td>\n",
       "      <td>ph</td>\n",
       "      <td>Plate of food</td>\n",
       "      <td>865.0</td>\n",
       "      <td>0.239293</td>\n",
       "      <td>NaN</td>\n",
       "      <td>NaN</td>\n",
       "      <td>NaN</td>\n",
       "      <td>NaN</td>\n",
       "      <td>NaN</td>\n",
       "      <td>NaN</td>\n",
       "      <td>NaN</td>\n",
       "    </tr>\n",
       "  </tbody>\n",
       "</table>\n",
       "</div>"
      ],
      "text/plain": [
       "   Unnamed: 0  Unnamed: 0.1                        id country.name country.id  \\\n",
       "0           0       21895.0  5d4bee84cf0b3a0f3f35189c  Philippines         ph   \n",
       "1           1       21896.0  5d4bee84cf0b3a0f3f35189e  Philippines         ph   \n",
       "2           2       21897.0  5d4bee84cf0b3a0f3f3518a2  Philippines         ph   \n",
       "3           3       21898.0  5d4bee84cf0b3a0f3f3518a4  Philippines         ph   \n",
       "4           4       21899.0  5d4bee84cf0b3a0f3f3518a6  Philippines         ph   \n",
       "\n",
       "              topics  income  CLIP score region.id type imageRelPath place  \\\n",
       "0  Dish washing soap   865.0    0.197833       NaN  NaN          NaN   NaN   \n",
       "1       Kitchen sink   865.0    0.269724       NaN  NaN          NaN   NaN   \n",
       "2       Social drink   865.0    0.211693       NaN  NaN          NaN   NaN   \n",
       "3    Table with food   865.0    0.194584       NaN  NaN          NaN   NaN   \n",
       "4      Plate of food   865.0    0.239293       NaN  NaN          NaN   NaN   \n",
       "\n",
       "  German_topics Hindi_topics Japanese_topics  \n",
       "0           NaN          NaN             NaN  \n",
       "1           NaN          NaN             NaN  \n",
       "2           NaN          NaN             NaN  \n",
       "3           NaN          NaN             NaN  \n",
       "4           NaN          NaN             NaN  "
      ]
     },
     "execution_count": 9,
     "metadata": {},
     "output_type": "execute_result"
    }
   ],
   "source": [
    "results_df.head()"
   ]
  },
  {
   "cell_type": "code",
   "execution_count": 42,
   "id": "365c9bc3",
   "metadata": {},
   "outputs": [],
   "source": [
    "results_df.to_csv(\"vit_l14_results.csv\")"
   ]
  },
  {
   "cell_type": "code",
   "execution_count": 11,
   "id": "2701e5d2",
   "metadata": {},
   "outputs": [],
   "source": [
    "data = results_df"
   ]
  },
  {
   "cell_type": "code",
   "execution_count": 12,
   "id": "061039d2",
   "metadata": {},
   "outputs": [],
   "source": [
    "data.loc[data['income'].between(0, 100, 'both'), 'bin'] = 'a_0-100'\n",
    "data.loc[data['income'].between(100, 200, 'right'), 'bin'] =  'b_100-200'\n",
    "data.loc[data['income'].between(200, 400, 'right'), 'bin'] = 'c_200-400'\n",
    "data.loc[data['income'].between(400, 800, 'right'), 'bin'] =  'd_400-800'\n",
    "data.loc[data['income'].between(800, 1600, 'right'), 'bin'] = 'e_800-1600'\n",
    "data.loc[data['income'].between(1600, 3200, 'right'), 'bin'] = 'f_1600-3200'\n",
    "data.loc[data['income'].between(3200, 6400, 'right'), 'bin'] = 'g_3200-6400'\n",
    "data.loc[data['income'].between(6400, 12800, 'right'), 'bin'] = 'h_6400-12800'\n",
    "data.loc[data['income'].between(12800, 25600, 'right'), 'bin'] = 'i_12800-25600'"
   ]
  },
  {
   "cell_type": "code",
   "execution_count": 13,
   "id": "3ca63828",
   "metadata": {},
   "outputs": [],
   "source": [
    "bin_unique = data['bin'].unique()\n",
    "bin_range = [str(int(data[data['bin'] == i]['income'].min())) + '-' + str(int(data[data['bin'] == i]['income'].max())) \n",
    "                for i in bin_unique]\n",
    "bin_count = [data[data['bin'] == i]['income'].count() for i in bin_unique]\n",
    "\n",
    "\n",
    "bin_df = pd.DataFrame()\n",
    "bin_df['bin'] = bin_unique\n",
    "bin_df['bin_value_range'] = bin_range\n",
    "bin_df['bin_count'] = bin_count"
   ]
  },
  {
   "cell_type": "code",
   "execution_count": 14,
   "id": "f33bb0e7",
   "metadata": {},
   "outputs": [
    {
     "data": {
      "text/plain": [
       "<AxesSubplot:xlabel='bin'>"
      ]
     },
     "execution_count": 14,
     "metadata": {},
     "output_type": "execute_result"
    },
    {
     "data": {
      "image/png": "[encoded data removed]",
      "text/plain": [
       "<Figure size 720x288 with 1 Axes>"
      ]
     },
     "metadata": {
      "needs_background": "light"
     },
     "output_type": "display_data"
    }
   ],
   "source": [
    "\n",
    "bin_df.sort_values('bin').plot.bar(x='bin', y='bin_count', figsize=(10,4))   # replace labels in plot"
   ]
  },
  {
   "cell_type": "code",
   "execution_count": 15,
   "id": "865fc086",
   "metadata": {},
   "outputs": [],
   "source": [
    "# Calculating average CLIP scores for each bin\n",
    "avg_list = [0] * len(data)\n",
    "data['avg_clip_score'] = avg_list \n",
    "\n",
    "for i in data['bin'].unique():\n",
    "  data.loc[data['bin'] == i, 'avg_clip_score'] = data[data['bin']==i]['CLIP score'].mean()"
   ]
  },
  {
   "cell_type": "code",
   "execution_count": 16,
   "id": "c93dd85b",
   "metadata": {},
   "outputs": [
    {
     "data": {
      "text/plain": [
       "<AxesSubplot:xlabel='bin', ylabel='avg_clip_score'>"
      ]
     },
     "execution_count": 16,
     "metadata": {},
     "output_type": "execute_result"
    },
    {
     "data": {
      "image/png": "[encoded data removed]",
      "text/plain": [
       "<Figure size 864x360 with 1 Axes>"
      ]
     },
     "metadata": {
      "needs_background": "light"
     },
     "output_type": "display_data"
    }
   ],
   "source": [
    "data.sort_values('bin').plot.scatter(x='bin', y='avg_clip_score', figsize=(12,5))   #put more information, add connecting line, (mean, min, max, median)"
   ]
  },
  {
   "cell_type": "code",
   "execution_count": 17,
   "id": "a9cabc62",
   "metadata": {},
   "outputs": [],
   "source": [
    "import seaborn as sns\n",
    "%matplotlib inline\n",
    "import matplotlib.pyplot as plt\n",
    "plt.style.use('ggplot')"
   ]
  },
  {
   "cell_type": "code",
   "execution_count": 18,
   "id": "e1eab4c5",
   "metadata": {},
   "outputs": [],
   "source": [
    "sns.set_theme(style='whitegrid', context='paper', font_scale=2)"
   ]
  },
  {
   "cell_type": "code",
   "execution_count": 19,
   "id": "b457f109",
   "metadata": {},
   "outputs": [
    {
     "name": "stderr",
     "output_type": "stream",
     "text": [
      "*c* argument looks like a single numeric RGB or RGBA sequence, which should be avoided as value-mapping will have precedence in case its length matches with *x* & *y*.  Please use the *color* keyword-argument or provide a 2D array with a single row if you intend to specify the same RGB or RGBA value for all points.\n",
      "/tmp/ipykernel_370217/842798368.py:2: UserWarning: FixedFormatter should only be used together with FixedLocator\n",
      "  a.set_xticklabels(('(0, 100]', '(100, 200]','(200, 400]', '(400, 800]', '(800, 1600]', '(1600, 3200]', '(3200, 6400]', '(6400, 12800]', '(12800, 25600]'))\n"
     ]
    },
    {
     "data": {
      "text/plain": [
       "([0, 1, 2, 3, 4, 5, 6, 7, 8],\n",
       " [Text(0, 0, '(0, 100]'),\n",
       "  Text(1, 0, '(100, 200]'),\n",
       "  Text(2, 0, '(200, 400]'),\n",
       "  Text(3, 0, '(400, 800]'),\n",
       "  Text(4, 0, '(800, 1600]'),\n",
       "  Text(5, 0, '(1600, 3200]'),\n",
       "  Text(6, 0, '(3200, 6400]'),\n",
       "  Text(7, 0, '(6400, 12800]'),\n",
       "  Text(8, 0, '(12800, 25600]')])"
      ]
     },
     "execution_count": 19,
     "metadata": {},
     "output_type": "execute_result"
    },
    {
     "data": {
      "image/png": "[encoded data removed]",
      "text/plain": [
       "<Figure size 864x360 with 1 Axes>"
      ]
     },
     "metadata": {},
     "output_type": "display_data"
    }
   ],
   "source": [
    "a = data.sort_values('bin').plot.scatter(x='bin', y='avg_clip_score', figsize=(12,5))   #put more information, add connecting line, (mean, min, max, median)\n",
    "a.set_xticklabels(('(0, 100]', '(100, 200]','(200, 400]', '(400, 800]', '(800, 1600]', '(1600, 3200]', '(3200, 6400]', '(6400, 12800]', '(12800, 25600]'))\n",
    "a.set_xlabel(\"Income ranges (in USD per month)\")\n",
    "a.set_ylabel(\"Average CLIP score\")\n",
    "\n",
    "plt.xticks(rotation=45, ha='right')"
   ]
  },
  {
   "cell_type": "code",
   "execution_count": null,
   "id": "e06dc48b",
   "metadata": {},
   "outputs": [],
   "source": []
  },
  {
   "cell_type": "code",
   "execution_count": 21,
   "id": "a9e2b58c",
   "metadata": {},
   "outputs": [],
   "source": [
    "labels=[\"a_poor\", \"b_lower-middle\", \"c_upper-middle\", \"d_rich\"]\n",
    "\n",
    "data[\"quartile\"] = pd.qcut(data[\"income\"], q=[0, 0.25, 0.5, 0.75, 1],     # 25% 50%, 75%, 100%\n",
    "                         labels=labels)"
   ]
  },
  {
   "cell_type": "code",
   "execution_count": 22,
   "id": "d70f385b",
   "metadata": {},
   "outputs": [
    {
     "name": "stdout",
     "output_type": "stream",
     "text": [
      "d_rich : 2001.0-19671.0, count= 26621\n",
      "c_upper-middle: 685.0-1998.0, count= 27109\n",
      "b_lower-middle: 195.4533587-670.0, count= 26573\n",
      "a_poor: 26.99458113-195.0, count= 27157\n"
     ]
    }
   ],
   "source": [
    "print('d_rich : ' + str(data[data['quartile'] == 'd_rich']['income'].min()) + '-' + str(data[data['quartile'] == 'd_rich']['income'].max())+ ', count= ' + str(data[data['quartile'] == 'd_rich']['income'].count()) )\n",
    "print('c_upper-middle: ' + str(data[data['quartile'] == 'c_upper-middle']['income'].min()) + '-' + str(data[data['quartile'] == 'c_upper-middle']['income'].max())+ ', count= ' + str(data[data['quartile'] == 'c_upper-middle']['income'].count()) )\n",
    "print('b_lower-middle: ' + str(data[data['quartile'] == 'b_lower-middle']['income'].min()) + '-' + str(data[data['quartile'] == 'b_lower-middle']['income'].max())+ ', count= ' + str(data[data['quartile'] == 'b_lower-middle']['income'].count()) )\n",
    "print('a_poor: ' + str(data[data['quartile'] == 'a_poor']['income'].min()) + '-' + str(data[data['quartile'] == 'a_poor']['income'].max())+ ', count= ' + str(data[data['quartile'] == 'a_poor']['income'].count()) )"
   ]
  },
  {
   "cell_type": "code",
   "execution_count": 23,
   "id": "d56cee12",
   "metadata": {},
   "outputs": [],
   "source": [
    "quartile_unique = data['quartile'].unique()\n",
    "quartile_list = [str(int(data[data['quartile'] == i]['income'].min())) + '-' + str(int(data[data['quartile'] == i]['income'].max())) \n",
    "                for i in quartile_unique]\n",
    "quartile_list_count = [data[data['quartile'] == i]['income'].count() for i in quartile_unique]\n",
    "\n",
    "\n",
    "quartile_df = pd.DataFrame()\n",
    "quartile_df['quartile_range'] = quartile_list\n",
    "quartile_df['quartile_list_count'] = quartile_list_count"
   ]
  },
  {
   "cell_type": "code",
   "execution_count": 36,
   "id": "824e8368",
   "metadata": {},
   "outputs": [
    {
     "name": "stderr",
     "output_type": "stream",
     "text": [
      "*c* argument looks like a single numeric RGB or RGBA sequence, which should be avoided as value-mapping will have precedence in case its length matches with *x* & *y*.  Please use the *color* keyword-argument or provide a 2D array with a single row if you intend to specify the same RGB or RGBA value for all points.\n"
     ]
    },
    {
     "name": "stdout",
     "output_type": "stream",
     "text": [
      "c_upper-middle\n",
      "b_lower-middle\n",
      "d_rich\n",
      "a_poor\n"
     ]
    },
    {
     "data": {
      "text/plain": [
       "<AxesSubplot:xlabel='quartile', ylabel='avg_clip_score_quartile'>"
      ]
     },
     "execution_count": 36,
     "metadata": {},
     "output_type": "execute_result"
    },
    {
     "data": {
      "image/png": "[encoded data removed]",
      "text/plain": [
       "<Figure size 720x360 with 1 Axes>"
      ]
     },
     "metadata": {},
     "output_type": "display_data"
    }
   ],
   "source": [
    "avg_list = [0] * len(data)\n",
    "data['avg_clip_score_quartile'] = avg_list\n",
    "\n",
    "for i in data['quartile'].unique():\n",
    "    print(i)\n",
    "    data.loc[data['quartile'] == i, 'avg_clip_score_quartile'] = data[data['quartile']==i]['CLIP score'].mean()\n",
    "\n",
    "data.sort_values('quartile').plot.scatter(x='quartile', y='avg_clip_score_quartile', figsize=(10,5))"
   ]
  },
  {
   "cell_type": "code",
   "execution_count": 37,
   "id": "0f2cf204",
   "metadata": {},
   "outputs": [
    {
     "data": {
      "text/plain": [
       "quartile\n",
       "a_poor            0.258850\n",
       "b_lower-middle    0.281587\n",
       "c_upper-middle    0.294538\n",
       "d_rich            0.295044\n",
       "Name: CLIP score, dtype: float64"
      ]
     },
     "execution_count": 37,
     "metadata": {},
     "output_type": "execute_result"
    }
   ],
   "source": [
    "data.groupby(['quartile'])['CLIP score'].mean()"
   ]
  },
  {
   "cell_type": "code",
   "execution_count": 38,
   "id": "90781323",
   "metadata": {},
   "outputs": [
    {
     "data": {
      "text/plain": [
       "quartile\n",
       "a_poor            0.240537\n",
       "b_lower-middle    0.262795\n",
       "c_upper-middle    0.273634\n",
       "d_rich            0.273929\n",
       "Name: CLIP score, dtype: float64"
      ]
     },
     "execution_count": 38,
     "metadata": {},
     "output_type": "execute_result"
    }
   ],
   "source": [
    "data.groupby(['quartile'])['CLIP score'].median()"
   ]
  },
  {
   "cell_type": "code",
   "execution_count": 39,
   "id": "1695ea5c",
   "metadata": {},
   "outputs": [
    {
     "data": {
      "text/plain": [
       "<AxesSubplot:xlabel='quartile', ylabel='CLIP score'>"
      ]
     },
     "execution_count": 39,
     "metadata": {},
     "output_type": "execute_result"
    },
    {
     "data": {
      "image/png": "[encoded data removed]",
      "text/plain": [
       "<Figure size 432x288 with 1 Axes>"
      ]
     },
     "metadata": {},
     "output_type": "display_data"
    }
   ],
   "source": [
    "sns.boxplot(data=data, x='quartile', y='CLIP score')"
   ]
  },
  {
   "cell_type": "code",
   "execution_count": 41,
   "id": "905fe3b5",
   "metadata": {},
   "outputs": [
    {
     "data": {
      "text/html": [
       "<div>\n",
       "<style scoped>\n",
       "    .dataframe tbody tr th:only-of-type {\n",
       "        vertical-align: middle;\n",
       "    }\n",
       "\n",
       "    .dataframe tbody tr th {\n",
       "        vertical-align: top;\n",
       "    }\n",
       "\n",
       "    .dataframe thead th {\n",
       "        text-align: right;\n",
       "    }\n",
       "</style>\n",
       "<table border=\"1\" class=\"dataframe\">\n",
       "  <thead>\n",
       "    <tr style=\"text-align: right;\">\n",
       "      <th></th>\n",
       "      <th>quartile_range</th>\n",
       "      <th>quartile_list_count</th>\n",
       "      <th>avg_clip_score</th>\n",
       "    </tr>\n",
       "  </thead>\n",
       "  <tbody>\n",
       "    <tr>\n",
       "      <th>0</th>\n",
       "      <td>685-1998</td>\n",
       "      <td>27109</td>\n",
       "      <td>0.295</td>\n",
       "    </tr>\n",
       "    <tr>\n",
       "      <th>1</th>\n",
       "      <td>195-670</td>\n",
       "      <td>26573</td>\n",
       "      <td>0.282</td>\n",
       "    </tr>\n",
       "    <tr>\n",
       "      <th>2</th>\n",
       "      <td>2001-19671</td>\n",
       "      <td>26621</td>\n",
       "      <td>0.295</td>\n",
       "    </tr>\n",
       "    <tr>\n",
       "      <th>3</th>\n",
       "      <td>26-195</td>\n",
       "      <td>27157</td>\n",
       "      <td>0.259</td>\n",
       "    </tr>\n",
       "  </tbody>\n",
       "</table>\n",
       "</div>"
      ],
      "text/plain": [
       "  quartile_range  quartile_list_count  avg_clip_score\n",
       "0       685-1998                27109           0.295\n",
       "1        195-670                26573           0.282\n",
       "2     2001-19671                26621           0.295\n",
       "3         26-195                27157           0.259"
      ]
     },
     "execution_count": 41,
     "metadata": {},
     "output_type": "execute_result"
    }
   ],
   "source": [
    "quartile_df['avg_clip_score'] = [round(i, 3) for i in data['avg_clip_score_quartile'].unique()]\n",
    "quartile_df"
   ]
  },
  {
   "cell_type": "code",
   "execution_count": null,
   "id": "350bfa58",
   "metadata": {},
   "outputs": [],
   "source": []
  },
  {
   "cell_type": "code",
   "execution_count": null,
   "id": "97091255",
   "metadata": {},
   "outputs": [],
   "source": []
  }
 ],
 "metadata": {
  "kernelspec": {
   "display_name": "Python 3 (ipykernel)",
   "language": "python",
   "name": "python3"
  },
  "language_info": {
   "codemirror_mode": {
    "name": "ipython",
    "version": 3
   },
   "file_extension": ".py",
   "mimetype": "text/x-python",
   "name": "python",
   "nbconvert_exporter": "python",
   "pygments_lexer": "ipython3",
   "version": "3.9.7"
  }
 },
 "nbformat": 4,
 "nbformat_minor": 5
}
